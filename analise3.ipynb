{
 "cells": [
  {
   "cell_type": "markdown",
   "metadata": {},
   "source": [
    "<!-- Lab1 - Desenvolvido por Silmara Basso -->\n",
    "# <font color='Green'>Evolução das Vendas ao Longo do Tempo</font>\n",
    "## <font color='Green'>Storytelling, Dashboards e Técnicas de Apresentação Para Cientistas de Dados</font>\n",
    "## <font color='Green'>Lab1 - Parte 3</font>\n",
    "### <font color='Green'>Engajando a Audiência Através de História Sobre a Análise dos Dados</font>"
   ]
  },
  {
   "cell_type": "markdown",
   "metadata": {},
   "source": [
    "## Instalando e Carregando os Pacotes"
   ]
  },
  {
   "cell_type": "code",
   "execution_count": 1,
   "metadata": {},
   "outputs": [],
   "source": [
    "# Para atualizar um pacote, execute o comando abaixo no terminal ou prompt de comando:\n",
    "# pip install -U nome_pacote\n",
    "\n",
    "# Para instalar a versão exata de um pacote, execute o comando abaixo no terminal ou prompt de comando:\n",
    "# !pip install nome_pacote==versão_desejada\n",
    "\n",
    "# Depois de instalar ou atualizar o pacote, reinicie o jupyter notebook.\n",
    "\n",
    "# Instala o pacote watermark. \n",
    "# Esse pacote é usado para gravar as versões de outros pacotes usados neste jupyter notebook.\n",
    "!pip install -q -U watermark"
   ]
  },
  {
   "cell_type": "markdown",
   "metadata": {},
   "source": [
    "Não precisa instalar os pacotes por aqui, pois os pacotes e as respectivas versões estão no arquivo requirements.txt. Leia as instruções no arquivo LEIAME.txt."
   ]
  },
  {
   "cell_type": "code",
   "execution_count": 2,
   "metadata": {},
   "outputs": [],
   "source": [
    "# Plotly\n",
    "#!pip install -q plotly"
   ]
  },
  {
   "cell_type": "code",
   "execution_count": null,
   "metadata": {},
   "outputs": [],
   "source": [
    "# colorlover\n",
    "#!pip install -q colorlover"
   ]
  },
  {
   "cell_type": "code",
   "execution_count": 3,
   "metadata": {},
   "outputs": [],
   "source": [
    "# Imports\n",
    "import datetime\n",
    "import numpy as np\n",
    "import pandas as pd\n",
    "import seaborn as sns\n",
    "import matplotlib.pyplot as plt\n",
    "from matplotlib import style\n",
    "from datetime import datetime, timedelta\n",
    "from plotly.offline import init_notebook_mode, iplot\n",
    "import plotly.graph_objs as go\n",
    "import plotly.graph_objects as go\n",
    "from plotly import tools\n",
    "import plotly.express as px\n",
    "import colorlover as cl\n",
    "import warnings\n",
    "warnings.filterwarnings('ignore')"
   ]
  },
  {
   "cell_type": "code",
   "execution_count": 4,
   "metadata": {},
   "outputs": [
    {
     "name": "stdout",
     "output_type": "stream",
     "text": [
      "Author: Silmara Basso\n",
      "\n"
     ]
    }
   ],
   "source": [
    "# Versões dos pacotes usados neste jupyter notebook\n",
    "%reload_ext watermark\n",
    "%watermark -a \"Silmara Basso\" "
   ]
  },
  {
   "cell_type": "markdown",
   "metadata": {},
   "source": [
    "## Carregando os Dados"
   ]
  },
  {
   "cell_type": "code",
   "execution_count": 5,
   "metadata": {},
   "outputs": [],
   "source": [
    "# Carrega o dataset\n",
    "df_prep = pd.read_csv('dataset1.csv')"
   ]
  },
  {
   "cell_type": "code",
   "execution_count": 6,
   "metadata": {},
   "outputs": [
    {
     "data": {
      "text/plain": [
       "(116581, 53)"
      ]
     },
     "execution_count": 6,
     "metadata": {},
     "output_type": "execute_result"
    }
   ],
   "source": [
    "# Shape\n",
    "df_prep.shape"
   ]
  },
  {
   "cell_type": "code",
   "execution_count": 7,
   "metadata": {},
   "outputs": [
    {
     "data": {
      "text/html": [
       "<div>\n",
       "<style scoped>\n",
       "    .dataframe tbody tr th:only-of-type {\n",
       "        vertical-align: middle;\n",
       "    }\n",
       "\n",
       "    .dataframe tbody tr th {\n",
       "        vertical-align: top;\n",
       "    }\n",
       "\n",
       "    .dataframe thead th {\n",
       "        text-align: right;\n",
       "    }\n",
       "</style>\n",
       "<table border=\"1\" class=\"dataframe\">\n",
       "  <thead>\n",
       "    <tr style=\"text-align: right;\">\n",
       "      <th></th>\n",
       "      <th>order_id</th>\n",
       "      <th>order_id3</th>\n",
       "      <th>customer_id3</th>\n",
       "      <th>order_status</th>\n",
       "      <th>order_purchase_timestamp</th>\n",
       "      <th>order_approved_at</th>\n",
       "      <th>order_delivered_carrier_date</th>\n",
       "      <th>order_delivered_customer_date</th>\n",
       "      <th>order_estimated_delivery_date</th>\n",
       "      <th>order_item_id</th>\n",
       "      <th>...</th>\n",
       "      <th>seller_city</th>\n",
       "      <th>seller_state</th>\n",
       "      <th>product_category_name_english</th>\n",
       "      <th>review_response_time</th>\n",
       "      <th>order_purchase_year</th>\n",
       "      <th>order_purchase_month</th>\n",
       "      <th>order_purchase_dayofweek</th>\n",
       "      <th>order_purchase_hour</th>\n",
       "      <th>order_purchase_day</th>\n",
       "      <th>order_purchase_mon</th>\n",
       "    </tr>\n",
       "  </thead>\n",
       "  <tbody>\n",
       "    <tr>\n",
       "      <th>0</th>\n",
       "      <td>ON34305</td>\n",
       "      <td>e481f51cbdc54678b7cc49136f2d6af7</td>\n",
       "      <td>9ef432eb6251297304e76186b10a928d</td>\n",
       "      <td>delivered</td>\n",
       "      <td>2017-10-02 10:56:33</td>\n",
       "      <td>2017-10-02 11:07:15</td>\n",
       "      <td>2017-10-04 19:55:00</td>\n",
       "      <td>2017-10-10 21:25:13</td>\n",
       "      <td>2017-10-18 00:00:00</td>\n",
       "      <td>1.0</td>\n",
       "      <td>...</td>\n",
       "      <td>Maua</td>\n",
       "      <td>SP</td>\n",
       "      <td>housewares</td>\n",
       "      <td>1.0</td>\n",
       "      <td>2017</td>\n",
       "      <td>10</td>\n",
       "      <td>0</td>\n",
       "      <td>10</td>\n",
       "      <td>Mon</td>\n",
       "      <td>Oct</td>\n",
       "    </tr>\n",
       "    <tr>\n",
       "      <th>1</th>\n",
       "      <td>ON34305</td>\n",
       "      <td>e481f51cbdc54678b7cc49136f2d6af7</td>\n",
       "      <td>9ef432eb6251297304e76186b10a928d</td>\n",
       "      <td>delivered</td>\n",
       "      <td>2017-10-02 10:56:33</td>\n",
       "      <td>2017-10-02 11:07:15</td>\n",
       "      <td>2017-10-04 19:55:00</td>\n",
       "      <td>2017-10-10 21:25:13</td>\n",
       "      <td>2017-10-18 00:00:00</td>\n",
       "      <td>1.0</td>\n",
       "      <td>...</td>\n",
       "      <td>Maua</td>\n",
       "      <td>SP</td>\n",
       "      <td>housewares</td>\n",
       "      <td>1.0</td>\n",
       "      <td>2017</td>\n",
       "      <td>10</td>\n",
       "      <td>0</td>\n",
       "      <td>10</td>\n",
       "      <td>Mon</td>\n",
       "      <td>Oct</td>\n",
       "    </tr>\n",
       "    <tr>\n",
       "      <th>2</th>\n",
       "      <td>ON34305</td>\n",
       "      <td>e481f51cbdc54678b7cc49136f2d6af7</td>\n",
       "      <td>9ef432eb6251297304e76186b10a928d</td>\n",
       "      <td>delivered</td>\n",
       "      <td>2017-10-02 10:56:33</td>\n",
       "      <td>2017-10-02 11:07:15</td>\n",
       "      <td>2017-10-04 19:55:00</td>\n",
       "      <td>2017-10-10 21:25:13</td>\n",
       "      <td>2017-10-18 00:00:00</td>\n",
       "      <td>1.0</td>\n",
       "      <td>...</td>\n",
       "      <td>Maua</td>\n",
       "      <td>SP</td>\n",
       "      <td>housewares</td>\n",
       "      <td>1.0</td>\n",
       "      <td>2017</td>\n",
       "      <td>10</td>\n",
       "      <td>0</td>\n",
       "      <td>10</td>\n",
       "      <td>Mon</td>\n",
       "      <td>Oct</td>\n",
       "    </tr>\n",
       "    <tr>\n",
       "      <th>3</th>\n",
       "      <td>ON40291</td>\n",
       "      <td>128e10d95713541c87cd1a2e48201934</td>\n",
       "      <td>a20e8105f23924cd00833fd87daa0831</td>\n",
       "      <td>delivered</td>\n",
       "      <td>2017-08-15 18:29:31</td>\n",
       "      <td>2017-08-15 20:05:16</td>\n",
       "      <td>2017-08-17 15:28:33</td>\n",
       "      <td>2017-08-18 14:44:43</td>\n",
       "      <td>2017-08-28 00:00:00</td>\n",
       "      <td>1.0</td>\n",
       "      <td>...</td>\n",
       "      <td>Maua</td>\n",
       "      <td>SP</td>\n",
       "      <td>housewares</td>\n",
       "      <td>1.0</td>\n",
       "      <td>2017</td>\n",
       "      <td>8</td>\n",
       "      <td>1</td>\n",
       "      <td>18</td>\n",
       "      <td>Tue</td>\n",
       "      <td>Aug</td>\n",
       "    </tr>\n",
       "    <tr>\n",
       "      <th>4</th>\n",
       "      <td>ON74313</td>\n",
       "      <td>0e7e841ddf8f8f2de2bad69267ecfbcf</td>\n",
       "      <td>26c7ac168e1433912a51b924fbd34d34</td>\n",
       "      <td>delivered</td>\n",
       "      <td>2017-08-02 18:24:47</td>\n",
       "      <td>2017-08-02 18:43:15</td>\n",
       "      <td>2017-08-04 17:35:43</td>\n",
       "      <td>2017-08-07 18:30:01</td>\n",
       "      <td>2017-08-15 00:00:00</td>\n",
       "      <td>1.0</td>\n",
       "      <td>...</td>\n",
       "      <td>Maua</td>\n",
       "      <td>SP</td>\n",
       "      <td>housewares</td>\n",
       "      <td>0.0</td>\n",
       "      <td>2017</td>\n",
       "      <td>8</td>\n",
       "      <td>2</td>\n",
       "      <td>18</td>\n",
       "      <td>Wed</td>\n",
       "      <td>Aug</td>\n",
       "    </tr>\n",
       "  </tbody>\n",
       "</table>\n",
       "<p>5 rows × 53 columns</p>\n",
       "</div>"
      ],
      "text/plain": [
       "  order_id                         order_id3  \\\n",
       "0  ON34305  e481f51cbdc54678b7cc49136f2d6af7   \n",
       "1  ON34305  e481f51cbdc54678b7cc49136f2d6af7   \n",
       "2  ON34305  e481f51cbdc54678b7cc49136f2d6af7   \n",
       "3  ON40291  128e10d95713541c87cd1a2e48201934   \n",
       "4  ON74313  0e7e841ddf8f8f2de2bad69267ecfbcf   \n",
       "\n",
       "                       customer_id3 order_status order_purchase_timestamp  \\\n",
       "0  9ef432eb6251297304e76186b10a928d    delivered      2017-10-02 10:56:33   \n",
       "1  9ef432eb6251297304e76186b10a928d    delivered      2017-10-02 10:56:33   \n",
       "2  9ef432eb6251297304e76186b10a928d    delivered      2017-10-02 10:56:33   \n",
       "3  a20e8105f23924cd00833fd87daa0831    delivered      2017-08-15 18:29:31   \n",
       "4  26c7ac168e1433912a51b924fbd34d34    delivered      2017-08-02 18:24:47   \n",
       "\n",
       "     order_approved_at order_delivered_carrier_date  \\\n",
       "0  2017-10-02 11:07:15          2017-10-04 19:55:00   \n",
       "1  2017-10-02 11:07:15          2017-10-04 19:55:00   \n",
       "2  2017-10-02 11:07:15          2017-10-04 19:55:00   \n",
       "3  2017-08-15 20:05:16          2017-08-17 15:28:33   \n",
       "4  2017-08-02 18:43:15          2017-08-04 17:35:43   \n",
       "\n",
       "  order_delivered_customer_date order_estimated_delivery_date  order_item_id  \\\n",
       "0           2017-10-10 21:25:13           2017-10-18 00:00:00            1.0   \n",
       "1           2017-10-10 21:25:13           2017-10-18 00:00:00            1.0   \n",
       "2           2017-10-10 21:25:13           2017-10-18 00:00:00            1.0   \n",
       "3           2017-08-18 14:44:43           2017-08-28 00:00:00            1.0   \n",
       "4           2017-08-07 18:30:01           2017-08-15 00:00:00            1.0   \n",
       "\n",
       "   ... seller_city seller_state product_category_name_english  \\\n",
       "0  ...        Maua           SP                    housewares   \n",
       "1  ...        Maua           SP                    housewares   \n",
       "2  ...        Maua           SP                    housewares   \n",
       "3  ...        Maua           SP                    housewares   \n",
       "4  ...        Maua           SP                    housewares   \n",
       "\n",
       "   review_response_time  order_purchase_year  order_purchase_month  \\\n",
       "0                   1.0                 2017                    10   \n",
       "1                   1.0                 2017                    10   \n",
       "2                   1.0                 2017                    10   \n",
       "3                   1.0                 2017                     8   \n",
       "4                   0.0                 2017                     8   \n",
       "\n",
       "  order_purchase_dayofweek  order_purchase_hour  order_purchase_day  \\\n",
       "0                        0                   10                 Mon   \n",
       "1                        0                   10                 Mon   \n",
       "2                        0                   10                 Mon   \n",
       "3                        1                   18                 Tue   \n",
       "4                        2                   18                 Wed   \n",
       "\n",
       "  order_purchase_mon  \n",
       "0                Oct  \n",
       "1                Oct  \n",
       "2                Oct  \n",
       "3                Aug  \n",
       "4                Aug  \n",
       "\n",
       "[5 rows x 53 columns]"
      ]
     },
     "execution_count": 7,
     "metadata": {},
     "output_type": "execute_result"
    }
   ],
   "source": [
    "# Amostra dos dados\n",
    "df_prep.head()"
   ]
  },
  {
   "cell_type": "code",
   "execution_count": 8,
   "metadata": {},
   "outputs": [],
   "source": [
    "# Copia o dataset\n",
    "df = df_prep.copy()"
   ]
  },
  {
   "cell_type": "markdown",
   "metadata": {},
   "source": [
    "### Feature Extraction (Extração de Atributos)\n",
    "\n",
    "Nesta fase, novas colunas serão adicionadas contendo cálculos de várias colunas para obter novos recursos."
   ]
  },
  {
   "cell_type": "code",
   "execution_count": 9,
   "metadata": {},
   "outputs": [],
   "source": [
    "# Prepara os dados\n",
    "date_columns = ['order_purchase_timestamp', \n",
    "                'order_approved_at', \n",
    "                'order_delivered_carrier_date', \n",
    "                'order_delivered_customer_date',\n",
    "                'order_estimated_delivery_date', \n",
    "                'shipping_limit_date', \n",
    "                'review_creation_date', \n",
    "                'review_answer_timestamp'] "
   ]
  },
  {
   "cell_type": "code",
   "execution_count": 10,
   "metadata": {},
   "outputs": [],
   "source": [
    "# Loop para formatar as datas\n",
    "for col in date_columns:\n",
    "    df[col] = pd.to_datetime(df[col], format='%Y-%m-%d %H:%M:%S')"
   ]
  },
  {
   "cell_type": "code",
   "execution_count": 11,
   "metadata": {},
   "outputs": [],
   "source": [
    "# Cria uma coluna order_process_time para ver quanto tempo levou \n",
    "# desde o início do pedido feito pelo cliente até a entrega\n",
    "df['order_process_time'] = df['order_delivered_customer_date'] - df['order_purchase_timestamp']"
   ]
  },
  {
   "cell_type": "code",
   "execution_count": 12,
   "metadata": {},
   "outputs": [],
   "source": [
    "# Cria uma coluna order_delivery_time para ver quanto tempo cada pedido levou para entrega\n",
    "df['order_delivery_time'] = df['order_delivered_customer_date'] - df['order_delivered_carrier_date']"
   ]
  },
  {
   "cell_type": "code",
   "execution_count": 13,
   "metadata": {},
   "outputs": [],
   "source": [
    "# Cria uma coluna order_time_accuracy para ver se o tempo estimado para entrega foi apropriado ou não\n",
    "# Se o valor for positivo chegou mais rápido, se 0 então chegou no horário, mas se negativo então chegou atrasado\n",
    "df['order_accuracy_time'] = df['order_estimated_delivery_date'] - df['order_delivered_customer_date']"
   ]
  },
  {
   "cell_type": "code",
   "execution_count": 14,
   "metadata": {},
   "outputs": [],
   "source": [
    "# Cria uma coluna order_approved_time para ver quanto tempo levou até que o pedido fosse aprovado\n",
    "df['order_approved_time'] = df['order_approved_at'] - df['order_purchase_timestamp']"
   ]
  },
  {
   "cell_type": "code",
   "execution_count": 15,
   "metadata": {},
   "outputs": [],
   "source": [
    "# Cria uma coluna review_send_time para descobrir \n",
    "# quanto tempo levou para a pesquisa de satisfação para ser enviada após o item recebido\n",
    "df['review_send_time'] = df['review_creation_date'] - df['order_delivered_customer_date']"
   ]
  },
  {
   "cell_type": "code",
   "execution_count": 16,
   "metadata": {},
   "outputs": [],
   "source": [
    "# Cria uma coluna review_answer_time para descobrir quanto tempo levou para o cliente preencher a pesquisa \n",
    "df['review_answer_time'] = df['review_answer_timestamp'] - df['review_creation_date']"
   ]
  },
  {
   "cell_type": "code",
   "execution_count": 17,
   "metadata": {},
   "outputs": [],
   "source": [
    "# Combina as colunas product_length_cm, product_height_cm e product_width_cm para calcular \n",
    "# o volume da embalagem do produto com uma nova coluna, nomeadamente product_volume\n",
    "df['product_volume'] = df['product_length_cm'] * df['product_height_cm'] * df['product_width_cm']"
   ]
  },
  {
   "cell_type": "code",
   "execution_count": 18,
   "metadata": {},
   "outputs": [],
   "source": [
    "# Mediana do tempo de entrega de pedidos por mês\n",
    "df['Month_order'] = df['order_purchase_timestamp'].dt.to_period('M').astype('str')"
   ]
  },
  {
   "cell_type": "code",
   "execution_count": 19,
   "metadata": {},
   "outputs": [],
   "source": [
    "# Cópia do dataframe\n",
    "df2 = df.copy()"
   ]
  },
  {
   "cell_type": "markdown",
   "metadata": {},
   "source": [
    "## Cena 4 - Nível de Satisfação dos Clientes"
   ]
  },
  {
   "cell_type": "markdown",
   "metadata": {},
   "source": [
    "### Pergunta 4.1 - Avaliações Por Mês e Dia da Semana"
   ]
  },
  {
   "cell_type": "code",
   "execution_count": 20,
   "metadata": {},
   "outputs": [
    {
     "name": "stdout",
     "output_type": "stream",
     "text": [
      "<class 'pandas.core.frame.DataFrame'>\n",
      "RangeIndex: 116581 entries, 0 to 116580\n",
      "Data columns (total 61 columns):\n",
      " #   Column                         Non-Null Count   Dtype          \n",
      "---  ------                         --------------   -----          \n",
      " 0   order_id                       116581 non-null  object         \n",
      " 1   order_id3                      116581 non-null  object         \n",
      " 2   customer_id3                   116581 non-null  object         \n",
      " 3   order_status                   116581 non-null  object         \n",
      " 4   order_purchase_timestamp       116581 non-null  datetime64[ns] \n",
      " 5   order_approved_at              116581 non-null  datetime64[ns] \n",
      " 6   order_delivered_carrier_date   116581 non-null  datetime64[ns] \n",
      " 7   order_delivered_customer_date  116581 non-null  datetime64[ns] \n",
      " 8   order_estimated_delivery_date  116581 non-null  datetime64[ns] \n",
      " 9   order_item_id                  116581 non-null  float64        \n",
      " 10  product_id3                    116581 non-null  object         \n",
      " 11  seller_id3                     116581 non-null  object         \n",
      " 12  shipping_limit_date            116581 non-null  datetime64[ns] \n",
      " 13  price                          116581 non-null  float64        \n",
      " 14  freight_value                  116581 non-null  float64        \n",
      " 15  payment_sequential             116581 non-null  int64          \n",
      " 16  payment_type                   116581 non-null  object         \n",
      " 17  payment_installments           116581 non-null  int64          \n",
      " 18  payment_value                  116581 non-null  float64        \n",
      " 19  review_id                      116581 non-null  object         \n",
      " 20  review_id3                     116581 non-null  object         \n",
      " 21  review_score                   116581 non-null  float64        \n",
      " 22  review_comment_title           13996 non-null   object         \n",
      " 23  review_comment_message         49878 non-null   object         \n",
      " 24  review_creation_date           116578 non-null  datetime64[ns] \n",
      " 25  review_answer_timestamp        116578 non-null  datetime64[ns] \n",
      " 26  product_id                     116581 non-null  object         \n",
      " 27  product_category_name          116581 non-null  object         \n",
      " 28  product_name_lenght            116581 non-null  float64        \n",
      " 29  product_description_lenght     116581 non-null  float64        \n",
      " 30  product_photos_qty             116581 non-null  float64        \n",
      " 31  product_weight_g               116580 non-null  float64        \n",
      " 32  product_length_cm              116580 non-null  float64        \n",
      " 33  product_height_cm              116580 non-null  float64        \n",
      " 34  product_width_cm               116580 non-null  float64        \n",
      " 35  customer_id                    116581 non-null  int64          \n",
      " 36  customer_unique_id             116581 non-null  object         \n",
      " 37  customer_uniqueid3             116581 non-null  object         \n",
      " 38  customer_zip_code_prefix       116581 non-null  int64          \n",
      " 39  customer_city                  116581 non-null  object         \n",
      " 40  customer_state                 116581 non-null  object         \n",
      " 41  seller_id                      116581 non-null  object         \n",
      " 42  seller_zip_code_prefix         116581 non-null  int64          \n",
      " 43  seller_city                    116581 non-null  object         \n",
      " 44  seller_state                   116581 non-null  object         \n",
      " 45  product_category_name_english  116581 non-null  object         \n",
      " 46  review_response_time           116578 non-null  float64        \n",
      " 47  order_purchase_year            116581 non-null  int64          \n",
      " 48  order_purchase_month           116581 non-null  int64          \n",
      " 49  order_purchase_dayofweek       116581 non-null  int64          \n",
      " 50  order_purchase_hour            116581 non-null  int64          \n",
      " 51  order_purchase_day             116581 non-null  object         \n",
      " 52  order_purchase_mon             116581 non-null  object         \n",
      " 53  order_process_time             116581 non-null  timedelta64[ns]\n",
      " 54  order_delivery_time            116581 non-null  timedelta64[ns]\n",
      " 55  order_accuracy_time            116581 non-null  timedelta64[ns]\n",
      " 56  order_approved_time            116581 non-null  timedelta64[ns]\n",
      " 57  review_send_time               116578 non-null  timedelta64[ns]\n",
      " 58  review_answer_time             116578 non-null  timedelta64[ns]\n",
      " 59  product_volume                 116580 non-null  float64        \n",
      " 60  Month_order                    116581 non-null  object         \n",
      "dtypes: datetime64[ns](8), float64(14), int64(9), object(24), timedelta64[ns](6)\n",
      "memory usage: 54.3+ MB\n"
     ]
    }
   ],
   "source": [
    "df.info()"
   ]
  },
  {
   "cell_type": "code",
   "execution_count": 21,
   "metadata": {},
   "outputs": [],
   "source": [
    "# Converte a marca temporal da resposta da avaliação para o dia da semana\n",
    "df2['review_dayofweek'] = df.review_answer_timestamp.apply(lambda x: x.dayofweek)"
   ]
  },
  {
   "cell_type": "code",
   "execution_count": 22,
   "metadata": {},
   "outputs": [
    {
     "data": {
      "text/plain": [
       "0    3.0\n",
       "1    3.0\n",
       "2    3.0\n",
       "3    6.0\n",
       "4    1.0\n",
       "Name: review_dayofweek, dtype: float64"
      ]
     },
     "execution_count": 22,
     "metadata": {},
     "output_type": "execute_result"
    }
   ],
   "source": [
    "df2['review_dayofweek'].head()"
   ]
  },
  {
   "cell_type": "code",
   "execution_count": 23,
   "metadata": {},
   "outputs": [],
   "source": [
    "# Mapeia o número do dia da semana para o nome abreviado do dia\n",
    "df2['review_day'] = df2['review_dayofweek'].map({0:'Seg', 1:'Ter', 2:'Qua', 3:'Qui', 4:'Sex', 5:'Sab', 6:'Dom'})"
   ]
  },
  {
   "cell_type": "code",
   "execution_count": 24,
   "metadata": {},
   "outputs": [
    {
     "data": {
      "text/plain": [
       "0    Qui\n",
       "1    Qui\n",
       "2    Qui\n",
       "3    Dom\n",
       "4    Ter\n",
       "Name: review_day, dtype: object"
      ]
     },
     "execution_count": 24,
     "metadata": {},
     "output_type": "execute_result"
    }
   ],
   "source": [
    "df2['review_day'].head()"
   ]
  },
  {
   "cell_type": "code",
   "execution_count": 26,
   "metadata": {},
   "outputs": [],
   "source": [
    "# Converte a marca temporal da resposta da avaliação para o mês e mapeia para o nome abreviado do mês\n",
    "df2['review_month'] = df2.review_answer_timestamp.apply(lambda x: x.month).map({1:'Jan',\n",
    "                                                                                2:'Fev',\n",
    "                                                                                3:'Mar',\n",
    "                                                                                4:'Abr',\n",
    "                                                                                5:'Mai',\n",
    "                                                                                6:'Jun',\n",
    "                                                                                7:'Jul',\n",
    "                                                                                8:'Ago',\n",
    "                                                                                9:'Set',\n",
    "                                                                                10:'Out',\n",
    "                                                                                11:'Nov',\n",
    "                                                                                12:'Dec'})"
   ]
  },
  {
   "cell_type": "code",
   "execution_count": 27,
   "metadata": {},
   "outputs": [
    {
     "data": {
      "text/html": [
       "<div>\n",
       "<style scoped>\n",
       "    .dataframe tbody tr th:only-of-type {\n",
       "        vertical-align: middle;\n",
       "    }\n",
       "\n",
       "    .dataframe tbody tr th {\n",
       "        vertical-align: top;\n",
       "    }\n",
       "\n",
       "    .dataframe thead th {\n",
       "        text-align: right;\n",
       "    }\n",
       "</style>\n",
       "<table border=\"1\" class=\"dataframe\">\n",
       "  <thead>\n",
       "    <tr style=\"text-align: right;\">\n",
       "      <th></th>\n",
       "      <th>order_id</th>\n",
       "      <th>order_id3</th>\n",
       "      <th>customer_id3</th>\n",
       "      <th>order_status</th>\n",
       "      <th>order_purchase_timestamp</th>\n",
       "      <th>order_approved_at</th>\n",
       "      <th>order_delivered_carrier_date</th>\n",
       "      <th>order_delivered_customer_date</th>\n",
       "      <th>order_estimated_delivery_date</th>\n",
       "      <th>order_item_id</th>\n",
       "      <th>...</th>\n",
       "      <th>order_delivery_time</th>\n",
       "      <th>order_accuracy_time</th>\n",
       "      <th>order_approved_time</th>\n",
       "      <th>review_send_time</th>\n",
       "      <th>review_answer_time</th>\n",
       "      <th>product_volume</th>\n",
       "      <th>Month_order</th>\n",
       "      <th>review_dayofweek</th>\n",
       "      <th>review_day</th>\n",
       "      <th>review_month</th>\n",
       "    </tr>\n",
       "  </thead>\n",
       "  <tbody>\n",
       "    <tr>\n",
       "      <th>0</th>\n",
       "      <td>ON34305</td>\n",
       "      <td>e481f51cbdc54678b7cc49136f2d6af7</td>\n",
       "      <td>9ef432eb6251297304e76186b10a928d</td>\n",
       "      <td>delivered</td>\n",
       "      <td>2017-10-02 10:56:33</td>\n",
       "      <td>2017-10-02 11:07:15</td>\n",
       "      <td>2017-10-04 19:55:00</td>\n",
       "      <td>2017-10-10 21:25:13</td>\n",
       "      <td>2017-10-18</td>\n",
       "      <td>1.0</td>\n",
       "      <td>...</td>\n",
       "      <td>6 days 01:30:13</td>\n",
       "      <td>7 days 02:34:47</td>\n",
       "      <td>0 days 00:10:42</td>\n",
       "      <td>0 days 02:34:47</td>\n",
       "      <td>1 days 03:43:48</td>\n",
       "      <td>1976.0</td>\n",
       "      <td>2017-10</td>\n",
       "      <td>3.0</td>\n",
       "      <td>Qui</td>\n",
       "      <td>Out</td>\n",
       "    </tr>\n",
       "    <tr>\n",
       "      <th>1</th>\n",
       "      <td>ON34305</td>\n",
       "      <td>e481f51cbdc54678b7cc49136f2d6af7</td>\n",
       "      <td>9ef432eb6251297304e76186b10a928d</td>\n",
       "      <td>delivered</td>\n",
       "      <td>2017-10-02 10:56:33</td>\n",
       "      <td>2017-10-02 11:07:15</td>\n",
       "      <td>2017-10-04 19:55:00</td>\n",
       "      <td>2017-10-10 21:25:13</td>\n",
       "      <td>2017-10-18</td>\n",
       "      <td>1.0</td>\n",
       "      <td>...</td>\n",
       "      <td>6 days 01:30:13</td>\n",
       "      <td>7 days 02:34:47</td>\n",
       "      <td>0 days 00:10:42</td>\n",
       "      <td>0 days 02:34:47</td>\n",
       "      <td>1 days 03:43:48</td>\n",
       "      <td>1976.0</td>\n",
       "      <td>2017-10</td>\n",
       "      <td>3.0</td>\n",
       "      <td>Qui</td>\n",
       "      <td>Out</td>\n",
       "    </tr>\n",
       "    <tr>\n",
       "      <th>2</th>\n",
       "      <td>ON34305</td>\n",
       "      <td>e481f51cbdc54678b7cc49136f2d6af7</td>\n",
       "      <td>9ef432eb6251297304e76186b10a928d</td>\n",
       "      <td>delivered</td>\n",
       "      <td>2017-10-02 10:56:33</td>\n",
       "      <td>2017-10-02 11:07:15</td>\n",
       "      <td>2017-10-04 19:55:00</td>\n",
       "      <td>2017-10-10 21:25:13</td>\n",
       "      <td>2017-10-18</td>\n",
       "      <td>1.0</td>\n",
       "      <td>...</td>\n",
       "      <td>6 days 01:30:13</td>\n",
       "      <td>7 days 02:34:47</td>\n",
       "      <td>0 days 00:10:42</td>\n",
       "      <td>0 days 02:34:47</td>\n",
       "      <td>1 days 03:43:48</td>\n",
       "      <td>1976.0</td>\n",
       "      <td>2017-10</td>\n",
       "      <td>3.0</td>\n",
       "      <td>Qui</td>\n",
       "      <td>Out</td>\n",
       "    </tr>\n",
       "    <tr>\n",
       "      <th>3</th>\n",
       "      <td>ON40291</td>\n",
       "      <td>128e10d95713541c87cd1a2e48201934</td>\n",
       "      <td>a20e8105f23924cd00833fd87daa0831</td>\n",
       "      <td>delivered</td>\n",
       "      <td>2017-08-15 18:29:31</td>\n",
       "      <td>2017-08-15 20:05:16</td>\n",
       "      <td>2017-08-17 15:28:33</td>\n",
       "      <td>2017-08-18 14:44:43</td>\n",
       "      <td>2017-08-28</td>\n",
       "      <td>1.0</td>\n",
       "      <td>...</td>\n",
       "      <td>0 days 23:16:10</td>\n",
       "      <td>9 days 09:15:17</td>\n",
       "      <td>0 days 01:35:45</td>\n",
       "      <td>0 days 09:15:17</td>\n",
       "      <td>1 days 15:16:36</td>\n",
       "      <td>1976.0</td>\n",
       "      <td>2017-08</td>\n",
       "      <td>6.0</td>\n",
       "      <td>Dom</td>\n",
       "      <td>Ago</td>\n",
       "    </tr>\n",
       "    <tr>\n",
       "      <th>4</th>\n",
       "      <td>ON74313</td>\n",
       "      <td>0e7e841ddf8f8f2de2bad69267ecfbcf</td>\n",
       "      <td>26c7ac168e1433912a51b924fbd34d34</td>\n",
       "      <td>delivered</td>\n",
       "      <td>2017-08-02 18:24:47</td>\n",
       "      <td>2017-08-02 18:43:15</td>\n",
       "      <td>2017-08-04 17:35:43</td>\n",
       "      <td>2017-08-07 18:30:01</td>\n",
       "      <td>2017-08-15</td>\n",
       "      <td>1.0</td>\n",
       "      <td>...</td>\n",
       "      <td>3 days 00:54:18</td>\n",
       "      <td>7 days 05:29:59</td>\n",
       "      <td>0 days 00:18:28</td>\n",
       "      <td>0 days 05:29:59</td>\n",
       "      <td>0 days 23:26:23</td>\n",
       "      <td>1976.0</td>\n",
       "      <td>2017-08</td>\n",
       "      <td>1.0</td>\n",
       "      <td>Ter</td>\n",
       "      <td>Ago</td>\n",
       "    </tr>\n",
       "  </tbody>\n",
       "</table>\n",
       "<p>5 rows × 64 columns</p>\n",
       "</div>"
      ],
      "text/plain": [
       "  order_id                         order_id3  \\\n",
       "0  ON34305  e481f51cbdc54678b7cc49136f2d6af7   \n",
       "1  ON34305  e481f51cbdc54678b7cc49136f2d6af7   \n",
       "2  ON34305  e481f51cbdc54678b7cc49136f2d6af7   \n",
       "3  ON40291  128e10d95713541c87cd1a2e48201934   \n",
       "4  ON74313  0e7e841ddf8f8f2de2bad69267ecfbcf   \n",
       "\n",
       "                       customer_id3 order_status order_purchase_timestamp  \\\n",
       "0  9ef432eb6251297304e76186b10a928d    delivered      2017-10-02 10:56:33   \n",
       "1  9ef432eb6251297304e76186b10a928d    delivered      2017-10-02 10:56:33   \n",
       "2  9ef432eb6251297304e76186b10a928d    delivered      2017-10-02 10:56:33   \n",
       "3  a20e8105f23924cd00833fd87daa0831    delivered      2017-08-15 18:29:31   \n",
       "4  26c7ac168e1433912a51b924fbd34d34    delivered      2017-08-02 18:24:47   \n",
       "\n",
       "    order_approved_at order_delivered_carrier_date  \\\n",
       "0 2017-10-02 11:07:15          2017-10-04 19:55:00   \n",
       "1 2017-10-02 11:07:15          2017-10-04 19:55:00   \n",
       "2 2017-10-02 11:07:15          2017-10-04 19:55:00   \n",
       "3 2017-08-15 20:05:16          2017-08-17 15:28:33   \n",
       "4 2017-08-02 18:43:15          2017-08-04 17:35:43   \n",
       "\n",
       "  order_delivered_customer_date order_estimated_delivery_date  order_item_id  \\\n",
       "0           2017-10-10 21:25:13                    2017-10-18            1.0   \n",
       "1           2017-10-10 21:25:13                    2017-10-18            1.0   \n",
       "2           2017-10-10 21:25:13                    2017-10-18            1.0   \n",
       "3           2017-08-18 14:44:43                    2017-08-28            1.0   \n",
       "4           2017-08-07 18:30:01                    2017-08-15            1.0   \n",
       "\n",
       "   ... order_delivery_time order_accuracy_time order_approved_time  \\\n",
       "0  ...     6 days 01:30:13     7 days 02:34:47     0 days 00:10:42   \n",
       "1  ...     6 days 01:30:13     7 days 02:34:47     0 days 00:10:42   \n",
       "2  ...     6 days 01:30:13     7 days 02:34:47     0 days 00:10:42   \n",
       "3  ...     0 days 23:16:10     9 days 09:15:17     0 days 01:35:45   \n",
       "4  ...     3 days 00:54:18     7 days 05:29:59     0 days 00:18:28   \n",
       "\n",
       "   review_send_time  review_answer_time  product_volume Month_order  \\\n",
       "0   0 days 02:34:47     1 days 03:43:48          1976.0     2017-10   \n",
       "1   0 days 02:34:47     1 days 03:43:48          1976.0     2017-10   \n",
       "2   0 days 02:34:47     1 days 03:43:48          1976.0     2017-10   \n",
       "3   0 days 09:15:17     1 days 15:16:36          1976.0     2017-08   \n",
       "4   0 days 05:29:59     0 days 23:26:23          1976.0     2017-08   \n",
       "\n",
       "   review_dayofweek  review_day review_month  \n",
       "0               3.0         Qui          Out  \n",
       "1               3.0         Qui          Out  \n",
       "2               3.0         Qui          Out  \n",
       "3               6.0         Dom          Ago  \n",
       "4               1.0         Ter          Ago  \n",
       "\n",
       "[5 rows x 64 columns]"
      ]
     },
     "execution_count": 27,
     "metadata": {},
     "output_type": "execute_result"
    }
   ],
   "source": [
    "# Amostra de dados\n",
    "df2.head()"
   ]
  },
  {
   "cell_type": "code",
   "execution_count": 28,
   "metadata": {},
   "outputs": [
    {
     "data": {
      "text/plain": [
       "review_score\n",
       "5.0    65479\n",
       "4.0    22017\n",
       "1.0    15110\n",
       "3.0     9842\n",
       "2.0     4133\n",
       "Name: count, dtype: int64"
      ]
     },
     "execution_count": 28,
     "metadata": {},
     "output_type": "execute_result"
    }
   ],
   "source": [
    "# Total de registros para cada avaliação\n",
    "df2.review_score.value_counts()"
   ]
  },
  {
   "cell_type": "code",
   "execution_count": 29,
   "metadata": {},
   "outputs": [],
   "source": [
    "# Calcula a média do score de avaliação agrupando por mês e por dia da semana\n",
    "review_score_per_month = df2.groupby(['review_month', 'review_day'], as_index = False).review_score.mean()"
   ]
  },
  {
   "cell_type": "code",
   "execution_count": 30,
   "metadata": {},
   "outputs": [
    {
     "data": {
      "text/html": [
       "<div>\n",
       "<style scoped>\n",
       "    .dataframe tbody tr th:only-of-type {\n",
       "        vertical-align: middle;\n",
       "    }\n",
       "\n",
       "    .dataframe tbody tr th {\n",
       "        vertical-align: top;\n",
       "    }\n",
       "\n",
       "    .dataframe thead th {\n",
       "        text-align: right;\n",
       "    }\n",
       "</style>\n",
       "<table border=\"1\" class=\"dataframe\">\n",
       "  <thead>\n",
       "    <tr style=\"text-align: right;\">\n",
       "      <th></th>\n",
       "      <th>review_month</th>\n",
       "      <th>review_day</th>\n",
       "      <th>review_score</th>\n",
       "    </tr>\n",
       "  </thead>\n",
       "  <tbody>\n",
       "    <tr>\n",
       "      <th>0</th>\n",
       "      <td>Abr</td>\n",
       "      <td>Dom</td>\n",
       "      <td>3.817905</td>\n",
       "    </tr>\n",
       "    <tr>\n",
       "      <th>1</th>\n",
       "      <td>Abr</td>\n",
       "      <td>Qua</td>\n",
       "      <td>3.894248</td>\n",
       "    </tr>\n",
       "    <tr>\n",
       "      <th>2</th>\n",
       "      <td>Abr</td>\n",
       "      <td>Qui</td>\n",
       "      <td>3.855518</td>\n",
       "    </tr>\n",
       "    <tr>\n",
       "      <th>3</th>\n",
       "      <td>Abr</td>\n",
       "      <td>Sab</td>\n",
       "      <td>3.846154</td>\n",
       "    </tr>\n",
       "    <tr>\n",
       "      <th>4</th>\n",
       "      <td>Abr</td>\n",
       "      <td>Seg</td>\n",
       "      <td>3.738133</td>\n",
       "    </tr>\n",
       "  </tbody>\n",
       "</table>\n",
       "</div>"
      ],
      "text/plain": [
       "  review_month review_day  review_score\n",
       "0          Abr        Dom      3.817905\n",
       "1          Abr        Qua      3.894248\n",
       "2          Abr        Qui      3.855518\n",
       "3          Abr        Sab      3.846154\n",
       "4          Abr        Seg      3.738133"
      ]
     },
     "execution_count": 30,
     "metadata": {},
     "output_type": "execute_result"
    }
   ],
   "source": [
    "review_score_per_month.head()"
   ]
  },
  {
   "cell_type": "code",
   "execution_count": 31,
   "metadata": {},
   "outputs": [
    {
     "data": {
      "application/vnd.plotly.v1+json": {
       "config": {
        "plotlyServerURL": "https://plot.ly"
       },
       "data": [
        {
         "hovertemplate": "review_day=Dom<br>review_month=%{x}<br>review_score=%{y}<extra></extra>",
         "legendgroup": "Dom",
         "line": {
          "color": "#636efa",
          "dash": "solid"
         },
         "marker": {
          "symbol": "circle"
         },
         "mode": "lines",
         "name": "Dom",
         "orientation": "v",
         "showlegend": true,
         "type": "scatter",
         "x": [
          "Abr",
          "Ago",
          "Dec",
          "Fev",
          "Jan",
          "Jul",
          "Jun",
          "Mai",
          "Mar",
          "Nov",
          "Out",
          "Set"
         ],
         "xaxis": "x",
         "y": {
          "bdata": "pp8AxhGLDkDDf55eD2AQQLkQdTNo2Q1A5xu1ajJrD0B6EOaClToQQJyAI8xVrRBAaEsIBpCuD0CeCCcLulkQQJabGFq5iQ1AgHQ9W0IwEEC6AIIlpwsQQI2MjIyMjBBA",
          "dtype": "f8"
         },
         "yaxis": "y"
        },
        {
         "hovertemplate": "review_day=Qua<br>review_month=%{x}<br>review_score=%{y}<extra></extra>",
         "legendgroup": "Qua",
         "line": {
          "color": "#EF553B",
          "dash": "solid"
         },
         "marker": {
          "symbol": "circle"
         },
         "mode": "lines",
         "name": "Qua",
         "orientation": "v",
         "showlegend": true,
         "type": "scatter",
         "x": [
          "Abr",
          "Ago",
          "Dec",
          "Fev",
          "Jan",
          "Jul",
          "Jun",
          "Mai",
          "Mar",
          "Nov",
          "Out",
          "Set"
         ],
         "xaxis": "x",
         "y": {
          "bdata": "V2bQP2snD0BSAru64Y0QQGUiQLJpag5AAVW01Il6D0ATqDYjPcUPQCrtQZlnFRFAjbzVTvqXEEAm/N/VQRMQQP992y0nWA5A0VaD5wiUEECmpaWlpSUQQDPo8OlVzBBA",
          "dtype": "f8"
         },
         "yaxis": "y"
        },
        {
         "hovertemplate": "review_day=Qui<br>review_month=%{x}<br>review_score=%{y}<extra></extra>",
         "legendgroup": "Qui",
         "line": {
          "color": "#00cc96",
          "dash": "solid"
         },
         "marker": {
          "symbol": "circle"
         },
         "mode": "lines",
         "name": "Qui",
         "orientation": "v",
         "showlegend": true,
         "type": "scatter",
         "x": [
          "Abr",
          "Ago",
          "Dec",
          "Fev",
          "Jan",
          "Jul",
          "Jun",
          "Mai",
          "Mar",
          "Nov",
          "Out",
          "Set"
         ],
         "xaxis": "x",
         "y": {
          "bdata": "UUUOoRnYDkCV4DKodNsQQPS1wZCdig5Ar5t3rB5vEED69miZB9AOQClu92RophBA8x8IV9hfEECUWtVo2X0QQFA0KBoUDQ5AUs2FI7peEEAOaR7nQskQQM3MzMzMzBBA",
          "dtype": "f8"
         },
         "yaxis": "y"
        },
        {
         "hovertemplate": "review_day=Sab<br>review_month=%{x}<br>review_score=%{y}<extra></extra>",
         "legendgroup": "Sab",
         "line": {
          "color": "#ab63fa",
          "dash": "solid"
         },
         "marker": {
          "symbol": "circle"
         },
         "mode": "lines",
         "name": "Sab",
         "orientation": "v",
         "showlegend": true,
         "type": "scatter",
         "x": [
          "Abr",
          "Ago",
          "Dec",
          "Fev",
          "Jan",
          "Jul",
          "Jun",
          "Mai",
          "Mar",
          "Nov",
          "Out",
          "Set"
         ],
         "xaxis": "x",
         "y": {
          "bdata": "T+zETuzEDkDNUBO9jbMQQI2g95eGmw9A78cESbi4D0CRtVW8kx8QQLezh/NEChFADYIs2fCPEEB5PSlzDHAQQKPeWL4q6g1AWQ6/keXwD0CamZmZmcEQQB0vz/HyHBFA",
          "dtype": "f8"
         },
         "yaxis": "y"
        },
        {
         "hovertemplate": "review_day=Seg<br>review_month=%{x}<br>review_score=%{y}<extra></extra>",
         "legendgroup": "Seg",
         "line": {
          "color": "#FFA15A",
          "dash": "solid"
         },
         "marker": {
          "symbol": "circle"
         },
         "mode": "lines",
         "name": "Seg",
         "orientation": "v",
         "showlegend": true,
         "type": "scatter",
         "x": [
          "Abr",
          "Ago",
          "Dec",
          "Fev",
          "Jan",
          "Jul",
          "Jun",
          "Mai",
          "Mar",
          "Nov",
          "Out",
          "Set"
         ],
         "xaxis": "x",
         "y": {
          "bdata": "dwj2crLnDUAL7VK9RKsQQNqh/sGvHw9ApbgXJ4oID0Ble9cB3ZgPQJyiI7n8hxBAhNz1s8UKEEAttCJ2s3kQQJWjTFYceA1AEnfEHXFHD0DP7ZMjlycQQF5NPCsaCRBA",
          "dtype": "f8"
         },
         "yaxis": "y"
        },
        {
         "hovertemplate": "review_day=Sex<br>review_month=%{x}<br>review_score=%{y}<extra></extra>",
         "legendgroup": "Sex",
         "line": {
          "color": "#19d3f3",
          "dash": "solid"
         },
         "marker": {
          "symbol": "circle"
         },
         "mode": "lines",
         "name": "Sex",
         "orientation": "v",
         "showlegend": true,
         "type": "scatter",
         "x": [
          "Abr",
          "Ago",
          "Dec",
          "Fev",
          "Jan",
          "Jul",
          "Jun",
          "Mai",
          "Mar",
          "Nov",
          "Out",
          "Set"
         ],
         "xaxis": "x",
         "y": {
          "bdata": "tE7qW1ufDkARL0O8DPEQQEHnw9te5g5A27GlBgUjEEDExkDuJyYQQPMniGfJoxBABAgxaH1KEEC+oPIg0VMQQFz71wYbiQ5AAAAAAAAAEEAH+602hiYRQKU8gv4AqhBA",
          "dtype": "f8"
         },
         "yaxis": "y"
        },
        {
         "hovertemplate": "review_day=Ter<br>review_month=%{x}<br>review_score=%{y}<extra></extra>",
         "legendgroup": "Ter",
         "line": {
          "color": "#FF6692",
          "dash": "solid"
         },
         "marker": {
          "symbol": "circle"
         },
         "mode": "lines",
         "name": "Ter",
         "orientation": "v",
         "showlegend": true,
         "type": "scatter",
         "x": [
          "Abr",
          "Ago",
          "Dec",
          "Fev",
          "Jan",
          "Jul",
          "Jun",
          "Mai",
          "Mar",
          "Nov",
          "Out",
          "Set"
         ],
         "xaxis": "x",
         "y": {
          "bdata": "4j+Gri/xD0DGx0mQ5oIQQN9Yg6u1OQ5AMlfKb2wzEEDW8Iip+VMPQGo1vvyc1xBAHQzF/FN4EEAivfsAsXQQQI/H4/F4PA5A3/SmN70JEEAKYIcva10PQMv0RDCIkhBA",
          "dtype": "f8"
         },
         "yaxis": "y"
        }
       ],
       "layout": {
        "legend": {
         "title": {
          "text": "review_day"
         },
         "tracegroupgap": 0
        },
        "margin": {
         "t": 60
        },
        "template": {
         "data": {
          "bar": [
           {
            "error_x": {
             "color": "#2a3f5f"
            },
            "error_y": {
             "color": "#2a3f5f"
            },
            "marker": {
             "line": {
              "color": "#E5ECF6",
              "width": 0.5
             },
             "pattern": {
              "fillmode": "overlay",
              "size": 10,
              "solidity": 0.2
             }
            },
            "type": "bar"
           }
          ],
          "barpolar": [
           {
            "marker": {
             "line": {
              "color": "#E5ECF6",
              "width": 0.5
             },
             "pattern": {
              "fillmode": "overlay",
              "size": 10,
              "solidity": 0.2
             }
            },
            "type": "barpolar"
           }
          ],
          "carpet": [
           {
            "aaxis": {
             "endlinecolor": "#2a3f5f",
             "gridcolor": "white",
             "linecolor": "white",
             "minorgridcolor": "white",
             "startlinecolor": "#2a3f5f"
            },
            "baxis": {
             "endlinecolor": "#2a3f5f",
             "gridcolor": "white",
             "linecolor": "white",
             "minorgridcolor": "white",
             "startlinecolor": "#2a3f5f"
            },
            "type": "carpet"
           }
          ],
          "choropleth": [
           {
            "colorbar": {
             "outlinewidth": 0,
             "ticks": ""
            },
            "type": "choropleth"
           }
          ],
          "contour": [
           {
            "colorbar": {
             "outlinewidth": 0,
             "ticks": ""
            },
            "colorscale": [
             [
              0,
              "#0d0887"
             ],
             [
              0.1111111111111111,
              "#46039f"
             ],
             [
              0.2222222222222222,
              "#7201a8"
             ],
             [
              0.3333333333333333,
              "#9c179e"
             ],
             [
              0.4444444444444444,
              "#bd3786"
             ],
             [
              0.5555555555555556,
              "#d8576b"
             ],
             [
              0.6666666666666666,
              "#ed7953"
             ],
             [
              0.7777777777777778,
              "#fb9f3a"
             ],
             [
              0.8888888888888888,
              "#fdca26"
             ],
             [
              1,
              "#f0f921"
             ]
            ],
            "type": "contour"
           }
          ],
          "contourcarpet": [
           {
            "colorbar": {
             "outlinewidth": 0,
             "ticks": ""
            },
            "type": "contourcarpet"
           }
          ],
          "heatmap": [
           {
            "colorbar": {
             "outlinewidth": 0,
             "ticks": ""
            },
            "colorscale": [
             [
              0,
              "#0d0887"
             ],
             [
              0.1111111111111111,
              "#46039f"
             ],
             [
              0.2222222222222222,
              "#7201a8"
             ],
             [
              0.3333333333333333,
              "#9c179e"
             ],
             [
              0.4444444444444444,
              "#bd3786"
             ],
             [
              0.5555555555555556,
              "#d8576b"
             ],
             [
              0.6666666666666666,
              "#ed7953"
             ],
             [
              0.7777777777777778,
              "#fb9f3a"
             ],
             [
              0.8888888888888888,
              "#fdca26"
             ],
             [
              1,
              "#f0f921"
             ]
            ],
            "type": "heatmap"
           }
          ],
          "histogram": [
           {
            "marker": {
             "pattern": {
              "fillmode": "overlay",
              "size": 10,
              "solidity": 0.2
             }
            },
            "type": "histogram"
           }
          ],
          "histogram2d": [
           {
            "colorbar": {
             "outlinewidth": 0,
             "ticks": ""
            },
            "colorscale": [
             [
              0,
              "#0d0887"
             ],
             [
              0.1111111111111111,
              "#46039f"
             ],
             [
              0.2222222222222222,
              "#7201a8"
             ],
             [
              0.3333333333333333,
              "#9c179e"
             ],
             [
              0.4444444444444444,
              "#bd3786"
             ],
             [
              0.5555555555555556,
              "#d8576b"
             ],
             [
              0.6666666666666666,
              "#ed7953"
             ],
             [
              0.7777777777777778,
              "#fb9f3a"
             ],
             [
              0.8888888888888888,
              "#fdca26"
             ],
             [
              1,
              "#f0f921"
             ]
            ],
            "type": "histogram2d"
           }
          ],
          "histogram2dcontour": [
           {
            "colorbar": {
             "outlinewidth": 0,
             "ticks": ""
            },
            "colorscale": [
             [
              0,
              "#0d0887"
             ],
             [
              0.1111111111111111,
              "#46039f"
             ],
             [
              0.2222222222222222,
              "#7201a8"
             ],
             [
              0.3333333333333333,
              "#9c179e"
             ],
             [
              0.4444444444444444,
              "#bd3786"
             ],
             [
              0.5555555555555556,
              "#d8576b"
             ],
             [
              0.6666666666666666,
              "#ed7953"
             ],
             [
              0.7777777777777778,
              "#fb9f3a"
             ],
             [
              0.8888888888888888,
              "#fdca26"
             ],
             [
              1,
              "#f0f921"
             ]
            ],
            "type": "histogram2dcontour"
           }
          ],
          "mesh3d": [
           {
            "colorbar": {
             "outlinewidth": 0,
             "ticks": ""
            },
            "type": "mesh3d"
           }
          ],
          "parcoords": [
           {
            "line": {
             "colorbar": {
              "outlinewidth": 0,
              "ticks": ""
             }
            },
            "type": "parcoords"
           }
          ],
          "pie": [
           {
            "automargin": true,
            "type": "pie"
           }
          ],
          "scatter": [
           {
            "fillpattern": {
             "fillmode": "overlay",
             "size": 10,
             "solidity": 0.2
            },
            "type": "scatter"
           }
          ],
          "scatter3d": [
           {
            "line": {
             "colorbar": {
              "outlinewidth": 0,
              "ticks": ""
             }
            },
            "marker": {
             "colorbar": {
              "outlinewidth": 0,
              "ticks": ""
             }
            },
            "type": "scatter3d"
           }
          ],
          "scattercarpet": [
           {
            "marker": {
             "colorbar": {
              "outlinewidth": 0,
              "ticks": ""
             }
            },
            "type": "scattercarpet"
           }
          ],
          "scattergeo": [
           {
            "marker": {
             "colorbar": {
              "outlinewidth": 0,
              "ticks": ""
             }
            },
            "type": "scattergeo"
           }
          ],
          "scattergl": [
           {
            "marker": {
             "colorbar": {
              "outlinewidth": 0,
              "ticks": ""
             }
            },
            "type": "scattergl"
           }
          ],
          "scattermap": [
           {
            "marker": {
             "colorbar": {
              "outlinewidth": 0,
              "ticks": ""
             }
            },
            "type": "scattermap"
           }
          ],
          "scattermapbox": [
           {
            "marker": {
             "colorbar": {
              "outlinewidth": 0,
              "ticks": ""
             }
            },
            "type": "scattermapbox"
           }
          ],
          "scatterpolar": [
           {
            "marker": {
             "colorbar": {
              "outlinewidth": 0,
              "ticks": ""
             }
            },
            "type": "scatterpolar"
           }
          ],
          "scatterpolargl": [
           {
            "marker": {
             "colorbar": {
              "outlinewidth": 0,
              "ticks": ""
             }
            },
            "type": "scatterpolargl"
           }
          ],
          "scatterternary": [
           {
            "marker": {
             "colorbar": {
              "outlinewidth": 0,
              "ticks": ""
             }
            },
            "type": "scatterternary"
           }
          ],
          "surface": [
           {
            "colorbar": {
             "outlinewidth": 0,
             "ticks": ""
            },
            "colorscale": [
             [
              0,
              "#0d0887"
             ],
             [
              0.1111111111111111,
              "#46039f"
             ],
             [
              0.2222222222222222,
              "#7201a8"
             ],
             [
              0.3333333333333333,
              "#9c179e"
             ],
             [
              0.4444444444444444,
              "#bd3786"
             ],
             [
              0.5555555555555556,
              "#d8576b"
             ],
             [
              0.6666666666666666,
              "#ed7953"
             ],
             [
              0.7777777777777778,
              "#fb9f3a"
             ],
             [
              0.8888888888888888,
              "#fdca26"
             ],
             [
              1,
              "#f0f921"
             ]
            ],
            "type": "surface"
           }
          ],
          "table": [
           {
            "cells": {
             "fill": {
              "color": "#EBF0F8"
             },
             "line": {
              "color": "white"
             }
            },
            "header": {
             "fill": {
              "color": "#C8D4E3"
             },
             "line": {
              "color": "white"
             }
            },
            "type": "table"
           }
          ]
         },
         "layout": {
          "annotationdefaults": {
           "arrowcolor": "#2a3f5f",
           "arrowhead": 0,
           "arrowwidth": 1
          },
          "autotypenumbers": "strict",
          "coloraxis": {
           "colorbar": {
            "outlinewidth": 0,
            "ticks": ""
           }
          },
          "colorscale": {
           "diverging": [
            [
             0,
             "#8e0152"
            ],
            [
             0.1,
             "#c51b7d"
            ],
            [
             0.2,
             "#de77ae"
            ],
            [
             0.3,
             "#f1b6da"
            ],
            [
             0.4,
             "#fde0ef"
            ],
            [
             0.5,
             "#f7f7f7"
            ],
            [
             0.6,
             "#e6f5d0"
            ],
            [
             0.7,
             "#b8e186"
            ],
            [
             0.8,
             "#7fbc41"
            ],
            [
             0.9,
             "#4d9221"
            ],
            [
             1,
             "#276419"
            ]
           ],
           "sequential": [
            [
             0,
             "#0d0887"
            ],
            [
             0.1111111111111111,
             "#46039f"
            ],
            [
             0.2222222222222222,
             "#7201a8"
            ],
            [
             0.3333333333333333,
             "#9c179e"
            ],
            [
             0.4444444444444444,
             "#bd3786"
            ],
            [
             0.5555555555555556,
             "#d8576b"
            ],
            [
             0.6666666666666666,
             "#ed7953"
            ],
            [
             0.7777777777777778,
             "#fb9f3a"
            ],
            [
             0.8888888888888888,
             "#fdca26"
            ],
            [
             1,
             "#f0f921"
            ]
           ],
           "sequentialminus": [
            [
             0,
             "#0d0887"
            ],
            [
             0.1111111111111111,
             "#46039f"
            ],
            [
             0.2222222222222222,
             "#7201a8"
            ],
            [
             0.3333333333333333,
             "#9c179e"
            ],
            [
             0.4444444444444444,
             "#bd3786"
            ],
            [
             0.5555555555555556,
             "#d8576b"
            ],
            [
             0.6666666666666666,
             "#ed7953"
            ],
            [
             0.7777777777777778,
             "#fb9f3a"
            ],
            [
             0.8888888888888888,
             "#fdca26"
            ],
            [
             1,
             "#f0f921"
            ]
           ]
          },
          "colorway": [
           "#636efa",
           "#EF553B",
           "#00cc96",
           "#ab63fa",
           "#FFA15A",
           "#19d3f3",
           "#FF6692",
           "#B6E880",
           "#FF97FF",
           "#FECB52"
          ],
          "font": {
           "color": "#2a3f5f"
          },
          "geo": {
           "bgcolor": "white",
           "lakecolor": "white",
           "landcolor": "#E5ECF6",
           "showlakes": true,
           "showland": true,
           "subunitcolor": "white"
          },
          "hoverlabel": {
           "align": "left"
          },
          "hovermode": "closest",
          "mapbox": {
           "style": "light"
          },
          "paper_bgcolor": "white",
          "plot_bgcolor": "#E5ECF6",
          "polar": {
           "angularaxis": {
            "gridcolor": "white",
            "linecolor": "white",
            "ticks": ""
           },
           "bgcolor": "#E5ECF6",
           "radialaxis": {
            "gridcolor": "white",
            "linecolor": "white",
            "ticks": ""
           }
          },
          "scene": {
           "xaxis": {
            "backgroundcolor": "#E5ECF6",
            "gridcolor": "white",
            "gridwidth": 2,
            "linecolor": "white",
            "showbackground": true,
            "ticks": "",
            "zerolinecolor": "white"
           },
           "yaxis": {
            "backgroundcolor": "#E5ECF6",
            "gridcolor": "white",
            "gridwidth": 2,
            "linecolor": "white",
            "showbackground": true,
            "ticks": "",
            "zerolinecolor": "white"
           },
           "zaxis": {
            "backgroundcolor": "#E5ECF6",
            "gridcolor": "white",
            "gridwidth": 2,
            "linecolor": "white",
            "showbackground": true,
            "ticks": "",
            "zerolinecolor": "white"
           }
          },
          "shapedefaults": {
           "line": {
            "color": "#2a3f5f"
           }
          },
          "ternary": {
           "aaxis": {
            "gridcolor": "white",
            "linecolor": "white",
            "ticks": ""
           },
           "baxis": {
            "gridcolor": "white",
            "linecolor": "white",
            "ticks": ""
           },
           "bgcolor": "#E5ECF6",
           "caxis": {
            "gridcolor": "white",
            "linecolor": "white",
            "ticks": ""
           }
          },
          "title": {
           "x": 0.05
          },
          "xaxis": {
           "automargin": true,
           "gridcolor": "white",
           "linecolor": "white",
           "ticks": "",
           "title": {
            "standoff": 15
           },
           "zerolinecolor": "white",
           "zerolinewidth": 2
          },
          "yaxis": {
           "automargin": true,
           "gridcolor": "white",
           "linecolor": "white",
           "ticks": "",
           "title": {
            "standoff": 15
           },
           "zerolinecolor": "white",
           "zerolinewidth": 2
          }
         }
        },
        "title": {
         "text": "Avaliações Por Mês e Dia da Semana"
        },
        "xaxis": {
         "anchor": "y",
         "domain": [
          0,
          1
         ],
         "title": {
          "text": "Months"
         }
        },
        "yaxis": {
         "anchor": "x",
         "domain": [
          0,
          1
         ],
         "title": {
          "text": "Review Ratings"
         }
        }
       }
      }
     },
     "metadata": {},
     "output_type": "display_data"
    }
   ],
   "source": [
    "# Plot\n",
    "\n",
    "# Gráfico\n",
    "fig = px.line(review_score_per_month, \n",
    "              x = \"review_month\", \n",
    "              y = \"review_score\", \n",
    "              color = 'review_day')\n",
    "\n",
    "# Layout\n",
    "fig.update_layout(title = \"Avaliações Por Mês e Dia da Semana\",\n",
    "                  xaxis_title = \"Months\",\n",
    "                  yaxis_title = \"Review Ratings\")\n",
    "fig.show()"
   ]
  },
  {
   "cell_type": "markdown",
   "metadata": {},
   "source": [
    "### Pergunta 4.2 - Média de Avaliações Por Categoria de Produto"
   ]
  },
  {
   "cell_type": "code",
   "execution_count": 32,
   "metadata": {
    "scrolled": true
   },
   "outputs": [],
   "source": [
    "# Média de avaliações por categoria de produto\n",
    "avg_score_per_category = df2.groupby('product_category_name_english', as_index = False).agg({'review_score': ['count', 'mean']})\n",
    "avg_score_per_category.columns = ['Product Category', 'Number of Reviews', 'Average Review Ratings']"
   ]
  },
  {
   "cell_type": "code",
   "execution_count": 33,
   "metadata": {},
   "outputs": [
    {
     "data": {
      "text/html": [
       "<div>\n",
       "<style scoped>\n",
       "    .dataframe tbody tr th:only-of-type {\n",
       "        vertical-align: middle;\n",
       "    }\n",
       "\n",
       "    .dataframe tbody tr th {\n",
       "        vertical-align: top;\n",
       "    }\n",
       "\n",
       "    .dataframe thead th {\n",
       "        text-align: right;\n",
       "    }\n",
       "</style>\n",
       "<table border=\"1\" class=\"dataframe\">\n",
       "  <thead>\n",
       "    <tr style=\"text-align: right;\">\n",
       "      <th></th>\n",
       "      <th>Product Category</th>\n",
       "      <th>Number of Reviews</th>\n",
       "      <th>Average Review Ratings</th>\n",
       "    </tr>\n",
       "  </thead>\n",
       "  <tbody>\n",
       "    <tr>\n",
       "      <th>0</th>\n",
       "      <td>agro industry and commerce</td>\n",
       "      <td>252</td>\n",
       "      <td>4.150794</td>\n",
       "    </tr>\n",
       "    <tr>\n",
       "      <th>1</th>\n",
       "      <td>air conditioning</td>\n",
       "      <td>302</td>\n",
       "      <td>3.920530</td>\n",
       "    </tr>\n",
       "    <tr>\n",
       "      <th>2</th>\n",
       "      <td>art</td>\n",
       "      <td>219</td>\n",
       "      <td>3.917808</td>\n",
       "    </tr>\n",
       "    <tr>\n",
       "      <th>3</th>\n",
       "      <td>arts and craftmanship</td>\n",
       "      <td>24</td>\n",
       "      <td>4.125000</td>\n",
       "    </tr>\n",
       "    <tr>\n",
       "      <th>4</th>\n",
       "      <td>audio</td>\n",
       "      <td>381</td>\n",
       "      <td>3.824147</td>\n",
       "    </tr>\n",
       "  </tbody>\n",
       "</table>\n",
       "</div>"
      ],
      "text/plain": [
       "             Product Category  Number of Reviews  Average Review Ratings\n",
       "0  agro industry and commerce                252                4.150794\n",
       "1            air conditioning                302                3.920530\n",
       "2                         art                219                3.917808\n",
       "3       arts and craftmanship                 24                4.125000\n",
       "4                       audio                381                3.824147"
      ]
     },
     "execution_count": 33,
     "metadata": {},
     "output_type": "execute_result"
    }
   ],
   "source": [
    "avg_score_per_category.head()"
   ]
  },
  {
   "cell_type": "code",
   "execution_count": 34,
   "metadata": {},
   "outputs": [
    {
     "data": {
      "text/plain": [
       "(71, 3)"
      ]
     },
     "execution_count": 34,
     "metadata": {},
     "output_type": "execute_result"
    }
   ],
   "source": [
    "avg_score_per_category.shape"
   ]
  },
  {
   "cell_type": "code",
   "execution_count": 35,
   "metadata": {},
   "outputs": [],
   "source": [
    "# Filtrando categorias com mais de 100 avaliações\n",
    "avg_score_per_category = avg_score_per_category[avg_score_per_category['Number of Reviews'] > 100]\n",
    "avg_score_per_category = avg_score_per_category.sort_values(by = 'Number of Reviews', ascending = False)"
   ]
  },
  {
   "cell_type": "code",
   "execution_count": 36,
   "metadata": {},
   "outputs": [
    {
     "data": {
      "text/plain": [
       "(53, 3)"
      ]
     },
     "execution_count": 36,
     "metadata": {},
     "output_type": "execute_result"
    }
   ],
   "source": [
    "avg_score_per_category.shape"
   ]
  },
  {
   "cell_type": "code",
   "execution_count": 37,
   "metadata": {},
   "outputs": [
    {
     "data": {
      "text/html": [
       "<div>\n",
       "<style scoped>\n",
       "    .dataframe tbody tr th:only-of-type {\n",
       "        vertical-align: middle;\n",
       "    }\n",
       "\n",
       "    .dataframe tbody tr th {\n",
       "        vertical-align: top;\n",
       "    }\n",
       "\n",
       "    .dataframe thead th {\n",
       "        text-align: right;\n",
       "    }\n",
       "</style>\n",
       "<table border=\"1\" class=\"dataframe\">\n",
       "  <thead>\n",
       "    <tr style=\"text-align: right;\">\n",
       "      <th></th>\n",
       "      <th>Product Category</th>\n",
       "      <th>Number of Reviews</th>\n",
       "      <th>Average Review Ratings</th>\n",
       "    </tr>\n",
       "  </thead>\n",
       "  <tbody>\n",
       "    <tr>\n",
       "      <th>7</th>\n",
       "      <td>bed bath table</td>\n",
       "      <td>11990</td>\n",
       "      <td>3.867056</td>\n",
       "    </tr>\n",
       "    <tr>\n",
       "      <th>43</th>\n",
       "      <td>health beauty</td>\n",
       "      <td>10030</td>\n",
       "      <td>4.119143</td>\n",
       "    </tr>\n",
       "    <tr>\n",
       "      <th>65</th>\n",
       "      <td>sports leisure</td>\n",
       "      <td>9005</td>\n",
       "      <td>4.092837</td>\n",
       "    </tr>\n",
       "    <tr>\n",
       "      <th>39</th>\n",
       "      <td>furniture decor</td>\n",
       "      <td>8833</td>\n",
       "      <td>3.895279</td>\n",
       "    </tr>\n",
       "    <tr>\n",
       "      <th>15</th>\n",
       "      <td>computers accessories</td>\n",
       "      <td>8151</td>\n",
       "      <td>3.926144</td>\n",
       "    </tr>\n",
       "    <tr>\n",
       "      <th>49</th>\n",
       "      <td>housewares</td>\n",
       "      <td>7380</td>\n",
       "      <td>4.045257</td>\n",
       "    </tr>\n",
       "    <tr>\n",
       "      <th>70</th>\n",
       "      <td>watches gifts</td>\n",
       "      <td>6213</td>\n",
       "      <td>4.000644</td>\n",
       "    </tr>\n",
       "    <tr>\n",
       "      <th>68</th>\n",
       "      <td>telephony</td>\n",
       "      <td>4726</td>\n",
       "      <td>3.938214</td>\n",
       "    </tr>\n",
       "    <tr>\n",
       "      <th>42</th>\n",
       "      <td>garden tools</td>\n",
       "      <td>4590</td>\n",
       "      <td>4.011329</td>\n",
       "    </tr>\n",
       "    <tr>\n",
       "      <th>5</th>\n",
       "      <td>auto</td>\n",
       "      <td>4400</td>\n",
       "      <td>4.038636</td>\n",
       "    </tr>\n",
       "  </tbody>\n",
       "</table>\n",
       "</div>"
      ],
      "text/plain": [
       "         Product Category  Number of Reviews  Average Review Ratings\n",
       "7          bed bath table              11990                3.867056\n",
       "43          health beauty              10030                4.119143\n",
       "65         sports leisure               9005                4.092837\n",
       "39        furniture decor               8833                3.895279\n",
       "15  computers accessories               8151                3.926144\n",
       "49             housewares               7380                4.045257\n",
       "70          watches gifts               6213                4.000644\n",
       "68              telephony               4726                3.938214\n",
       "42           garden tools               4590                4.011329\n",
       "5                    auto               4400                4.038636"
      ]
     },
     "execution_count": 37,
     "metadata": {},
     "output_type": "execute_result"
    }
   ],
   "source": [
    "# Listando as top 10\n",
    "avg_ratings = avg_score_per_category[:10]\n",
    "avg_ratings"
   ]
  },
  {
   "cell_type": "code",
   "execution_count": 38,
   "metadata": {},
   "outputs": [
    {
     "data": {
      "application/vnd.plotly.v1+json": {
       "config": {
        "plotlyServerURL": "https://plot.ly"
       },
       "data": [
        {
         "customdata": {
          "bdata": "E8w//rrvDkDeEa6CAHoQQMbulb4QXxBAnxdREogpD0BdPLIzvmgPQNnUOvhXLhBACwBzxagAEEBgJYVpdoEPQH1EttKZCxBAqAR5SpAnEEA=",
          "dtype": "f8",
          "shape": "10, 1"
         },
         "hovertemplate": "Product Category=%{x}<br>Number of Reviews=%{y}<br>Average Review Ratings=%{marker.color}<extra></extra>",
         "legendgroup": "",
         "marker": {
          "color": {
           "bdata": "E8w//rrvDkDeEa6CAHoQQMbulb4QXxBAnxdREogpD0BdPLIzvmgPQNnUOvhXLhBACwBzxagAEEBgJYVpdoEPQH1EttKZCxBAqAR5SpAnEEA=",
           "dtype": "f8"
          },
          "coloraxis": "coloraxis",
          "pattern": {
           "shape": ""
          }
         },
         "name": "",
         "orientation": "v",
         "showlegend": false,
         "textposition": "auto",
         "type": "bar",
         "x": [
          "bed bath table",
          "health beauty",
          "sports leisure",
          "furniture decor",
          "computers accessories",
          "housewares",
          "watches gifts",
          "telephony",
          "garden tools",
          "auto"
         ],
         "xaxis": "x",
         "y": {
          "bdata": "1i4uJy0jgSLXH9QcRRh2Eu4RMBE=",
          "dtype": "i2"
         },
         "yaxis": "y"
        }
       ],
       "layout": {
        "barmode": "relative",
        "coloraxis": {
         "colorbar": {
          "title": {
           "text": "Average Review Ratings"
          }
         },
         "colorscale": [
          [
           0,
           "#0d0887"
          ],
          [
           0.1111111111111111,
           "#46039f"
          ],
          [
           0.2222222222222222,
           "#7201a8"
          ],
          [
           0.3333333333333333,
           "#9c179e"
          ],
          [
           0.4444444444444444,
           "#bd3786"
          ],
          [
           0.5555555555555556,
           "#d8576b"
          ],
          [
           0.6666666666666666,
           "#ed7953"
          ],
          [
           0.7777777777777778,
           "#fb9f3a"
          ],
          [
           0.8888888888888888,
           "#fdca26"
          ],
          [
           1,
           "#f0f921"
          ]
         ]
        },
        "height": 500,
        "legend": {
         "tracegroupgap": 0
        },
        "margin": {
         "t": 60
        },
        "template": {
         "data": {
          "bar": [
           {
            "error_x": {
             "color": "#2a3f5f"
            },
            "error_y": {
             "color": "#2a3f5f"
            },
            "marker": {
             "line": {
              "color": "#E5ECF6",
              "width": 0.5
             },
             "pattern": {
              "fillmode": "overlay",
              "size": 10,
              "solidity": 0.2
             }
            },
            "type": "bar"
           }
          ],
          "barpolar": [
           {
            "marker": {
             "line": {
              "color": "#E5ECF6",
              "width": 0.5
             },
             "pattern": {
              "fillmode": "overlay",
              "size": 10,
              "solidity": 0.2
             }
            },
            "type": "barpolar"
           }
          ],
          "carpet": [
           {
            "aaxis": {
             "endlinecolor": "#2a3f5f",
             "gridcolor": "white",
             "linecolor": "white",
             "minorgridcolor": "white",
             "startlinecolor": "#2a3f5f"
            },
            "baxis": {
             "endlinecolor": "#2a3f5f",
             "gridcolor": "white",
             "linecolor": "white",
             "minorgridcolor": "white",
             "startlinecolor": "#2a3f5f"
            },
            "type": "carpet"
           }
          ],
          "choropleth": [
           {
            "colorbar": {
             "outlinewidth": 0,
             "ticks": ""
            },
            "type": "choropleth"
           }
          ],
          "contour": [
           {
            "colorbar": {
             "outlinewidth": 0,
             "ticks": ""
            },
            "colorscale": [
             [
              0,
              "#0d0887"
             ],
             [
              0.1111111111111111,
              "#46039f"
             ],
             [
              0.2222222222222222,
              "#7201a8"
             ],
             [
              0.3333333333333333,
              "#9c179e"
             ],
             [
              0.4444444444444444,
              "#bd3786"
             ],
             [
              0.5555555555555556,
              "#d8576b"
             ],
             [
              0.6666666666666666,
              "#ed7953"
             ],
             [
              0.7777777777777778,
              "#fb9f3a"
             ],
             [
              0.8888888888888888,
              "#fdca26"
             ],
             [
              1,
              "#f0f921"
             ]
            ],
            "type": "contour"
           }
          ],
          "contourcarpet": [
           {
            "colorbar": {
             "outlinewidth": 0,
             "ticks": ""
            },
            "type": "contourcarpet"
           }
          ],
          "heatmap": [
           {
            "colorbar": {
             "outlinewidth": 0,
             "ticks": ""
            },
            "colorscale": [
             [
              0,
              "#0d0887"
             ],
             [
              0.1111111111111111,
              "#46039f"
             ],
             [
              0.2222222222222222,
              "#7201a8"
             ],
             [
              0.3333333333333333,
              "#9c179e"
             ],
             [
              0.4444444444444444,
              "#bd3786"
             ],
             [
              0.5555555555555556,
              "#d8576b"
             ],
             [
              0.6666666666666666,
              "#ed7953"
             ],
             [
              0.7777777777777778,
              "#fb9f3a"
             ],
             [
              0.8888888888888888,
              "#fdca26"
             ],
             [
              1,
              "#f0f921"
             ]
            ],
            "type": "heatmap"
           }
          ],
          "histogram": [
           {
            "marker": {
             "pattern": {
              "fillmode": "overlay",
              "size": 10,
              "solidity": 0.2
             }
            },
            "type": "histogram"
           }
          ],
          "histogram2d": [
           {
            "colorbar": {
             "outlinewidth": 0,
             "ticks": ""
            },
            "colorscale": [
             [
              0,
              "#0d0887"
             ],
             [
              0.1111111111111111,
              "#46039f"
             ],
             [
              0.2222222222222222,
              "#7201a8"
             ],
             [
              0.3333333333333333,
              "#9c179e"
             ],
             [
              0.4444444444444444,
              "#bd3786"
             ],
             [
              0.5555555555555556,
              "#d8576b"
             ],
             [
              0.6666666666666666,
              "#ed7953"
             ],
             [
              0.7777777777777778,
              "#fb9f3a"
             ],
             [
              0.8888888888888888,
              "#fdca26"
             ],
             [
              1,
              "#f0f921"
             ]
            ],
            "type": "histogram2d"
           }
          ],
          "histogram2dcontour": [
           {
            "colorbar": {
             "outlinewidth": 0,
             "ticks": ""
            },
            "colorscale": [
             [
              0,
              "#0d0887"
             ],
             [
              0.1111111111111111,
              "#46039f"
             ],
             [
              0.2222222222222222,
              "#7201a8"
             ],
             [
              0.3333333333333333,
              "#9c179e"
             ],
             [
              0.4444444444444444,
              "#bd3786"
             ],
             [
              0.5555555555555556,
              "#d8576b"
             ],
             [
              0.6666666666666666,
              "#ed7953"
             ],
             [
              0.7777777777777778,
              "#fb9f3a"
             ],
             [
              0.8888888888888888,
              "#fdca26"
             ],
             [
              1,
              "#f0f921"
             ]
            ],
            "type": "histogram2dcontour"
           }
          ],
          "mesh3d": [
           {
            "colorbar": {
             "outlinewidth": 0,
             "ticks": ""
            },
            "type": "mesh3d"
           }
          ],
          "parcoords": [
           {
            "line": {
             "colorbar": {
              "outlinewidth": 0,
              "ticks": ""
             }
            },
            "type": "parcoords"
           }
          ],
          "pie": [
           {
            "automargin": true,
            "type": "pie"
           }
          ],
          "scatter": [
           {
            "fillpattern": {
             "fillmode": "overlay",
             "size": 10,
             "solidity": 0.2
            },
            "type": "scatter"
           }
          ],
          "scatter3d": [
           {
            "line": {
             "colorbar": {
              "outlinewidth": 0,
              "ticks": ""
             }
            },
            "marker": {
             "colorbar": {
              "outlinewidth": 0,
              "ticks": ""
             }
            },
            "type": "scatter3d"
           }
          ],
          "scattercarpet": [
           {
            "marker": {
             "colorbar": {
              "outlinewidth": 0,
              "ticks": ""
             }
            },
            "type": "scattercarpet"
           }
          ],
          "scattergeo": [
           {
            "marker": {
             "colorbar": {
              "outlinewidth": 0,
              "ticks": ""
             }
            },
            "type": "scattergeo"
           }
          ],
          "scattergl": [
           {
            "marker": {
             "colorbar": {
              "outlinewidth": 0,
              "ticks": ""
             }
            },
            "type": "scattergl"
           }
          ],
          "scattermap": [
           {
            "marker": {
             "colorbar": {
              "outlinewidth": 0,
              "ticks": ""
             }
            },
            "type": "scattermap"
           }
          ],
          "scattermapbox": [
           {
            "marker": {
             "colorbar": {
              "outlinewidth": 0,
              "ticks": ""
             }
            },
            "type": "scattermapbox"
           }
          ],
          "scatterpolar": [
           {
            "marker": {
             "colorbar": {
              "outlinewidth": 0,
              "ticks": ""
             }
            },
            "type": "scatterpolar"
           }
          ],
          "scatterpolargl": [
           {
            "marker": {
             "colorbar": {
              "outlinewidth": 0,
              "ticks": ""
             }
            },
            "type": "scatterpolargl"
           }
          ],
          "scatterternary": [
           {
            "marker": {
             "colorbar": {
              "outlinewidth": 0,
              "ticks": ""
             }
            },
            "type": "scatterternary"
           }
          ],
          "surface": [
           {
            "colorbar": {
             "outlinewidth": 0,
             "ticks": ""
            },
            "colorscale": [
             [
              0,
              "#0d0887"
             ],
             [
              0.1111111111111111,
              "#46039f"
             ],
             [
              0.2222222222222222,
              "#7201a8"
             ],
             [
              0.3333333333333333,
              "#9c179e"
             ],
             [
              0.4444444444444444,
              "#bd3786"
             ],
             [
              0.5555555555555556,
              "#d8576b"
             ],
             [
              0.6666666666666666,
              "#ed7953"
             ],
             [
              0.7777777777777778,
              "#fb9f3a"
             ],
             [
              0.8888888888888888,
              "#fdca26"
             ],
             [
              1,
              "#f0f921"
             ]
            ],
            "type": "surface"
           }
          ],
          "table": [
           {
            "cells": {
             "fill": {
              "color": "#EBF0F8"
             },
             "line": {
              "color": "white"
             }
            },
            "header": {
             "fill": {
              "color": "#C8D4E3"
             },
             "line": {
              "color": "white"
             }
            },
            "type": "table"
           }
          ]
         },
         "layout": {
          "annotationdefaults": {
           "arrowcolor": "#2a3f5f",
           "arrowhead": 0,
           "arrowwidth": 1
          },
          "autotypenumbers": "strict",
          "coloraxis": {
           "colorbar": {
            "outlinewidth": 0,
            "ticks": ""
           }
          },
          "colorscale": {
           "diverging": [
            [
             0,
             "#8e0152"
            ],
            [
             0.1,
             "#c51b7d"
            ],
            [
             0.2,
             "#de77ae"
            ],
            [
             0.3,
             "#f1b6da"
            ],
            [
             0.4,
             "#fde0ef"
            ],
            [
             0.5,
             "#f7f7f7"
            ],
            [
             0.6,
             "#e6f5d0"
            ],
            [
             0.7,
             "#b8e186"
            ],
            [
             0.8,
             "#7fbc41"
            ],
            [
             0.9,
             "#4d9221"
            ],
            [
             1,
             "#276419"
            ]
           ],
           "sequential": [
            [
             0,
             "#0d0887"
            ],
            [
             0.1111111111111111,
             "#46039f"
            ],
            [
             0.2222222222222222,
             "#7201a8"
            ],
            [
             0.3333333333333333,
             "#9c179e"
            ],
            [
             0.4444444444444444,
             "#bd3786"
            ],
            [
             0.5555555555555556,
             "#d8576b"
            ],
            [
             0.6666666666666666,
             "#ed7953"
            ],
            [
             0.7777777777777778,
             "#fb9f3a"
            ],
            [
             0.8888888888888888,
             "#fdca26"
            ],
            [
             1,
             "#f0f921"
            ]
           ],
           "sequentialminus": [
            [
             0,
             "#0d0887"
            ],
            [
             0.1111111111111111,
             "#46039f"
            ],
            [
             0.2222222222222222,
             "#7201a8"
            ],
            [
             0.3333333333333333,
             "#9c179e"
            ],
            [
             0.4444444444444444,
             "#bd3786"
            ],
            [
             0.5555555555555556,
             "#d8576b"
            ],
            [
             0.6666666666666666,
             "#ed7953"
            ],
            [
             0.7777777777777778,
             "#fb9f3a"
            ],
            [
             0.8888888888888888,
             "#fdca26"
            ],
            [
             1,
             "#f0f921"
            ]
           ]
          },
          "colorway": [
           "#636efa",
           "#EF553B",
           "#00cc96",
           "#ab63fa",
           "#FFA15A",
           "#19d3f3",
           "#FF6692",
           "#B6E880",
           "#FF97FF",
           "#FECB52"
          ],
          "font": {
           "color": "#2a3f5f"
          },
          "geo": {
           "bgcolor": "white",
           "lakecolor": "white",
           "landcolor": "#E5ECF6",
           "showlakes": true,
           "showland": true,
           "subunitcolor": "white"
          },
          "hoverlabel": {
           "align": "left"
          },
          "hovermode": "closest",
          "mapbox": {
           "style": "light"
          },
          "paper_bgcolor": "white",
          "plot_bgcolor": "#E5ECF6",
          "polar": {
           "angularaxis": {
            "gridcolor": "white",
            "linecolor": "white",
            "ticks": ""
           },
           "bgcolor": "#E5ECF6",
           "radialaxis": {
            "gridcolor": "white",
            "linecolor": "white",
            "ticks": ""
           }
          },
          "scene": {
           "xaxis": {
            "backgroundcolor": "#E5ECF6",
            "gridcolor": "white",
            "gridwidth": 2,
            "linecolor": "white",
            "showbackground": true,
            "ticks": "",
            "zerolinecolor": "white"
           },
           "yaxis": {
            "backgroundcolor": "#E5ECF6",
            "gridcolor": "white",
            "gridwidth": 2,
            "linecolor": "white",
            "showbackground": true,
            "ticks": "",
            "zerolinecolor": "white"
           },
           "zaxis": {
            "backgroundcolor": "#E5ECF6",
            "gridcolor": "white",
            "gridwidth": 2,
            "linecolor": "white",
            "showbackground": true,
            "ticks": "",
            "zerolinecolor": "white"
           }
          },
          "shapedefaults": {
           "line": {
            "color": "#2a3f5f"
           }
          },
          "ternary": {
           "aaxis": {
            "gridcolor": "white",
            "linecolor": "white",
            "ticks": ""
           },
           "baxis": {
            "gridcolor": "white",
            "linecolor": "white",
            "ticks": ""
           },
           "bgcolor": "#E5ECF6",
           "caxis": {
            "gridcolor": "white",
            "linecolor": "white",
            "ticks": ""
           }
          },
          "title": {
           "x": 0.05
          },
          "xaxis": {
           "automargin": true,
           "gridcolor": "white",
           "linecolor": "white",
           "ticks": "",
           "title": {
            "standoff": 15
           },
           "zerolinecolor": "white",
           "zerolinewidth": 2
          },
          "yaxis": {
           "automargin": true,
           "gridcolor": "white",
           "linecolor": "white",
           "ticks": "",
           "title": {
            "standoff": 15
           },
           "zerolinecolor": "white",
           "zerolinewidth": 2
          }
         }
        },
        "xaxis": {
         "anchor": "y",
         "domain": [
          0,
          1
         ],
         "title": {
          "text": "Product Category"
         }
        },
        "yaxis": {
         "anchor": "x",
         "domain": [
          0,
          1
         ],
         "title": {
          "text": "Number of Reviews"
         }
        }
       }
      }
     },
     "metadata": {},
     "output_type": "display_data"
    }
   ],
   "source": [
    "# Plot\n",
    "fig = px.bar(avg_ratings, x = 'Product Category', \n",
    "             y = 'Number of Reviews',\n",
    "             hover_data = ['Average Review Ratings'], \n",
    "             color = 'Average Review Ratings',\n",
    "             height = 500)\n",
    "fig.show()"
   ]
  },
  {
   "cell_type": "markdown",
   "metadata": {},
   "source": [
    "### Pergunta 4.3 - Média de Avaliação Por Unidade da Federação do Usuário"
   ]
  },
  {
   "cell_type": "code",
   "execution_count": 39,
   "metadata": {},
   "outputs": [],
   "source": [
    "# Média de avaliação por estado do usuário\n",
    "avg_score_per_state = df2.groupby('customer_state', as_index = False).agg({'review_score': ['mean']})\n",
    "avg_score_per_state.columns = ['customer_state', 'Average Review Ratings']"
   ]
  },
  {
   "cell_type": "code",
   "execution_count": 40,
   "metadata": {},
   "outputs": [
    {
     "data": {
      "text/html": [
       "<div>\n",
       "<style scoped>\n",
       "    .dataframe tbody tr th:only-of-type {\n",
       "        vertical-align: middle;\n",
       "    }\n",
       "\n",
       "    .dataframe tbody tr th {\n",
       "        vertical-align: top;\n",
       "    }\n",
       "\n",
       "    .dataframe thead th {\n",
       "        text-align: right;\n",
       "    }\n",
       "</style>\n",
       "<table border=\"1\" class=\"dataframe\">\n",
       "  <thead>\n",
       "    <tr style=\"text-align: right;\">\n",
       "      <th></th>\n",
       "      <th>customer_state</th>\n",
       "      <th>Average Review Ratings</th>\n",
       "    </tr>\n",
       "  </thead>\n",
       "  <tbody>\n",
       "    <tr>\n",
       "      <th>0</th>\n",
       "      <td>AC</td>\n",
       "      <td>4.075269</td>\n",
       "    </tr>\n",
       "    <tr>\n",
       "      <th>1</th>\n",
       "      <td>AL</td>\n",
       "      <td>3.698690</td>\n",
       "    </tr>\n",
       "    <tr>\n",
       "      <th>2</th>\n",
       "      <td>AM</td>\n",
       "      <td>4.070588</td>\n",
       "    </tr>\n",
       "    <tr>\n",
       "      <th>3</th>\n",
       "      <td>AP</td>\n",
       "      <td>4.226190</td>\n",
       "    </tr>\n",
       "    <tr>\n",
       "      <th>4</th>\n",
       "      <td>BA</td>\n",
       "      <td>3.793691</td>\n",
       "    </tr>\n",
       "  </tbody>\n",
       "</table>\n",
       "</div>"
      ],
      "text/plain": [
       "  customer_state  Average Review Ratings\n",
       "0             AC                4.075269\n",
       "1             AL                3.698690\n",
       "2             AM                4.070588\n",
       "3             AP                4.226190\n",
       "4             BA                3.793691"
      ]
     },
     "execution_count": 40,
     "metadata": {},
     "output_type": "execute_result"
    }
   ],
   "source": [
    "avg_score_per_state.head()"
   ]
  },
  {
   "cell_type": "code",
   "execution_count": 41,
   "metadata": {},
   "outputs": [
    {
     "data": {
      "text/plain": [
       "(27, 2)"
      ]
     },
     "execution_count": 41,
     "metadata": {},
     "output_type": "execute_result"
    }
   ],
   "source": [
    "avg_score_per_state.shape"
   ]
  },
  {
   "cell_type": "code",
   "execution_count": 42,
   "metadata": {},
   "outputs": [],
   "source": [
    "# Ordena o resultado por média de avaliação\n",
    "avg_score_per_state = avg_score_per_state.sort_values(by = 'Average Review Ratings', ascending = True)"
   ]
  },
  {
   "cell_type": "code",
   "execution_count": 43,
   "metadata": {},
   "outputs": [
    {
     "data": {
      "image/png": "[encoded data removed]",
      "text/plain": [
       "<Figure size 1200x600 with 1 Axes>"
      ]
     },
     "metadata": {},
     "output_type": "display_data"
    }
   ],
   "source": [
    "# Plotando o gráfico de barras\n",
    "plt.figure(figsize = (12, 6))\n",
    "plt.barh(avg_score_per_state['customer_state'], avg_score_per_state['Average Review Ratings'], color = 'skyblue')\n",
    "plt.ylabel('Estado do Cliente')\n",
    "plt.xlabel('Média das Avaliações')\n",
    "plt.title('Média das Avaliações dos Clientes por Estado')\n",
    "plt.show()"
   ]
  },
  {
   "cell_type": "markdown",
   "metadata": {},
   "source": [
    "### Pergunta 4.4 - Nível de Satisfação do Cliente com Gauge Charts"
   ]
  },
  {
   "cell_type": "code",
   "execution_count": 44,
   "metadata": {},
   "outputs": [
    {
     "name": "stdout",
     "output_type": "stream",
     "text": [
      "<class 'pandas.core.frame.DataFrame'>\n",
      "RangeIndex: 116581 entries, 0 to 116580\n",
      "Data columns (total 64 columns):\n",
      " #   Column                         Non-Null Count   Dtype          \n",
      "---  ------                         --------------   -----          \n",
      " 0   order_id                       116581 non-null  object         \n",
      " 1   order_id3                      116581 non-null  object         \n",
      " 2   customer_id3                   116581 non-null  object         \n",
      " 3   order_status                   116581 non-null  object         \n",
      " 4   order_purchase_timestamp       116581 non-null  datetime64[ns] \n",
      " 5   order_approved_at              116581 non-null  datetime64[ns] \n",
      " 6   order_delivered_carrier_date   116581 non-null  datetime64[ns] \n",
      " 7   order_delivered_customer_date  116581 non-null  datetime64[ns] \n",
      " 8   order_estimated_delivery_date  116581 non-null  datetime64[ns] \n",
      " 9   order_item_id                  116581 non-null  float64        \n",
      " 10  product_id3                    116581 non-null  object         \n",
      " 11  seller_id3                     116581 non-null  object         \n",
      " 12  shipping_limit_date            116581 non-null  datetime64[ns] \n",
      " 13  price                          116581 non-null  float64        \n",
      " 14  freight_value                  116581 non-null  float64        \n",
      " 15  payment_sequential             116581 non-null  int64          \n",
      " 16  payment_type                   116581 non-null  object         \n",
      " 17  payment_installments           116581 non-null  int64          \n",
      " 18  payment_value                  116581 non-null  float64        \n",
      " 19  review_id                      116581 non-null  object         \n",
      " 20  review_id3                     116581 non-null  object         \n",
      " 21  review_score                   116581 non-null  float64        \n",
      " 22  review_comment_title           13996 non-null   object         \n",
      " 23  review_comment_message         49878 non-null   object         \n",
      " 24  review_creation_date           116578 non-null  datetime64[ns] \n",
      " 25  review_answer_timestamp        116578 non-null  datetime64[ns] \n",
      " 26  product_id                     116581 non-null  object         \n",
      " 27  product_category_name          116581 non-null  object         \n",
      " 28  product_name_lenght            116581 non-null  float64        \n",
      " 29  product_description_lenght     116581 non-null  float64        \n",
      " 30  product_photos_qty             116581 non-null  float64        \n",
      " 31  product_weight_g               116580 non-null  float64        \n",
      " 32  product_length_cm              116580 non-null  float64        \n",
      " 33  product_height_cm              116580 non-null  float64        \n",
      " 34  product_width_cm               116580 non-null  float64        \n",
      " 35  customer_id                    116581 non-null  int64          \n",
      " 36  customer_unique_id             116581 non-null  object         \n",
      " 37  customer_uniqueid3             116581 non-null  object         \n",
      " 38  customer_zip_code_prefix       116581 non-null  int64          \n",
      " 39  customer_city                  116581 non-null  object         \n",
      " 40  customer_state                 116581 non-null  object         \n",
      " 41  seller_id                      116581 non-null  object         \n",
      " 42  seller_zip_code_prefix         116581 non-null  int64          \n",
      " 43  seller_city                    116581 non-null  object         \n",
      " 44  seller_state                   116581 non-null  object         \n",
      " 45  product_category_name_english  116581 non-null  object         \n",
      " 46  review_response_time           116578 non-null  float64        \n",
      " 47  order_purchase_year            116581 non-null  int64          \n",
      " 48  order_purchase_month           116581 non-null  int64          \n",
      " 49  order_purchase_dayofweek       116581 non-null  int64          \n",
      " 50  order_purchase_hour            116581 non-null  int64          \n",
      " 51  order_purchase_day             116581 non-null  object         \n",
      " 52  order_purchase_mon             116581 non-null  object         \n",
      " 53  order_process_time             116581 non-null  timedelta64[ns]\n",
      " 54  order_delivery_time            116581 non-null  timedelta64[ns]\n",
      " 55  order_accuracy_time            116581 non-null  timedelta64[ns]\n",
      " 56  order_approved_time            116581 non-null  timedelta64[ns]\n",
      " 57  review_send_time               116578 non-null  timedelta64[ns]\n",
      " 58  review_answer_time             116578 non-null  timedelta64[ns]\n",
      " 59  product_volume                 116580 non-null  float64        \n",
      " 60  Month_order                    116581 non-null  object         \n",
      " 61  review_dayofweek               116578 non-null  float64        \n",
      " 62  review_day                     116578 non-null  object         \n",
      " 63  review_month                   116578 non-null  object         \n",
      "dtypes: datetime64[ns](8), float64(15), int64(9), object(26), timedelta64[ns](6)\n",
      "memory usage: 56.9+ MB\n"
     ]
    }
   ],
   "source": [
    "df2.info()"
   ]
  },
  {
   "cell_type": "code",
   "execution_count": 45,
   "metadata": {},
   "outputs": [],
   "source": [
    "# Média de avaliação por estado do usuário\n",
    "avg_score_per_user = df2.groupby('customer_id', as_index = False).agg({'review_score': ['mean']})\n",
    "avg_score_per_user.columns = ['customer_id', 'Average Review Ratings']"
   ]
  },
  {
   "cell_type": "code",
   "execution_count": 46,
   "metadata": {},
   "outputs": [
    {
     "data": {
      "text/html": [
       "<div>\n",
       "<style scoped>\n",
       "    .dataframe tbody tr th:only-of-type {\n",
       "        vertical-align: middle;\n",
       "    }\n",
       "\n",
       "    .dataframe tbody tr th {\n",
       "        vertical-align: top;\n",
       "    }\n",
       "\n",
       "    .dataframe thead th {\n",
       "        text-align: right;\n",
       "    }\n",
       "</style>\n",
       "<table border=\"1\" class=\"dataframe\">\n",
       "  <thead>\n",
       "    <tr style=\"text-align: right;\">\n",
       "      <th></th>\n",
       "      <th>customer_id</th>\n",
       "      <th>Average Review Ratings</th>\n",
       "    </tr>\n",
       "  </thead>\n",
       "  <tbody>\n",
       "    <tr>\n",
       "      <th>0</th>\n",
       "      <td>1</td>\n",
       "      <td>1.0</td>\n",
       "    </tr>\n",
       "    <tr>\n",
       "      <th>1</th>\n",
       "      <td>2</td>\n",
       "      <td>3.0</td>\n",
       "    </tr>\n",
       "    <tr>\n",
       "      <th>2</th>\n",
       "      <td>3</td>\n",
       "      <td>5.0</td>\n",
       "    </tr>\n",
       "    <tr>\n",
       "      <th>3</th>\n",
       "      <td>4</td>\n",
       "      <td>5.0</td>\n",
       "    </tr>\n",
       "    <tr>\n",
       "      <th>4</th>\n",
       "      <td>5</td>\n",
       "      <td>5.0</td>\n",
       "    </tr>\n",
       "  </tbody>\n",
       "</table>\n",
       "</div>"
      ],
      "text/plain": [
       "   customer_id  Average Review Ratings\n",
       "0            1                     1.0\n",
       "1            2                     3.0\n",
       "2            3                     5.0\n",
       "3            4                     5.0\n",
       "4            5                     5.0"
      ]
     },
     "execution_count": 46,
     "metadata": {},
     "output_type": "execute_result"
    }
   ],
   "source": [
    "avg_score_per_user.head()"
   ]
  },
  {
   "cell_type": "code",
   "execution_count": 47,
   "metadata": {},
   "outputs": [
    {
     "data": {
      "text/plain": [
       "(97255, 2)"
      ]
     },
     "execution_count": 47,
     "metadata": {},
     "output_type": "execute_result"
    }
   ],
   "source": [
    "avg_score_per_user.shape"
   ]
  },
  {
   "cell_type": "markdown",
   "metadata": {},
   "source": [
    "Seria inviável entregar um gráfico com esse volume de dados. Vamos simplificar os dados e observá-los por outra perspectiva."
   ]
  },
  {
   "cell_type": "code",
   "execution_count": 48,
   "metadata": {},
   "outputs": [
    {
     "data": {
      "text/plain": [
       "Average Review Ratings\n",
       "5.000000    56211\n",
       "4.000000    18760\n",
       "1.000000    10974\n",
       "3.000000     8091\n",
       "2.000000     3093\n",
       "4.500000       54\n",
       "2.500000       36\n",
       "3.500000       26\n",
       "1.500000        8\n",
       "3.333333        1\n",
       "4.333333        1\n",
       "Name: count, dtype: int64"
      ]
     },
     "execution_count": 48,
     "metadata": {},
     "output_type": "execute_result"
    }
   ],
   "source": [
    "avg_score_per_user['Average Review Ratings'].value_counts()"
   ]
  },
  {
   "cell_type": "code",
   "execution_count": 49,
   "metadata": {},
   "outputs": [],
   "source": [
    "# Função para separar as avaliações em 3 níveis\n",
    "def prep_label_review(row):\n",
    "    if row['Average Review Ratings'] > 3.0 :\n",
    "        return 'Satisfeito'\n",
    "    if row['Average Review Ratings'] < 3.0 :\n",
    "        return 'Insatisfeito'\n",
    "    if row['Average Review Ratings'] == 3.0 :\n",
    "        return 'Neutro'"
   ]
  },
  {
   "cell_type": "code",
   "execution_count": 50,
   "metadata": {},
   "outputs": [],
   "source": [
    "# Aplica a função\n",
    "avg_score_per_user['satprediction'] = avg_score_per_user.apply(lambda row: prep_label_review(row), axis = 1)"
   ]
  },
  {
   "cell_type": "code",
   "execution_count": 51,
   "metadata": {},
   "outputs": [],
   "source": [
    "# Contagem por elemento\n",
    "contagem_por_elemento = avg_score_per_user['satprediction'].value_counts()"
   ]
  },
  {
   "cell_type": "code",
   "execution_count": 52,
   "metadata": {},
   "outputs": [
    {
     "data": {
      "text/plain": [
       "satprediction\n",
       "Satisfeito      75053\n",
       "Insatisfeito    14111\n",
       "Neutro           8091\n",
       "Name: count, dtype: int64"
      ]
     },
     "execution_count": 52,
     "metadata": {},
     "output_type": "execute_result"
    }
   ],
   "source": [
    "contagem_por_elemento"
   ]
  },
  {
   "cell_type": "code",
   "execution_count": 53,
   "metadata": {},
   "outputs": [],
   "source": [
    "# Converte em tipo Series\n",
    "serie = pd.Series(contagem_por_elemento)"
   ]
  },
  {
   "cell_type": "code",
   "execution_count": 54,
   "metadata": {},
   "outputs": [],
   "source": [
    "a = serie.loc['Satisfeito']"
   ]
  },
  {
   "cell_type": "code",
   "execution_count": 55,
   "metadata": {},
   "outputs": [],
   "source": [
    "b = serie.loc['Insatisfeito']"
   ]
  },
  {
   "cell_type": "code",
   "execution_count": 56,
   "metadata": {},
   "outputs": [],
   "source": [
    "c = serie.loc['Neutro']"
   ]
  },
  {
   "cell_type": "code",
   "execution_count": 57,
   "metadata": {},
   "outputs": [],
   "source": [
    "# Calculas o percentual de satisfeitos em relação ao total\n",
    "percentual_satisfeito = (a / (a + b + c)) * 100"
   ]
  },
  {
   "cell_type": "code",
   "execution_count": 58,
   "metadata": {},
   "outputs": [
    {
     "data": {
      "text/plain": [
       "np.float64(77.17135365790962)"
      ]
     },
     "execution_count": 58,
     "metadata": {},
     "output_type": "execute_result"
    }
   ],
   "source": [
    "percentual_satisfeito"
   ]
  },
  {
   "cell_type": "code",
   "execution_count": 59,
   "metadata": {},
   "outputs": [
    {
     "data": {
      "application/vnd.plotly.v1+json": {
       "config": {
        "plotlyServerURL": "https://plot.ly"
       },
       "data": [
        {
         "delta": {
          "reference": 70
         },
         "domain": {
          "x": [
           0,
           1
          ],
          "y": [
           0,
           1
          ]
         },
         "gauge": {
          "axis": {
           "range": [
            null,
            100
           ]
          },
          "steps": [
           {
            "color": "lightgray",
            "range": [
             0,
             50
            ]
           },
           {
            "color": "gray",
            "range": [
             50,
             80
            ]
           }
          ],
          "threshold": {
           "line": {
            "color": "red",
            "width": 4
           },
           "thickness": 0.75,
           "value": 70
          }
         },
         "mode": "gauge+number+delta",
         "title": {
          "text": "Nível de Satisfação do Cliente\n"
         },
         "type": "indicator",
         "value": 77.17135365790962
        }
       ],
       "layout": {
        "template": {
         "data": {
          "bar": [
           {
            "error_x": {
             "color": "#2a3f5f"
            },
            "error_y": {
             "color": "#2a3f5f"
            },
            "marker": {
             "line": {
              "color": "#E5ECF6",
              "width": 0.5
             },
             "pattern": {
              "fillmode": "overlay",
              "size": 10,
              "solidity": 0.2
             }
            },
            "type": "bar"
           }
          ],
          "barpolar": [
           {
            "marker": {
             "line": {
              "color": "#E5ECF6",
              "width": 0.5
             },
             "pattern": {
              "fillmode": "overlay",
              "size": 10,
              "solidity": 0.2
             }
            },
            "type": "barpolar"
           }
          ],
          "carpet": [
           {
            "aaxis": {
             "endlinecolor": "#2a3f5f",
             "gridcolor": "white",
             "linecolor": "white",
             "minorgridcolor": "white",
             "startlinecolor": "#2a3f5f"
            },
            "baxis": {
             "endlinecolor": "#2a3f5f",
             "gridcolor": "white",
             "linecolor": "white",
             "minorgridcolor": "white",
             "startlinecolor": "#2a3f5f"
            },
            "type": "carpet"
           }
          ],
          "choropleth": [
           {
            "colorbar": {
             "outlinewidth": 0,
             "ticks": ""
            },
            "type": "choropleth"
           }
          ],
          "contour": [
           {
            "colorbar": {
             "outlinewidth": 0,
             "ticks": ""
            },
            "colorscale": [
             [
              0,
              "#0d0887"
             ],
             [
              0.1111111111111111,
              "#46039f"
             ],
             [
              0.2222222222222222,
              "#7201a8"
             ],
             [
              0.3333333333333333,
              "#9c179e"
             ],
             [
              0.4444444444444444,
              "#bd3786"
             ],
             [
              0.5555555555555556,
              "#d8576b"
             ],
             [
              0.6666666666666666,
              "#ed7953"
             ],
             [
              0.7777777777777778,
              "#fb9f3a"
             ],
             [
              0.8888888888888888,
              "#fdca26"
             ],
             [
              1,
              "#f0f921"
             ]
            ],
            "type": "contour"
           }
          ],
          "contourcarpet": [
           {
            "colorbar": {
             "outlinewidth": 0,
             "ticks": ""
            },
            "type": "contourcarpet"
           }
          ],
          "heatmap": [
           {
            "colorbar": {
             "outlinewidth": 0,
             "ticks": ""
            },
            "colorscale": [
             [
              0,
              "#0d0887"
             ],
             [
              0.1111111111111111,
              "#46039f"
             ],
             [
              0.2222222222222222,
              "#7201a8"
             ],
             [
              0.3333333333333333,
              "#9c179e"
             ],
             [
              0.4444444444444444,
              "#bd3786"
             ],
             [
              0.5555555555555556,
              "#d8576b"
             ],
             [
              0.6666666666666666,
              "#ed7953"
             ],
             [
              0.7777777777777778,
              "#fb9f3a"
             ],
             [
              0.8888888888888888,
              "#fdca26"
             ],
             [
              1,
              "#f0f921"
             ]
            ],
            "type": "heatmap"
           }
          ],
          "histogram": [
           {
            "marker": {
             "pattern": {
              "fillmode": "overlay",
              "size": 10,
              "solidity": 0.2
             }
            },
            "type": "histogram"
           }
          ],
          "histogram2d": [
           {
            "colorbar": {
             "outlinewidth": 0,
             "ticks": ""
            },
            "colorscale": [
             [
              0,
              "#0d0887"
             ],
             [
              0.1111111111111111,
              "#46039f"
             ],
             [
              0.2222222222222222,
              "#7201a8"
             ],
             [
              0.3333333333333333,
              "#9c179e"
             ],
             [
              0.4444444444444444,
              "#bd3786"
             ],
             [
              0.5555555555555556,
              "#d8576b"
             ],
             [
              0.6666666666666666,
              "#ed7953"
             ],
             [
              0.7777777777777778,
              "#fb9f3a"
             ],
             [
              0.8888888888888888,
              "#fdca26"
             ],
             [
              1,
              "#f0f921"
             ]
            ],
            "type": "histogram2d"
           }
          ],
          "histogram2dcontour": [
           {
            "colorbar": {
             "outlinewidth": 0,
             "ticks": ""
            },
            "colorscale": [
             [
              0,
              "#0d0887"
             ],
             [
              0.1111111111111111,
              "#46039f"
             ],
             [
              0.2222222222222222,
              "#7201a8"
             ],
             [
              0.3333333333333333,
              "#9c179e"
             ],
             [
              0.4444444444444444,
              "#bd3786"
             ],
             [
              0.5555555555555556,
              "#d8576b"
             ],
             [
              0.6666666666666666,
              "#ed7953"
             ],
             [
              0.7777777777777778,
              "#fb9f3a"
             ],
             [
              0.8888888888888888,
              "#fdca26"
             ],
             [
              1,
              "#f0f921"
             ]
            ],
            "type": "histogram2dcontour"
           }
          ],
          "mesh3d": [
           {
            "colorbar": {
             "outlinewidth": 0,
             "ticks": ""
            },
            "type": "mesh3d"
           }
          ],
          "parcoords": [
           {
            "line": {
             "colorbar": {
              "outlinewidth": 0,
              "ticks": ""
             }
            },
            "type": "parcoords"
           }
          ],
          "pie": [
           {
            "automargin": true,
            "type": "pie"
           }
          ],
          "scatter": [
           {
            "fillpattern": {
             "fillmode": "overlay",
             "size": 10,
             "solidity": 0.2
            },
            "type": "scatter"
           }
          ],
          "scatter3d": [
           {
            "line": {
             "colorbar": {
              "outlinewidth": 0,
              "ticks": ""
             }
            },
            "marker": {
             "colorbar": {
              "outlinewidth": 0,
              "ticks": ""
             }
            },
            "type": "scatter3d"
           }
          ],
          "scattercarpet": [
           {
            "marker": {
             "colorbar": {
              "outlinewidth": 0,
              "ticks": ""
             }
            },
            "type": "scattercarpet"
           }
          ],
          "scattergeo": [
           {
            "marker": {
             "colorbar": {
              "outlinewidth": 0,
              "ticks": ""
             }
            },
            "type": "scattergeo"
           }
          ],
          "scattergl": [
           {
            "marker": {
             "colorbar": {
              "outlinewidth": 0,
              "ticks": ""
             }
            },
            "type": "scattergl"
           }
          ],
          "scattermap": [
           {
            "marker": {
             "colorbar": {
              "outlinewidth": 0,
              "ticks": ""
             }
            },
            "type": "scattermap"
           }
          ],
          "scattermapbox": [
           {
            "marker": {
             "colorbar": {
              "outlinewidth": 0,
              "ticks": ""
             }
            },
            "type": "scattermapbox"
           }
          ],
          "scatterpolar": [
           {
            "marker": {
             "colorbar": {
              "outlinewidth": 0,
              "ticks": ""
             }
            },
            "type": "scatterpolar"
           }
          ],
          "scatterpolargl": [
           {
            "marker": {
             "colorbar": {
              "outlinewidth": 0,
              "ticks": ""
             }
            },
            "type": "scatterpolargl"
           }
          ],
          "scatterternary": [
           {
            "marker": {
             "colorbar": {
              "outlinewidth": 0,
              "ticks": ""
             }
            },
            "type": "scatterternary"
           }
          ],
          "surface": [
           {
            "colorbar": {
             "outlinewidth": 0,
             "ticks": ""
            },
            "colorscale": [
             [
              0,
              "#0d0887"
             ],
             [
              0.1111111111111111,
              "#46039f"
             ],
             [
              0.2222222222222222,
              "#7201a8"
             ],
             [
              0.3333333333333333,
              "#9c179e"
             ],
             [
              0.4444444444444444,
              "#bd3786"
             ],
             [
              0.5555555555555556,
              "#d8576b"
             ],
             [
              0.6666666666666666,
              "#ed7953"
             ],
             [
              0.7777777777777778,
              "#fb9f3a"
             ],
             [
              0.8888888888888888,
              "#fdca26"
             ],
             [
              1,
              "#f0f921"
             ]
            ],
            "type": "surface"
           }
          ],
          "table": [
           {
            "cells": {
             "fill": {
              "color": "#EBF0F8"
             },
             "line": {
              "color": "white"
             }
            },
            "header": {
             "fill": {
              "color": "#C8D4E3"
             },
             "line": {
              "color": "white"
             }
            },
            "type": "table"
           }
          ]
         },
         "layout": {
          "annotationdefaults": {
           "arrowcolor": "#2a3f5f",
           "arrowhead": 0,
           "arrowwidth": 1
          },
          "autotypenumbers": "strict",
          "coloraxis": {
           "colorbar": {
            "outlinewidth": 0,
            "ticks": ""
           }
          },
          "colorscale": {
           "diverging": [
            [
             0,
             "#8e0152"
            ],
            [
             0.1,
             "#c51b7d"
            ],
            [
             0.2,
             "#de77ae"
            ],
            [
             0.3,
             "#f1b6da"
            ],
            [
             0.4,
             "#fde0ef"
            ],
            [
             0.5,
             "#f7f7f7"
            ],
            [
             0.6,
             "#e6f5d0"
            ],
            [
             0.7,
             "#b8e186"
            ],
            [
             0.8,
             "#7fbc41"
            ],
            [
             0.9,
             "#4d9221"
            ],
            [
             1,
             "#276419"
            ]
           ],
           "sequential": [
            [
             0,
             "#0d0887"
            ],
            [
             0.1111111111111111,
             "#46039f"
            ],
            [
             0.2222222222222222,
             "#7201a8"
            ],
            [
             0.3333333333333333,
             "#9c179e"
            ],
            [
             0.4444444444444444,
             "#bd3786"
            ],
            [
             0.5555555555555556,
             "#d8576b"
            ],
            [
             0.6666666666666666,
             "#ed7953"
            ],
            [
             0.7777777777777778,
             "#fb9f3a"
            ],
            [
             0.8888888888888888,
             "#fdca26"
            ],
            [
             1,
             "#f0f921"
            ]
           ],
           "sequentialminus": [
            [
             0,
             "#0d0887"
            ],
            [
             0.1111111111111111,
             "#46039f"
            ],
            [
             0.2222222222222222,
             "#7201a8"
            ],
            [
             0.3333333333333333,
             "#9c179e"
            ],
            [
             0.4444444444444444,
             "#bd3786"
            ],
            [
             0.5555555555555556,
             "#d8576b"
            ],
            [
             0.6666666666666666,
             "#ed7953"
            ],
            [
             0.7777777777777778,
             "#fb9f3a"
            ],
            [
             0.8888888888888888,
             "#fdca26"
            ],
            [
             1,
             "#f0f921"
            ]
           ]
          },
          "colorway": [
           "#636efa",
           "#EF553B",
           "#00cc96",
           "#ab63fa",
           "#FFA15A",
           "#19d3f3",
           "#FF6692",
           "#B6E880",
           "#FF97FF",
           "#FECB52"
          ],
          "font": {
           "color": "#2a3f5f"
          },
          "geo": {
           "bgcolor": "white",
           "lakecolor": "white",
           "landcolor": "#E5ECF6",
           "showlakes": true,
           "showland": true,
           "subunitcolor": "white"
          },
          "hoverlabel": {
           "align": "left"
          },
          "hovermode": "closest",
          "mapbox": {
           "style": "light"
          },
          "paper_bgcolor": "white",
          "plot_bgcolor": "#E5ECF6",
          "polar": {
           "angularaxis": {
            "gridcolor": "white",
            "linecolor": "white",
            "ticks": ""
           },
           "bgcolor": "#E5ECF6",
           "radialaxis": {
            "gridcolor": "white",
            "linecolor": "white",
            "ticks": ""
           }
          },
          "scene": {
           "xaxis": {
            "backgroundcolor": "#E5ECF6",
            "gridcolor": "white",
            "gridwidth": 2,
            "linecolor": "white",
            "showbackground": true,
            "ticks": "",
            "zerolinecolor": "white"
           },
           "yaxis": {
            "backgroundcolor": "#E5ECF6",
            "gridcolor": "white",
            "gridwidth": 2,
            "linecolor": "white",
            "showbackground": true,
            "ticks": "",
            "zerolinecolor": "white"
           },
           "zaxis": {
            "backgroundcolor": "#E5ECF6",
            "gridcolor": "white",
            "gridwidth": 2,
            "linecolor": "white",
            "showbackground": true,
            "ticks": "",
            "zerolinecolor": "white"
           }
          },
          "shapedefaults": {
           "line": {
            "color": "#2a3f5f"
           }
          },
          "ternary": {
           "aaxis": {
            "gridcolor": "white",
            "linecolor": "white",
            "ticks": ""
           },
           "baxis": {
            "gridcolor": "white",
            "linecolor": "white",
            "ticks": ""
           },
           "bgcolor": "#E5ECF6",
           "caxis": {
            "gridcolor": "white",
            "linecolor": "white",
            "ticks": ""
           }
          },
          "title": {
           "x": 0.05
          },
          "xaxis": {
           "automargin": true,
           "gridcolor": "white",
           "linecolor": "white",
           "ticks": "",
           "title": {
            "standoff": 15
           },
           "zerolinecolor": "white",
           "zerolinewidth": 2
          },
          "yaxis": {
           "automargin": true,
           "gridcolor": "white",
           "linecolor": "white",
           "ticks": "",
           "title": {
            "standoff": 15
           },
           "zerolinecolor": "white",
           "zerolinewidth": 2
          }
         }
        }
       }
      }
     },
     "metadata": {},
     "output_type": "display_data"
    }
   ],
   "source": [
    "# Plot\n",
    "# Observe que usaremos como referência percentual de 70\n",
    "fig = go.Figure(go.Indicator(domain = {'x': [0, 1], 'y': [0, 1]},\n",
    "                             value = percentual_satisfeito,\n",
    "                             mode = \"gauge+number+delta\",\n",
    "                             title = {'text': \"Nível de Satisfação do Cliente\\n\"},\n",
    "                             delta = {'reference': 70},\n",
    "                             gauge = {'axis': {'range': [None, 100]}, 'steps' : [\n",
    "                                 {'range': [0, 50], 'color': \"lightgray\"},\n",
    "                                 {'range': [50, 80], 'color': \"gray\"}],\n",
    "                                      'threshold' : {'line': {'color': \"red\", 'width': 4}, \n",
    "                                                     'thickness': 0.75, 'value': 70}}))\n",
    "\n",
    "fig.show()"
   ]
  },
  {
   "cell_type": "markdown",
   "metadata": {},
   "source": [
    "## Cena 5 - Métricas Para Análise de Marketing"
   ]
  },
  {
   "cell_type": "markdown",
   "metadata": {},
   "source": [
    "### Pergunta 5.1 - Métricas Horizontais\n",
    "\n",
    "Métricas horizontais são indicadores de desempenho que se aplicam e são comparáveis ​​através de diferentes indústrias, produtos ou canais. Elas oferecem uma visão geral do desempenho e são úteis para benchmarking e comparações genéricas.\n",
    "\n",
    "Estas métricas são menos sobre os detalhes específicos de um produto, campanha ou indústria e mais sobre tendências e padrões gerais que podem ser observados em vários setores."
   ]
  },
  {
   "cell_type": "code",
   "execution_count": 60,
   "metadata": {},
   "outputs": [],
   "source": [
    "# Total de prepamento por ano\n",
    "total_rev_year = df2.groupby(['order_purchase_year'], as_index = False).payment_value.sum()"
   ]
  },
  {
   "cell_type": "code",
   "execution_count": 61,
   "metadata": {},
   "outputs": [
    {
     "data": {
      "text/html": [
       "<div>\n",
       "<style scoped>\n",
       "    .dataframe tbody tr th:only-of-type {\n",
       "        vertical-align: middle;\n",
       "    }\n",
       "\n",
       "    .dataframe tbody tr th {\n",
       "        vertical-align: top;\n",
       "    }\n",
       "\n",
       "    .dataframe thead th {\n",
       "        text-align: right;\n",
       "    }\n",
       "</style>\n",
       "<table border=\"1\" class=\"dataframe\">\n",
       "  <thead>\n",
       "    <tr style=\"text-align: right;\">\n",
       "      <th></th>\n",
       "      <th>order_purchase_year</th>\n",
       "      <th>payment_value</th>\n",
       "    </tr>\n",
       "  </thead>\n",
       "  <tbody>\n",
       "    <tr>\n",
       "      <th>0</th>\n",
       "      <td>2016</td>\n",
       "      <td>75044.76</td>\n",
       "    </tr>\n",
       "    <tr>\n",
       "      <th>1</th>\n",
       "      <td>2017</td>\n",
       "      <td>9080448.56</td>\n",
       "    </tr>\n",
       "    <tr>\n",
       "      <th>2</th>\n",
       "      <td>2018</td>\n",
       "      <td>11002557.43</td>\n",
       "    </tr>\n",
       "  </tbody>\n",
       "</table>\n",
       "</div>"
      ],
      "text/plain": [
       "   order_purchase_year  payment_value\n",
       "0                 2016       75044.76\n",
       "1                 2017     9080448.56\n",
       "2                 2018    11002557.43"
      ]
     },
     "execution_count": 61,
     "metadata": {},
     "output_type": "execute_result"
    }
   ],
   "source": [
    "total_rev_year"
   ]
  },
  {
   "cell_type": "code",
   "execution_count": 62,
   "metadata": {},
   "outputs": [
    {
     "data": {
      "text/html": [
       "<div>\n",
       "<style scoped>\n",
       "    .dataframe tbody tr th:only-of-type {\n",
       "        vertical-align: middle;\n",
       "    }\n",
       "\n",
       "    .dataframe tbody tr th {\n",
       "        vertical-align: top;\n",
       "    }\n",
       "\n",
       "    .dataframe thead th {\n",
       "        text-align: right;\n",
       "    }\n",
       "</style>\n",
       "<table border=\"1\" class=\"dataframe\">\n",
       "  <thead>\n",
       "    <tr style=\"text-align: right;\">\n",
       "      <th></th>\n",
       "      <th>order_purchase_year</th>\n",
       "      <th>order_id</th>\n",
       "    </tr>\n",
       "  </thead>\n",
       "  <tbody>\n",
       "    <tr>\n",
       "      <th>0</th>\n",
       "      <td>2016</td>\n",
       "      <td>309</td>\n",
       "    </tr>\n",
       "    <tr>\n",
       "      <th>1</th>\n",
       "      <td>2017</td>\n",
       "      <td>43788</td>\n",
       "    </tr>\n",
       "    <tr>\n",
       "      <th>2</th>\n",
       "      <td>2018</td>\n",
       "      <td>53158</td>\n",
       "    </tr>\n",
       "  </tbody>\n",
       "</table>\n",
       "</div>"
      ],
      "text/plain": [
       "   order_purchase_year  order_id\n",
       "0                 2016       309\n",
       "1                 2017     43788\n",
       "2                 2018     53158"
      ]
     },
     "execution_count": 62,
     "metadata": {},
     "output_type": "execute_result"
    }
   ],
   "source": [
    "# Busca os ids únicos de pedido\n",
    "total_orders = df2.groupby(['order_purchase_year'], as_index = False).order_id.nunique()\n",
    "total_orders"
   ]
  },
  {
   "cell_type": "code",
   "execution_count": 63,
   "metadata": {},
   "outputs": [
    {
     "data": {
      "text/plain": [
       "71"
      ]
     },
     "execution_count": 63,
     "metadata": {},
     "output_type": "execute_result"
    }
   ],
   "source": [
    "# Número único de categorias\n",
    "total_category = df2.product_category_name.nunique()\n",
    "total_category"
   ]
  },
  {
   "cell_type": "code",
   "execution_count": 64,
   "metadata": {},
   "outputs": [
    {
     "data": {
      "text/plain": [
       "94087"
      ]
     },
     "execution_count": 64,
     "metadata": {},
     "output_type": "execute_result"
    }
   ],
   "source": [
    "# Número único de clientes\n",
    "total_customers = df2.customer_unique_id.nunique()\n",
    "total_customers"
   ]
  },
  {
   "cell_type": "markdown",
   "metadata": {},
   "source": [
    "### Pergunta 5.2 - Métricas Verticais\n",
    "\n",
    "Métricas verticais são indicadores de desempenho específicos de uma indústria, nicho de mercado ou tipo de produto. Elas levam em consideração as peculiaridades e os requisitos únicos de determinados setores ou campanhas.\n",
    "\n",
    "Essas métricas aprofundam-se nos aspectos específicos e detalhados de uma indústria ou campanha, oferecendo insights mais precisos e relevantes para objetivos específicos."
   ]
  },
  {
   "cell_type": "code",
   "execution_count": 65,
   "metadata": {},
   "outputs": [],
   "source": [
    "# Filtra os dados de 2018 \n",
    "df5 = df_prep[df_prep.order_purchase_year == 2018]"
   ]
  },
  {
   "cell_type": "code",
   "execution_count": 66,
   "metadata": {},
   "outputs": [],
   "source": [
    "# Total de vendas por categoria\n",
    "sales_per_category = df5.groupby(['product_category_name_english'], as_index = False).payment_value.sum()\n",
    "sales_per_category = sales_per_category.sort_values(by = ['payment_value'], ascending = False)\n",
    "sales_per_category.columns = ['Product Category', 'Sales Revenue']"
   ]
  },
  {
   "cell_type": "code",
   "execution_count": 67,
   "metadata": {},
   "outputs": [],
   "source": [
    "# Filtra os top 20\n",
    "sales_per_category = sales_per_category[:20]"
   ]
  },
  {
   "cell_type": "code",
   "execution_count": 69,
   "metadata": {},
   "outputs": [],
   "source": [
    "# Labels e valores\n",
    "labels = sales_per_category['Product Category']\n",
    "values = sales_per_category['Sales Revenue']"
   ]
  },
  {
   "cell_type": "code",
   "execution_count": 70,
   "metadata": {},
   "outputs": [
    {
     "data": {
      "application/vnd.plotly.v1+json": {
       "config": {
        "plotlyServerURL": "https://plot.ly"
       },
       "data": [
        {
         "orientation": "h",
         "type": "bar",
         "x": {
          "bdata": "PQrXo3SZL0Fcj8J12AssQSlcj8LHFStBzczMzIwaKkGamZkZ5NYmQbgehest1SZB7FG4HnhjJUEAAAAAdr4bQWZmZmaWnBVBPQrXo/SbFUFI4XoUhMEUQcP1KFyENhJBmpmZmaD5EEE9CtejnqoMQVyPwvWCNgtBFa5H4eZ+CUEUrkfh8A8HQSlcj8LV3gZBH4XrUe6RBEH2KFyP3AQAQQ==",
          "dtype": "f8"
         },
         "y": [
          "health beauty",
          "bed bath table",
          "computers accessories",
          "watches gifts",
          "furniture decor",
          "sports leisure",
          "housewares",
          "auto",
          "garden tools",
          "office furniture",
          "baby",
          "cool stuff",
          "telephony",
          "perfumery",
          "toys",
          "construction tools construction",
          "stationery",
          "pet shop",
          "electronics",
          "musical instruments"
         ]
        }
       ],
       "layout": {
        "template": {
         "data": {
          "bar": [
           {
            "error_x": {
             "color": "#2a3f5f"
            },
            "error_y": {
             "color": "#2a3f5f"
            },
            "marker": {
             "line": {
              "color": "#E5ECF6",
              "width": 0.5
             },
             "pattern": {
              "fillmode": "overlay",
              "size": 10,
              "solidity": 0.2
             }
            },
            "type": "bar"
           }
          ],
          "barpolar": [
           {
            "marker": {
             "line": {
              "color": "#E5ECF6",
              "width": 0.5
             },
             "pattern": {
              "fillmode": "overlay",
              "size": 10,
              "solidity": 0.2
             }
            },
            "type": "barpolar"
           }
          ],
          "carpet": [
           {
            "aaxis": {
             "endlinecolor": "#2a3f5f",
             "gridcolor": "white",
             "linecolor": "white",
             "minorgridcolor": "white",
             "startlinecolor": "#2a3f5f"
            },
            "baxis": {
             "endlinecolor": "#2a3f5f",
             "gridcolor": "white",
             "linecolor": "white",
             "minorgridcolor": "white",
             "startlinecolor": "#2a3f5f"
            },
            "type": "carpet"
           }
          ],
          "choropleth": [
           {
            "colorbar": {
             "outlinewidth": 0,
             "ticks": ""
            },
            "type": "choropleth"
           }
          ],
          "contour": [
           {
            "colorbar": {
             "outlinewidth": 0,
             "ticks": ""
            },
            "colorscale": [
             [
              0,
              "#0d0887"
             ],
             [
              0.1111111111111111,
              "#46039f"
             ],
             [
              0.2222222222222222,
              "#7201a8"
             ],
             [
              0.3333333333333333,
              "#9c179e"
             ],
             [
              0.4444444444444444,
              "#bd3786"
             ],
             [
              0.5555555555555556,
              "#d8576b"
             ],
             [
              0.6666666666666666,
              "#ed7953"
             ],
             [
              0.7777777777777778,
              "#fb9f3a"
             ],
             [
              0.8888888888888888,
              "#fdca26"
             ],
             [
              1,
              "#f0f921"
             ]
            ],
            "type": "contour"
           }
          ],
          "contourcarpet": [
           {
            "colorbar": {
             "outlinewidth": 0,
             "ticks": ""
            },
            "type": "contourcarpet"
           }
          ],
          "heatmap": [
           {
            "colorbar": {
             "outlinewidth": 0,
             "ticks": ""
            },
            "colorscale": [
             [
              0,
              "#0d0887"
             ],
             [
              0.1111111111111111,
              "#46039f"
             ],
             [
              0.2222222222222222,
              "#7201a8"
             ],
             [
              0.3333333333333333,
              "#9c179e"
             ],
             [
              0.4444444444444444,
              "#bd3786"
             ],
             [
              0.5555555555555556,
              "#d8576b"
             ],
             [
              0.6666666666666666,
              "#ed7953"
             ],
             [
              0.7777777777777778,
              "#fb9f3a"
             ],
             [
              0.8888888888888888,
              "#fdca26"
             ],
             [
              1,
              "#f0f921"
             ]
            ],
            "type": "heatmap"
           }
          ],
          "histogram": [
           {
            "marker": {
             "pattern": {
              "fillmode": "overlay",
              "size": 10,
              "solidity": 0.2
             }
            },
            "type": "histogram"
           }
          ],
          "histogram2d": [
           {
            "colorbar": {
             "outlinewidth": 0,
             "ticks": ""
            },
            "colorscale": [
             [
              0,
              "#0d0887"
             ],
             [
              0.1111111111111111,
              "#46039f"
             ],
             [
              0.2222222222222222,
              "#7201a8"
             ],
             [
              0.3333333333333333,
              "#9c179e"
             ],
             [
              0.4444444444444444,
              "#bd3786"
             ],
             [
              0.5555555555555556,
              "#d8576b"
             ],
             [
              0.6666666666666666,
              "#ed7953"
             ],
             [
              0.7777777777777778,
              "#fb9f3a"
             ],
             [
              0.8888888888888888,
              "#fdca26"
             ],
             [
              1,
              "#f0f921"
             ]
            ],
            "type": "histogram2d"
           }
          ],
          "histogram2dcontour": [
           {
            "colorbar": {
             "outlinewidth": 0,
             "ticks": ""
            },
            "colorscale": [
             [
              0,
              "#0d0887"
             ],
             [
              0.1111111111111111,
              "#46039f"
             ],
             [
              0.2222222222222222,
              "#7201a8"
             ],
             [
              0.3333333333333333,
              "#9c179e"
             ],
             [
              0.4444444444444444,
              "#bd3786"
             ],
             [
              0.5555555555555556,
              "#d8576b"
             ],
             [
              0.6666666666666666,
              "#ed7953"
             ],
             [
              0.7777777777777778,
              "#fb9f3a"
             ],
             [
              0.8888888888888888,
              "#fdca26"
             ],
             [
              1,
              "#f0f921"
             ]
            ],
            "type": "histogram2dcontour"
           }
          ],
          "mesh3d": [
           {
            "colorbar": {
             "outlinewidth": 0,
             "ticks": ""
            },
            "type": "mesh3d"
           }
          ],
          "parcoords": [
           {
            "line": {
             "colorbar": {
              "outlinewidth": 0,
              "ticks": ""
             }
            },
            "type": "parcoords"
           }
          ],
          "pie": [
           {
            "automargin": true,
            "type": "pie"
           }
          ],
          "scatter": [
           {
            "fillpattern": {
             "fillmode": "overlay",
             "size": 10,
             "solidity": 0.2
            },
            "type": "scatter"
           }
          ],
          "scatter3d": [
           {
            "line": {
             "colorbar": {
              "outlinewidth": 0,
              "ticks": ""
             }
            },
            "marker": {
             "colorbar": {
              "outlinewidth": 0,
              "ticks": ""
             }
            },
            "type": "scatter3d"
           }
          ],
          "scattercarpet": [
           {
            "marker": {
             "colorbar": {
              "outlinewidth": 0,
              "ticks": ""
             }
            },
            "type": "scattercarpet"
           }
          ],
          "scattergeo": [
           {
            "marker": {
             "colorbar": {
              "outlinewidth": 0,
              "ticks": ""
             }
            },
            "type": "scattergeo"
           }
          ],
          "scattergl": [
           {
            "marker": {
             "colorbar": {
              "outlinewidth": 0,
              "ticks": ""
             }
            },
            "type": "scattergl"
           }
          ],
          "scattermap": [
           {
            "marker": {
             "colorbar": {
              "outlinewidth": 0,
              "ticks": ""
             }
            },
            "type": "scattermap"
           }
          ],
          "scattermapbox": [
           {
            "marker": {
             "colorbar": {
              "outlinewidth": 0,
              "ticks": ""
             }
            },
            "type": "scattermapbox"
           }
          ],
          "scatterpolar": [
           {
            "marker": {
             "colorbar": {
              "outlinewidth": 0,
              "ticks": ""
             }
            },
            "type": "scatterpolar"
           }
          ],
          "scatterpolargl": [
           {
            "marker": {
             "colorbar": {
              "outlinewidth": 0,
              "ticks": ""
             }
            },
            "type": "scatterpolargl"
           }
          ],
          "scatterternary": [
           {
            "marker": {
             "colorbar": {
              "outlinewidth": 0,
              "ticks": ""
             }
            },
            "type": "scatterternary"
           }
          ],
          "surface": [
           {
            "colorbar": {
             "outlinewidth": 0,
             "ticks": ""
            },
            "colorscale": [
             [
              0,
              "#0d0887"
             ],
             [
              0.1111111111111111,
              "#46039f"
             ],
             [
              0.2222222222222222,
              "#7201a8"
             ],
             [
              0.3333333333333333,
              "#9c179e"
             ],
             [
              0.4444444444444444,
              "#bd3786"
             ],
             [
              0.5555555555555556,
              "#d8576b"
             ],
             [
              0.6666666666666666,
              "#ed7953"
             ],
             [
              0.7777777777777778,
              "#fb9f3a"
             ],
             [
              0.8888888888888888,
              "#fdca26"
             ],
             [
              1,
              "#f0f921"
             ]
            ],
            "type": "surface"
           }
          ],
          "table": [
           {
            "cells": {
             "fill": {
              "color": "#EBF0F8"
             },
             "line": {
              "color": "white"
             }
            },
            "header": {
             "fill": {
              "color": "#C8D4E3"
             },
             "line": {
              "color": "white"
             }
            },
            "type": "table"
           }
          ]
         },
         "layout": {
          "annotationdefaults": {
           "arrowcolor": "#2a3f5f",
           "arrowhead": 0,
           "arrowwidth": 1
          },
          "autotypenumbers": "strict",
          "coloraxis": {
           "colorbar": {
            "outlinewidth": 0,
            "ticks": ""
           }
          },
          "colorscale": {
           "diverging": [
            [
             0,
             "#8e0152"
            ],
            [
             0.1,
             "#c51b7d"
            ],
            [
             0.2,
             "#de77ae"
            ],
            [
             0.3,
             "#f1b6da"
            ],
            [
             0.4,
             "#fde0ef"
            ],
            [
             0.5,
             "#f7f7f7"
            ],
            [
             0.6,
             "#e6f5d0"
            ],
            [
             0.7,
             "#b8e186"
            ],
            [
             0.8,
             "#7fbc41"
            ],
            [
             0.9,
             "#4d9221"
            ],
            [
             1,
             "#276419"
            ]
           ],
           "sequential": [
            [
             0,
             "#0d0887"
            ],
            [
             0.1111111111111111,
             "#46039f"
            ],
            [
             0.2222222222222222,
             "#7201a8"
            ],
            [
             0.3333333333333333,
             "#9c179e"
            ],
            [
             0.4444444444444444,
             "#bd3786"
            ],
            [
             0.5555555555555556,
             "#d8576b"
            ],
            [
             0.6666666666666666,
             "#ed7953"
            ],
            [
             0.7777777777777778,
             "#fb9f3a"
            ],
            [
             0.8888888888888888,
             "#fdca26"
            ],
            [
             1,
             "#f0f921"
            ]
           ],
           "sequentialminus": [
            [
             0,
             "#0d0887"
            ],
            [
             0.1111111111111111,
             "#46039f"
            ],
            [
             0.2222222222222222,
             "#7201a8"
            ],
            [
             0.3333333333333333,
             "#9c179e"
            ],
            [
             0.4444444444444444,
             "#bd3786"
            ],
            [
             0.5555555555555556,
             "#d8576b"
            ],
            [
             0.6666666666666666,
             "#ed7953"
            ],
            [
             0.7777777777777778,
             "#fb9f3a"
            ],
            [
             0.8888888888888888,
             "#fdca26"
            ],
            [
             1,
             "#f0f921"
            ]
           ]
          },
          "colorway": [
           "#636efa",
           "#EF553B",
           "#00cc96",
           "#ab63fa",
           "#FFA15A",
           "#19d3f3",
           "#FF6692",
           "#B6E880",
           "#FF97FF",
           "#FECB52"
          ],
          "font": {
           "color": "#2a3f5f"
          },
          "geo": {
           "bgcolor": "white",
           "lakecolor": "white",
           "landcolor": "#E5ECF6",
           "showlakes": true,
           "showland": true,
           "subunitcolor": "white"
          },
          "hoverlabel": {
           "align": "left"
          },
          "hovermode": "closest",
          "mapbox": {
           "style": "light"
          },
          "paper_bgcolor": "white",
          "plot_bgcolor": "#E5ECF6",
          "polar": {
           "angularaxis": {
            "gridcolor": "white",
            "linecolor": "white",
            "ticks": ""
           },
           "bgcolor": "#E5ECF6",
           "radialaxis": {
            "gridcolor": "white",
            "linecolor": "white",
            "ticks": ""
           }
          },
          "scene": {
           "xaxis": {
            "backgroundcolor": "#E5ECF6",
            "gridcolor": "white",
            "gridwidth": 2,
            "linecolor": "white",
            "showbackground": true,
            "ticks": "",
            "zerolinecolor": "white"
           },
           "yaxis": {
            "backgroundcolor": "#E5ECF6",
            "gridcolor": "white",
            "gridwidth": 2,
            "linecolor": "white",
            "showbackground": true,
            "ticks": "",
            "zerolinecolor": "white"
           },
           "zaxis": {
            "backgroundcolor": "#E5ECF6",
            "gridcolor": "white",
            "gridwidth": 2,
            "linecolor": "white",
            "showbackground": true,
            "ticks": "",
            "zerolinecolor": "white"
           }
          },
          "shapedefaults": {
           "line": {
            "color": "#2a3f5f"
           }
          },
          "ternary": {
           "aaxis": {
            "gridcolor": "white",
            "linecolor": "white",
            "ticks": ""
           },
           "baxis": {
            "gridcolor": "white",
            "linecolor": "white",
            "ticks": ""
           },
           "bgcolor": "#E5ECF6",
           "caxis": {
            "gridcolor": "white",
            "linecolor": "white",
            "ticks": ""
           }
          },
          "title": {
           "x": 0.05
          },
          "xaxis": {
           "automargin": true,
           "gridcolor": "white",
           "linecolor": "white",
           "ticks": "",
           "title": {
            "standoff": 15
           },
           "zerolinecolor": "white",
           "zerolinewidth": 2
          },
          "yaxis": {
           "automargin": true,
           "gridcolor": "white",
           "linecolor": "white",
           "ticks": "",
           "title": {
            "standoff": 15
           },
           "zerolinecolor": "white",
           "zerolinewidth": 2
          }
         }
        },
        "title": {
         "text": "Total de Vendas por Categoria em 2018"
        },
        "xaxis": {
         "title": {
          "text": "Receita de Vendas"
         }
        },
        "yaxis": {
         "categoryorder": "total ascending",
         "title": {
          "text": "Categoria do Produto"
         }
        }
       }
      }
     },
     "metadata": {},
     "output_type": "display_data"
    }
   ],
   "source": [
    "# Cria o gráfico de barras horizontais\n",
    "fig = go.Figure(data = [go.Bar(x = values, y = labels, orientation = 'h')])\n",
    "\n",
    "# Adiciona título e rótulos aos eixos\n",
    "fig.update_layout(title = 'Total de Vendas por Categoria em 2018',\n",
    "                  xaxis_title = 'Receita de Vendas',\n",
    "                  yaxis_title = 'Categoria do Produto',\n",
    "                  yaxis = {'categoryorder':'total ascending'})  # Ordena as barras pela receita\n",
    "\n",
    "# Exibe o gráfico\n",
    "fig.show()"
   ]
  },
  {
   "cell_type": "markdown",
   "metadata": {},
   "source": [
    "### Pergunta 5.3 - Receita de Vendas Por Categoria, Por Ano e Por Mês - Trabalhando com 4 Dimensões"
   ]
  },
  {
   "cell_type": "code",
   "execution_count": 71,
   "metadata": {},
   "outputs": [],
   "source": [
    "# Vendas por categorias ao longo dos anos\n",
    "total_rev = df_prep.groupby(['order_purchase_year', \n",
    "                            'order_purchase_mon', \n",
    "                            'product_category_name_english'], as_index = False).payment_value.sum()"
   ]
  },
  {
   "cell_type": "code",
   "execution_count": 72,
   "metadata": {},
   "outputs": [],
   "source": [
    "# Ajusta os nomes das colunas\n",
    "total_rev.columns = ['Sales Year', 'Sales Month', 'Product Category', 'Sales Revenue']"
   ]
  },
  {
   "cell_type": "code",
   "execution_count": 73,
   "metadata": {},
   "outputs": [
    {
     "data": {
      "text/html": [
       "<div>\n",
       "<style scoped>\n",
       "    .dataframe tbody tr th:only-of-type {\n",
       "        vertical-align: middle;\n",
       "    }\n",
       "\n",
       "    .dataframe tbody tr th {\n",
       "        vertical-align: top;\n",
       "    }\n",
       "\n",
       "    .dataframe thead th {\n",
       "        text-align: right;\n",
       "    }\n",
       "</style>\n",
       "<table border=\"1\" class=\"dataframe\">\n",
       "  <thead>\n",
       "    <tr style=\"text-align: right;\">\n",
       "      <th></th>\n",
       "      <th>Sales Year</th>\n",
       "      <th>Sales Month</th>\n",
       "      <th>Product Category</th>\n",
       "      <th>Sales Revenue</th>\n",
       "    </tr>\n",
       "  </thead>\n",
       "  <tbody>\n",
       "    <tr>\n",
       "      <th>0</th>\n",
       "      <td>2016</td>\n",
       "      <td>Dec</td>\n",
       "      <td>fashion bags accessories</td>\n",
       "      <td>19.62</td>\n",
       "    </tr>\n",
       "    <tr>\n",
       "      <th>1</th>\n",
       "      <td>2016</td>\n",
       "      <td>Oct</td>\n",
       "      <td>air conditioning</td>\n",
       "      <td>4675.43</td>\n",
       "    </tr>\n",
       "    <tr>\n",
       "      <th>2</th>\n",
       "      <td>2016</td>\n",
       "      <td>Oct</td>\n",
       "      <td>audio</td>\n",
       "      <td>183.03</td>\n",
       "    </tr>\n",
       "    <tr>\n",
       "      <th>3</th>\n",
       "      <td>2016</td>\n",
       "      <td>Oct</td>\n",
       "      <td>auto</td>\n",
       "      <td>2716.70</td>\n",
       "    </tr>\n",
       "    <tr>\n",
       "      <th>4</th>\n",
       "      <td>2016</td>\n",
       "      <td>Oct</td>\n",
       "      <td>baby</td>\n",
       "      <td>2344.43</td>\n",
       "    </tr>\n",
       "  </tbody>\n",
       "</table>\n",
       "</div>"
      ],
      "text/plain": [
       "   Sales Year Sales Month          Product Category  Sales Revenue\n",
       "0        2016         Dec  fashion bags accessories          19.62\n",
       "1        2016         Oct          air conditioning        4675.43\n",
       "2        2016         Oct                     audio         183.03\n",
       "3        2016         Oct                      auto        2716.70\n",
       "4        2016         Oct                      baby        2344.43"
      ]
     },
     "execution_count": 73,
     "metadata": {},
     "output_type": "execute_result"
    }
   ],
   "source": [
    "total_rev.head()"
   ]
  },
  {
   "cell_type": "code",
   "execution_count": 74,
   "metadata": {},
   "outputs": [
    {
     "data": {
      "application/vnd.plotly.v1+json": {
       "config": {
        "plotlyServerURL": "https://plot.ly"
       },
       "data": [
        {
         "branchvalues": "total",
         "customdata": {
          "bdata": "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",
          "dtype": "f8",
          "shape": "1427, 1"
         },
         "domain": {
          "x": [
           0,
           1
          ],
          "y": [
           0,
           1
          ]
         },
         "hovertemplate": "labels=%{label}<br>Sales Revenue_sum=%{value}<br>parent=%{parent}<br>id=%{id}<br>Sales Revenue=%{color}<extra></extra>",
         "ids": [
          "2016/fashion bags accessories/Dec",
          "2016/air conditioning/Oct",
          "2016/audio/Oct",
          "2016/auto/Oct",
          "2016/baby/Oct",
          "2016/bed bath table/Oct",
          "2016/books general interest/Oct",
          "2016/books technical/Oct",
          "2016/computers accessories/Oct",
          "2016/consoles games/Oct",
          "2016/cool stuff/Oct",
          "2016/diapers and hygiene/Oct",
          "2016/electronics/Oct",
          "2016/fashio female clothing/Oct",
          "2016/fashion bags accessories/Oct",
          "2016/fashion male clothing/Oct",
          "2016/fashion shoes/Oct",
          "2016/fixed telephony/Oct",
          "2016/food/Oct",
          "2016/furniture decor/Oct",
          "2016/garden tools/Oct",
          "2016/health beauty/Oct",
          "2016/housewares/Oct",
          "2016/industry commerce and business/Oct",
          "2016/market place/Oct",
          "2016/office furniture/Oct",
          "2016/perfumery/Oct",
          "2016/pet shop/Oct",
          "2016/sports leisure/Oct",
          "2016/telephony/Oct",
          "2016/toys/Oct",
          "2016/watches gifts/Oct",
          "2016/furniture decor/Sep",
          "2016/telephony/Sep",
          "2017/air conditioning/Apr",
          "2017/art/Apr",
          "2017/audio/Apr",
          "2017/auto/Apr",
          "2017/baby/Apr",
          "2017/bed bath table/Apr",
          "2017/books general interest/Apr",
          "2017/books imported/Apr",
          "2017/books technical/Apr",
          "2017/christmas supplies/Apr",
          "2017/cine photo/Apr",
          "2017/computers accessories/Apr",
          "2017/consoles games/Apr",
          "2017/cool stuff/Apr",
          "2017/costruction tools garden/Apr",
          "2017/costruction tools tools/Apr",
          "2017/drinks/Apr",
          "2017/dvds blu ray/Apr",
          "2017/electronics/Apr",
          "2017/fashio female clothing/Apr",
          "2017/fashion bags accessories/Apr",
          "2017/fashion male clothing/Apr",
          "2017/fashion shoes/Apr",
          "2017/fashion sport/Apr",
          "2017/fashion underwear beach/Apr",
          "2017/fixed telephony/Apr",
          "2017/food/Apr",
          "2017/food drink/Apr",
          "2017/furniture bedroom/Apr",
          "2017/furniture decor/Apr",
          "2017/furniture living room/Apr",
          "2017/furniture mattress and upholstery/Apr",
          "2017/garden tools/Apr",
          "2017/health beauty/Apr",
          "2017/home appliances/Apr",
          "2017/home appliances 2/Apr",
          "2017/home comfort 2/Apr",
          "2017/home confort/Apr",
          "2017/home construction/Apr",
          "2017/housewares/Apr",
          "2017/kitchen dining laundry garden furniture/Apr",
          "2017/la cuisine/Apr",
          "2017/luggage accessories/Apr",
          "2017/market place/Apr",
          "2017/music/Apr",
          "2017/musical instruments/Apr",
          "2017/office furniture/Apr",
          "2017/perfumery/Apr",
          "2017/pet shop/Apr",
          "2017/signaling and security/Apr",
          "2017/small appliances/Apr",
          "2017/sports leisure/Apr",
          "2017/stationery/Apr",
          "2017/tablets printing image/Apr",
          "2017/telephony/Apr",
          "2017/toys/Apr",
          "2017/watches gifts/Apr",
          "2017/agro industry and commerce/Aug",
          "2017/air conditioning/Aug",
          "2017/art/Aug",
          "2017/audio/Aug",
          "2017/auto/Aug",
          "2017/baby/Aug",
          "2017/bed bath table/Aug",
          "2017/books general interest/Aug",
          "2017/books imported/Aug",
          "2017/books technical/Aug",
          "2017/cds dvds musicals/Aug",
          "2017/christmas supplies/Aug",
          "2017/computers/Aug",
          "2017/computers accessories/Aug",
          "2017/consoles games/Aug",
          "2017/construction tools construction/Aug",
          "2017/construction tools lights/Aug",
          "2017/construction tools safety/Aug",
          "2017/cool stuff/Aug",
          "2017/costruction tools garden/Aug",
          "2017/drinks/Aug",
          "2017/dvds blu ray/Aug",
          "2017/electronics/Aug",
          "2017/fashio female clothing/Aug",
          "2017/fashion bags accessories/Aug",
          "2017/fashion childrens clothes/Aug",
          "2017/fashion male clothing/Aug",
          "2017/fashion shoes/Aug",
          "2017/fashion sport/Aug",
          "2017/fashion underwear beach/Aug",
          "2017/fixed telephony/Aug",
          "2017/food/Aug",
          "2017/food drink/Aug",
          "2017/furniture bedroom/Aug",
          "2017/furniture decor/Aug",
          "2017/furniture living room/Aug",
          "2017/furniture mattress and upholstery/Aug",
          "2017/garden tools/Aug",
          "2017/health beauty/Aug",
          "2017/home appliances/Aug",
          "2017/home appliances 2/Aug",
          "2017/home comfort 2/Aug",
          "2017/home confort/Aug",
          "2017/home construction/Aug",
          "2017/housewares/Aug",
          "2017/industry commerce and business/Aug",
          "2017/kitchen dining laundry garden furniture/Aug",
          "2017/la cuisine/Aug",
          "2017/luggage accessories/Aug",
          "2017/market place/Aug",
          "2017/musical instruments/Aug",
          "2017/office furniture/Aug",
          "2017/perfumery/Aug",
          "2017/pet shop/Aug",
          "2017/signaling and security/Aug",
          "2017/small appliances/Aug",
          "2017/small appliances home oven and coffee/Aug",
          "2017/sports leisure/Aug",
          "2017/stationery/Aug",
          "2017/tablets printing image/Aug",
          "2017/telephony/Aug",
          "2017/toys/Aug",
          "2017/watches gifts/Aug",
          "2017/agro industry and commerce/Dec",
          "2017/air conditioning/Dec",
          "2017/art/Dec",
          "2017/audio/Dec",
          "2017/auto/Dec",
          "2017/baby/Dec",
          "2017/bed bath table/Dec",
          "2017/books general interest/Dec",
          "2017/books imported/Dec",
          "2017/books technical/Dec",
          "2017/cds dvds musicals/Dec",
          "2017/christmas supplies/Dec",
          "2017/computers/Dec",
          "2017/computers accessories/Dec",
          "2017/consoles games/Dec",
          "2017/construction tools construction/Dec",
          "2017/construction tools lights/Dec",
          "2017/construction tools safety/Dec",
          "2017/cool stuff/Dec",
          "2017/costruction tools garden/Dec",
          "2017/costruction tools tools/Dec",
          "2017/diapers and hygiene/Dec",
          "2017/drinks/Dec",
          "2017/dvds blu ray/Dec",
          "2017/electronics/Dec",
          "2017/fashion bags accessories/Dec",
          "2017/fashion male clothing/Dec",
          "2017/fashion shoes/Dec",
          "2017/fashion sport/Dec",
          "2017/fashion underwear beach/Dec",
          "2017/fixed telephony/Dec",
          "2017/flowers/Dec",
          "2017/food/Dec",
          "2017/food drink/Dec",
          "2017/furniture bedroom/Dec",
          "2017/furniture decor/Dec",
          "2017/furniture living room/Dec",
          "2017/furniture mattress and upholstery/Dec",
          "2017/garden tools/Dec",
          "2017/health beauty/Dec",
          "2017/home appliances/Dec",
          "2017/home appliances 2/Dec",
          "2017/home confort/Dec",
          "2017/home construction/Dec",
          "2017/housewares/Dec",
          "2017/industry commerce and business/Dec",
          "2017/kitchen dining laundry garden furniture/Dec",
          "2017/luggage accessories/Dec",
          "2017/market place/Dec",
          "2017/musical instruments/Dec",
          "2017/office furniture/Dec",
          "2017/party supplies/Dec",
          "2017/perfumery/Dec",
          "2017/pet shop/Dec",
          "2017/signaling and security/Dec",
          "2017/small appliances/Dec",
          "2017/sports leisure/Dec",
          "2017/stationery/Dec",
          "2017/tablets printing image/Dec",
          "2017/telephony/Dec",
          "2017/toys/Dec",
          "2017/watches gifts/Dec",
          "2017/agro industry and commerce/Feb",
          "2017/air conditioning/Feb",
          "2017/audio/Feb",
          "2017/auto/Feb",
          "2017/baby/Feb",
          "2017/bed bath table/Feb",
          "2017/books general interest/Feb",
          "2017/books imported/Feb",
          "2017/books technical/Feb",
          "2017/cine photo/Feb",
          "2017/computers/Feb",
          "2017/computers accessories/Feb",
          "2017/consoles games/Feb",
          "2017/construction tools construction/Feb",
          "2017/construction tools safety/Feb",
          "2017/cool stuff/Feb",
          "2017/costruction tools garden/Feb",
          "2017/dvds blu ray/Feb",
          "2017/electronics/Feb",
          "2017/fashio female clothing/Feb",
          "2017/fashion bags accessories/Feb",
          "2017/fashion male clothing/Feb",
          "2017/fashion shoes/Feb",
          "2017/fashion underwear beach/Feb",
          "2017/fixed telephony/Feb",
          "2017/food/Feb",
          "2017/furniture bedroom/Feb",
          "2017/furniture decor/Feb",
          "2017/furniture living room/Feb",
          "2017/garden tools/Feb",
          "2017/health beauty/Feb",
          "2017/home appliances/Feb",
          "2017/home appliances 2/Feb",
          "2017/home confort/Feb",
          "2017/home construction/Feb",
          "2017/housewares/Feb",
          "2017/industry commerce and business/Feb",
          "2017/kitchen dining laundry garden furniture/Feb",
          "2017/luggage accessories/Feb",
          "2017/market place/Feb",
          "2017/musical instruments/Feb",
          "2017/office furniture/Feb",
          "2017/perfumery/Feb",
          "2017/pet shop/Feb",
          "2017/small appliances/Feb",
          "2017/sports leisure/Feb",
          "2017/stationery/Feb",
          "2017/tablets printing image/Feb",
          "2017/telephony/Feb",
          "2017/toys/Feb",
          "2017/watches gifts/Feb",
          "2017/agro industry and commerce/Jan",
          "2017/air conditioning/Jan",
          "2017/auto/Jan",
          "2017/baby/Jan",
          "2017/bed bath table/Jan",
          "2017/books general interest/Jan",
          "2017/computers/Jan",
          "2017/computers accessories/Jan",
          "2017/consoles games/Jan",
          "2017/construction tools construction/Jan",
          "2017/cool stuff/Jan",
          "2017/dvds blu ray/Jan",
          "2017/electronics/Jan",
          "2017/fashio female clothing/Jan",
          "2017/fashion bags accessories/Jan",
          "2017/fashion male clothing/Jan",
          "2017/fashion shoes/Jan",
          "2017/fashion underwear beach/Jan",
          "2017/fixed telephony/Jan",
          "2017/food/Jan",
          "2017/furniture bedroom/Jan",
          "2017/furniture decor/Jan",
          "2017/furniture living room/Jan",
          "2017/garden tools/Jan",
          "2017/health beauty/Jan",
          "2017/home appliances 2/Jan",
          "2017/home comfort 2/Jan",
          "2017/housewares/Jan",
          "2017/kitchen dining laundry garden furniture/Jan",
          "2017/luggage accessories/Jan",
          "2017/market place/Jan",
          "2017/music/Jan",
          "2017/musical instruments/Jan",
          "2017/office furniture/Jan",
          "2017/perfumery/Jan",
          "2017/pet shop/Jan",
          "2017/security and services/Jan",
          "2017/small appliances/Jan",
          "2017/sports leisure/Jan",
          "2017/stationery/Jan",
          "2017/telephony/Jan",
          "2017/toys/Jan",
          "2017/watches gifts/Jan",
          "2017/agro industry and commerce/Jul",
          "2017/air conditioning/Jul",
          "2017/art/Jul",
          "2017/arts and craftmanship/Jul",
          "2017/audio/Jul",
          "2017/auto/Jul",
          "2017/baby/Jul",
          "2017/bed bath table/Jul",
          "2017/books general interest/Jul",
          "2017/books technical/Jul",
          "2017/cds dvds musicals/Jul",
          "2017/christmas supplies/Jul",
          "2017/computers accessories/Jul",
          "2017/consoles games/Jul",
          "2017/construction tools construction/Jul",
          "2017/construction tools lights/Jul",
          "2017/cool stuff/Jul",
          "2017/costruction tools garden/Jul",
          "2017/drinks/Jul",
          "2017/dvds blu ray/Jul",
          "2017/electronics/Jul",
          "2017/fashio female clothing/Jul",
          "2017/fashion bags accessories/Jul",
          "2017/fashion male clothing/Jul",
          "2017/fashion shoes/Jul",
          "2017/fashion sport/Jul",
          "2017/fashion underwear beach/Jul",
          "2017/fixed telephony/Jul",
          "2017/food/Jul",
          "2017/food drink/Jul",
          "2017/furniture bedroom/Jul",
          "2017/furniture decor/Jul",
          "2017/furniture living room/Jul",
          "2017/furniture mattress and upholstery/Jul",
          "2017/garden tools/Jul",
          "2017/health beauty/Jul",
          "2017/home appliances/Jul",
          "2017/home appliances 2/Jul",
          "2017/home comfort 2/Jul",
          "2017/home confort/Jul",
          "2017/home construction/Jul",
          "2017/housewares/Jul",
          "2017/industry commerce and business/Jul",
          "2017/kitchen dining laundry garden furniture/Jul",
          "2017/la cuisine/Jul",
          "2017/luggage accessories/Jul",
          "2017/market place/Jul",
          "2017/music/Jul",
          "2017/musical instruments/Jul",
          "2017/office furniture/Jul",
          "2017/party supplies/Jul",
          "2017/perfumery/Jul",
          "2017/pet shop/Jul",
          "2017/signaling and security/Jul",
          "2017/small appliances/Jul",
          "2017/sports leisure/Jul",
          "2017/stationery/Jul",
          "2017/tablets printing image/Jul",
          "2017/telephony/Jul",
          "2017/toys/Jul",
          "2017/watches gifts/Jul",
          "2017/agro industry and commerce/Jun",
          "2017/air conditioning/Jun",
          "2017/art/Jun",
          "2017/audio/Jun",
          "2017/auto/Jun",
          "2017/baby/Jun",
          "2017/bed bath table/Jun",
          "2017/books general interest/Jun",
          "2017/books imported/Jun",
          "2017/books technical/Jun",
          "2017/christmas supplies/Jun",
          "2017/cine photo/Jun",
          "2017/computers accessories/Jun",
          "2017/consoles games/Jun",
          "2017/construction tools construction/Jun",
          "2017/cool stuff/Jun",
          "2017/costruction tools garden/Jun",
          "2017/drinks/Jun",
          "2017/dvds blu ray/Jun",
          "2017/electronics/Jun",
          "2017/fashio female clothing/Jun",
          "2017/fashion bags accessories/Jun",
          "2017/fashion childrens clothes/Jun",
          "2017/fashion male clothing/Jun",
          "2017/fashion shoes/Jun",
          "2017/fashion sport/Jun",
          "2017/fashion underwear beach/Jun",
          "2017/fixed telephony/Jun",
          "2017/food/Jun",
          "2017/food drink/Jun",
          "2017/furniture bedroom/Jun",
          "2017/furniture decor/Jun",
          "2017/furniture living room/Jun",
          "2017/garden tools/Jun",
          "2017/health beauty/Jun",
          "2017/home appliances/Jun",
          "2017/home appliances 2/Jun",
          "2017/home comfort 2/Jun",
          "2017/home confort/Jun",
          "2017/home construction/Jun",
          "2017/housewares/Jun",
          "2017/industry commerce and business/Jun",
          "2017/kitchen dining laundry garden furniture/Jun",
          "2017/luggage accessories/Jun",
          "2017/market place/Jun",
          "2017/music/Jun",
          "2017/musical instruments/Jun",
          "2017/office furniture/Jun",
          "2017/perfumery/Jun",
          "2017/pet shop/Jun",
          "2017/signaling and security/Jun",
          "2017/small appliances/Jun",
          "2017/small appliances home oven and coffee/Jun",
          "2017/sports leisure/Jun",
          "2017/stationery/Jun",
          "2017/tablets printing image/Jun",
          "2017/telephony/Jun",
          "2017/toys/Jun",
          "2017/watches gifts/Jun",
          "2017/agro industry and commerce/Mar",
          "2017/air conditioning/Mar",
          "2017/art/Mar",
          "2017/audio/Mar",
          "2017/auto/Mar",
          "2017/baby/Mar",
          "2017/bed bath table/Mar",
          "2017/books general interest/Mar",
          "2017/books technical/Mar",
          "2017/computers accessories/Mar",
          "2017/consoles games/Mar",
          "2017/construction tools construction/Mar",
          "2017/construction tools safety/Mar",
          "2017/cool stuff/Mar",
          "2017/drinks/Mar",
          "2017/dvds blu ray/Mar",
          "2017/electronics/Mar",
          "2017/fashio female clothing/Mar",
          "2017/fashion bags accessories/Mar",
          "2017/fashion male clothing/Mar",
          "2017/fashion shoes/Mar",
          "2017/fashion sport/Mar",
          "2017/fashion underwear beach/Mar",
          "2017/fixed telephony/Mar",
          "2017/food/Mar",
          "2017/food drink/Mar",
          "2017/furniture decor/Mar",
          "2017/furniture living room/Mar",
          "2017/garden tools/Mar",
          "2017/health beauty/Mar",
          "2017/home appliances/Mar",
          "2017/home appliances 2/Mar",
          "2017/home comfort 2/Mar",
          "2017/home confort/Mar",
          "2017/home construction/Mar",
          "2017/housewares/Mar",
          "2017/industry commerce and business/Mar",
          "2017/kitchen dining laundry garden furniture/Mar",
          "2017/luggage accessories/Mar",
          "2017/market place/Mar",
          "2017/music/Mar",
          "2017/musical instruments/Mar",
          "2017/office furniture/Mar",
          "2017/perfumery/Mar",
          "2017/pet shop/Mar",
          "2017/signaling and security/Mar",
          "2017/small appliances/Mar",
          "2017/sports leisure/Mar",
          "2017/stationery/Mar",
          "2017/tablets printing image/Mar",
          "2017/telephony/Mar",
          "2017/toys/Mar",
          "2017/watches gifts/Mar",
          "2017/agro industry and commerce/May",
          "2017/air conditioning/May",
          "2017/art/May",
          "2017/arts and craftmanship/May",
          "2017/audio/May",
          "2017/auto/May",
          "2017/baby/May",
          "2017/bed bath table/May",
          "2017/books general interest/May",
          "2017/books technical/May",
          "2017/cine photo/May",
          "2017/computers accessories/May",
          "2017/consoles games/May",
          "2017/construction tools construction/May",
          "2017/cool stuff/May",
          "2017/costruction tools garden/May",
          "2017/costruction tools tools/May",
          "2017/drinks/May",
          "2017/dvds blu ray/May",
          "2017/electronics/May",
          "2017/fashio female clothing/May",
          "2017/fashion bags accessories/May",
          "2017/fashion childrens clothes/May",
          "2017/fashion male clothing/May",
          "2017/fashion shoes/May",
          "2017/fashion sport/May",
          "2017/fashion underwear beach/May",
          "2017/fixed telephony/May",
          "2017/food/May",
          "2017/food drink/May",
          "2017/furniture bedroom/May",
          "2017/furniture decor/May",
          "2017/furniture living room/May",
          "2017/furniture mattress and upholstery/May",
          "2017/garden tools/May",
          "2017/health beauty/May",
          "2017/home appliances/May",
          "2017/home appliances 2/May",
          "2017/home confort/May",
          "2017/home construction/May",
          "2017/housewares/May",
          "2017/industry commerce and business/May",
          "2017/kitchen dining laundry garden furniture/May",
          "2017/la cuisine/May",
          "2017/luggage accessories/May",
          "2017/market place/May",
          "2017/musical instruments/May",
          "2017/office furniture/May",
          "2017/perfumery/May",
          "2017/pet shop/May",
          "2017/signaling and security/May",
          "2017/small appliances/May",
          "2017/sports leisure/May",
          "2017/stationery/May",
          "2017/tablets printing image/May",
          "2017/telephony/May",
          "2017/toys/May",
          "2017/watches gifts/May",
          "2017/agro industry and commerce/Nov",
          "2017/air conditioning/Nov",
          "2017/art/Nov",
          "2017/audio/Nov",
          "2017/auto/Nov",
          "2017/baby/Nov",
          "2017/bed bath table/Nov",
          "2017/books general interest/Nov",
          "2017/books imported/Nov",
          "2017/books technical/Nov",
          "2017/cds dvds musicals/Nov",
          "2017/christmas supplies/Nov",
          "2017/cine photo/Nov",
          "2017/computers/Nov",
          "2017/computers accessories/Nov",
          "2017/consoles games/Nov",
          "2017/construction tools construction/Nov",
          "2017/construction tools lights/Nov",
          "2017/construction tools safety/Nov",
          "2017/cool stuff/Nov",
          "2017/costruction tools garden/Nov",
          "2017/costruction tools tools/Nov",
          "2017/drinks/Nov",
          "2017/dvds blu ray/Nov",
          "2017/electronics/Nov",
          "2017/fashio female clothing/Nov",
          "2017/fashion bags accessories/Nov",
          "2017/fashion male clothing/Nov",
          "2017/fashion shoes/Nov",
          "2017/fashion sport/Nov",
          "2017/fashion underwear beach/Nov",
          "2017/fixed telephony/Nov",
          "2017/flowers/Nov",
          "2017/food/Nov",
          "2017/food drink/Nov",
          "2017/furniture bedroom/Nov",
          "2017/furniture decor/Nov",
          "2017/furniture living room/Nov",
          "2017/furniture mattress and upholstery/Nov",
          "2017/garden tools/Nov",
          "2017/health beauty/Nov",
          "2017/home appliances/Nov",
          "2017/home appliances 2/Nov",
          "2017/home comfort 2/Nov",
          "2017/home confort/Nov",
          "2017/home construction/Nov",
          "2017/housewares/Nov",
          "2017/industry commerce and business/Nov",
          "2017/kitchen dining laundry garden furniture/Nov",
          "2017/la cuisine/Nov",
          "2017/luggage accessories/Nov",
          "2017/market place/Nov",
          "2017/musical instruments/Nov",
          "2017/office furniture/Nov",
          "2017/party supplies/Nov",
          "2017/perfumery/Nov",
          "2017/pet shop/Nov",
          "2017/signaling and security/Nov",
          "2017/small appliances/Nov",
          "2017/sports leisure/Nov",
          "2017/stationery/Nov",
          "2017/tablets printing image/Nov",
          "2017/telephony/Nov",
          "2017/toys/Nov",
          "2017/watches gifts/Nov",
          "2017/agro industry and commerce/Oct",
          "2017/air conditioning/Oct",
          "2017/art/Oct",
          "2017/audio/Oct",
          "2017/auto/Oct",
          "2017/baby/Oct",
          "2017/bed bath table/Oct",
          "2017/books general interest/Oct",
          "2017/books technical/Oct",
          "2017/cds dvds musicals/Oct",
          "2017/christmas supplies/Oct",
          "2017/cine photo/Oct",
          "2017/computers/Oct",
          "2017/computers accessories/Oct",
          "2017/consoles games/Oct",
          "2017/construction tools construction/Oct",
          "2017/construction tools lights/Oct",
          "2017/construction tools safety/Oct",
          "2017/cool stuff/Oct",
          "2017/costruction tools garden/Oct",
          "2017/costruction tools tools/Oct",
          "2017/drinks/Oct",
          "2017/dvds blu ray/Oct",
          "2017/electronics/Oct",
          "2017/fashion bags accessories/Oct",
          "2017/fashion childrens clothes/Oct",
          "2017/fashion male clothing/Oct",
          "2017/fashion shoes/Oct",
          "2017/fashion sport/Oct",
          "2017/fashion underwear beach/Oct",
          "2017/fixed telephony/Oct",
          "2017/food/Oct",
          "2017/food drink/Oct",
          "2017/furniture bedroom/Oct",
          "2017/furniture decor/Oct",
          "2017/furniture living room/Oct",
          "2017/garden tools/Oct",
          "2017/health beauty/Oct",
          "2017/home appliances/Oct",
          "2017/home appliances 2/Oct",
          "2017/home comfort 2/Oct",
          "2017/home confort/Oct",
          "2017/home construction/Oct",
          "2017/housewares/Oct",
          "2017/industry commerce and business/Oct",
          "2017/kitchen dining laundry garden furniture/Oct",
          "2017/la cuisine/Oct",
          "2017/luggage accessories/Oct",
          "2017/market place/Oct",
          "2017/music/Oct",
          "2017/musical instruments/Oct",
          "2017/office furniture/Oct",
          "2017/party supplies/Oct",
          "2017/perfumery/Oct",
          "2017/pet shop/Oct",
          "2017/signaling and security/Oct",
          "2017/small appliances/Oct",
          "2017/sports leisure/Oct",
          "2017/stationery/Oct",
          "2017/tablets printing image/Oct",
          "2017/telephony/Oct",
          "2017/toys/Oct",
          "2017/watches gifts/Oct",
          "2017/agro industry and commerce/Sep",
          "2017/air conditioning/Sep",
          "2017/art/Sep",
          "2017/audio/Sep",
          "2017/auto/Sep",
          "2017/baby/Sep",
          "2017/bed bath table/Sep",
          "2017/books general interest/Sep",
          "2017/books imported/Sep",
          "2017/books technical/Sep",
          "2017/christmas supplies/Sep",
          "2017/cine photo/Sep",
          "2017/computers/Sep",
          "2017/computers accessories/Sep",
          "2017/consoles games/Sep",
          "2017/construction tools construction/Sep",
          "2017/construction tools lights/Sep",
          "2017/construction tools safety/Sep",
          "2017/cool stuff/Sep",
          "2017/costruction tools garden/Sep",
          "2017/costruction tools tools/Sep",
          "2017/drinks/Sep",
          "2017/dvds blu ray/Sep",
          "2017/electronics/Sep",
          "2017/fashio female clothing/Sep",
          "2017/fashion bags accessories/Sep",
          "2017/fashion childrens clothes/Sep",
          "2017/fashion male clothing/Sep",
          "2017/fashion shoes/Sep",
          "2017/fashion sport/Sep",
          "2017/fashion underwear beach/Sep",
          "2017/fixed telephony/Sep",
          "2017/food/Sep",
          "2017/food drink/Sep",
          "2017/furniture bedroom/Sep",
          "2017/furniture decor/Sep",
          "2017/furniture living room/Sep",
          "2017/furniture mattress and upholstery/Sep",
          "2017/garden tools/Sep",
          "2017/health beauty/Sep",
          "2017/home appliances/Sep",
          "2017/home appliances 2/Sep",
          "2017/home comfort 2/Sep",
          "2017/home confort/Sep",
          "2017/home construction/Sep",
          "2017/housewares/Sep",
          "2017/industry commerce and business/Sep",
          "2017/kitchen dining laundry garden furniture/Sep",
          "2017/luggage accessories/Sep",
          "2017/market place/Sep",
          "2017/musical instruments/Sep",
          "2017/office furniture/Sep",
          "2017/party supplies/Sep",
          "2017/perfumery/Sep",
          "2017/pet shop/Sep",
          "2017/security and services/Sep",
          "2017/signaling and security/Sep",
          "2017/small appliances/Sep",
          "2017/small appliances home oven and coffee/Sep",
          "2017/sports leisure/Sep",
          "2017/stationery/Sep",
          "2017/tablets printing image/Sep",
          "2017/telephony/Sep",
          "2017/toys/Sep",
          "2017/watches gifts/Sep",
          "2018/agro industry and commerce/Apr",
          "2018/air conditioning/Apr",
          "2018/art/Apr",
          "2018/arts and craftmanship/Apr",
          "2018/audio/Apr",
          "2018/auto/Apr",
          "2018/baby/Apr",
          "2018/bed bath table/Apr",
          "2018/books general interest/Apr",
          "2018/books imported/Apr",
          "2018/books technical/Apr",
          "2018/cds dvds musicals/Apr",
          "2018/christmas supplies/Apr",
          "2018/cine photo/Apr",
          "2018/computers/Apr",
          "2018/computers accessories/Apr",
          "2018/consoles games/Apr",
          "2018/construction tools construction/Apr",
          "2018/construction tools lights/Apr",
          "2018/construction tools safety/Apr",
          "2018/cool stuff/Apr",
          "2018/costruction tools garden/Apr",
          "2018/costruction tools tools/Apr",
          "2018/diapers and hygiene/Apr",
          "2018/drinks/Apr",
          "2018/dvds blu ray/Apr",
          "2018/electronics/Apr",
          "2018/fashio female clothing/Apr",
          "2018/fashion bags accessories/Apr",
          "2018/fashion male clothing/Apr",
          "2018/fashion shoes/Apr",
          "2018/fashion sport/Apr",
          "2018/fashion underwear beach/Apr",
          "2018/fixed telephony/Apr",
          "2018/flowers/Apr",
          "2018/food/Apr",
          "2018/food drink/Apr",
          "2018/furniture bedroom/Apr",
          "2018/furniture decor/Apr",
          "2018/furniture living room/Apr",
          "2018/garden tools/Apr",
          "2018/health beauty/Apr",
          "2018/home appliances/Apr",
          "2018/home appliances 2/Apr",
          "2018/home comfort 2/Apr",
          "2018/home confort/Apr",
          "2018/home construction/Apr",
          "2018/housewares/Apr",
          "2018/industry commerce and business/Apr",
          "2018/kitchen dining laundry garden furniture/Apr",
          "2018/la cuisine/Apr",
          "2018/luggage accessories/Apr",
          "2018/market place/Apr",
          "2018/music/Apr",
          "2018/musical instruments/Apr",
          "2018/office furniture/Apr",
          "2018/party supplies/Apr",
          "2018/perfumery/Apr",
          "2018/pet shop/Apr",
          "2018/signaling and security/Apr",
          "2018/small appliances/Apr",
          "2018/small appliances home oven and coffee/Apr",
          "2018/sports leisure/Apr",
          "2018/stationery/Apr",
          "2018/tablets printing image/Apr",
          "2018/telephony/Apr",
          "2018/toys/Apr",
          "2018/watches gifts/Apr",
          "2018/agro industry and commerce/Aug",
          "2018/air conditioning/Aug",
          "2018/art/Aug",
          "2018/arts and craftmanship/Aug",
          "2018/audio/Aug",
          "2018/auto/Aug",
          "2018/baby/Aug",
          "2018/bed bath table/Aug",
          "2018/books general interest/Aug",
          "2018/books imported/Aug",
          "2018/books technical/Aug",
          "2018/christmas supplies/Aug",
          "2018/cine photo/Aug",
          "2018/computers/Aug",
          "2018/computers accessories/Aug",
          "2018/consoles games/Aug",
          "2018/construction tools construction/Aug",
          "2018/construction tools lights/Aug",
          "2018/construction tools safety/Aug",
          "2018/cool stuff/Aug",
          "2018/costruction tools garden/Aug",
          "2018/costruction tools tools/Aug",
          "2018/diapers and hygiene/Aug",
          "2018/drinks/Aug",
          "2018/dvds blu ray/Aug",
          "2018/electronics/Aug",
          "2018/fashio female clothing/Aug",
          "2018/fashion bags accessories/Aug",
          "2018/fashion male clothing/Aug",
          "2018/fashion shoes/Aug",
          "2018/fashion sport/Aug",
          "2018/fashion underwear beach/Aug",
          "2018/fixed telephony/Aug",
          "2018/food/Aug",
          "2018/food drink/Aug",
          "2018/furniture bedroom/Aug",
          "2018/furniture decor/Aug",
          "2018/furniture living room/Aug",
          "2018/garden tools/Aug",
          "2018/health beauty/Aug",
          "2018/home appliances/Aug",
          "2018/home appliances 2/Aug",
          "2018/home confort/Aug",
          "2018/home construction/Aug",
          "2018/housewares/Aug",
          "2018/industry commerce and business/Aug",
          "2018/kitchen dining laundry garden furniture/Aug",
          "2018/luggage accessories/Aug",
          "2018/market place/Aug",
          "2018/music/Aug",
          "2018/musical instruments/Aug",
          "2018/office furniture/Aug",
          "2018/party supplies/Aug",
          "2018/perfumery/Aug",
          "2018/pet shop/Aug",
          "2018/signaling and security/Aug",
          "2018/small appliances/Aug",
          "2018/small appliances home oven and coffee/Aug",
          "2018/sports leisure/Aug",
          "2018/stationery/Aug",
          "2018/telephony/Aug",
          "2018/toys/Aug",
          "2018/watches gifts/Aug",
          "2018/agro industry and commerce/Feb",
          "2018/air conditioning/Feb",
          "2018/art/Feb",
          "2018/audio/Feb",
          "2018/auto/Feb",
          "2018/baby/Feb",
          "2018/bed bath table/Feb",
          "2018/books general interest/Feb",
          "2018/books imported/Feb",
          "2018/books technical/Feb",
          "2018/christmas supplies/Feb",
          "2018/cine photo/Feb",
          "2018/computers accessories/Feb",
          "2018/consoles games/Feb",
          "2018/construction tools construction/Feb",
          "2018/construction tools lights/Feb",
          "2018/construction tools safety/Feb",
          "2018/cool stuff/Feb",
          "2018/costruction tools garden/Feb",
          "2018/costruction tools tools/Feb",
          "2018/diapers and hygiene/Feb",
          "2018/drinks/Feb",
          "2018/dvds blu ray/Feb",
          "2018/electronics/Feb",
          "2018/fashio female clothing/Feb",
          "2018/fashion bags accessories/Feb",
          "2018/fashion male clothing/Feb",
          "2018/fashion shoes/Feb",
          "2018/fashion underwear beach/Feb",
          "2018/fixed telephony/Feb",
          "2018/flowers/Feb",
          "2018/food/Feb",
          "2018/food drink/Feb",
          "2018/furniture bedroom/Feb",
          "2018/furniture decor/Feb",
          "2018/furniture living room/Feb",
          "2018/furniture mattress and upholstery/Feb",
          "2018/garden tools/Feb",
          "2018/health beauty/Feb",
          "2018/home appliances/Feb",
          "2018/home appliances 2/Feb",
          "2018/home comfort 2/Feb",
          "2018/home confort/Feb",
          "2018/home construction/Feb",
          "2018/housewares/Feb",
          "2018/industry commerce and business/Feb",
          "2018/kitchen dining laundry garden furniture/Feb",
          "2018/luggage accessories/Feb",
          "2018/market place/Feb",
          "2018/music/Feb",
          "2018/musical instruments/Feb",
          "2018/office furniture/Feb",
          "2018/perfumery/Feb",
          "2018/pet shop/Feb",
          "2018/signaling and security/Feb",
          "2018/small appliances/Feb",
          "2018/small appliances home oven and coffee/Feb",
          "2018/sports leisure/Feb",
          "2018/stationery/Feb",
          "2018/tablets printing image/Feb",
          "2018/telephony/Feb",
          "2018/toys/Feb",
          "2018/watches gifts/Feb",
          "2018/agro industry and commerce/Jan",
          "2018/air conditioning/Jan",
          "2018/art/Jan",
          "2018/audio/Jan",
          "2018/auto/Jan",
          "2018/baby/Jan",
          "2018/bed bath table/Jan",
          "2018/books general interest/Jan",
          "2018/books imported/Jan",
          "2018/books technical/Jan",
          "2018/christmas supplies/Jan",
          "2018/cine photo/Jan",
          "2018/computers/Jan",
          "2018/computers accessories/Jan",
          "2018/consoles games/Jan",
          "2018/construction tools construction/Jan",
          "2018/construction tools lights/Jan",
          "2018/construction tools safety/Jan",
          "2018/cool stuff/Jan",
          "2018/costruction tools garden/Jan",
          "2018/costruction tools tools/Jan",
          "2018/diapers and hygiene/Jan",
          "2018/drinks/Jan",
          "2018/dvds blu ray/Jan",
          "2018/electronics/Jan",
          "2018/fashio female clothing/Jan",
          "2018/fashion bags accessories/Jan",
          "2018/fashion male clothing/Jan",
          "2018/fashion shoes/Jan",
          "2018/fashion sport/Jan",
          "2018/fashion underwear beach/Jan",
          "2018/fixed telephony/Jan",
          "2018/flowers/Jan",
          "2018/food/Jan",
          "2018/food drink/Jan",
          "2018/furniture bedroom/Jan",
          "2018/furniture decor/Jan",
          "2018/furniture living room/Jan",
          "2018/furniture mattress and upholstery/Jan",
          "2018/garden tools/Jan",
          "2018/health beauty/Jan",
          "2018/home appliances/Jan",
          "2018/home appliances 2/Jan",
          "2018/home confort/Jan",
          "2018/home construction/Jan",
          "2018/housewares/Jan",
          "2018/industry commerce and business/Jan",
          "2018/kitchen dining laundry garden furniture/Jan",
          "2018/la cuisine/Jan",
          "2018/luggage accessories/Jan",
          "2018/market place/Jan",
          "2018/music/Jan",
          "2018/musical instruments/Jan",
          "2018/office furniture/Jan",
          "2018/party supplies/Jan",
          "2018/perfumery/Jan",
          "2018/pet shop/Jan",
          "2018/signaling and security/Jan",
          "2018/small appliances/Jan",
          "2018/small appliances home oven and coffee/Jan",
          "2018/sports leisure/Jan",
          "2018/stationery/Jan",
          "2018/tablets printing image/Jan",
          "2018/telephony/Jan",
          "2018/toys/Jan",
          "2018/watches gifts/Jan",
          "2018/agro industry and commerce/Jul",
          "2018/air conditioning/Jul",
          "2018/art/Jul",
          "2018/arts and craftmanship/Jul",
          "2018/audio/Jul",
          "2018/auto/Jul",
          "2018/baby/Jul",
          "2018/bed bath table/Jul",
          "2018/books general interest/Jul",
          "2018/books imported/Jul",
          "2018/books technical/Jul",
          "2018/christmas supplies/Jul",
          "2018/cine photo/Jul",
          "2018/computers/Jul",
          "2018/computers accessories/Jul",
          "2018/consoles games/Jul",
          "2018/construction tools construction/Jul",
          "2018/construction tools lights/Jul",
          "2018/construction tools safety/Jul",
          "2018/cool stuff/Jul",
          "2018/costruction tools garden/Jul",
          "2018/costruction tools tools/Jul",
          "2018/diapers and hygiene/Jul",
          "2018/drinks/Jul",
          "2018/dvds blu ray/Jul",
          "2018/electronics/Jul",
          "2018/fashion bags accessories/Jul",
          "2018/fashion male clothing/Jul",
          "2018/fashion shoes/Jul",
          "2018/fashion underwear beach/Jul",
          "2018/fixed telephony/Jul",
          "2018/flowers/Jul",
          "2018/food/Jul",
          "2018/food drink/Jul",
          "2018/furniture bedroom/Jul",
          "2018/furniture decor/Jul",
          "2018/furniture living room/Jul",
          "2018/furniture mattress and upholstery/Jul",
          "2018/garden tools/Jul",
          "2018/health beauty/Jul",
          "2018/home appliances/Jul",
          "2018/home appliances 2/Jul",
          "2018/home comfort 2/Jul",
          "2018/home confort/Jul",
          "2018/home construction/Jul",
          "2018/housewares/Jul",
          "2018/industry commerce and business/Jul",
          "2018/kitchen dining laundry garden furniture/Jul",
          "2018/luggage accessories/Jul",
          "2018/market place/Jul",
          "2018/music/Jul",
          "2018/musical instruments/Jul",
          "2018/office furniture/Jul",
          "2018/party supplies/Jul",
          "2018/perfumery/Jul",
          "2018/pet shop/Jul",
          "2018/signaling and security/Jul",
          "2018/small appliances/Jul",
          "2018/small appliances home oven and coffee/Jul",
          "2018/sports leisure/Jul",
          "2018/stationery/Jul",
          "2018/telephony/Jul",
          "2018/toys/Jul",
          "2018/watches gifts/Jul",
          "2018/agro industry and commerce/Jun",
          "2018/air conditioning/Jun",
          "2018/art/Jun",
          "2018/audio/Jun",
          "2018/auto/Jun",
          "2018/baby/Jun",
          "2018/bed bath table/Jun",
          "2018/books general interest/Jun",
          "2018/books imported/Jun",
          "2018/books technical/Jun",
          "2018/christmas supplies/Jun",
          "2018/cine photo/Jun",
          "2018/computers/Jun",
          "2018/computers accessories/Jun",
          "2018/consoles games/Jun",
          "2018/construction tools construction/Jun",
          "2018/construction tools lights/Jun",
          "2018/construction tools safety/Jun",
          "2018/cool stuff/Jun",
          "2018/costruction tools garden/Jun",
          "2018/costruction tools tools/Jun",
          "2018/diapers and hygiene/Jun",
          "2018/drinks/Jun",
          "2018/dvds blu ray/Jun",
          "2018/electronics/Jun",
          "2018/fashion bags accessories/Jun",
          "2018/fashion childrens clothes/Jun",
          "2018/fashion male clothing/Jun",
          "2018/fashion shoes/Jun",
          "2018/fashion underwear beach/Jun",
          "2018/fixed telephony/Jun",
          "2018/flowers/Jun",
          "2018/food/Jun",
          "2018/food drink/Jun",
          "2018/furniture bedroom/Jun",
          "2018/furniture decor/Jun",
          "2018/furniture living room/Jun",
          "2018/garden tools/Jun",
          "2018/health beauty/Jun",
          "2018/home appliances/Jun",
          "2018/home appliances 2/Jun",
          "2018/home comfort 2/Jun",
          "2018/home confort/Jun",
          "2018/home construction/Jun",
          "2018/housewares/Jun",
          "2018/industry commerce and business/Jun",
          "2018/kitchen dining laundry garden furniture/Jun",
          "2018/luggage accessories/Jun",
          "2018/market place/Jun",
          "2018/music/Jun",
          "2018/musical instruments/Jun",
          "2018/office furniture/Jun",
          "2018/party supplies/Jun",
          "2018/perfumery/Jun",
          "2018/pet shop/Jun",
          "2018/signaling and security/Jun",
          "2018/small appliances/Jun",
          "2018/small appliances home oven and coffee/Jun",
          "2018/sports leisure/Jun",
          "2018/stationery/Jun",
          "2018/tablets printing image/Jun",
          "2018/telephony/Jun",
          "2018/toys/Jun",
          "2018/watches gifts/Jun",
          "2018/agro industry and commerce/Mar",
          "2018/air conditioning/Mar",
          "2018/art/Mar",
          "2018/audio/Mar",
          "2018/auto/Mar",
          "2018/baby/Mar",
          "2018/bed bath table/Mar",
          "2018/books general interest/Mar",
          "2018/books imported/Mar",
          "2018/books technical/Mar",
          "2018/christmas supplies/Mar",
          "2018/cine photo/Mar",
          "2018/computers accessories/Mar",
          "2018/consoles games/Mar",
          "2018/construction tools construction/Mar",
          "2018/construction tools lights/Mar",
          "2018/construction tools safety/Mar",
          "2018/cool stuff/Mar",
          "2018/costruction tools garden/Mar",
          "2018/costruction tools tools/Mar",
          "2018/diapers and hygiene/Mar",
          "2018/drinks/Mar",
          "2018/dvds blu ray/Mar",
          "2018/electronics/Mar",
          "2018/fashio female clothing/Mar",
          "2018/fashion bags accessories/Mar",
          "2018/fashion childrens clothes/Mar",
          "2018/fashion shoes/Mar",
          "2018/fashion sport/Mar",
          "2018/fashion underwear beach/Mar",
          "2018/fixed telephony/Mar",
          "2018/flowers/Mar",
          "2018/food/Mar",
          "2018/food drink/Mar",
          "2018/furniture bedroom/Mar",
          "2018/furniture decor/Mar",
          "2018/furniture living room/Mar",
          "2018/furniture mattress and upholstery/Mar",
          "2018/garden tools/Mar",
          "2018/health beauty/Mar",
          "2018/home appliances/Mar",
          "2018/home appliances 2/Mar",
          "2018/home comfort 2/Mar",
          "2018/home confort/Mar",
          "2018/home construction/Mar",
          "2018/housewares/Mar",
          "2018/industry commerce and business/Mar",
          "2018/kitchen dining laundry garden furniture/Mar",
          "2018/la cuisine/Mar",
          "2018/luggage accessories/Mar",
          "2018/market place/Mar",
          "2018/music/Mar",
          "2018/musical instruments/Mar",
          "2018/office furniture/Mar",
          "2018/party supplies/Mar",
          "2018/perfumery/Mar",
          "2018/pet shop/Mar",
          "2018/signaling and security/Mar",
          "2018/small appliances/Mar",
          "2018/small appliances home oven and coffee/Mar",
          "2018/sports leisure/Mar",
          "2018/stationery/Mar",
          "2018/tablets printing image/Mar",
          "2018/telephony/Mar",
          "2018/toys/Mar",
          "2018/watches gifts/Mar",
          "2018/agro industry and commerce/May",
          "2018/air conditioning/May",
          "2018/art/May",
          "2018/arts and craftmanship/May",
          "2018/audio/May",
          "2018/auto/May",
          "2018/baby/May",
          "2018/bed bath table/May",
          "2018/books general interest/May",
          "2018/books imported/May",
          "2018/books technical/May",
          "2018/christmas supplies/May",
          "2018/cine photo/May",
          "2018/computers/May",
          "2018/computers accessories/May",
          "2018/consoles games/May",
          "2018/construction tools construction/May",
          "2018/construction tools lights/May",
          "2018/construction tools safety/May",
          "2018/cool stuff/May",
          "2018/costruction tools garden/May",
          "2018/costruction tools tools/May",
          "2018/diapers and hygiene/May",
          "2018/drinks/May",
          "2018/dvds blu ray/May",
          "2018/electronics/May",
          "2018/fashion bags accessories/May",
          "2018/fashion male clothing/May",
          "2018/fashion shoes/May",
          "2018/fashion underwear beach/May",
          "2018/fixed telephony/May",
          "2018/flowers/May",
          "2018/food/May",
          "2018/food drink/May",
          "2018/furniture bedroom/May",
          "2018/furniture decor/May",
          "2018/furniture living room/May",
          "2018/garden tools/May",
          "2018/health beauty/May",
          "2018/home appliances/May",
          "2018/home appliances 2/May",
          "2018/home confort/May",
          "2018/home construction/May",
          "2018/housewares/May",
          "2018/industry commerce and business/May",
          "2018/kitchen dining laundry garden furniture/May",
          "2018/luggage accessories/May",
          "2018/market place/May",
          "2018/music/May",
          "2018/musical instruments/May",
          "2018/office furniture/May",
          "2018/party supplies/May",
          "2018/perfumery/May",
          "2018/pet shop/May",
          "2018/signaling and security/May",
          "2018/small appliances/May",
          "2018/small appliances home oven and coffee/May",
          "2018/sports leisure/May",
          "2018/stationery/May",
          "2018/tablets printing image/May",
          "2018/telephony/May",
          "2018/toys/May",
          "2018/watches gifts/May",
          "2018/kitchen dining laundry garden furniture/Sep",
          "2016/fashion bags accessories",
          "2016/air conditioning",
          "2016/audio",
          "2016/auto",
          "2016/baby",
          "2016/bed bath table",
          "2016/books general interest",
          "2016/books technical",
          "2016/computers accessories",
          "2016/consoles games",
          "2016/cool stuff",
          "2016/diapers and hygiene",
          "2016/electronics",
          "2016/fashio female clothing",
          "2016/fashion male clothing",
          "2016/fashion shoes",
          "2016/fixed telephony",
          "2016/food",
          "2016/furniture decor",
          "2016/garden tools",
          "2016/health beauty",
          "2016/housewares",
          "2016/industry commerce and business",
          "2016/market place",
          "2016/office furniture",
          "2016/perfumery",
          "2016/pet shop",
          "2016/sports leisure",
          "2016/telephony",
          "2016/toys",
          "2016/watches gifts",
          "2017/air conditioning",
          "2017/art",
          "2017/audio",
          "2017/auto",
          "2017/baby",
          "2017/bed bath table",
          "2017/books general interest",
          "2017/books imported",
          "2017/books technical",
          "2017/christmas supplies",
          "2017/cine photo",
          "2017/computers accessories",
          "2017/consoles games",
          "2017/cool stuff",
          "2017/costruction tools garden",
          "2017/costruction tools tools",
          "2017/drinks",
          "2017/dvds blu ray",
          "2017/electronics",
          "2017/fashio female clothing",
          "2017/fashion bags accessories",
          "2017/fashion male clothing",
          "2017/fashion shoes",
          "2017/fashion sport",
          "2017/fashion underwear beach",
          "2017/fixed telephony",
          "2017/food",
          "2017/food drink",
          "2017/furniture bedroom",
          "2017/furniture decor",
          "2017/furniture living room",
          "2017/furniture mattress and upholstery",
          "2017/garden tools",
          "2017/health beauty",
          "2017/home appliances",
          "2017/home appliances 2",
          "2017/home comfort 2",
          "2017/home confort",
          "2017/home construction",
          "2017/housewares",
          "2017/kitchen dining laundry garden furniture",
          "2017/la cuisine",
          "2017/luggage accessories",
          "2017/market place",
          "2017/music",
          "2017/musical instruments",
          "2017/office furniture",
          "2017/perfumery",
          "2017/pet shop",
          "2017/signaling and security",
          "2017/small appliances",
          "2017/sports leisure",
          "2017/stationery",
          "2017/tablets printing image",
          "2017/telephony",
          "2017/toys",
          "2017/watches gifts",
          "2017/agro industry and commerce",
          "2017/cds dvds musicals",
          "2017/computers",
          "2017/construction tools construction",
          "2017/construction tools lights",
          "2017/construction tools safety",
          "2017/fashion childrens clothes",
          "2017/industry commerce and business",
          "2017/small appliances home oven and coffee",
          "2017/diapers and hygiene",
          "2017/flowers",
          "2017/party supplies",
          "2017/security and services",
          "2017/arts and craftmanship",
          "2018/agro industry and commerce",
          "2018/air conditioning",
          "2018/art",
          "2018/arts and craftmanship",
          "2018/audio",
          "2018/auto",
          "2018/baby",
          "2018/bed bath table",
          "2018/books general interest",
          "2018/books imported",
          "2018/books technical",
          "2018/cds dvds musicals",
          "2018/christmas supplies",
          "2018/cine photo",
          "2018/computers",
          "2018/computers accessories",
          "2018/consoles games",
          "2018/construction tools construction",
          "2018/construction tools lights",
          "2018/construction tools safety",
          "2018/cool stuff",
          "2018/costruction tools garden",
          "2018/costruction tools tools",
          "2018/diapers and hygiene",
          "2018/drinks",
          "2018/dvds blu ray",
          "2018/electronics",
          "2018/fashio female clothing",
          "2018/fashion bags accessories",
          "2018/fashion male clothing",
          "2018/fashion shoes",
          "2018/fashion sport",
          "2018/fashion underwear beach",
          "2018/fixed telephony",
          "2018/flowers",
          "2018/food",
          "2018/food drink",
          "2018/furniture bedroom",
          "2018/furniture decor",
          "2018/furniture living room",
          "2018/garden tools",
          "2018/health beauty",
          "2018/home appliances",
          "2018/home appliances 2",
          "2018/home comfort 2",
          "2018/home confort",
          "2018/home construction",
          "2018/housewares",
          "2018/industry commerce and business",
          "2018/kitchen dining laundry garden furniture",
          "2018/la cuisine",
          "2018/luggage accessories",
          "2018/market place",
          "2018/music",
          "2018/musical instruments",
          "2018/office furniture",
          "2018/party supplies",
          "2018/perfumery",
          "2018/pet shop",
          "2018/signaling and security",
          "2018/small appliances",
          "2018/small appliances home oven and coffee",
          "2018/sports leisure",
          "2018/stationery",
          "2018/tablets printing image",
          "2018/telephony",
          "2018/toys",
          "2018/watches gifts",
          "2018/furniture mattress and upholstery",
          "2018/fashion childrens clothes",
          "2016",
          "2017",
          "2018"
         ],
         "labels": [
          "Dec",
          "Oct",
          "Oct",
          "Oct",
          "Oct",
          "Oct",
          "Oct",
          "Oct",
          "Oct",
          "Oct",
          "Oct",
          "Oct",
          "Oct",
          "Oct",
          "Oct",
          "Oct",
          "Oct",
          "Oct",
          "Oct",
          "Oct",
          "Oct",
          "Oct",
          "Oct",
          "Oct",
          "Oct",
          "Oct",
          "Oct",
          "Oct",
          "Oct",
          "Oct",
          "Oct",
          "Oct",
          "Sep",
          "Sep",
          "Apr",
          "Apr",
          "Apr",
          "Apr",
          "Apr",
          "Apr",
          "Apr",
          "Apr",
          "Apr",
          "Apr",
          "Apr",
          "Apr",
          "Apr",
          "Apr",
          "Apr",
          "Apr",
          "Apr",
          "Apr",
          "Apr",
          "Apr",
          "Apr",
          "Apr",
          "Apr",
          "Apr",
          "Apr",
          "Apr",
          "Apr",
          "Apr",
          "Apr",
          "Apr",
          "Apr",
          "Apr",
          "Apr",
          "Apr",
          "Apr",
          "Apr",
          "Apr",
          "Apr",
          "Apr",
          "Apr",
          "Apr",
          "Apr",
          "Apr",
          "Apr",
          "Apr",
          "Apr",
          "Apr",
          "Apr",
          "Apr",
          "Apr",
          "Apr",
          "Apr",
          "Apr",
          "Apr",
          "Apr",
          "Apr",
          "Apr",
          "Aug",
          "Aug",
          "Aug",
          "Aug",
          "Aug",
          "Aug",
          "Aug",
          "Aug",
          "Aug",
          "Aug",
          "Aug",
          "Aug",
          "Aug",
          "Aug",
          "Aug",
          "Aug",
          "Aug",
          "Aug",
          "Aug",
          "Aug",
          "Aug",
          "Aug",
          "Aug",
          "Aug",
          "Aug",
          "Aug",
          "Aug",
          "Aug",
          "Aug",
          "Aug",
          "Aug",
          "Aug",
          "Aug",
          "Aug",
          "Aug",
          "Aug",
          "Aug",
          "Aug",
          "Aug",
          "Aug",
          "Aug",
          "Aug",
          "Aug",
          "Aug",
          "Aug",
          "Aug",
          "Aug",
          "Aug",
          "Aug",
          "Aug",
          "Aug",
          "Aug",
          "Aug",
          "Aug",
          "Aug",
          "Aug",
          "Aug",
          "Aug",
          "Aug",
          "Aug",
          "Aug",
          "Aug",
          "Aug",
          "Dec",
          "Dec",
          "Dec",
          "Dec",
          "Dec",
          "Dec",
          "Dec",
          "Dec",
          "Dec",
          "Dec",
          "Dec",
          "Dec",
          "Dec",
          "Dec",
          "Dec",
          "Dec",
          "Dec",
          "Dec",
          "Dec",
          "Dec",
          "Dec",
          "Dec",
          "Dec",
          "Dec",
          "Dec",
          "Dec",
          "Dec",
          "Dec",
          "Dec",
          "Dec",
          "Dec",
          "Dec",
          "Dec",
          "Dec",
          "Dec",
          "Dec",
          "Dec",
          "Dec",
          "Dec",
          "Dec",
          "Dec",
          "Dec",
          "Dec",
          "Dec",
          "Dec",
          "Dec",
          "Dec",
          "Dec",
          "Dec",
          "Dec",
          "Dec",
          "Dec",
          "Dec",
          "Dec",
          "Dec",
          "Dec",
          "Dec",
          "Dec",
          "Dec",
          "Dec",
          "Dec",
          "Dec",
          "Feb",
          "Feb",
          "Feb",
          "Feb",
          "Feb",
          "Feb",
          "Feb",
          "Feb",
          "Feb",
          "Feb",
          "Feb",
          "Feb",
          "Feb",
          "Feb",
          "Feb",
          "Feb",
          "Feb",
          "Feb",
          "Feb",
          "Feb",
          "Feb",
          "Feb",
          "Feb",
          "Feb",
          "Feb",
          "Feb",
          "Feb",
          "Feb",
          "Feb",
          "Feb",
          "Feb",
          "Feb",
          "Feb",
          "Feb",
          "Feb",
          "Feb",
          "Feb",
          "Feb",
          "Feb",
          "Feb",
          "Feb",
          "Feb",
          "Feb",
          "Feb",
          "Feb",
          "Feb",
          "Feb",
          "Feb",
          "Feb",
          "Feb",
          "Feb",
          "Jan",
          "Jan",
          "Jan",
          "Jan",
          "Jan",
          "Jan",
          "Jan",
          "Jan",
          "Jan",
          "Jan",
          "Jan",
          "Jan",
          "Jan",
          "Jan",
          "Jan",
          "Jan",
          "Jan",
          "Jan",
          "Jan",
          "Jan",
          "Jan",
          "Jan",
          "Jan",
          "Jan",
          "Jan",
          "Jan",
          "Jan",
          "Jan",
          "Jan",
          "Jan",
          "Jan",
          "Jan",
          "Jan",
          "Jan",
          "Jan",
          "Jan",
          "Jan",
          "Jan",
          "Jan",
          "Jan",
          "Jan",
          "Jan",
          "Jan",
          "Jul",
          "Jul",
          "Jul",
          "Jul",
          "Jul",
          "Jul",
          "Jul",
          "Jul",
          "Jul",
          "Jul",
          "Jul",
          "Jul",
          "Jul",
          "Jul",
          "Jul",
          "Jul",
          "Jul",
          "Jul",
          "Jul",
          "Jul",
          "Jul",
          "Jul",
          "Jul",
          "Jul",
          "Jul",
          "Jul",
          "Jul",
          "Jul",
          "Jul",
          "Jul",
          "Jul",
          "Jul",
          "Jul",
          "Jul",
          "Jul",
          "Jul",
          "Jul",
          "Jul",
          "Jul",
          "Jul",
          "Jul",
          "Jul",
          "Jul",
          "Jul",
          "Jul",
          "Jul",
          "Jul",
          "Jul",
          "Jul",
          "Jul",
          "Jul",
          "Jul",
          "Jul",
          "Jul",
          "Jul",
          "Jul",
          "Jul",
          "Jul",
          "Jul",
          "Jul",
          "Jul",
          "Jun",
          "Jun",
          "Jun",
          "Jun",
          "Jun",
          "Jun",
          "Jun",
          "Jun",
          "Jun",
          "Jun",
          "Jun",
          "Jun",
          "Jun",
          "Jun",
          "Jun",
          "Jun",
          "Jun",
          "Jun",
          "Jun",
          "Jun",
          "Jun",
          "Jun",
          "Jun",
          "Jun",
          "Jun",
          "Jun",
          "Jun",
          "Jun",
          "Jun",
          "Jun",
          "Jun",
          "Jun",
          "Jun",
          "Jun",
          "Jun",
          "Jun",
          "Jun",
          "Jun",
          "Jun",
          "Jun",
          "Jun",
          "Jun",
          "Jun",
          "Jun",
          "Jun",
          "Jun",
          "Jun",
          "Jun",
          "Jun",
          "Jun",
          "Jun",
          "Jun",
          "Jun",
          "Jun",
          "Jun",
          "Jun",
          "Jun",
          "Jun",
          "Jun",
          "Mar",
          "Mar",
          "Mar",
          "Mar",
          "Mar",
          "Mar",
          "Mar",
          "Mar",
          "Mar",
          "Mar",
          "Mar",
          "Mar",
          "Mar",
          "Mar",
          "Mar",
          "Mar",
          "Mar",
          "Mar",
          "Mar",
          "Mar",
          "Mar",
          "Mar",
          "Mar",
          "Mar",
          "Mar",
          "Mar",
          "Mar",
          "Mar",
          "Mar",
          "Mar",
          "Mar",
          "Mar",
          "Mar",
          "Mar",
          "Mar",
          "Mar",
          "Mar",
          "Mar",
          "Mar",
          "Mar",
          "Mar",
          "Mar",
          "Mar",
          "Mar",
          "Mar",
          "Mar",
          "Mar",
          "Mar",
          "Mar",
          "Mar",
          "Mar",
          "Mar",
          "Mar",
          "May",
          "May",
          "May",
          "May",
          "May",
          "May",
          "May",
          "May",
          "May",
          "May",
          "May",
          "May",
          "May",
          "May",
          "May",
          "May",
          "May",
          "May",
          "May",
          "May",
          "May",
          "May",
          "May",
          "May",
          "May",
          "May",
          "May",
          "May",
          "May",
          "May",
          "May",
          "May",
          "May",
          "May",
          "May",
          "May",
          "May",
          "May",
          "May",
          "May",
          "May",
          "May",
          "May",
          "May",
          "May",
          "May",
          "May",
          "May",
          "May",
          "May",
          "May",
          "May",
          "May",
          "May",
          "May",
          "May",
          "May",
          "May",
          "Nov",
          "Nov",
          "Nov",
          "Nov",
          "Nov",
          "Nov",
          "Nov",
          "Nov",
          "Nov",
          "Nov",
          "Nov",
          "Nov",
          "Nov",
          "Nov",
          "Nov",
          "Nov",
          "Nov",
          "Nov",
          "Nov",
          "Nov",
          "Nov",
          "Nov",
          "Nov",
          "Nov",
          "Nov",
          "Nov",
          "Nov",
          "Nov",
          "Nov",
          "Nov",
          "Nov",
          "Nov",
          "Nov",
          "Nov",
          "Nov",
          "Nov",
          "Nov",
          "Nov",
          "Nov",
          "Nov",
          "Nov",
          "Nov",
          "Nov",
          "Nov",
          "Nov",
          "Nov",
          "Nov",
          "Nov",
          "Nov",
          "Nov",
          "Nov",
          "Nov",
          "Nov",
          "Nov",
          "Nov",
          "Nov",
          "Nov",
          "Nov",
          "Nov",
          "Nov",
          "Nov",
          "Nov",
          "Nov",
          "Nov",
          "Nov",
          "Oct",
          "Oct",
          "Oct",
          "Oct",
          "Oct",
          "Oct",
          "Oct",
          "Oct",
          "Oct",
          "Oct",
          "Oct",
          "Oct",
          "Oct",
          "Oct",
          "Oct",
          "Oct",
          "Oct",
          "Oct",
          "Oct",
          "Oct",
          "Oct",
          "Oct",
          "Oct",
          "Oct",
          "Oct",
          "Oct",
          "Oct",
          "Oct",
          "Oct",
          "Oct",
          "Oct",
          "Oct",
          "Oct",
          "Oct",
          "Oct",
          "Oct",
          "Oct",
          "Oct",
          "Oct",
          "Oct",
          "Oct",
          "Oct",
          "Oct",
          "Oct",
          "Oct",
          "Oct",
          "Oct",
          "Oct",
          "Oct",
          "Oct",
          "Oct",
          "Oct",
          "Oct",
          "Oct",
          "Oct",
          "Oct",
          "Oct",
          "Oct",
          "Oct",
          "Oct",
          "Oct",
          "Oct",
          "Oct",
          "Sep",
          "Sep",
          "Sep",
          "Sep",
          "Sep",
          "Sep",
          "Sep",
          "Sep",
          "Sep",
          "Sep",
          "Sep",
          "Sep",
          "Sep",
          "Sep",
          "Sep",
          "Sep",
          "Sep",
          "Sep",
          "Sep",
          "Sep",
          "Sep",
          "Sep",
          "Sep",
          "Sep",
          "Sep",
          "Sep",
          "Sep",
          "Sep",
          "Sep",
          "Sep",
          "Sep",
          "Sep",
          "Sep",
          "Sep",
          "Sep",
          "Sep",
          "Sep",
          "Sep",
          "Sep",
          "Sep",
          "Sep",
          "Sep",
          "Sep",
          "Sep",
          "Sep",
          "Sep",
          "Sep",
          "Sep",
          "Sep",
          "Sep",
          "Sep",
          "Sep",
          "Sep",
          "Sep",
          "Sep",
          "Sep",
          "Sep",
          "Sep",
          "Sep",
          "Sep",
          "Sep",
          "Sep",
          "Sep",
          "Sep",
          "Sep",
          "Apr",
          "Apr",
          "Apr",
          "Apr",
          "Apr",
          "Apr",
          "Apr",
          "Apr",
          "Apr",
          "Apr",
          "Apr",
          "Apr",
          "Apr",
          "Apr",
          "Apr",
          "Apr",
          "Apr",
          "Apr",
          "Apr",
          "Apr",
          "Apr",
          "Apr",
          "Apr",
          "Apr",
          "Apr",
          "Apr",
          "Apr",
          "Apr",
          "Apr",
          "Apr",
          "Apr",
          "Apr",
          "Apr",
          "Apr",
          "Apr",
          "Apr",
          "Apr",
          "Apr",
          "Apr",
          "Apr",
          "Apr",
          "Apr",
          "Apr",
          "Apr",
          "Apr",
          "Apr",
          "Apr",
          "Apr",
          "Apr",
          "Apr",
          "Apr",
          "Apr",
          "Apr",
          "Apr",
          "Apr",
          "Apr",
          "Apr",
          "Apr",
          "Apr",
          "Apr",
          "Apr",
          "Apr",
          "Apr",
          "Apr",
          "Apr",
          "Apr",
          "Apr",
          "Apr",
          "Aug",
          "Aug",
          "Aug",
          "Aug",
          "Aug",
          "Aug",
          "Aug",
          "Aug",
          "Aug",
          "Aug",
          "Aug",
          "Aug",
          "Aug",
          "Aug",
          "Aug",
          "Aug",
          "Aug",
          "Aug",
          "Aug",
          "Aug",
          "Aug",
          "Aug",
          "Aug",
          "Aug",
          "Aug",
          "Aug",
          "Aug",
          "Aug",
          "Aug",
          "Aug",
          "Aug",
          "Aug",
          "Aug",
          "Aug",
          "Aug",
          "Aug",
          "Aug",
          "Aug",
          "Aug",
          "Aug",
          "Aug",
          "Aug",
          "Aug",
          "Aug",
          "Aug",
          "Aug",
          "Aug",
          "Aug",
          "Aug",
          "Aug",
          "Aug",
          "Aug",
          "Aug",
          "Aug",
          "Aug",
          "Aug",
          "Aug",
          "Aug",
          "Aug",
          "Aug",
          "Aug",
          "Aug",
          "Aug",
          "Feb",
          "Feb",
          "Feb",
          "Feb",
          "Feb",
          "Feb",
          "Feb",
          "Feb",
          "Feb",
          "Feb",
          "Feb",
          "Feb",
          "Feb",
          "Feb",
          "Feb",
          "Feb",
          "Feb",
          "Feb",
          "Feb",
          "Feb",
          "Feb",
          "Feb",
          "Feb",
          "Feb",
          "Feb",
          "Feb",
          "Feb",
          "Feb",
          "Feb",
          "Feb",
          "Feb",
          "Feb",
          "Feb",
          "Feb",
          "Feb",
          "Feb",
          "Feb",
          "Feb",
          "Feb",
          "Feb",
          "Feb",
          "Feb",
          "Feb",
          "Feb",
          "Feb",
          "Feb",
          "Feb",
          "Feb",
          "Feb",
          "Feb",
          "Feb",
          "Feb",
          "Feb",
          "Feb",
          "Feb",
          "Feb",
          "Feb",
          "Feb",
          "Feb",
          "Feb",
          "Feb",
          "Feb",
          "Feb",
          "Jan",
          "Jan",
          "Jan",
          "Jan",
          "Jan",
          "Jan",
          "Jan",
          "Jan",
          "Jan",
          "Jan",
          "Jan",
          "Jan",
          "Jan",
          "Jan",
          "Jan",
          "Jan",
          "Jan",
          "Jan",
          "Jan",
          "Jan",
          "Jan",
          "Jan",
          "Jan",
          "Jan",
          "Jan",
          "Jan",
          "Jan",
          "Jan",
          "Jan",
          "Jan",
          "Jan",
          "Jan",
          "Jan",
          "Jan",
          "Jan",
          "Jan",
          "Jan",
          "Jan",
          "Jan",
          "Jan",
          "Jan",
          "Jan",
          "Jan",
          "Jan",
          "Jan",
          "Jan",
          "Jan",
          "Jan",
          "Jan",
          "Jan",
          "Jan",
          "Jan",
          "Jan",
          "Jan",
          "Jan",
          "Jan",
          "Jan",
          "Jan",
          "Jan",
          "Jan",
          "Jan",
          "Jan",
          "Jan",
          "Jan",
          "Jan",
          "Jan",
          "Jul",
          "Jul",
          "Jul",
          "Jul",
          "Jul",
          "Jul",
          "Jul",
          "Jul",
          "Jul",
          "Jul",
          "Jul",
          "Jul",
          "Jul",
          "Jul",
          "Jul",
          "Jul",
          "Jul",
          "Jul",
          "Jul",
          "Jul",
          "Jul",
          "Jul",
          "Jul",
          "Jul",
          "Jul",
          "Jul",
          "Jul",
          "Jul",
          "Jul",
          "Jul",
          "Jul",
          "Jul",
          "Jul",
          "Jul",
          "Jul",
          "Jul",
          "Jul",
          "Jul",
          "Jul",
          "Jul",
          "Jul",
          "Jul",
          "Jul",
          "Jul",
          "Jul",
          "Jul",
          "Jul",
          "Jul",
          "Jul",
          "Jul",
          "Jul",
          "Jul",
          "Jul",
          "Jul",
          "Jul",
          "Jul",
          "Jul",
          "Jul",
          "Jul",
          "Jul",
          "Jul",
          "Jul",
          "Jul",
          "Jul",
          "Jun",
          "Jun",
          "Jun",
          "Jun",
          "Jun",
          "Jun",
          "Jun",
          "Jun",
          "Jun",
          "Jun",
          "Jun",
          "Jun",
          "Jun",
          "Jun",
          "Jun",
          "Jun",
          "Jun",
          "Jun",
          "Jun",
          "Jun",
          "Jun",
          "Jun",
          "Jun",
          "Jun",
          "Jun",
          "Jun",
          "Jun",
          "Jun",
          "Jun",
          "Jun",
          "Jun",
          "Jun",
          "Jun",
          "Jun",
          "Jun",
          "Jun",
          "Jun",
          "Jun",
          "Jun",
          "Jun",
          "Jun",
          "Jun",
          "Jun",
          "Jun",
          "Jun",
          "Jun",
          "Jun",
          "Jun",
          "Jun",
          "Jun",
          "Jun",
          "Jun",
          "Jun",
          "Jun",
          "Jun",
          "Jun",
          "Jun",
          "Jun",
          "Jun",
          "Jun",
          "Jun",
          "Jun",
          "Jun",
          "Jun",
          "Mar",
          "Mar",
          "Mar",
          "Mar",
          "Mar",
          "Mar",
          "Mar",
          "Mar",
          "Mar",
          "Mar",
          "Mar",
          "Mar",
          "Mar",
          "Mar",
          "Mar",
          "Mar",
          "Mar",
          "Mar",
          "Mar",
          "Mar",
          "Mar",
          "Mar",
          "Mar",
          "Mar",
          "Mar",
          "Mar",
          "Mar",
          "Mar",
          "Mar",
          "Mar",
          "Mar",
          "Mar",
          "Mar",
          "Mar",
          "Mar",
          "Mar",
          "Mar",
          "Mar",
          "Mar",
          "Mar",
          "Mar",
          "Mar",
          "Mar",
          "Mar",
          "Mar",
          "Mar",
          "Mar",
          "Mar",
          "Mar",
          "Mar",
          "Mar",
          "Mar",
          "Mar",
          "Mar",
          "Mar",
          "Mar",
          "Mar",
          "Mar",
          "Mar",
          "Mar",
          "Mar",
          "Mar",
          "Mar",
          "Mar",
          "Mar",
          "Mar",
          "May",
          "May",
          "May",
          "May",
          "May",
          "May",
          "May",
          "May",
          "May",
          "May",
          "May",
          "May",
          "May",
          "May",
          "May",
          "May",
          "May",
          "May",
          "May",
          "May",
          "May",
          "May",
          "May",
          "May",
          "May",
          "May",
          "May",
          "May",
          "May",
          "May",
          "May",
          "May",
          "May",
          "May",
          "May",
          "May",
          "May",
          "May",
          "May",
          "May",
          "May",
          "May",
          "May",
          "May",
          "May",
          "May",
          "May",
          "May",
          "May",
          "May",
          "May",
          "May",
          "May",
          "May",
          "May",
          "May",
          "May",
          "May",
          "May",
          "May",
          "May",
          "May",
          "May",
          "Sep",
          "fashion bags accessories",
          "air conditioning",
          "audio",
          "auto",
          "baby",
          "bed bath table",
          "books general interest",
          "books technical",
          "computers accessories",
          "consoles games",
          "cool stuff",
          "diapers and hygiene",
          "electronics",
          "fashio female clothing",
          "fashion male clothing",
          "fashion shoes",
          "fixed telephony",
          "food",
          "furniture decor",
          "garden tools",
          "health beauty",
          "housewares",
          "industry commerce and business",
          "market place",
          "office furniture",
          "perfumery",
          "pet shop",
          "sports leisure",
          "telephony",
          "toys",
          "watches gifts",
          "air conditioning",
          "art",
          "audio",
          "auto",
          "baby",
          "bed bath table",
          "books general interest",
          "books imported",
          "books technical",
          "christmas supplies",
          "cine photo",
          "computers accessories",
          "consoles games",
          "cool stuff",
          "costruction tools garden",
          "costruction tools tools",
          "drinks",
          "dvds blu ray",
          "electronics",
          "fashio female clothing",
          "fashion bags accessories",
          "fashion male clothing",
          "fashion shoes",
          "fashion sport",
          "fashion underwear beach",
          "fixed telephony",
          "food",
          "food drink",
          "furniture bedroom",
          "furniture decor",
          "furniture living room",
          "furniture mattress and upholstery",
          "garden tools",
          "health beauty",
          "home appliances",
          "home appliances 2",
          "home comfort 2",
          "home confort",
          "home construction",
          "housewares",
          "kitchen dining laundry garden furniture",
          "la cuisine",
          "luggage accessories",
          "market place",
          "music",
          "musical instruments",
          "office furniture",
          "perfumery",
          "pet shop",
          "signaling and security",
          "small appliances",
          "sports leisure",
          "stationery",
          "tablets printing image",
          "telephony",
          "toys",
          "watches gifts",
          "agro industry and commerce",
          "cds dvds musicals",
          "computers",
          "construction tools construction",
          "construction tools lights",
          "construction tools safety",
          "fashion childrens clothes",
          "industry commerce and business",
          "small appliances home oven and coffee",
          "diapers and hygiene",
          "flowers",
          "party supplies",
          "security and services",
          "arts and craftmanship",
          "agro industry and commerce",
          "air conditioning",
          "art",
          "arts and craftmanship",
          "audio",
          "auto",
          "baby",
          "bed bath table",
          "books general interest",
          "books imported",
          "books technical",
          "cds dvds musicals",
          "christmas supplies",
          "cine photo",
          "computers",
          "computers accessories",
          "consoles games",
          "construction tools construction",
          "construction tools lights",
          "construction tools safety",
          "cool stuff",
          "costruction tools garden",
          "costruction tools tools",
          "diapers and hygiene",
          "drinks",
          "dvds blu ray",
          "electronics",
          "fashio female clothing",
          "fashion bags accessories",
          "fashion male clothing",
          "fashion shoes",
          "fashion sport",
          "fashion underwear beach",
          "fixed telephony",
          "flowers",
          "food",
          "food drink",
          "furniture bedroom",
          "furniture decor",
          "furniture living room",
          "garden tools",
          "health beauty",
          "home appliances",
          "home appliances 2",
          "home comfort 2",
          "home confort",
          "home construction",
          "housewares",
          "industry commerce and business",
          "kitchen dining laundry garden furniture",
          "la cuisine",
          "luggage accessories",
          "market place",
          "music",
          "musical instruments",
          "office furniture",
          "party supplies",
          "perfumery",
          "pet shop",
          "signaling and security",
          "small appliances",
          "small appliances home oven and coffee",
          "sports leisure",
          "stationery",
          "tablets printing image",
          "telephony",
          "toys",
          "watches gifts",
          "furniture mattress and upholstery",
          "fashion childrens clothes",
          "2016",
          "2017",
          "2018"
         ],
         "marker": {
          "coloraxis": "coloraxis",
          "colors": {
           "bdata": "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",
           "dtype": "f8"
          }
         },
         "name": "",
         "parents": [
          "2016/fashion bags accessories",
          "2016/air conditioning",
          "2016/audio",
          "2016/auto",
          "2016/baby",
          "2016/bed bath table",
          "2016/books general interest",
          "2016/books technical",
          "2016/computers accessories",
          "2016/consoles games",
          "2016/cool stuff",
          "2016/diapers and hygiene",
          "2016/electronics",
          "2016/fashio female clothing",
          "2016/fashion bags accessories",
          "2016/fashion male clothing",
          "2016/fashion shoes",
          "2016/fixed telephony",
          "2016/food",
          "2016/furniture decor",
          "2016/garden tools",
          "2016/health beauty",
          "2016/housewares",
          "2016/industry commerce and business",
          "2016/market place",
          "2016/office furniture",
          "2016/perfumery",
          "2016/pet shop",
          "2016/sports leisure",
          "2016/telephony",
          "2016/toys",
          "2016/watches gifts",
          "2016/furniture decor",
          "2016/telephony",
          "2017/air conditioning",
          "2017/art",
          "2017/audio",
          "2017/auto",
          "2017/baby",
          "2017/bed bath table",
          "2017/books general interest",
          "2017/books imported",
          "2017/books technical",
          "2017/christmas supplies",
          "2017/cine photo",
          "2017/computers accessories",
          "2017/consoles games",
          "2017/cool stuff",
          "2017/costruction tools garden",
          "2017/costruction tools tools",
          "2017/drinks",
          "2017/dvds blu ray",
          "2017/electronics",
          "2017/fashio female clothing",
          "2017/fashion bags accessories",
          "2017/fashion male clothing",
          "2017/fashion shoes",
          "2017/fashion sport",
          "2017/fashion underwear beach",
          "2017/fixed telephony",
          "2017/food",
          "2017/food drink",
          "2017/furniture bedroom",
          "2017/furniture decor",
          "2017/furniture living room",
          "2017/furniture mattress and upholstery",
          "2017/garden tools",
          "2017/health beauty",
          "2017/home appliances",
          "2017/home appliances 2",
          "2017/home comfort 2",
          "2017/home confort",
          "2017/home construction",
          "2017/housewares",
          "2017/kitchen dining laundry garden furniture",
          "2017/la cuisine",
          "2017/luggage accessories",
          "2017/market place",
          "2017/music",
          "2017/musical instruments",
          "2017/office furniture",
          "2017/perfumery",
          "2017/pet shop",
          "2017/signaling and security",
          "2017/small appliances",
          "2017/sports leisure",
          "2017/stationery",
          "2017/tablets printing image",
          "2017/telephony",
          "2017/toys",
          "2017/watches gifts",
          "2017/agro industry and commerce",
          "2017/air conditioning",
          "2017/art",
          "2017/audio",
          "2017/auto",
          "2017/baby",
          "2017/bed bath table",
          "2017/books general interest",
          "2017/books imported",
          "2017/books technical",
          "2017/cds dvds musicals",
          "2017/christmas supplies",
          "2017/computers",
          "2017/computers accessories",
          "2017/consoles games",
          "2017/construction tools construction",
          "2017/construction tools lights",
          "2017/construction tools safety",
          "2017/cool stuff",
          "2017/costruction tools garden",
          "2017/drinks",
          "2017/dvds blu ray",
          "2017/electronics",
          "2017/fashio female clothing",
          "2017/fashion bags accessories",
          "2017/fashion childrens clothes",
          "2017/fashion male clothing",
          "2017/fashion shoes",
          "2017/fashion sport",
          "2017/fashion underwear beach",
          "2017/fixed telephony",
          "2017/food",
          "2017/food drink",
          "2017/furniture bedroom",
          "2017/furniture decor",
          "2017/furniture living room",
          "2017/furniture mattress and upholstery",
          "2017/garden tools",
          "2017/health beauty",
          "2017/home appliances",
          "2017/home appliances 2",
          "2017/home comfort 2",
          "2017/home confort",
          "2017/home construction",
          "2017/housewares",
          "2017/industry commerce and business",
          "2017/kitchen dining laundry garden furniture",
          "2017/la cuisine",
          "2017/luggage accessories",
          "2017/market place",
          "2017/musical instruments",
          "2017/office furniture",
          "2017/perfumery",
          "2017/pet shop",
          "2017/signaling and security",
          "2017/small appliances",
          "2017/small appliances home oven and coffee",
          "2017/sports leisure",
          "2017/stationery",
          "2017/tablets printing image",
          "2017/telephony",
          "2017/toys",
          "2017/watches gifts",
          "2017/agro industry and commerce",
          "2017/air conditioning",
          "2017/art",
          "2017/audio",
          "2017/auto",
          "2017/baby",
          "2017/bed bath table",
          "2017/books general interest",
          "2017/books imported",
          "2017/books technical",
          "2017/cds dvds musicals",
          "2017/christmas supplies",
          "2017/computers",
          "2017/computers accessories",
          "2017/consoles games",
          "2017/construction tools construction",
          "2017/construction tools lights",
          "2017/construction tools safety",
          "2017/cool stuff",
          "2017/costruction tools garden",
          "2017/costruction tools tools",
          "2017/diapers and hygiene",
          "2017/drinks",
          "2017/dvds blu ray",
          "2017/electronics",
          "2017/fashion bags accessories",
          "2017/fashion male clothing",
          "2017/fashion shoes",
          "2017/fashion sport",
          "2017/fashion underwear beach",
          "2017/fixed telephony",
          "2017/flowers",
          "2017/food",
          "2017/food drink",
          "2017/furniture bedroom",
          "2017/furniture decor",
          "2017/furniture living room",
          "2017/furniture mattress and upholstery",
          "2017/garden tools",
          "2017/health beauty",
          "2017/home appliances",
          "2017/home appliances 2",
          "2017/home confort",
          "2017/home construction",
          "2017/housewares",
          "2017/industry commerce and business",
          "2017/kitchen dining laundry garden furniture",
          "2017/luggage accessories",
          "2017/market place",
          "2017/musical instruments",
          "2017/office furniture",
          "2017/party supplies",
          "2017/perfumery",
          "2017/pet shop",
          "2017/signaling and security",
          "2017/small appliances",
          "2017/sports leisure",
          "2017/stationery",
          "2017/tablets printing image",
          "2017/telephony",
          "2017/toys",
          "2017/watches gifts",
          "2017/agro industry and commerce",
          "2017/air conditioning",
          "2017/audio",
          "2017/auto",
          "2017/baby",
          "2017/bed bath table",
          "2017/books general interest",
          "2017/books imported",
          "2017/books technical",
          "2017/cine photo",
          "2017/computers",
          "2017/computers accessories",
          "2017/consoles games",
          "2017/construction tools construction",
          "2017/construction tools safety",
          "2017/cool stuff",
          "2017/costruction tools garden",
          "2017/dvds blu ray",
          "2017/electronics",
          "2017/fashio female clothing",
          "2017/fashion bags accessories",
          "2017/fashion male clothing",
          "2017/fashion shoes",
          "2017/fashion underwear beach",
          "2017/fixed telephony",
          "2017/food",
          "2017/furniture bedroom",
          "2017/furniture decor",
          "2017/furniture living room",
          "2017/garden tools",
          "2017/health beauty",
          "2017/home appliances",
          "2017/home appliances 2",
          "2017/home confort",
          "2017/home construction",
          "2017/housewares",
          "2017/industry commerce and business",
          "2017/kitchen dining laundry garden furniture",
          "2017/luggage accessories",
          "2017/market place",
          "2017/musical instruments",
          "2017/office furniture",
          "2017/perfumery",
          "2017/pet shop",
          "2017/small appliances",
          "2017/sports leisure",
          "2017/stationery",
          "2017/tablets printing image",
          "2017/telephony",
          "2017/toys",
          "2017/watches gifts",
          "2017/agro industry and commerce",
          "2017/air conditioning",
          "2017/auto",
          "2017/baby",
          "2017/bed bath table",
          "2017/books general interest",
          "2017/computers",
          "2017/computers accessories",
          "2017/consoles games",
          "2017/construction tools construction",
          "2017/cool stuff",
          "2017/dvds blu ray",
          "2017/electronics",
          "2017/fashio female clothing",
          "2017/fashion bags accessories",
          "2017/fashion male clothing",
          "2017/fashion shoes",
          "2017/fashion underwear beach",
          "2017/fixed telephony",
          "2017/food",
          "2017/furniture bedroom",
          "2017/furniture decor",
          "2017/furniture living room",
          "2017/garden tools",
          "2017/health beauty",
          "2017/home appliances 2",
          "2017/home comfort 2",
          "2017/housewares",
          "2017/kitchen dining laundry garden furniture",
          "2017/luggage accessories",
          "2017/market place",
          "2017/music",
          "2017/musical instruments",
          "2017/office furniture",
          "2017/perfumery",
          "2017/pet shop",
          "2017/security and services",
          "2017/small appliances",
          "2017/sports leisure",
          "2017/stationery",
          "2017/telephony",
          "2017/toys",
          "2017/watches gifts",
          "2017/agro industry and commerce",
          "2017/air conditioning",
          "2017/art",
          "2017/arts and craftmanship",
          "2017/audio",
          "2017/auto",
          "2017/baby",
          "2017/bed bath table",
          "2017/books general interest",
          "2017/books technical",
          "2017/cds dvds musicals",
          "2017/christmas supplies",
          "2017/computers accessories",
          "2017/consoles games",
          "2017/construction tools construction",
          "2017/construction tools lights",
          "2017/cool stuff",
          "2017/costruction tools garden",
          "2017/drinks",
          "2017/dvds blu ray",
          "2017/electronics",
          "2017/fashio female clothing",
          "2017/fashion bags accessories",
          "2017/fashion male clothing",
          "2017/fashion shoes",
          "2017/fashion sport",
          "2017/fashion underwear beach",
          "2017/fixed telephony",
          "2017/food",
          "2017/food drink",
          "2017/furniture bedroom",
          "2017/furniture decor",
          "2017/furniture living room",
          "2017/furniture mattress and upholstery",
          "2017/garden tools",
          "2017/health beauty",
          "2017/home appliances",
          "2017/home appliances 2",
          "2017/home comfort 2",
          "2017/home confort",
          "2017/home construction",
          "2017/housewares",
          "2017/industry commerce and business",
          "2017/kitchen dining laundry garden furniture",
          "2017/la cuisine",
          "2017/luggage accessories",
          "2017/market place",
          "2017/music",
          "2017/musical instruments",
          "2017/office furniture",
          "2017/party supplies",
          "2017/perfumery",
          "2017/pet shop",
          "2017/signaling and security",
          "2017/small appliances",
          "2017/sports leisure",
          "2017/stationery",
          "2017/tablets printing image",
          "2017/telephony",
          "2017/toys",
          "2017/watches gifts",
          "2017/agro industry and commerce",
          "2017/air conditioning",
          "2017/art",
          "2017/audio",
          "2017/auto",
          "2017/baby",
          "2017/bed bath table",
          "2017/books general interest",
          "2017/books imported",
          "2017/books technical",
          "2017/christmas supplies",
          "2017/cine photo",
          "2017/computers accessories",
          "2017/consoles games",
          "2017/construction tools construction",
          "2017/cool stuff",
          "2017/costruction tools garden",
          "2017/drinks",
          "2017/dvds blu ray",
          "2017/electronics",
          "2017/fashio female clothing",
          "2017/fashion bags accessories",
          "2017/fashion childrens clothes",
          "2017/fashion male clothing",
          "2017/fashion shoes",
          "2017/fashion sport",
          "2017/fashion underwear beach",
          "2017/fixed telephony",
          "2017/food",
          "2017/food drink",
          "2017/furniture bedroom",
          "2017/furniture decor",
          "2017/furniture living room",
          "2017/garden tools",
          "2017/health beauty",
          "2017/home appliances",
          "2017/home appliances 2",
          "2017/home comfort 2",
          "2017/home confort",
          "2017/home construction",
          "2017/housewares",
          "2017/industry commerce and business",
          "2017/kitchen dining laundry garden furniture",
          "2017/luggage accessories",
          "2017/market place",
          "2017/music",
          "2017/musical instruments",
          "2017/office furniture",
          "2017/perfumery",
          "2017/pet shop",
          "2017/signaling and security",
          "2017/small appliances",
          "2017/small appliances home oven and coffee",
          "2017/sports leisure",
          "2017/stationery",
          "2017/tablets printing image",
          "2017/telephony",
          "2017/toys",
          "2017/watches gifts",
          "2017/agro industry and commerce",
          "2017/air conditioning",
          "2017/art",
          "2017/audio",
          "2017/auto",
          "2017/baby",
          "2017/bed bath table",
          "2017/books general interest",
          "2017/books technical",
          "2017/computers accessories",
          "2017/consoles games",
          "2017/construction tools construction",
          "2017/construction tools safety",
          "2017/cool stuff",
          "2017/drinks",
          "2017/dvds blu ray",
          "2017/electronics",
          "2017/fashio female clothing",
          "2017/fashion bags accessories",
          "2017/fashion male clothing",
          "2017/fashion shoes",
          "2017/fashion sport",
          "2017/fashion underwear beach",
          "2017/fixed telephony",
          "2017/food",
          "2017/food drink",
          "2017/furniture decor",
          "2017/furniture living room",
          "2017/garden tools",
          "2017/health beauty",
          "2017/home appliances",
          "2017/home appliances 2",
          "2017/home comfort 2",
          "2017/home confort",
          "2017/home construction",
          "2017/housewares",
          "2017/industry commerce and business",
          "2017/kitchen dining laundry garden furniture",
          "2017/luggage accessories",
          "2017/market place",
          "2017/music",
          "2017/musical instruments",
          "2017/office furniture",
          "2017/perfumery",
          "2017/pet shop",
          "2017/signaling and security",
          "2017/small appliances",
          "2017/sports leisure",
          "2017/stationery",
          "2017/tablets printing image",
          "2017/telephony",
          "2017/toys",
          "2017/watches gifts",
          "2017/agro industry and commerce",
          "2017/air conditioning",
          "2017/art",
          "2017/arts and craftmanship",
          "2017/audio",
          "2017/auto",
          "2017/baby",
          "2017/bed bath table",
          "2017/books general interest",
          "2017/books technical",
          "2017/cine photo",
          "2017/computers accessories",
          "2017/consoles games",
          "2017/construction tools construction",
          "2017/cool stuff",
          "2017/costruction tools garden",
          "2017/costruction tools tools",
          "2017/drinks",
          "2017/dvds blu ray",
          "2017/electronics",
          "2017/fashio female clothing",
          "2017/fashion bags accessories",
          "2017/fashion childrens clothes",
          "2017/fashion male clothing",
          "2017/fashion shoes",
          "2017/fashion sport",
          "2017/fashion underwear beach",
          "2017/fixed telephony",
          "2017/food",
          "2017/food drink",
          "2017/furniture bedroom",
          "2017/furniture decor",
          "2017/furniture living room",
          "2017/furniture mattress and upholstery",
          "2017/garden tools",
          "2017/health beauty",
          "2017/home appliances",
          "2017/home appliances 2",
          "2017/home confort",
          "2017/home construction",
          "2017/housewares",
          "2017/industry commerce and business",
          "2017/kitchen dining laundry garden furniture",
          "2017/la cuisine",
          "2017/luggage accessories",
          "2017/market place",
          "2017/musical instruments",
          "2017/office furniture",
          "2017/perfumery",
          "2017/pet shop",
          "2017/signaling and security",
          "2017/small appliances",
          "2017/sports leisure",
          "2017/stationery",
          "2017/tablets printing image",
          "2017/telephony",
          "2017/toys",
          "2017/watches gifts",
          "2017/agro industry and commerce",
          "2017/air conditioning",
          "2017/art",
          "2017/audio",
          "2017/auto",
          "2017/baby",
          "2017/bed bath table",
          "2017/books general interest",
          "2017/books imported",
          "2017/books technical",
          "2017/cds dvds musicals",
          "2017/christmas supplies",
          "2017/cine photo",
          "2017/computers",
          "2017/computers accessories",
          "2017/consoles games",
          "2017/construction tools construction",
          "2017/construction tools lights",
          "2017/construction tools safety",
          "2017/cool stuff",
          "2017/costruction tools garden",
          "2017/costruction tools tools",
          "2017/drinks",
          "2017/dvds blu ray",
          "2017/electronics",
          "2017/fashio female clothing",
          "2017/fashion bags accessories",
          "2017/fashion male clothing",
          "2017/fashion shoes",
          "2017/fashion sport",
          "2017/fashion underwear beach",
          "2017/fixed telephony",
          "2017/flowers",
          "2017/food",
          "2017/food drink",
          "2017/furniture bedroom",
          "2017/furniture decor",
          "2017/furniture living room",
          "2017/furniture mattress and upholstery",
          "2017/garden tools",
          "2017/health beauty",
          "2017/home appliances",
          "2017/home appliances 2",
          "2017/home comfort 2",
          "2017/home confort",
          "2017/home construction",
          "2017/housewares",
          "2017/industry commerce and business",
          "2017/kitchen dining laundry garden furniture",
          "2017/la cuisine",
          "2017/luggage accessories",
          "2017/market place",
          "2017/musical instruments",
          "2017/office furniture",
          "2017/party supplies",
          "2017/perfumery",
          "2017/pet shop",
          "2017/signaling and security",
          "2017/small appliances",
          "2017/sports leisure",
          "2017/stationery",
          "2017/tablets printing image",
          "2017/telephony",
          "2017/toys",
          "2017/watches gifts",
          "2017/agro industry and commerce",
          "2017/air conditioning",
          "2017/art",
          "2017/audio",
          "2017/auto",
          "2017/baby",
          "2017/bed bath table",
          "2017/books general interest",
          "2017/books technical",
          "2017/cds dvds musicals",
          "2017/christmas supplies",
          "2017/cine photo",
          "2017/computers",
          "2017/computers accessories",
          "2017/consoles games",
          "2017/construction tools construction",
          "2017/construction tools lights",
          "2017/construction tools safety",
          "2017/cool stuff",
          "2017/costruction tools garden",
          "2017/costruction tools tools",
          "2017/drinks",
          "2017/dvds blu ray",
          "2017/electronics",
          "2017/fashion bags accessories",
          "2017/fashion childrens clothes",
          "2017/fashion male clothing",
          "2017/fashion shoes",
          "2017/fashion sport",
          "2017/fashion underwear beach",
          "2017/fixed telephony",
          "2017/food",
          "2017/food drink",
          "2017/furniture bedroom",
          "2017/furniture decor",
          "2017/furniture living room",
          "2017/garden tools",
          "2017/health beauty",
          "2017/home appliances",
          "2017/home appliances 2",
          "2017/home comfort 2",
          "2017/home confort",
          "2017/home construction",
          "2017/housewares",
          "2017/industry commerce and business",
          "2017/kitchen dining laundry garden furniture",
          "2017/la cuisine",
          "2017/luggage accessories",
          "2017/market place",
          "2017/music",
          "2017/musical instruments",
          "2017/office furniture",
          "2017/party supplies",
          "2017/perfumery",
          "2017/pet shop",
          "2017/signaling and security",
          "2017/small appliances",
          "2017/sports leisure",
          "2017/stationery",
          "2017/tablets printing image",
          "2017/telephony",
          "2017/toys",
          "2017/watches gifts",
          "2017/agro industry and commerce",
          "2017/air conditioning",
          "2017/art",
          "2017/audio",
          "2017/auto",
          "2017/baby",
          "2017/bed bath table",
          "2017/books general interest",
          "2017/books imported",
          "2017/books technical",
          "2017/christmas supplies",
          "2017/cine photo",
          "2017/computers",
          "2017/computers accessories",
          "2017/consoles games",
          "2017/construction tools construction",
          "2017/construction tools lights",
          "2017/construction tools safety",
          "2017/cool stuff",
          "2017/costruction tools garden",
          "2017/costruction tools tools",
          "2017/drinks",
          "2017/dvds blu ray",
          "2017/electronics",
          "2017/fashio female clothing",
          "2017/fashion bags accessories",
          "2017/fashion childrens clothes",
          "2017/fashion male clothing",
          "2017/fashion shoes",
          "2017/fashion sport",
          "2017/fashion underwear beach",
          "2017/fixed telephony",
          "2017/food",
          "2017/food drink",
          "2017/furniture bedroom",
          "2017/furniture decor",
          "2017/furniture living room",
          "2017/furniture mattress and upholstery",
          "2017/garden tools",
          "2017/health beauty",
          "2017/home appliances",
          "2017/home appliances 2",
          "2017/home comfort 2",
          "2017/home confort",
          "2017/home construction",
          "2017/housewares",
          "2017/industry commerce and business",
          "2017/kitchen dining laundry garden furniture",
          "2017/luggage accessories",
          "2017/market place",
          "2017/musical instruments",
          "2017/office furniture",
          "2017/party supplies",
          "2017/perfumery",
          "2017/pet shop",
          "2017/security and services",
          "2017/signaling and security",
          "2017/small appliances",
          "2017/small appliances home oven and coffee",
          "2017/sports leisure",
          "2017/stationery",
          "2017/tablets printing image",
          "2017/telephony",
          "2017/toys",
          "2017/watches gifts",
          "2018/agro industry and commerce",
          "2018/air conditioning",
          "2018/art",
          "2018/arts and craftmanship",
          "2018/audio",
          "2018/auto",
          "2018/baby",
          "2018/bed bath table",
          "2018/books general interest",
          "2018/books imported",
          "2018/books technical",
          "2018/cds dvds musicals",
          "2018/christmas supplies",
          "2018/cine photo",
          "2018/computers",
          "2018/computers accessories",
          "2018/consoles games",
          "2018/construction tools construction",
          "2018/construction tools lights",
          "2018/construction tools safety",
          "2018/cool stuff",
          "2018/costruction tools garden",
          "2018/costruction tools tools",
          "2018/diapers and hygiene",
          "2018/drinks",
          "2018/dvds blu ray",
          "2018/electronics",
          "2018/fashio female clothing",
          "2018/fashion bags accessories",
          "2018/fashion male clothing",
          "2018/fashion shoes",
          "2018/fashion sport",
          "2018/fashion underwear beach",
          "2018/fixed telephony",
          "2018/flowers",
          "2018/food",
          "2018/food drink",
          "2018/furniture bedroom",
          "2018/furniture decor",
          "2018/furniture living room",
          "2018/garden tools",
          "2018/health beauty",
          "2018/home appliances",
          "2018/home appliances 2",
          "2018/home comfort 2",
          "2018/home confort",
          "2018/home construction",
          "2018/housewares",
          "2018/industry commerce and business",
          "2018/kitchen dining laundry garden furniture",
          "2018/la cuisine",
          "2018/luggage accessories",
          "2018/market place",
          "2018/music",
          "2018/musical instruments",
          "2018/office furniture",
          "2018/party supplies",
          "2018/perfumery",
          "2018/pet shop",
          "2018/signaling and security",
          "2018/small appliances",
          "2018/small appliances home oven and coffee",
          "2018/sports leisure",
          "2018/stationery",
          "2018/tablets printing image",
          "2018/telephony",
          "2018/toys",
          "2018/watches gifts",
          "2018/agro industry and commerce",
          "2018/air conditioning",
          "2018/art",
          "2018/arts and craftmanship",
          "2018/audio",
          "2018/auto",
          "2018/baby",
          "2018/bed bath table",
          "2018/books general interest",
          "2018/books imported",
          "2018/books technical",
          "2018/christmas supplies",
          "2018/cine photo",
          "2018/computers",
          "2018/computers accessories",
          "2018/consoles games",
          "2018/construction tools construction",
          "2018/construction tools lights",
          "2018/construction tools safety",
          "2018/cool stuff",
          "2018/costruction tools garden",
          "2018/costruction tools tools",
          "2018/diapers and hygiene",
          "2018/drinks",
          "2018/dvds blu ray",
          "2018/electronics",
          "2018/fashio female clothing",
          "2018/fashion bags accessories",
          "2018/fashion male clothing",
          "2018/fashion shoes",
          "2018/fashion sport",
          "2018/fashion underwear beach",
          "2018/fixed telephony",
          "2018/food",
          "2018/food drink",
          "2018/furniture bedroom",
          "2018/furniture decor",
          "2018/furniture living room",
          "2018/garden tools",
          "2018/health beauty",
          "2018/home appliances",
          "2018/home appliances 2",
          "2018/home confort",
          "2018/home construction",
          "2018/housewares",
          "2018/industry commerce and business",
          "2018/kitchen dining laundry garden furniture",
          "2018/luggage accessories",
          "2018/market place",
          "2018/music",
          "2018/musical instruments",
          "2018/office furniture",
          "2018/party supplies",
          "2018/perfumery",
          "2018/pet shop",
          "2018/signaling and security",
          "2018/small appliances",
          "2018/small appliances home oven and coffee",
          "2018/sports leisure",
          "2018/stationery",
          "2018/telephony",
          "2018/toys",
          "2018/watches gifts",
          "2018/agro industry and commerce",
          "2018/air conditioning",
          "2018/art",
          "2018/audio",
          "2018/auto",
          "2018/baby",
          "2018/bed bath table",
          "2018/books general interest",
          "2018/books imported",
          "2018/books technical",
          "2018/christmas supplies",
          "2018/cine photo",
          "2018/computers accessories",
          "2018/consoles games",
          "2018/construction tools construction",
          "2018/construction tools lights",
          "2018/construction tools safety",
          "2018/cool stuff",
          "2018/costruction tools garden",
          "2018/costruction tools tools",
          "2018/diapers and hygiene",
          "2018/drinks",
          "2018/dvds blu ray",
          "2018/electronics",
          "2018/fashio female clothing",
          "2018/fashion bags accessories",
          "2018/fashion male clothing",
          "2018/fashion shoes",
          "2018/fashion underwear beach",
          "2018/fixed telephony",
          "2018/flowers",
          "2018/food",
          "2018/food drink",
          "2018/furniture bedroom",
          "2018/furniture decor",
          "2018/furniture living room",
          "2018/furniture mattress and upholstery",
          "2018/garden tools",
          "2018/health beauty",
          "2018/home appliances",
          "2018/home appliances 2",
          "2018/home comfort 2",
          "2018/home confort",
          "2018/home construction",
          "2018/housewares",
          "2018/industry commerce and business",
          "2018/kitchen dining laundry garden furniture",
          "2018/luggage accessories",
          "2018/market place",
          "2018/music",
          "2018/musical instruments",
          "2018/office furniture",
          "2018/perfumery",
          "2018/pet shop",
          "2018/signaling and security",
          "2018/small appliances",
          "2018/small appliances home oven and coffee",
          "2018/sports leisure",
          "2018/stationery",
          "2018/tablets printing image",
          "2018/telephony",
          "2018/toys",
          "2018/watches gifts",
          "2018/agro industry and commerce",
          "2018/air conditioning",
          "2018/art",
          "2018/audio",
          "2018/auto",
          "2018/baby",
          "2018/bed bath table",
          "2018/books general interest",
          "2018/books imported",
          "2018/books technical",
          "2018/christmas supplies",
          "2018/cine photo",
          "2018/computers",
          "2018/computers accessories",
          "2018/consoles games",
          "2018/construction tools construction",
          "2018/construction tools lights",
          "2018/construction tools safety",
          "2018/cool stuff",
          "2018/costruction tools garden",
          "2018/costruction tools tools",
          "2018/diapers and hygiene",
          "2018/drinks",
          "2018/dvds blu ray",
          "2018/electronics",
          "2018/fashio female clothing",
          "2018/fashion bags accessories",
          "2018/fashion male clothing",
          "2018/fashion shoes",
          "2018/fashion sport",
          "2018/fashion underwear beach",
          "2018/fixed telephony",
          "2018/flowers",
          "2018/food",
          "2018/food drink",
          "2018/furniture bedroom",
          "2018/furniture decor",
          "2018/furniture living room",
          "2018/furniture mattress and upholstery",
          "2018/garden tools",
          "2018/health beauty",
          "2018/home appliances",
          "2018/home appliances 2",
          "2018/home confort",
          "2018/home construction",
          "2018/housewares",
          "2018/industry commerce and business",
          "2018/kitchen dining laundry garden furniture",
          "2018/la cuisine",
          "2018/luggage accessories",
          "2018/market place",
          "2018/music",
          "2018/musical instruments",
          "2018/office furniture",
          "2018/party supplies",
          "2018/perfumery",
          "2018/pet shop",
          "2018/signaling and security",
          "2018/small appliances",
          "2018/small appliances home oven and coffee",
          "2018/sports leisure",
          "2018/stationery",
          "2018/tablets printing image",
          "2018/telephony",
          "2018/toys",
          "2018/watches gifts",
          "2018/agro industry and commerce",
          "2018/air conditioning",
          "2018/art",
          "2018/arts and craftmanship",
          "2018/audio",
          "2018/auto",
          "2018/baby",
          "2018/bed bath table",
          "2018/books general interest",
          "2018/books imported",
          "2018/books technical",
          "2018/christmas supplies",
          "2018/cine photo",
          "2018/computers",
          "2018/computers accessories",
          "2018/consoles games",
          "2018/construction tools construction",
          "2018/construction tools lights",
          "2018/construction tools safety",
          "2018/cool stuff",
          "2018/costruction tools garden",
          "2018/costruction tools tools",
          "2018/diapers and hygiene",
          "2018/drinks",
          "2018/dvds blu ray",
          "2018/electronics",
          "2018/fashion bags accessories",
          "2018/fashion male clothing",
          "2018/fashion shoes",
          "2018/fashion underwear beach",
          "2018/fixed telephony",
          "2018/flowers",
          "2018/food",
          "2018/food drink",
          "2018/furniture bedroom",
          "2018/furniture decor",
          "2018/furniture living room",
          "2018/furniture mattress and upholstery",
          "2018/garden tools",
          "2018/health beauty",
          "2018/home appliances",
          "2018/home appliances 2",
          "2018/home comfort 2",
          "2018/home confort",
          "2018/home construction",
          "2018/housewares",
          "2018/industry commerce and business",
          "2018/kitchen dining laundry garden furniture",
          "2018/luggage accessories",
          "2018/market place",
          "2018/music",
          "2018/musical instruments",
          "2018/office furniture",
          "2018/party supplies",
          "2018/perfumery",
          "2018/pet shop",
          "2018/signaling and security",
          "2018/small appliances",
          "2018/small appliances home oven and coffee",
          "2018/sports leisure",
          "2018/stationery",
          "2018/telephony",
          "2018/toys",
          "2018/watches gifts",
          "2018/agro industry and commerce",
          "2018/air conditioning",
          "2018/art",
          "2018/audio",
          "2018/auto",
          "2018/baby",
          "2018/bed bath table",
          "2018/books general interest",
          "2018/books imported",
          "2018/books technical",
          "2018/christmas supplies",
          "2018/cine photo",
          "2018/computers",
          "2018/computers accessories",
          "2018/consoles games",
          "2018/construction tools construction",
          "2018/construction tools lights",
          "2018/construction tools safety",
          "2018/cool stuff",
          "2018/costruction tools garden",
          "2018/costruction tools tools",
          "2018/diapers and hygiene",
          "2018/drinks",
          "2018/dvds blu ray",
          "2018/electronics",
          "2018/fashion bags accessories",
          "2018/fashion childrens clothes",
          "2018/fashion male clothing",
          "2018/fashion shoes",
          "2018/fashion underwear beach",
          "2018/fixed telephony",
          "2018/flowers",
          "2018/food",
          "2018/food drink",
          "2018/furniture bedroom",
          "2018/furniture decor",
          "2018/furniture living room",
          "2018/garden tools",
          "2018/health beauty",
          "2018/home appliances",
          "2018/home appliances 2",
          "2018/home comfort 2",
          "2018/home confort",
          "2018/home construction",
          "2018/housewares",
          "2018/industry commerce and business",
          "2018/kitchen dining laundry garden furniture",
          "2018/luggage accessories",
          "2018/market place",
          "2018/music",
          "2018/musical instruments",
          "2018/office furniture",
          "2018/party supplies",
          "2018/perfumery",
          "2018/pet shop",
          "2018/signaling and security",
          "2018/small appliances",
          "2018/small appliances home oven and coffee",
          "2018/sports leisure",
          "2018/stationery",
          "2018/tablets printing image",
          "2018/telephony",
          "2018/toys",
          "2018/watches gifts",
          "2018/agro industry and commerce",
          "2018/air conditioning",
          "2018/art",
          "2018/audio",
          "2018/auto",
          "2018/baby",
          "2018/bed bath table",
          "2018/books general interest",
          "2018/books imported",
          "2018/books technical",
          "2018/christmas supplies",
          "2018/cine photo",
          "2018/computers accessories",
          "2018/consoles games",
          "2018/construction tools construction",
          "2018/construction tools lights",
          "2018/construction tools safety",
          "2018/cool stuff",
          "2018/costruction tools garden",
          "2018/costruction tools tools",
          "2018/diapers and hygiene",
          "2018/drinks",
          "2018/dvds blu ray",
          "2018/electronics",
          "2018/fashio female clothing",
          "2018/fashion bags accessories",
          "2018/fashion childrens clothes",
          "2018/fashion shoes",
          "2018/fashion sport",
          "2018/fashion underwear beach",
          "2018/fixed telephony",
          "2018/flowers",
          "2018/food",
          "2018/food drink",
          "2018/furniture bedroom",
          "2018/furniture decor",
          "2018/furniture living room",
          "2018/furniture mattress and upholstery",
          "2018/garden tools",
          "2018/health beauty",
          "2018/home appliances",
          "2018/home appliances 2",
          "2018/home comfort 2",
          "2018/home confort",
          "2018/home construction",
          "2018/housewares",
          "2018/industry commerce and business",
          "2018/kitchen dining laundry garden furniture",
          "2018/la cuisine",
          "2018/luggage accessories",
          "2018/market place",
          "2018/music",
          "2018/musical instruments",
          "2018/office furniture",
          "2018/party supplies",
          "2018/perfumery",
          "2018/pet shop",
          "2018/signaling and security",
          "2018/small appliances",
          "2018/small appliances home oven and coffee",
          "2018/sports leisure",
          "2018/stationery",
          "2018/tablets printing image",
          "2018/telephony",
          "2018/toys",
          "2018/watches gifts",
          "2018/agro industry and commerce",
          "2018/air conditioning",
          "2018/art",
          "2018/arts and craftmanship",
          "2018/audio",
          "2018/auto",
          "2018/baby",
          "2018/bed bath table",
          "2018/books general interest",
          "2018/books imported",
          "2018/books technical",
          "2018/christmas supplies",
          "2018/cine photo",
          "2018/computers",
          "2018/computers accessories",
          "2018/consoles games",
          "2018/construction tools construction",
          "2018/construction tools lights",
          "2018/construction tools safety",
          "2018/cool stuff",
          "2018/costruction tools garden",
          "2018/costruction tools tools",
          "2018/diapers and hygiene",
          "2018/drinks",
          "2018/dvds blu ray",
          "2018/electronics",
          "2018/fashion bags accessories",
          "2018/fashion male clothing",
          "2018/fashion shoes",
          "2018/fashion underwear beach",
          "2018/fixed telephony",
          "2018/flowers",
          "2018/food",
          "2018/food drink",
          "2018/furniture bedroom",
          "2018/furniture decor",
          "2018/furniture living room",
          "2018/garden tools",
          "2018/health beauty",
          "2018/home appliances",
          "2018/home appliances 2",
          "2018/home confort",
          "2018/home construction",
          "2018/housewares",
          "2018/industry commerce and business",
          "2018/kitchen dining laundry garden furniture",
          "2018/luggage accessories",
          "2018/market place",
          "2018/music",
          "2018/musical instruments",
          "2018/office furniture",
          "2018/party supplies",
          "2018/perfumery",
          "2018/pet shop",
          "2018/signaling and security",
          "2018/small appliances",
          "2018/small appliances home oven and coffee",
          "2018/sports leisure",
          "2018/stationery",
          "2018/tablets printing image",
          "2018/telephony",
          "2018/toys",
          "2018/watches gifts",
          "2018/kitchen dining laundry garden furniture",
          "2016",
          "2016",
          "2016",
          "2016",
          "2016",
          "2016",
          "2016",
          "2016",
          "2016",
          "2016",
          "2016",
          "2016",
          "2016",
          "2016",
          "2016",
          "2016",
          "2016",
          "2016",
          "2016",
          "2016",
          "2016",
          "2016",
          "2016",
          "2016",
          "2016",
          "2016",
          "2016",
          "2016",
          "2016",
          "2016",
          "2016",
          "2017",
          "2017",
          "2017",
          "2017",
          "2017",
          "2017",
          "2017",
          "2017",
          "2017",
          "2017",
          "2017",
          "2017",
          "2017",
          "2017",
          "2017",
          "2017",
          "2017",
          "2017",
          "2017",
          "2017",
          "2017",
          "2017",
          "2017",
          "2017",
          "2017",
          "2017",
          "2017",
          "2017",
          "2017",
          "2017",
          "2017",
          "2017",
          "2017",
          "2017",
          "2017",
          "2017",
          "2017",
          "2017",
          "2017",
          "2017",
          "2017",
          "2017",
          "2017",
          "2017",
          "2017",
          "2017",
          "2017",
          "2017",
          "2017",
          "2017",
          "2017",
          "2017",
          "2017",
          "2017",
          "2017",
          "2017",
          "2017",
          "2017",
          "2017",
          "2017",
          "2017",
          "2017",
          "2017",
          "2017",
          "2017",
          "2017",
          "2017",
          "2017",
          "2017",
          "2017",
          "2017",
          "2018",
          "2018",
          "2018",
          "2018",
          "2018",
          "2018",
          "2018",
          "2018",
          "2018",
          "2018",
          "2018",
          "2018",
          "2018",
          "2018",
          "2018",
          "2018",
          "2018",
          "2018",
          "2018",
          "2018",
          "2018",
          "2018",
          "2018",
          "2018",
          "2018",
          "2018",
          "2018",
          "2018",
          "2018",
          "2018",
          "2018",
          "2018",
          "2018",
          "2018",
          "2018",
          "2018",
          "2018",
          "2018",
          "2018",
          "2018",
          "2018",
          "2018",
          "2018",
          "2018",
          "2018",
          "2018",
          "2018",
          "2018",
          "2018",
          "2018",
          "2018",
          "2018",
          "2018",
          "2018",
          "2018",
          "2018",
          "2018",
          "2018",
          "2018",
          "2018",
          "2018",
          "2018",
          "2018",
          "2018",
          "2018",
          "2018",
          "2018",
          "2018",
          "2018",
          "2018",
          "",
          "",
          ""
         ],
         "type": "sunburst",
         "values": {
          "bdata": "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",
          "dtype": "f8"
         }
        }
       ],
       "layout": {
        "coloraxis": {
         "cmid": 63850.37337199913,
         "colorbar": {
          "title": {
           "text": "Sales Revenue"
          }
         },
         "colorscale": [
          [
           0,
           "rgb(103,0,31)"
          ],
          [
           0.1,
           "rgb(178,24,43)"
          ],
          [
           0.2,
           "rgb(214,96,77)"
          ],
          [
           0.3,
           "rgb(244,165,130)"
          ],
          [
           0.4,
           "rgb(253,219,199)"
          ],
          [
           0.5,
           "rgb(247,247,247)"
          ],
          [
           0.6,
           "rgb(209,229,240)"
          ],
          [
           0.7,
           "rgb(146,197,222)"
          ],
          [
           0.8,
           "rgb(67,147,195)"
          ],
          [
           0.9,
           "rgb(33,102,172)"
          ],
          [
           1,
           "rgb(5,48,97)"
          ]
         ]
        },
        "legend": {
         "tracegroupgap": 0
        },
        "margin": {
         "t": 60
        },
        "template": {
         "data": {
          "bar": [
           {
            "error_x": {
             "color": "#2a3f5f"
            },
            "error_y": {
             "color": "#2a3f5f"
            },
            "marker": {
             "line": {
              "color": "#E5ECF6",
              "width": 0.5
             },
             "pattern": {
              "fillmode": "overlay",
              "size": 10,
              "solidity": 0.2
             }
            },
            "type": "bar"
           }
          ],
          "barpolar": [
           {
            "marker": {
             "line": {
              "color": "#E5ECF6",
              "width": 0.5
             },
             "pattern": {
              "fillmode": "overlay",
              "size": 10,
              "solidity": 0.2
             }
            },
            "type": "barpolar"
           }
          ],
          "carpet": [
           {
            "aaxis": {
             "endlinecolor": "#2a3f5f",
             "gridcolor": "white",
             "linecolor": "white",
             "minorgridcolor": "white",
             "startlinecolor": "#2a3f5f"
            },
            "baxis": {
             "endlinecolor": "#2a3f5f",
             "gridcolor": "white",
             "linecolor": "white",
             "minorgridcolor": "white",
             "startlinecolor": "#2a3f5f"
            },
            "type": "carpet"
           }
          ],
          "choropleth": [
           {
            "colorbar": {
             "outlinewidth": 0,
             "ticks": ""
            },
            "type": "choropleth"
           }
          ],
          "contour": [
           {
            "colorbar": {
             "outlinewidth": 0,
             "ticks": ""
            },
            "colorscale": [
             [
              0,
              "#0d0887"
             ],
             [
              0.1111111111111111,
              "#46039f"
             ],
             [
              0.2222222222222222,
              "#7201a8"
             ],
             [
              0.3333333333333333,
              "#9c179e"
             ],
             [
              0.4444444444444444,
              "#bd3786"
             ],
             [
              0.5555555555555556,
              "#d8576b"
             ],
             [
              0.6666666666666666,
              "#ed7953"
             ],
             [
              0.7777777777777778,
              "#fb9f3a"
             ],
             [
              0.8888888888888888,
              "#fdca26"
             ],
             [
              1,
              "#f0f921"
             ]
            ],
            "type": "contour"
           }
          ],
          "contourcarpet": [
           {
            "colorbar": {
             "outlinewidth": 0,
             "ticks": ""
            },
            "type": "contourcarpet"
           }
          ],
          "heatmap": [
           {
            "colorbar": {
             "outlinewidth": 0,
             "ticks": ""
            },
            "colorscale": [
             [
              0,
              "#0d0887"
             ],
             [
              0.1111111111111111,
              "#46039f"
             ],
             [
              0.2222222222222222,
              "#7201a8"
             ],
             [
              0.3333333333333333,
              "#9c179e"
             ],
             [
              0.4444444444444444,
              "#bd3786"
             ],
             [
              0.5555555555555556,
              "#d8576b"
             ],
             [
              0.6666666666666666,
              "#ed7953"
             ],
             [
              0.7777777777777778,
              "#fb9f3a"
             ],
             [
              0.8888888888888888,
              "#fdca26"
             ],
             [
              1,
              "#f0f921"
             ]
            ],
            "type": "heatmap"
           }
          ],
          "histogram": [
           {
            "marker": {
             "pattern": {
              "fillmode": "overlay",
              "size": 10,
              "solidity": 0.2
             }
            },
            "type": "histogram"
           }
          ],
          "histogram2d": [
           {
            "colorbar": {
             "outlinewidth": 0,
             "ticks": ""
            },
            "colorscale": [
             [
              0,
              "#0d0887"
             ],
             [
              0.1111111111111111,
              "#46039f"
             ],
             [
              0.2222222222222222,
              "#7201a8"
             ],
             [
              0.3333333333333333,
              "#9c179e"
             ],
             [
              0.4444444444444444,
              "#bd3786"
             ],
             [
              0.5555555555555556,
              "#d8576b"
             ],
             [
              0.6666666666666666,
              "#ed7953"
             ],
             [
              0.7777777777777778,
              "#fb9f3a"
             ],
             [
              0.8888888888888888,
              "#fdca26"
             ],
             [
              1,
              "#f0f921"
             ]
            ],
            "type": "histogram2d"
           }
          ],
          "histogram2dcontour": [
           {
            "colorbar": {
             "outlinewidth": 0,
             "ticks": ""
            },
            "colorscale": [
             [
              0,
              "#0d0887"
             ],
             [
              0.1111111111111111,
              "#46039f"
             ],
             [
              0.2222222222222222,
              "#7201a8"
             ],
             [
              0.3333333333333333,
              "#9c179e"
             ],
             [
              0.4444444444444444,
              "#bd3786"
             ],
             [
              0.5555555555555556,
              "#d8576b"
             ],
             [
              0.6666666666666666,
              "#ed7953"
             ],
             [
              0.7777777777777778,
              "#fb9f3a"
             ],
             [
              0.8888888888888888,
              "#fdca26"
             ],
             [
              1,
              "#f0f921"
             ]
            ],
            "type": "histogram2dcontour"
           }
          ],
          "mesh3d": [
           {
            "colorbar": {
             "outlinewidth": 0,
             "ticks": ""
            },
            "type": "mesh3d"
           }
          ],
          "parcoords": [
           {
            "line": {
             "colorbar": {
              "outlinewidth": 0,
              "ticks": ""
             }
            },
            "type": "parcoords"
           }
          ],
          "pie": [
           {
            "automargin": true,
            "type": "pie"
           }
          ],
          "scatter": [
           {
            "fillpattern": {
             "fillmode": "overlay",
             "size": 10,
             "solidity": 0.2
            },
            "type": "scatter"
           }
          ],
          "scatter3d": [
           {
            "line": {
             "colorbar": {
              "outlinewidth": 0,
              "ticks": ""
             }
            },
            "marker": {
             "colorbar": {
              "outlinewidth": 0,
              "ticks": ""
             }
            },
            "type": "scatter3d"
           }
          ],
          "scattercarpet": [
           {
            "marker": {
             "colorbar": {
              "outlinewidth": 0,
              "ticks": ""
             }
            },
            "type": "scattercarpet"
           }
          ],
          "scattergeo": [
           {
            "marker": {
             "colorbar": {
              "outlinewidth": 0,
              "ticks": ""
             }
            },
            "type": "scattergeo"
           }
          ],
          "scattergl": [
           {
            "marker": {
             "colorbar": {
              "outlinewidth": 0,
              "ticks": ""
             }
            },
            "type": "scattergl"
           }
          ],
          "scattermap": [
           {
            "marker": {
             "colorbar": {
              "outlinewidth": 0,
              "ticks": ""
             }
            },
            "type": "scattermap"
           }
          ],
          "scattermapbox": [
           {
            "marker": {
             "colorbar": {
              "outlinewidth": 0,
              "ticks": ""
             }
            },
            "type": "scattermapbox"
           }
          ],
          "scatterpolar": [
           {
            "marker": {
             "colorbar": {
              "outlinewidth": 0,
              "ticks": ""
             }
            },
            "type": "scatterpolar"
           }
          ],
          "scatterpolargl": [
           {
            "marker": {
             "colorbar": {
              "outlinewidth": 0,
              "ticks": ""
             }
            },
            "type": "scatterpolargl"
           }
          ],
          "scatterternary": [
           {
            "marker": {
             "colorbar": {
              "outlinewidth": 0,
              "ticks": ""
             }
            },
            "type": "scatterternary"
           }
          ],
          "surface": [
           {
            "colorbar": {
             "outlinewidth": 0,
             "ticks": ""
            },
            "colorscale": [
             [
              0,
              "#0d0887"
             ],
             [
              0.1111111111111111,
              "#46039f"
             ],
             [
              0.2222222222222222,
              "#7201a8"
             ],
             [
              0.3333333333333333,
              "#9c179e"
             ],
             [
              0.4444444444444444,
              "#bd3786"
             ],
             [
              0.5555555555555556,
              "#d8576b"
             ],
             [
              0.6666666666666666,
              "#ed7953"
             ],
             [
              0.7777777777777778,
              "#fb9f3a"
             ],
             [
              0.8888888888888888,
              "#fdca26"
             ],
             [
              1,
              "#f0f921"
             ]
            ],
            "type": "surface"
           }
          ],
          "table": [
           {
            "cells": {
             "fill": {
              "color": "#EBF0F8"
             },
             "line": {
              "color": "white"
             }
            },
            "header": {
             "fill": {
              "color": "#C8D4E3"
             },
             "line": {
              "color": "white"
             }
            },
            "type": "table"
           }
          ]
         },
         "layout": {
          "annotationdefaults": {
           "arrowcolor": "#2a3f5f",
           "arrowhead": 0,
           "arrowwidth": 1
          },
          "autotypenumbers": "strict",
          "coloraxis": {
           "colorbar": {
            "outlinewidth": 0,
            "ticks": ""
           }
          },
          "colorscale": {
           "diverging": [
            [
             0,
             "#8e0152"
            ],
            [
             0.1,
             "#c51b7d"
            ],
            [
             0.2,
             "#de77ae"
            ],
            [
             0.3,
             "#f1b6da"
            ],
            [
             0.4,
             "#fde0ef"
            ],
            [
             0.5,
             "#f7f7f7"
            ],
            [
             0.6,
             "#e6f5d0"
            ],
            [
             0.7,
             "#b8e186"
            ],
            [
             0.8,
             "#7fbc41"
            ],
            [
             0.9,
             "#4d9221"
            ],
            [
             1,
             "#276419"
            ]
           ],
           "sequential": [
            [
             0,
             "#0d0887"
            ],
            [
             0.1111111111111111,
             "#46039f"
            ],
            [
             0.2222222222222222,
             "#7201a8"
            ],
            [
             0.3333333333333333,
             "#9c179e"
            ],
            [
             0.4444444444444444,
             "#bd3786"
            ],
            [
             0.5555555555555556,
             "#d8576b"
            ],
            [
             0.6666666666666666,
             "#ed7953"
            ],
            [
             0.7777777777777778,
             "#fb9f3a"
            ],
            [
             0.8888888888888888,
             "#fdca26"
            ],
            [
             1,
             "#f0f921"
            ]
           ],
           "sequentialminus": [
            [
             0,
             "#0d0887"
            ],
            [
             0.1111111111111111,
             "#46039f"
            ],
            [
             0.2222222222222222,
             "#7201a8"
            ],
            [
             0.3333333333333333,
             "#9c179e"
            ],
            [
             0.4444444444444444,
             "#bd3786"
            ],
            [
             0.5555555555555556,
             "#d8576b"
            ],
            [
             0.6666666666666666,
             "#ed7953"
            ],
            [
             0.7777777777777778,
             "#fb9f3a"
            ],
            [
             0.8888888888888888,
             "#fdca26"
            ],
            [
             1,
             "#f0f921"
            ]
           ]
          },
          "colorway": [
           "#636efa",
           "#EF553B",
           "#00cc96",
           "#ab63fa",
           "#FFA15A",
           "#19d3f3",
           "#FF6692",
           "#B6E880",
           "#FF97FF",
           "#FECB52"
          ],
          "font": {
           "color": "#2a3f5f"
          },
          "geo": {
           "bgcolor": "white",
           "lakecolor": "white",
           "landcolor": "#E5ECF6",
           "showlakes": true,
           "showland": true,
           "subunitcolor": "white"
          },
          "hoverlabel": {
           "align": "left"
          },
          "hovermode": "closest",
          "mapbox": {
           "style": "light"
          },
          "paper_bgcolor": "white",
          "plot_bgcolor": "#E5ECF6",
          "polar": {
           "angularaxis": {
            "gridcolor": "white",
            "linecolor": "white",
            "ticks": ""
           },
           "bgcolor": "#E5ECF6",
           "radialaxis": {
            "gridcolor": "white",
            "linecolor": "white",
            "ticks": ""
           }
          },
          "scene": {
           "xaxis": {
            "backgroundcolor": "#E5ECF6",
            "gridcolor": "white",
            "gridwidth": 2,
            "linecolor": "white",
            "showbackground": true,
            "ticks": "",
            "zerolinecolor": "white"
           },
           "yaxis": {
            "backgroundcolor": "#E5ECF6",
            "gridcolor": "white",
            "gridwidth": 2,
            "linecolor": "white",
            "showbackground": true,
            "ticks": "",
            "zerolinecolor": "white"
           },
           "zaxis": {
            "backgroundcolor": "#E5ECF6",
            "gridcolor": "white",
            "gridwidth": 2,
            "linecolor": "white",
            "showbackground": true,
            "ticks": "",
            "zerolinecolor": "white"
           }
          },
          "shapedefaults": {
           "line": {
            "color": "#2a3f5f"
           }
          },
          "ternary": {
           "aaxis": {
            "gridcolor": "white",
            "linecolor": "white",
            "ticks": ""
           },
           "baxis": {
            "gridcolor": "white",
            "linecolor": "white",
            "ticks": ""
           },
           "bgcolor": "#E5ECF6",
           "caxis": {
            "gridcolor": "white",
            "linecolor": "white",
            "ticks": ""
           }
          },
          "title": {
           "x": 0.05
          },
          "xaxis": {
           "automargin": true,
           "gridcolor": "white",
           "linecolor": "white",
           "ticks": "",
           "title": {
            "standoff": 15
           },
           "zerolinecolor": "white",
           "zerolinewidth": 2
          },
          "yaxis": {
           "automargin": true,
           "gridcolor": "white",
           "linecolor": "white",
           "ticks": "",
           "title": {
            "standoff": 15
           },
           "zerolinecolor": "white",
           "zerolinewidth": 2
          }
         }
        }
       }
      }
     },
     "metadata": {},
     "output_type": "display_data"
    }
   ],
   "source": [
    "# Plot com 4 dimensões (NÃO USE ALGO ASSIM!!!)\n",
    "fig = px.sunburst(total_rev, \n",
    "                  path = ['Sales Year', 'Product Category', 'Sales Month'], \n",
    "                  values = 'Sales Revenue',\n",
    "                  color = 'Sales Revenue', \n",
    "                  hover_data = ['Sales Revenue'],\n",
    "                  color_continuous_scale = 'RdBu',\n",
    "                  color_continuous_midpoint = np.average(total_rev['Sales Revenue'], \n",
    "                                                         weights = total_rev['Sales Revenue']))\n",
    "fig.show()"
   ]
  },
  {
   "cell_type": "code",
   "execution_count": 75,
   "metadata": {},
   "outputs": [
    {
     "data": {
      "application/vnd.plotly.v1+json": {
       "config": {
        "plotlyServerURL": "https://plot.ly"
       },
       "data": [
        {
         "branchvalues": "total",
         "customdata": {
          "bdata": "4jXLWCmBhkBI4XoUbkOyQCpcj8L14GZAZmZmZmY5pUCPwvUo3FCiQFK4HoVr56FA4XoUrkcRYkA9CtejcL1yQGZmZmZmuaJApHA9Ctfyr0BwPQrXo92UQEjhehSu32JA4XoUrkcOlUC4HoXrUWhRQK5H4XoU7kFAmpmZmZl5RECamZmZmTOIQB+F61G4DlhA6MRw6LZdxkD1KFyPwuSWQFyPwvUorrdA16NwPQphpUAK16NwPQaEQIXrUbjeW7NAMzMzMzPOmECkcD0K1yG8QHoUrkfhPohAH4XrUTiurkCX3l/2S0yFQArXo3C9JrZArkfhehQYq0AIuXIvm4yyQAMTdpZ2pLNACvfxfZi1pEDXlMOn6Q7lQNYo31R6N9VAuH6/ElQL9kA9L67IxNSoQGEaoBDj9nhA1PLcEH8ajkADyM2Q8OaTQDZQ1cVrsmNA3iRdiwod80BHAYejLnTEQBdO0HTy++ZAjNChus+3nED/h9Y8qWaKQK7JHnyya5xAb+DhhokflEC9sD3qsmzFQMyXxmbdr3lAbCdBzcVRyUCOLqajPb2YQL7PnLKlCaFANJcAZUwxh0DzDQFR/eOWQG+8YurKovRA+cRRZ1vAnkAd1+jaPdCiQI94nC722qhAkZlNjM6E8kAguc/te6fEQBizqBvmRYZAkEbv+MfI6EB3AFGes3DuQGnD1a08FK1AAHl9Oe7sqkC22NQkkVhwQJayF5n8HLpA6qSAK4IYukAOHODIgPXiQLikSqiNBbZA89Ug+mQpd0C4sFZrcJjEQPDyAIPJvqRAA0R+lp0GikC8JMWwT1PHQGTq6lpX/uBA4fsslKQ92UCZ2v3rvEXHQBg0es29xpFAQdRgDjFOyEAGtPRlgNTuQBp8zQaLatFAUFATI8VWkkBdUiZNHqvWQI2ZuW5c6edAiG28LYsi8EBLe604PFrgQMVTeA4l6HJAwSlkEGG340BAyC2VX92+QEnmPSsI+JtAN59lHVlVrUBTADStprhZQBS2vVHI3JtAhkJG1Oi3gEDNzMzMzOxoQNbElVf4uG9AMema/PoThUD4Pq5dNvhlQKZ0JLtIVV5A8PcQtRGJvUCA/r+EC4W+QLa91Ug1tKRAHYKVbCA2jUDGJ4K9t8y7QAzu8P81+OtAQWuP5TTq5kCepsgwqn78QObrzF2+Z7VApvT7jTjDhEC9QM+8bKujQIXrUbgeZV1AJ2QxAcZxs0CpG+Q1euWYQNlxGID7NtNANBaNoLhSAEEt7e1lhLzFQBh7TSlSK91AEo94FA9fxEBcLcZuzx3CQG4CM+rOkONABekmAU5PsEA7y/pu68CzQMhPSm3toYVAxmCq1hTQ2UCdtlJ4CKqAQLaB1HnkfdVA969ANMevh0A/2stljETJQJlftLZEd4JA6wnAwZvVlkAcR+HFNLhiQKqWsKM3FoFAWoSfU2KF0kB9uzMjeyB7QOJQAQ53NLlAvLMrkzjzokD0VUuemlCiQAg18yhysvdAm5Zd6aXDwkDdIsem9djmQF36a0FlLwBBCsAkVoCOxUDGf9znkS7LQJRduL5RgVxAbbe18tR7q0DjuwdjGq3IQEgJTDKKDfdAZ8dNPwR2uEDiWx76OuG4QHJQ73zHd4BAYGHTdslZyUC2J6TOKNalQG1anOWLU5FAWumI5qnC0ECMQuQI5iTqQECoU3RGsZJACrL0DRgk3UBzHB0agiXZQGvlv7OYHdJAbfQSLwUjz0CYsiPLvDXCQE/f65alDfhA7WCrYqZa3ECRxxeHZ3mFQCUtJAsfbONAP/jjQ9Au3EAUGM7Flxr7QI+77qvIhoxAi/acvRt7ZkAKv3Ij7lu0QAX26Ukwv+hAv6PBK+pW8kA=",
          "dtype": "f8",
          "shape": "175, 1"
         },
         "domain": {
          "x": [
           0,
           1
          ],
          "y": [
           0,
           1
          ]
         },
         "hovertemplate": "labels=%{label}<br>Sales Revenue_sum=%{value}<br>parent=%{parent}<br>id=%{id}<br>Sales Revenue=%{color}<extra></extra>",
         "ids": [
          "2016/fashion bags accessories",
          "2016/air conditioning",
          "2016/audio",
          "2016/auto",
          "2016/baby",
          "2016/bed bath table",
          "2016/books general interest",
          "2016/books technical",
          "2016/computers accessories",
          "2016/consoles games",
          "2016/cool stuff",
          "2016/diapers and hygiene",
          "2016/electronics",
          "2016/fashio female clothing",
          "2016/fashion male clothing",
          "2016/fashion shoes",
          "2016/fixed telephony",
          "2016/food",
          "2016/furniture decor",
          "2016/garden tools",
          "2016/health beauty",
          "2016/housewares",
          "2016/industry commerce and business",
          "2016/market place",
          "2016/office furniture",
          "2016/perfumery",
          "2016/pet shop",
          "2016/sports leisure",
          "2016/telephony",
          "2016/toys",
          "2016/watches gifts",
          "2017/air conditioning",
          "2017/art",
          "2017/audio",
          "2017/auto",
          "2017/baby",
          "2017/bed bath table",
          "2017/books general interest",
          "2017/books imported",
          "2017/books technical",
          "2017/christmas supplies",
          "2017/cine photo",
          "2017/computers accessories",
          "2017/consoles games",
          "2017/cool stuff",
          "2017/costruction tools garden",
          "2017/costruction tools tools",
          "2017/drinks",
          "2017/dvds blu ray",
          "2017/electronics",
          "2017/fashio female clothing",
          "2017/fashion bags accessories",
          "2017/fashion male clothing",
          "2017/fashion shoes",
          "2017/fashion sport",
          "2017/fashion underwear beach",
          "2017/fixed telephony",
          "2017/food",
          "2017/food drink",
          "2017/furniture bedroom",
          "2017/furniture decor",
          "2017/furniture living room",
          "2017/furniture mattress and upholstery",
          "2017/garden tools",
          "2017/health beauty",
          "2017/home appliances",
          "2017/home appliances 2",
          "2017/home comfort 2",
          "2017/home confort",
          "2017/home construction",
          "2017/housewares",
          "2017/kitchen dining laundry garden furniture",
          "2017/la cuisine",
          "2017/luggage accessories",
          "2017/market place",
          "2017/music",
          "2017/musical instruments",
          "2017/office furniture",
          "2017/perfumery",
          "2017/pet shop",
          "2017/signaling and security",
          "2017/small appliances",
          "2017/sports leisure",
          "2017/stationery",
          "2017/tablets printing image",
          "2017/telephony",
          "2017/toys",
          "2017/watches gifts",
          "2017/agro industry and commerce",
          "2017/cds dvds musicals",
          "2017/computers",
          "2017/construction tools construction",
          "2017/construction tools lights",
          "2017/construction tools safety",
          "2017/fashion childrens clothes",
          "2017/industry commerce and business",
          "2017/small appliances home oven and coffee",
          "2017/diapers and hygiene",
          "2017/flowers",
          "2017/party supplies",
          "2017/security and services",
          "2017/arts and craftmanship",
          "2018/agro industry and commerce",
          "2018/air conditioning",
          "2018/art",
          "2018/arts and craftmanship",
          "2018/audio",
          "2018/auto",
          "2018/baby",
          "2018/bed bath table",
          "2018/books general interest",
          "2018/books imported",
          "2018/books technical",
          "2018/cds dvds musicals",
          "2018/christmas supplies",
          "2018/cine photo",
          "2018/computers",
          "2018/computers accessories",
          "2018/consoles games",
          "2018/construction tools construction",
          "2018/construction tools lights",
          "2018/construction tools safety",
          "2018/cool stuff",
          "2018/costruction tools garden",
          "2018/costruction tools tools",
          "2018/diapers and hygiene",
          "2018/drinks",
          "2018/dvds blu ray",
          "2018/electronics",
          "2018/fashio female clothing",
          "2018/fashion bags accessories",
          "2018/fashion male clothing",
          "2018/fashion shoes",
          "2018/fashion sport",
          "2018/fashion underwear beach",
          "2018/fixed telephony",
          "2018/flowers",
          "2018/food",
          "2018/food drink",
          "2018/furniture bedroom",
          "2018/furniture decor",
          "2018/furniture living room",
          "2018/garden tools",
          "2018/health beauty",
          "2018/home appliances",
          "2018/home appliances 2",
          "2018/home comfort 2",
          "2018/home confort",
          "2018/home construction",
          "2018/housewares",
          "2018/industry commerce and business",
          "2018/kitchen dining laundry garden furniture",
          "2018/la cuisine",
          "2018/luggage accessories",
          "2018/market place",
          "2018/music",
          "2018/musical instruments",
          "2018/office furniture",
          "2018/party supplies",
          "2018/perfumery",
          "2018/pet shop",
          "2018/signaling and security",
          "2018/small appliances",
          "2018/small appliances home oven and coffee",
          "2018/sports leisure",
          "2018/stationery",
          "2018/tablets printing image",
          "2018/telephony",
          "2018/toys",
          "2018/watches gifts",
          "2018/furniture mattress and upholstery",
          "2018/fashion childrens clothes",
          "2016",
          "2017",
          "2018"
         ],
         "labels": [
          "fashion bags accessories",
          "air conditioning",
          "audio",
          "auto",
          "baby",
          "bed bath table",
          "books general interest",
          "books technical",
          "computers accessories",
          "consoles games",
          "cool stuff",
          "diapers and hygiene",
          "electronics",
          "fashio female clothing",
          "fashion male clothing",
          "fashion shoes",
          "fixed telephony",
          "food",
          "furniture decor",
          "garden tools",
          "health beauty",
          "housewares",
          "industry commerce and business",
          "market place",
          "office furniture",
          "perfumery",
          "pet shop",
          "sports leisure",
          "telephony",
          "toys",
          "watches gifts",
          "air conditioning",
          "art",
          "audio",
          "auto",
          "baby",
          "bed bath table",
          "books general interest",
          "books imported",
          "books technical",
          "christmas supplies",
          "cine photo",
          "computers accessories",
          "consoles games",
          "cool stuff",
          "costruction tools garden",
          "costruction tools tools",
          "drinks",
          "dvds blu ray",
          "electronics",
          "fashio female clothing",
          "fashion bags accessories",
          "fashion male clothing",
          "fashion shoes",
          "fashion sport",
          "fashion underwear beach",
          "fixed telephony",
          "food",
          "food drink",
          "furniture bedroom",
          "furniture decor",
          "furniture living room",
          "furniture mattress and upholstery",
          "garden tools",
          "health beauty",
          "home appliances",
          "home appliances 2",
          "home comfort 2",
          "home confort",
          "home construction",
          "housewares",
          "kitchen dining laundry garden furniture",
          "la cuisine",
          "luggage accessories",
          "market place",
          "music",
          "musical instruments",
          "office furniture",
          "perfumery",
          "pet shop",
          "signaling and security",
          "small appliances",
          "sports leisure",
          "stationery",
          "tablets printing image",
          "telephony",
          "toys",
          "watches gifts",
          "agro industry and commerce",
          "cds dvds musicals",
          "computers",
          "construction tools construction",
          "construction tools lights",
          "construction tools safety",
          "fashion childrens clothes",
          "industry commerce and business",
          "small appliances home oven and coffee",
          "diapers and hygiene",
          "flowers",
          "party supplies",
          "security and services",
          "arts and craftmanship",
          "agro industry and commerce",
          "air conditioning",
          "art",
          "arts and craftmanship",
          "audio",
          "auto",
          "baby",
          "bed bath table",
          "books general interest",
          "books imported",
          "books technical",
          "cds dvds musicals",
          "christmas supplies",
          "cine photo",
          "computers",
          "computers accessories",
          "consoles games",
          "construction tools construction",
          "construction tools lights",
          "construction tools safety",
          "cool stuff",
          "costruction tools garden",
          "costruction tools tools",
          "diapers and hygiene",
          "drinks",
          "dvds blu ray",
          "electronics",
          "fashio female clothing",
          "fashion bags accessories",
          "fashion male clothing",
          "fashion shoes",
          "fashion sport",
          "fashion underwear beach",
          "fixed telephony",
          "flowers",
          "food",
          "food drink",
          "furniture bedroom",
          "furniture decor",
          "furniture living room",
          "garden tools",
          "health beauty",
          "home appliances",
          "home appliances 2",
          "home comfort 2",
          "home confort",
          "home construction",
          "housewares",
          "industry commerce and business",
          "kitchen dining laundry garden furniture",
          "la cuisine",
          "luggage accessories",
          "market place",
          "music",
          "musical instruments",
          "office furniture",
          "party supplies",
          "perfumery",
          "pet shop",
          "signaling and security",
          "small appliances",
          "small appliances home oven and coffee",
          "sports leisure",
          "stationery",
          "tablets printing image",
          "telephony",
          "toys",
          "watches gifts",
          "furniture mattress and upholstery",
          "fashion childrens clothes",
          "2016",
          "2017",
          "2018"
         ],
         "marker": {
          "coloraxis": "coloraxis",
          "colors": {
           "bdata": "4jXLWCmBhkBI4XoUbkOyQCpcj8L14GZAZmZmZmY5pUCPwvUo3FCiQFK4HoVr56FA4XoUrkcRYkA9CtejcL1yQGZmZmZmuaJApHA9Ctfyr0BwPQrXo92UQEjhehSu32JA4XoUrkcOlUC4HoXrUWhRQK5H4XoU7kFAmpmZmZl5RECamZmZmTOIQB+F61G4DlhA6MRw6LZdxkD1KFyPwuSWQFyPwvUorrdA16NwPQphpUAK16NwPQaEQIXrUbjeW7NAMzMzMzPOmECkcD0K1yG8QHoUrkfhPohAH4XrUTiurkCX3l/2S0yFQArXo3C9JrZArkfhehQYq0AIuXIvm4yyQAMTdpZ2pLNACvfxfZi1pEDXlMOn6Q7lQNYo31R6N9VAuH6/ElQL9kA9L67IxNSoQGEaoBDj9nhA1PLcEH8ajkADyM2Q8OaTQDZQ1cVrsmNA3iRdiwod80BHAYejLnTEQBdO0HTy++ZAjNChus+3nED/h9Y8qWaKQK7JHnyya5xAb+DhhokflEC9sD3qsmzFQMyXxmbdr3lAbCdBzcVRyUCOLqajPb2YQL7PnLKlCaFANJcAZUwxh0DzDQFR/eOWQG+8YurKovRA+cRRZ1vAnkAd1+jaPdCiQI94nC722qhAkZlNjM6E8kAguc/te6fEQBizqBvmRYZAkEbv+MfI6EB3AFGes3DuQGnD1a08FK1AAHl9Oe7sqkC22NQkkVhwQJayF5n8HLpA6qSAK4IYukAOHODIgPXiQLikSqiNBbZA89Ug+mQpd0C4sFZrcJjEQPDyAIPJvqRAA0R+lp0GikC8JMWwT1PHQGTq6lpX/uBA4fsslKQ92UCZ2v3rvEXHQBg0es29xpFAQdRgDjFOyEAGtPRlgNTuQBp8zQaLatFAUFATI8VWkkBdUiZNHqvWQI2ZuW5c6edAiG28LYsi8EBLe604PFrgQMVTeA4l6HJAwSlkEGG340BAyC2VX92+QEnmPSsI+JtAN59lHVlVrUBTADStprhZQBS2vVHI3JtAhkJG1Oi3gEDNzMzMzOxoQNbElVf4uG9AMema/PoThUD4Pq5dNvhlQKZ0JLtIVV5A8PcQtRGJvUCA/r+EC4W+QLa91Ug1tKRAHYKVbCA2jUDGJ4K9t8y7QAzu8P81+OtAQWuP5TTq5kCepsgwqn78QObrzF2+Z7VApvT7jTjDhEC9QM+8bKujQIXrUbgeZV1AJ2QxAcZxs0CpG+Q1euWYQNlxGID7NtNANBaNoLhSAEEt7e1lhLzFQBh7TSlSK91AEo94FA9fxEBcLcZuzx3CQG4CM+rOkONABekmAU5PsEA7y/pu68CzQMhPSm3toYVAxmCq1hTQ2UCdtlJ4CKqAQLaB1HnkfdVA969ANMevh0A/2stljETJQJlftLZEd4JA6wnAwZvVlkAcR+HFNLhiQKqWsKM3FoFAWoSfU2KF0kB9uzMjeyB7QOJQAQ53NLlAvLMrkzjzokD0VUuemlCiQAg18yhysvdAm5Zd6aXDwkDdIsem9djmQF36a0FlLwBBCsAkVoCOxUDGf9znkS7LQJRduL5RgVxAbbe18tR7q0DjuwdjGq3IQEgJTDKKDfdAZ8dNPwR2uEDiWx76OuG4QHJQ73zHd4BAYGHTdslZyUC2J6TOKNalQG1anOWLU5FAWumI5qnC0ECMQuQI5iTqQECoU3RGsZJACrL0DRgk3UBzHB0agiXZQGvlv7OYHdJAbfQSLwUjz0CYsiPLvDXCQE/f65alDfhA7WCrYqZa3ECRxxeHZ3mFQCUtJAsfbONAP/jjQ9Au3EAUGM7Flxr7QI+77qvIhoxAi/acvRt7ZkAKv3Ij7lu0QAX26Ukwv+hAv6PBK+pW8kA=",
           "dtype": "f8"
          }
         },
         "name": "",
         "parents": [
          "2016",
          "2016",
          "2016",
          "2016",
          "2016",
          "2016",
          "2016",
          "2016",
          "2016",
          "2016",
          "2016",
          "2016",
          "2016",
          "2016",
          "2016",
          "2016",
          "2016",
          "2016",
          "2016",
          "2016",
          "2016",
          "2016",
          "2016",
          "2016",
          "2016",
          "2016",
          "2016",
          "2016",
          "2016",
          "2016",
          "2016",
          "2017",
          "2017",
          "2017",
          "2017",
          "2017",
          "2017",
          "2017",
          "2017",
          "2017",
          "2017",
          "2017",
          "2017",
          "2017",
          "2017",
          "2017",
          "2017",
          "2017",
          "2017",
          "2017",
          "2017",
          "2017",
          "2017",
          "2017",
          "2017",
          "2017",
          "2017",
          "2017",
          "2017",
          "2017",
          "2017",
          "2017",
          "2017",
          "2017",
          "2017",
          "2017",
          "2017",
          "2017",
          "2017",
          "2017",
          "2017",
          "2017",
          "2017",
          "2017",
          "2017",
          "2017",
          "2017",
          "2017",
          "2017",
          "2017",
          "2017",
          "2017",
          "2017",
          "2017",
          "2017",
          "2017",
          "2017",
          "2017",
          "2017",
          "2017",
          "2017",
          "2017",
          "2017",
          "2017",
          "2017",
          "2017",
          "2017",
          "2017",
          "2017",
          "2017",
          "2017",
          "2017",
          "2018",
          "2018",
          "2018",
          "2018",
          "2018",
          "2018",
          "2018",
          "2018",
          "2018",
          "2018",
          "2018",
          "2018",
          "2018",
          "2018",
          "2018",
          "2018",
          "2018",
          "2018",
          "2018",
          "2018",
          "2018",
          "2018",
          "2018",
          "2018",
          "2018",
          "2018",
          "2018",
          "2018",
          "2018",
          "2018",
          "2018",
          "2018",
          "2018",
          "2018",
          "2018",
          "2018",
          "2018",
          "2018",
          "2018",
          "2018",
          "2018",
          "2018",
          "2018",
          "2018",
          "2018",
          "2018",
          "2018",
          "2018",
          "2018",
          "2018",
          "2018",
          "2018",
          "2018",
          "2018",
          "2018",
          "2018",
          "2018",
          "2018",
          "2018",
          "2018",
          "2018",
          "2018",
          "2018",
          "2018",
          "2018",
          "2018",
          "2018",
          "2018",
          "2018",
          "2018",
          "",
          "",
          ""
         ],
         "type": "sunburst",
         "values": {
          "bdata": "KVyPwvWyh0BI4XoUbkOyQCpcj8L14GZAZmZmZmY5pUCPwvUo3FCiQFK4HoVr56FA4XoUrkcRYkA9CtejcL1yQGZmZmZmuaJApHA9Ctfyr0BwPQrXo92UQEjhehSu32JA4XoUrkcOlUC4HoXrUWhRQK5H4XoU7kFAmpmZmZl5RECamZmZmTOIQB+F61G4DlhAFK5H4fpnx0D1KFyPwuSWQFyPwvUorrdA16NwPQphpUAK16NwPQaEQIXrUbjeW7NAMzMzMzPOmECkcD0K1yG8QHsUrkfhPohAH4XrUTiurkDWo3A9Co+JQArXo3C9JrZArkfhehQYq0AzMzMzW+XjQAAAAABgjsdAFK5H4QrE1EC4HoXr9UcYQSlcj8JrKghB4XoULtscKUHNzMzM7GHbQM3MzMzM9pxAFa5H4XrnukC4HoXrkbOzQJqZmZmZP41Aj8L1KCyoJUE9CtejkOv5QBSuR+FVbh1BUrgehYvRzECamZmZWeOxQOxRuB4FRsJAFK5H4Tq0tkAAAAAAhAn2QGZmZmbmzaZA7FG4Hv1r/UAzMzMzE37LQEjhehROMdVA4noUrkfXqECPwvUovOnBQBSuR+GavAFBhetRuH71y0DNzMzMDLLJQD4K16PQ1c1AwvUoXLvfJEE9CtejqBfyQMzMzMzM26lAMzMzM8ucHUE9Ctej9/ciQc3MzMysoNxACtejcO2p20BSuB6F69qSQOxRuB4N6+tAC9ejcL2C5ECkcD0K/hAYQWZmZmZW0NxACtejcD1imkC5HoXr8fL4QIXrUbhegdlAhetRuB4Jm0BI4XoUYuX4QI/C9Sj/FhJBCtejcBFEEEGuR+F6yCP+QM3MzMxMvr9AcT0K14vN+0BI4XoUwMcjQeF6FK6vif9AUrgehauIv0AK16Nw3WsJQWZmZmZC4xdBSOF6FI5yIUHNzMzM1MjvQGZmZmZm55BASOF6FISqBUHNzMzMtMbgQB6F61G4W7lA9ihcj2J6zECF61G4HnV9QLgehevxHcNApHA9Ctf/i0DNzMzMzOxoQBSuR+F6LHpAexSuR+FDokBcj8L1KEh0QFyPwvUoVGtAhetRuH4w6kCPwvUojFbmQFK4HoULfdJArkfhehR3oEAK16NwrQPjQAAAAAB2vhtBSOF6FITBFEFcj8J12AssQT4K16PQ0+FAPQrXozDwskC4HoXrYWPRQIXrUbgeZV1AmpmZmZk/y0CuR+F61NTAQD0K16MQ0PhAKVyPwscVK0FSuB6F0/D0QBWuR+HmfglBCtejcLU68EAfhetRyPToQMP1KFyENhJBAAAAAGAR20BI4XoUbhrQQB+F61G4Pa5AFK5H4UKN7kCamZmZGZagQB+F61HukQRBFK5H4fpuoUApXI/CFQ/4QD4K16Pw1ahAZmZmZmZaxUBRuB6F65V/QHE9CtcjrqtA4XoUrqfI7UBSuB6F6wicQM3MzMxcRN9A16NwPSr3y0AzMzMz8z7QQJqZmRnk1iZBSOF6FG6j7kBmZmZmlpwVQT4K16N0mS9BzczMzBgW8UDsUbgeta73QClcj8L1fH9AKVyPwvUF20B7FK5HMSP3QOxRuB54YyVBUrgehcOp5kBI4XoUVifmQHsUrkfhI5NAhetRuAK+9EBcj8L1SNvLQGZmZmYmM7RA9ihcj9wEAEE9Ctej9JsVQQrXo3C9WKxAPgrXo56qDEEpXI/C1d4GQQAAAAA4ee1AAAAAADCI+0AUrkfhqpPoQLgehest1SZBFK5H4fAPB0HXo3A9CsmeQJqZmZmg+RBBXI/C9YI2C0HNzMzMjBoqQeJ6FK5HAaVAmpmZmZmlc0CPwvUoTFLyQB+F6xHQUWFBXI/CrVf8ZEE=",
          "dtype": "f8"
         }
        }
       ],
       "layout": {
        "coloraxis": {
         "cmid": 63850.37337199913,
         "colorbar": {
          "title": {
           "text": "Sales Revenue"
          }
         },
         "colorscale": [
          [
           0,
           "rgb(103,0,31)"
          ],
          [
           0.1,
           "rgb(178,24,43)"
          ],
          [
           0.2,
           "rgb(214,96,77)"
          ],
          [
           0.3,
           "rgb(244,165,130)"
          ],
          [
           0.4,
           "rgb(253,219,199)"
          ],
          [
           0.5,
           "rgb(247,247,247)"
          ],
          [
           0.6,
           "rgb(209,229,240)"
          ],
          [
           0.7,
           "rgb(146,197,222)"
          ],
          [
           0.8,
           "rgb(67,147,195)"
          ],
          [
           0.9,
           "rgb(33,102,172)"
          ],
          [
           1,
           "rgb(5,48,97)"
          ]
         ]
        },
        "legend": {
         "tracegroupgap": 0
        },
        "margin": {
         "t": 60
        },
        "template": {
         "data": {
          "bar": [
           {
            "error_x": {
             "color": "#2a3f5f"
            },
            "error_y": {
             "color": "#2a3f5f"
            },
            "marker": {
             "line": {
              "color": "#E5ECF6",
              "width": 0.5
             },
             "pattern": {
              "fillmode": "overlay",
              "size": 10,
              "solidity": 0.2
             }
            },
            "type": "bar"
           }
          ],
          "barpolar": [
           {
            "marker": {
             "line": {
              "color": "#E5ECF6",
              "width": 0.5
             },
             "pattern": {
              "fillmode": "overlay",
              "size": 10,
              "solidity": 0.2
             }
            },
            "type": "barpolar"
           }
          ],
          "carpet": [
           {
            "aaxis": {
             "endlinecolor": "#2a3f5f",
             "gridcolor": "white",
             "linecolor": "white",
             "minorgridcolor": "white",
             "startlinecolor": "#2a3f5f"
            },
            "baxis": {
             "endlinecolor": "#2a3f5f",
             "gridcolor": "white",
             "linecolor": "white",
             "minorgridcolor": "white",
             "startlinecolor": "#2a3f5f"
            },
            "type": "carpet"
           }
          ],
          "choropleth": [
           {
            "colorbar": {
             "outlinewidth": 0,
             "ticks": ""
            },
            "type": "choropleth"
           }
          ],
          "contour": [
           {
            "colorbar": {
             "outlinewidth": 0,
             "ticks": ""
            },
            "colorscale": [
             [
              0,
              "#0d0887"
             ],
             [
              0.1111111111111111,
              "#46039f"
             ],
             [
              0.2222222222222222,
              "#7201a8"
             ],
             [
              0.3333333333333333,
              "#9c179e"
             ],
             [
              0.4444444444444444,
              "#bd3786"
             ],
             [
              0.5555555555555556,
              "#d8576b"
             ],
             [
              0.6666666666666666,
              "#ed7953"
             ],
             [
              0.7777777777777778,
              "#fb9f3a"
             ],
             [
              0.8888888888888888,
              "#fdca26"
             ],
             [
              1,
              "#f0f921"
             ]
            ],
            "type": "contour"
           }
          ],
          "contourcarpet": [
           {
            "colorbar": {
             "outlinewidth": 0,
             "ticks": ""
            },
            "type": "contourcarpet"
           }
          ],
          "heatmap": [
           {
            "colorbar": {
             "outlinewidth": 0,
             "ticks": ""
            },
            "colorscale": [
             [
              0,
              "#0d0887"
             ],
             [
              0.1111111111111111,
              "#46039f"
             ],
             [
              0.2222222222222222,
              "#7201a8"
             ],
             [
              0.3333333333333333,
              "#9c179e"
             ],
             [
              0.4444444444444444,
              "#bd3786"
             ],
             [
              0.5555555555555556,
              "#d8576b"
             ],
             [
              0.6666666666666666,
              "#ed7953"
             ],
             [
              0.7777777777777778,
              "#fb9f3a"
             ],
             [
              0.8888888888888888,
              "#fdca26"
             ],
             [
              1,
              "#f0f921"
             ]
            ],
            "type": "heatmap"
           }
          ],
          "histogram": [
           {
            "marker": {
             "pattern": {
              "fillmode": "overlay",
              "size": 10,
              "solidity": 0.2
             }
            },
            "type": "histogram"
           }
          ],
          "histogram2d": [
           {
            "colorbar": {
             "outlinewidth": 0,
             "ticks": ""
            },
            "colorscale": [
             [
              0,
              "#0d0887"
             ],
             [
              0.1111111111111111,
              "#46039f"
             ],
             [
              0.2222222222222222,
              "#7201a8"
             ],
             [
              0.3333333333333333,
              "#9c179e"
             ],
             [
              0.4444444444444444,
              "#bd3786"
             ],
             [
              0.5555555555555556,
              "#d8576b"
             ],
             [
              0.6666666666666666,
              "#ed7953"
             ],
             [
              0.7777777777777778,
              "#fb9f3a"
             ],
             [
              0.8888888888888888,
              "#fdca26"
             ],
             [
              1,
              "#f0f921"
             ]
            ],
            "type": "histogram2d"
           }
          ],
          "histogram2dcontour": [
           {
            "colorbar": {
             "outlinewidth": 0,
             "ticks": ""
            },
            "colorscale": [
             [
              0,
              "#0d0887"
             ],
             [
              0.1111111111111111,
              "#46039f"
             ],
             [
              0.2222222222222222,
              "#7201a8"
             ],
             [
              0.3333333333333333,
              "#9c179e"
             ],
             [
              0.4444444444444444,
              "#bd3786"
             ],
             [
              0.5555555555555556,
              "#d8576b"
             ],
             [
              0.6666666666666666,
              "#ed7953"
             ],
             [
              0.7777777777777778,
              "#fb9f3a"
             ],
             [
              0.8888888888888888,
              "#fdca26"
             ],
             [
              1,
              "#f0f921"
             ]
            ],
            "type": "histogram2dcontour"
           }
          ],
          "mesh3d": [
           {
            "colorbar": {
             "outlinewidth": 0,
             "ticks": ""
            },
            "type": "mesh3d"
           }
          ],
          "parcoords": [
           {
            "line": {
             "colorbar": {
              "outlinewidth": 0,
              "ticks": ""
             }
            },
            "type": "parcoords"
           }
          ],
          "pie": [
           {
            "automargin": true,
            "type": "pie"
           }
          ],
          "scatter": [
           {
            "fillpattern": {
             "fillmode": "overlay",
             "size": 10,
             "solidity": 0.2
            },
            "type": "scatter"
           }
          ],
          "scatter3d": [
           {
            "line": {
             "colorbar": {
              "outlinewidth": 0,
              "ticks": ""
             }
            },
            "marker": {
             "colorbar": {
              "outlinewidth": 0,
              "ticks": ""
             }
            },
            "type": "scatter3d"
           }
          ],
          "scattercarpet": [
           {
            "marker": {
             "colorbar": {
              "outlinewidth": 0,
              "ticks": ""
             }
            },
            "type": "scattercarpet"
           }
          ],
          "scattergeo": [
           {
            "marker": {
             "colorbar": {
              "outlinewidth": 0,
              "ticks": ""
             }
            },
            "type": "scattergeo"
           }
          ],
          "scattergl": [
           {
            "marker": {
             "colorbar": {
              "outlinewidth": 0,
              "ticks": ""
             }
            },
            "type": "scattergl"
           }
          ],
          "scattermap": [
           {
            "marker": {
             "colorbar": {
              "outlinewidth": 0,
              "ticks": ""
             }
            },
            "type": "scattermap"
           }
          ],
          "scattermapbox": [
           {
            "marker": {
             "colorbar": {
              "outlinewidth": 0,
              "ticks": ""
             }
            },
            "type": "scattermapbox"
           }
          ],
          "scatterpolar": [
           {
            "marker": {
             "colorbar": {
              "outlinewidth": 0,
              "ticks": ""
             }
            },
            "type": "scatterpolar"
           }
          ],
          "scatterpolargl": [
           {
            "marker": {
             "colorbar": {
              "outlinewidth": 0,
              "ticks": ""
             }
            },
            "type": "scatterpolargl"
           }
          ],
          "scatterternary": [
           {
            "marker": {
             "colorbar": {
              "outlinewidth": 0,
              "ticks": ""
             }
            },
            "type": "scatterternary"
           }
          ],
          "surface": [
           {
            "colorbar": {
             "outlinewidth": 0,
             "ticks": ""
            },
            "colorscale": [
             [
              0,
              "#0d0887"
             ],
             [
              0.1111111111111111,
              "#46039f"
             ],
             [
              0.2222222222222222,
              "#7201a8"
             ],
             [
              0.3333333333333333,
              "#9c179e"
             ],
             [
              0.4444444444444444,
              "#bd3786"
             ],
             [
              0.5555555555555556,
              "#d8576b"
             ],
             [
              0.6666666666666666,
              "#ed7953"
             ],
             [
              0.7777777777777778,
              "#fb9f3a"
             ],
             [
              0.8888888888888888,
              "#fdca26"
             ],
             [
              1,
              "#f0f921"
             ]
            ],
            "type": "surface"
           }
          ],
          "table": [
           {
            "cells": {
             "fill": {
              "color": "#EBF0F8"
             },
             "line": {
              "color": "white"
             }
            },
            "header": {
             "fill": {
              "color": "#C8D4E3"
             },
             "line": {
              "color": "white"
             }
            },
            "type": "table"
           }
          ]
         },
         "layout": {
          "annotationdefaults": {
           "arrowcolor": "#2a3f5f",
           "arrowhead": 0,
           "arrowwidth": 1
          },
          "autotypenumbers": "strict",
          "coloraxis": {
           "colorbar": {
            "outlinewidth": 0,
            "ticks": ""
           }
          },
          "colorscale": {
           "diverging": [
            [
             0,
             "#8e0152"
            ],
            [
             0.1,
             "#c51b7d"
            ],
            [
             0.2,
             "#de77ae"
            ],
            [
             0.3,
             "#f1b6da"
            ],
            [
             0.4,
             "#fde0ef"
            ],
            [
             0.5,
             "#f7f7f7"
            ],
            [
             0.6,
             "#e6f5d0"
            ],
            [
             0.7,
             "#b8e186"
            ],
            [
             0.8,
             "#7fbc41"
            ],
            [
             0.9,
             "#4d9221"
            ],
            [
             1,
             "#276419"
            ]
           ],
           "sequential": [
            [
             0,
             "#0d0887"
            ],
            [
             0.1111111111111111,
             "#46039f"
            ],
            [
             0.2222222222222222,
             "#7201a8"
            ],
            [
             0.3333333333333333,
             "#9c179e"
            ],
            [
             0.4444444444444444,
             "#bd3786"
            ],
            [
             0.5555555555555556,
             "#d8576b"
            ],
            [
             0.6666666666666666,
             "#ed7953"
            ],
            [
             0.7777777777777778,
             "#fb9f3a"
            ],
            [
             0.8888888888888888,
             "#fdca26"
            ],
            [
             1,
             "#f0f921"
            ]
           ],
           "sequentialminus": [
            [
             0,
             "#0d0887"
            ],
            [
             0.1111111111111111,
             "#46039f"
            ],
            [
             0.2222222222222222,
             "#7201a8"
            ],
            [
             0.3333333333333333,
             "#9c179e"
            ],
            [
             0.4444444444444444,
             "#bd3786"
            ],
            [
             0.5555555555555556,
             "#d8576b"
            ],
            [
             0.6666666666666666,
             "#ed7953"
            ],
            [
             0.7777777777777778,
             "#fb9f3a"
            ],
            [
             0.8888888888888888,
             "#fdca26"
            ],
            [
             1,
             "#f0f921"
            ]
           ]
          },
          "colorway": [
           "#636efa",
           "#EF553B",
           "#00cc96",
           "#ab63fa",
           "#FFA15A",
           "#19d3f3",
           "#FF6692",
           "#B6E880",
           "#FF97FF",
           "#FECB52"
          ],
          "font": {
           "color": "#2a3f5f"
          },
          "geo": {
           "bgcolor": "white",
           "lakecolor": "white",
           "landcolor": "#E5ECF6",
           "showlakes": true,
           "showland": true,
           "subunitcolor": "white"
          },
          "hoverlabel": {
           "align": "left"
          },
          "hovermode": "closest",
          "mapbox": {
           "style": "light"
          },
          "paper_bgcolor": "white",
          "plot_bgcolor": "#E5ECF6",
          "polar": {
           "angularaxis": {
            "gridcolor": "white",
            "linecolor": "white",
            "ticks": ""
           },
           "bgcolor": "#E5ECF6",
           "radialaxis": {
            "gridcolor": "white",
            "linecolor": "white",
            "ticks": ""
           }
          },
          "scene": {
           "xaxis": {
            "backgroundcolor": "#E5ECF6",
            "gridcolor": "white",
            "gridwidth": 2,
            "linecolor": "white",
            "showbackground": true,
            "ticks": "",
            "zerolinecolor": "white"
           },
           "yaxis": {
            "backgroundcolor": "#E5ECF6",
            "gridcolor": "white",
            "gridwidth": 2,
            "linecolor": "white",
            "showbackground": true,
            "ticks": "",
            "zerolinecolor": "white"
           },
           "zaxis": {
            "backgroundcolor": "#E5ECF6",
            "gridcolor": "white",
            "gridwidth": 2,
            "linecolor": "white",
            "showbackground": true,
            "ticks": "",
            "zerolinecolor": "white"
           }
          },
          "shapedefaults": {
           "line": {
            "color": "#2a3f5f"
           }
          },
          "ternary": {
           "aaxis": {
            "gridcolor": "white",
            "linecolor": "white",
            "ticks": ""
           },
           "baxis": {
            "gridcolor": "white",
            "linecolor": "white",
            "ticks": ""
           },
           "bgcolor": "#E5ECF6",
           "caxis": {
            "gridcolor": "white",
            "linecolor": "white",
            "ticks": ""
           }
          },
          "title": {
           "x": 0.05
          },
          "xaxis": {
           "automargin": true,
           "gridcolor": "white",
           "linecolor": "white",
           "ticks": "",
           "title": {
            "standoff": 15
           },
           "zerolinecolor": "white",
           "zerolinewidth": 2
          },
          "yaxis": {
           "automargin": true,
           "gridcolor": "white",
           "linecolor": "white",
           "ticks": "",
           "title": {
            "standoff": 15
           },
           "zerolinecolor": "white",
           "zerolinewidth": 2
          }
         }
        }
       }
      }
     },
     "metadata": {},
     "output_type": "display_data"
    }
   ],
   "source": [
    "# Plot com 3 dimensões (Ainda está ruim!!!)\n",
    "fig = px.sunburst(total_rev, \n",
    "                  path = ['Sales Year', 'Product Category'], \n",
    "                  values = 'Sales Revenue',\n",
    "                  color = 'Sales Revenue', \n",
    "                  hover_data = ['Sales Revenue'],\n",
    "                  color_continuous_scale = 'RdBu',\n",
    "                  color_continuous_midpoint = np.average(total_rev['Sales Revenue'], \n",
    "                                                         weights = total_rev['Sales Revenue']))\n",
    "fig.show()"
   ]
  },
  {
   "cell_type": "code",
   "execution_count": 77,
   "metadata": {},
   "outputs": [
    {
     "data": {
      "application/vnd.plotly.v1+json": {
       "config": {
        "plotlyServerURL": "https://plot.ly"
       },
       "data": [
        {
         "hovertemplate": "Sales Year=2016<br>Product Category=%{x}<br>Sales Revenue=%{marker.color}<extra></extra>",
         "legendgroup": "",
         "marker": {
          "color": {
           "bdata": "H4XrUbieM0BI4XoUbkOyQCpcj8L14GZAZmZmZmY5pUCPwvUo3FCiQFK4HoVr56FA4XoUrkcRYkA9CtejcL1yQGZmZmZmuaJApHA9Ctfyr0BwPQrXo92UQEjhehSu32JA4XoUrkcOlUC4HoXrUWhRQAAAAAAAFodArkfhehTuQUCamZmZmXlEQJqZmZmZM4hAH4XrUbgOWEAAAAAAwN/GQPUoXI/C5JZAXI/C9Siut0DXo3A9CmGlQArXo3A9BoRAhetRuN5bs0AzMzMzM86YQKRwPQrXIbxAexSuR+E+iEAfhetROK6uQML1KFyPNodACtejcL0mtkCuR+F6FBirQI/C9ShcB3FApHA9CtfDUkA=",
           "dtype": "f8"
          },
          "coloraxis": "coloraxis",
          "pattern": {
           "shape": ""
          }
         },
         "name": "",
         "orientation": "v",
         "showlegend": false,
         "textposition": "auto",
         "type": "bar",
         "x": [
          "fashion bags accessories",
          "air conditioning",
          "audio",
          "auto",
          "baby",
          "bed bath table",
          "books general interest",
          "books technical",
          "computers accessories",
          "consoles games",
          "cool stuff",
          "diapers and hygiene",
          "electronics",
          "fashio female clothing",
          "fashion bags accessories",
          "fashion male clothing",
          "fashion shoes",
          "fixed telephony",
          "food",
          "furniture decor",
          "garden tools",
          "health beauty",
          "housewares",
          "industry commerce and business",
          "market place",
          "office furniture",
          "perfumery",
          "pet shop",
          "sports leisure",
          "telephony",
          "toys",
          "watches gifts",
          "furniture decor",
          "telephony"
         ],
         "xaxis": "x",
         "y": {
          "bdata": "H4XrUbieM0BI4XoUbkOyQCpcj8L14GZAZmZmZmY5pUCPwvUo3FCiQFK4HoVr56FA4XoUrkcRYkA9CtejcL1yQGZmZmZmuaJApHA9Ctfyr0BwPQrXo92UQEjhehSu32JA4XoUrkcOlUC4HoXrUWhRQAAAAAAAFodArkfhehTuQUCamZmZmXlEQJqZmZmZM4hAH4XrUbgOWEAAAAAAwN/GQPUoXI/C5JZAXI/C9Siut0DXo3A9CmGlQArXo3A9BoRAhetRuN5bs0AzMzMzM86YQKRwPQrXIbxAexSuR+E+iEAfhetROK6uQML1KFyPNodACtejcL0mtkCuR+F6FBirQI/C9ShcB3FApHA9CtfDUkA=",
          "dtype": "f8"
         },
         "yaxis": "y"
        },
        {
         "hovertemplate": "Sales Year=2017<br>Product Category=%{x}<br>Sales Revenue=%{marker.color}<extra></extra>",
         "legendgroup": "",
         "marker": {
          "color": {
           "bdata": "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",
           "dtype": "f8"
          },
          "coloraxis": "coloraxis",
          "pattern": {
           "shape": ""
          }
         },
         "name": "",
         "orientation": "v",
         "showlegend": false,
         "textposition": "auto",
         "type": "bar",
         "x": [
          "air conditioning",
          "art",
          "audio",
          "auto",
          "baby",
          "bed bath table",
          "books general interest",
          "books imported",
          "books technical",
          "christmas supplies",
          "cine photo",
          "computers accessories",
          "consoles games",
          "cool stuff",
          "costruction tools garden",
          "costruction tools tools",
          "drinks",
          "dvds blu ray",
          "electronics",
          "fashio female clothing",
          "fashion bags accessories",
          "fashion male clothing",
          "fashion shoes",
          "fashion sport",
          "fashion underwear beach",
          "fixed telephony",
          "food",
          "food drink",
          "furniture bedroom",
          "furniture decor",
          "furniture living room",
          "furniture mattress and upholstery",
          "garden tools",
          "health beauty",
          "home appliances",
          "home appliances 2",
          "home comfort 2",
          "home confort",
          "home construction",
          "housewares",
          "kitchen dining laundry garden furniture",
          "la cuisine",
          "luggage accessories",
          "market place",
          "music",
          "musical instruments",
          "office furniture",
          "perfumery",
          "pet shop",
          "signaling and security",
          "small appliances",
          "sports leisure",
          "stationery",
          "tablets printing image",
          "telephony",
          "toys",
          "watches gifts",
          "agro industry and commerce",
          "air conditioning",
          "art",
          "audio",
          "auto",
          "baby",
          "bed bath table",
          "books general interest",
          "books imported",
          "books technical",
          "cds dvds musicals",
          "christmas supplies",
          "computers",
          "computers accessories",
          "consoles games",
          "construction tools construction",
          "construction tools lights",
          "construction tools safety",
          "cool stuff",
          "costruction tools garden",
          "drinks",
          "dvds blu ray",
          "electronics",
          "fashio female clothing",
          "fashion bags accessories",
          "fashion childrens clothes",
          "fashion male clothing",
          "fashion shoes",
          "fashion sport",
          "fashion underwear beach",
          "fixed telephony",
          "food",
          "food drink",
          "furniture bedroom",
          "furniture decor",
          "furniture living room",
          "furniture mattress and upholstery",
          "garden tools",
          "health beauty",
          "home appliances",
          "home appliances 2",
          "home comfort 2",
          "home confort",
          "home construction",
          "housewares",
          "industry commerce and business",
          "kitchen dining laundry garden furniture",
          "la cuisine",
          "luggage accessories",
          "market place",
          "musical instruments",
          "office furniture",
          "perfumery",
          "pet shop",
          "signaling and security",
          "small appliances",
          "small appliances home oven and coffee",
          "sports leisure",
          "stationery",
          "tablets printing image",
          "telephony",
          "toys",
          "watches gifts",
          "agro industry and commerce",
          "air conditioning",
          "art",
          "audio",
          "auto",
          "baby",
          "bed bath table",
          "books general interest",
          "books imported",
          "books technical",
          "cds dvds musicals",
          "christmas supplies",
          "computers",
          "computers accessories",
          "consoles games",
          "construction tools construction",
          "construction tools lights",
          "construction tools safety",
          "cool stuff",
          "costruction tools garden",
          "costruction tools tools",
          "diapers and hygiene",
          "drinks",
          "dvds blu ray",
          "electronics",
          "fashion bags accessories",
          "fashion male clothing",
          "fashion shoes",
          "fashion sport",
          "fashion underwear beach",
          "fixed telephony",
          "flowers",
          "food",
          "food drink",
          "furniture bedroom",
          "furniture decor",
          "furniture living room",
          "furniture mattress and upholstery",
          "garden tools",
          "health beauty",
          "home appliances",
          "home appliances 2",
          "home confort",
          "home construction",
          "housewares",
          "industry commerce and business",
          "kitchen dining laundry garden furniture",
          "luggage accessories",
          "market place",
          "musical instruments",
          "office furniture",
          "party supplies",
          "perfumery",
          "pet shop",
          "signaling and security",
          "small appliances",
          "sports leisure",
          "stationery",
          "tablets printing image",
          "telephony",
          "toys",
          "watches gifts",
          "agro industry and commerce",
          "air conditioning",
          "audio",
          "auto",
          "baby",
          "bed bath table",
          "books general interest",
          "books imported",
          "books technical",
          "cine photo",
          "computers",
          "computers accessories",
          "consoles games",
          "construction tools construction",
          "construction tools safety",
          "cool stuff",
          "costruction tools garden",
          "dvds blu ray",
          "electronics",
          "fashio female clothing",
          "fashion bags accessories",
          "fashion male clothing",
          "fashion shoes",
          "fashion underwear beach",
          "fixed telephony",
          "food",
          "furniture bedroom",
          "furniture decor",
          "furniture living room",
          "garden tools",
          "health beauty",
          "home appliances",
          "home appliances 2",
          "home confort",
          "home construction",
          "housewares",
          "industry commerce and business",
          "kitchen dining laundry garden furniture",
          "luggage accessories",
          "market place",
          "musical instruments",
          "office furniture",
          "perfumery",
          "pet shop",
          "small appliances",
          "sports leisure",
          "stationery",
          "tablets printing image",
          "telephony",
          "toys",
          "watches gifts",
          "agro industry and commerce",
          "air conditioning",
          "auto",
          "baby",
          "bed bath table",
          "books general interest",
          "computers",
          "computers accessories",
          "consoles games",
          "construction tools construction",
          "cool stuff",
          "dvds blu ray",
          "electronics",
          "fashio female clothing",
          "fashion bags accessories",
          "fashion male clothing",
          "fashion shoes",
          "fashion underwear beach",
          "fixed telephony",
          "food",
          "furniture bedroom",
          "furniture decor",
          "furniture living room",
          "garden tools",
          "health beauty",
          "home appliances 2",
          "home comfort 2",
          "housewares",
          "kitchen dining laundry garden furniture",
          "luggage accessories",
          "market place",
          "music",
          "musical instruments",
          "office furniture",
          "perfumery",
          "pet shop",
          "security and services",
          "small appliances",
          "sports leisure",
          "stationery",
          "telephony",
          "toys",
          "watches gifts",
          "agro industry and commerce",
          "air conditioning",
          "art",
          "arts and craftmanship",
          "audio",
          "auto",
          "baby",
          "bed bath table",
          "books general interest",
          "books technical",
          "cds dvds musicals",
          "christmas supplies",
          "computers accessories",
          "consoles games",
          "construction tools construction",
          "construction tools lights",
          "cool stuff",
          "costruction tools garden",
          "drinks",
          "dvds blu ray",
          "electronics",
          "fashio female clothing",
          "fashion bags accessories",
          "fashion male clothing",
          "fashion shoes",
          "fashion sport",
          "fashion underwear beach",
          "fixed telephony",
          "food",
          "food drink",
          "furniture bedroom",
          "furniture decor",
          "furniture living room",
          "furniture mattress and upholstery",
          "garden tools",
          "health beauty",
          "home appliances",
          "home appliances 2",
          "home comfort 2",
          "home confort",
          "home construction",
          "housewares",
          "industry commerce and business",
          "kitchen dining laundry garden furniture",
          "la cuisine",
          "luggage accessories",
          "market place",
          "music",
          "musical instruments",
          "office furniture",
          "party supplies",
          "perfumery",
          "pet shop",
          "signaling and security",
          "small appliances",
          "sports leisure",
          "stationery",
          "tablets printing image",
          "telephony",
          "toys",
          "watches gifts",
          "agro industry and commerce",
          "air conditioning",
          "art",
          "audio",
          "auto",
          "baby",
          "bed bath table",
          "books general interest",
          "books imported",
          "books technical",
          "christmas supplies",
          "cine photo",
          "computers accessories",
          "consoles games",
          "construction tools construction",
          "cool stuff",
          "costruction tools garden",
          "drinks",
          "dvds blu ray",
          "electronics",
          "fashio female clothing",
          "fashion bags accessories",
          "fashion childrens clothes",
          "fashion male clothing",
          "fashion shoes",
          "fashion sport",
          "fashion underwear beach",
          "fixed telephony",
          "food",
          "food drink",
          "furniture bedroom",
          "furniture decor",
          "furniture living room",
          "garden tools",
          "health beauty",
          "home appliances",
          "home appliances 2",
          "home comfort 2",
          "home confort",
          "home construction",
          "housewares",
          "industry commerce and business",
          "kitchen dining laundry garden furniture",
          "luggage accessories",
          "market place",
          "music",
          "musical instruments",
          "office furniture",
          "perfumery",
          "pet shop",
          "signaling and security",
          "small appliances",
          "small appliances home oven and coffee",
          "sports leisure",
          "stationery",
          "tablets printing image",
          "telephony",
          "toys",
          "watches gifts",
          "agro industry and commerce",
          "air conditioning",
          "art",
          "audio",
          "auto",
          "baby",
          "bed bath table",
          "books general interest",
          "books technical",
          "computers accessories",
          "consoles games",
          "construction tools construction",
          "construction tools safety",
          "cool stuff",
          "drinks",
          "dvds blu ray",
          "electronics",
          "fashio female clothing",
          "fashion bags accessories",
          "fashion male clothing",
          "fashion shoes",
          "fashion sport",
          "fashion underwear beach",
          "fixed telephony",
          "food",
          "food drink",
          "furniture decor",
          "furniture living room",
          "garden tools",
          "health beauty",
          "home appliances",
          "home appliances 2",
          "home comfort 2",
          "home confort",
          "home construction",
          "housewares",
          "industry commerce and business",
          "kitchen dining laundry garden furniture",
          "luggage accessories",
          "market place",
          "music",
          "musical instruments",
          "office furniture",
          "perfumery",
          "pet shop",
          "signaling and security",
          "small appliances",
          "sports leisure",
          "stationery",
          "tablets printing image",
          "telephony",
          "toys",
          "watches gifts",
          "agro industry and commerce",
          "air conditioning",
          "art",
          "arts and craftmanship",
          "audio",
          "auto",
          "baby",
          "bed bath table",
          "books general interest",
          "books technical",
          "cine photo",
          "computers accessories",
          "consoles games",
          "construction tools construction",
          "cool stuff",
          "costruction tools garden",
          "costruction tools tools",
          "drinks",
          "dvds blu ray",
          "electronics",
          "fashio female clothing",
          "fashion bags accessories",
          "fashion childrens clothes",
          "fashion male clothing",
          "fashion shoes",
          "fashion sport",
          "fashion underwear beach",
          "fixed telephony",
          "food",
          "food drink",
          "furniture bedroom",
          "furniture decor",
          "furniture living room",
          "furniture mattress and upholstery",
          "garden tools",
          "health beauty",
          "home appliances",
          "home appliances 2",
          "home confort",
          "home construction",
          "housewares",
          "industry commerce and business",
          "kitchen dining laundry garden furniture",
          "la cuisine",
          "luggage accessories",
          "market place",
          "musical instruments",
          "office furniture",
          "perfumery",
          "pet shop",
          "signaling and security",
          "small appliances",
          "sports leisure",
          "stationery",
          "tablets printing image",
          "telephony",
          "toys",
          "watches gifts",
          "agro industry and commerce",
          "air conditioning",
          "art",
          "audio",
          "auto",
          "baby",
          "bed bath table",
          "books general interest",
          "books imported",
          "books technical",
          "cds dvds musicals",
          "christmas supplies",
          "cine photo",
          "computers",
          "computers accessories",
          "consoles games",
          "construction tools construction",
          "construction tools lights",
          "construction tools safety",
          "cool stuff",
          "costruction tools garden",
          "costruction tools tools",
          "drinks",
          "dvds blu ray",
          "electronics",
          "fashio female clothing",
          "fashion bags accessories",
          "fashion male clothing",
          "fashion shoes",
          "fashion sport",
          "fashion underwear beach",
          "fixed telephony",
          "flowers",
          "food",
          "food drink",
          "furniture bedroom",
          "furniture decor",
          "furniture living room",
          "furniture mattress and upholstery",
          "garden tools",
          "health beauty",
          "home appliances",
          "home appliances 2",
          "home comfort 2",
          "home confort",
          "home construction",
          "housewares",
          "industry commerce and business",
          "kitchen dining laundry garden furniture",
          "la cuisine",
          "luggage accessories",
          "market place",
          "musical instruments",
          "office furniture",
          "party supplies",
          "perfumery",
          "pet shop",
          "signaling and security",
          "small appliances",
          "sports leisure",
          "stationery",
          "tablets printing image",
          "telephony",
          "toys",
          "watches gifts",
          "agro industry and commerce",
          "air conditioning",
          "art",
          "audio",
          "auto",
          "baby",
          "bed bath table",
          "books general interest",
          "books technical",
          "cds dvds musicals",
          "christmas supplies",
          "cine photo",
          "computers",
          "computers accessories",
          "consoles games",
          "construction tools construction",
          "construction tools lights",
          "construction tools safety",
          "cool stuff",
          "costruction tools garden",
          "costruction tools tools",
          "drinks",
          "dvds blu ray",
          "electronics",
          "fashion bags accessories",
          "fashion childrens clothes",
          "fashion male clothing",
          "fashion shoes",
          "fashion sport",
          "fashion underwear beach",
          "fixed telephony",
          "food",
          "food drink",
          "furniture bedroom",
          "furniture decor",
          "furniture living room",
          "garden tools",
          "health beauty",
          "home appliances",
          "home appliances 2",
          "home comfort 2",
          "home confort",
          "home construction",
          "housewares",
          "industry commerce and business",
          "kitchen dining laundry garden furniture",
          "la cuisine",
          "luggage accessories",
          "market place",
          "music",
          "musical instruments",
          "office furniture",
          "party supplies",
          "perfumery",
          "pet shop",
          "signaling and security",
          "small appliances",
          "sports leisure",
          "stationery",
          "tablets printing image",
          "telephony",
          "toys",
          "watches gifts",
          "agro industry and commerce",
          "air conditioning",
          "art",
          "audio",
          "auto",
          "baby",
          "bed bath table",
          "books general interest",
          "books imported",
          "books technical",
          "christmas supplies",
          "cine photo",
          "computers",
          "computers accessories",
          "consoles games",
          "construction tools construction",
          "construction tools lights",
          "construction tools safety",
          "cool stuff",
          "costruction tools garden",
          "costruction tools tools",
          "drinks",
          "dvds blu ray",
          "electronics",
          "fashio female clothing",
          "fashion bags accessories",
          "fashion childrens clothes",
          "fashion male clothing",
          "fashion shoes",
          "fashion sport",
          "fashion underwear beach",
          "fixed telephony",
          "food",
          "food drink",
          "furniture bedroom",
          "furniture decor",
          "furniture living room",
          "furniture mattress and upholstery",
          "garden tools",
          "health beauty",
          "home appliances",
          "home appliances 2",
          "home comfort 2",
          "home confort",
          "home construction",
          "housewares",
          "industry commerce and business",
          "kitchen dining laundry garden furniture",
          "luggage accessories",
          "market place",
          "musical instruments",
          "office furniture",
          "party supplies",
          "perfumery",
          "pet shop",
          "security and services",
          "signaling and security",
          "small appliances",
          "small appliances home oven and coffee",
          "sports leisure",
          "stationery",
          "tablets printing image",
          "telephony",
          "toys",
          "watches gifts"
         ],
         "xaxis": "x2",
         "y": {
          "bdata": "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",
          "dtype": "f8"
         },
         "yaxis": "y2"
        },
        {
         "hovertemplate": "Sales Year=2018<br>Product Category=%{x}<br>Sales Revenue=%{marker.color}<extra></extra>",
         "legendgroup": "",
         "marker": {
          "color": {
           "bdata": "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",
           "dtype": "f8"
          },
          "coloraxis": "coloraxis",
          "pattern": {
           "shape": ""
          }
         },
         "name": "",
         "orientation": "v",
         "showlegend": false,
         "textposition": "auto",
         "type": "bar",
         "x": [
          "agro industry and commerce",
          "air conditioning",
          "art",
          "arts and craftmanship",
          "audio",
          "auto",
          "baby",
          "bed bath table",
          "books general interest",
          "books imported",
          "books technical",
          "cds dvds musicals",
          "christmas supplies",
          "cine photo",
          "computers",
          "computers accessories",
          "consoles games",
          "construction tools construction",
          "construction tools lights",
          "construction tools safety",
          "cool stuff",
          "costruction tools garden",
          "costruction tools tools",
          "diapers and hygiene",
          "drinks",
          "dvds blu ray",
          "electronics",
          "fashio female clothing",
          "fashion bags accessories",
          "fashion male clothing",
          "fashion shoes",
          "fashion sport",
          "fashion underwear beach",
          "fixed telephony",
          "flowers",
          "food",
          "food drink",
          "furniture bedroom",
          "furniture decor",
          "furniture living room",
          "garden tools",
          "health beauty",
          "home appliances",
          "home appliances 2",
          "home comfort 2",
          "home confort",
          "home construction",
          "housewares",
          "industry commerce and business",
          "kitchen dining laundry garden furniture",
          "la cuisine",
          "luggage accessories",
          "market place",
          "music",
          "musical instruments",
          "office furniture",
          "party supplies",
          "perfumery",
          "pet shop",
          "signaling and security",
          "small appliances",
          "small appliances home oven and coffee",
          "sports leisure",
          "stationery",
          "tablets printing image",
          "telephony",
          "toys",
          "watches gifts",
          "agro industry and commerce",
          "air conditioning",
          "art",
          "arts and craftmanship",
          "audio",
          "auto",
          "baby",
          "bed bath table",
          "books general interest",
          "books imported",
          "books technical",
          "christmas supplies",
          "cine photo",
          "computers",
          "computers accessories",
          "consoles games",
          "construction tools construction",
          "construction tools lights",
          "construction tools safety",
          "cool stuff",
          "costruction tools garden",
          "costruction tools tools",
          "diapers and hygiene",
          "drinks",
          "dvds blu ray",
          "electronics",
          "fashio female clothing",
          "fashion bags accessories",
          "fashion male clothing",
          "fashion shoes",
          "fashion sport",
          "fashion underwear beach",
          "fixed telephony",
          "food",
          "food drink",
          "furniture bedroom",
          "furniture decor",
          "furniture living room",
          "garden tools",
          "health beauty",
          "home appliances",
          "home appliances 2",
          "home confort",
          "home construction",
          "housewares",
          "industry commerce and business",
          "kitchen dining laundry garden furniture",
          "luggage accessories",
          "market place",
          "music",
          "musical instruments",
          "office furniture",
          "party supplies",
          "perfumery",
          "pet shop",
          "signaling and security",
          "small appliances",
          "small appliances home oven and coffee",
          "sports leisure",
          "stationery",
          "telephony",
          "toys",
          "watches gifts",
          "agro industry and commerce",
          "air conditioning",
          "art",
          "audio",
          "auto",
          "baby",
          "bed bath table",
          "books general interest",
          "books imported",
          "books technical",
          "christmas supplies",
          "cine photo",
          "computers accessories",
          "consoles games",
          "construction tools construction",
          "construction tools lights",
          "construction tools safety",
          "cool stuff",
          "costruction tools garden",
          "costruction tools tools",
          "diapers and hygiene",
          "drinks",
          "dvds blu ray",
          "electronics",
          "fashio female clothing",
          "fashion bags accessories",
          "fashion male clothing",
          "fashion shoes",
          "fashion underwear beach",
          "fixed telephony",
          "flowers",
          "food",
          "food drink",
          "furniture bedroom",
          "furniture decor",
          "furniture living room",
          "furniture mattress and upholstery",
          "garden tools",
          "health beauty",
          "home appliances",
          "home appliances 2",
          "home comfort 2",
          "home confort",
          "home construction",
          "housewares",
          "industry commerce and business",
          "kitchen dining laundry garden furniture",
          "luggage accessories",
          "market place",
          "music",
          "musical instruments",
          "office furniture",
          "perfumery",
          "pet shop",
          "signaling and security",
          "small appliances",
          "small appliances home oven and coffee",
          "sports leisure",
          "stationery",
          "tablets printing image",
          "telephony",
          "toys",
          "watches gifts",
          "agro industry and commerce",
          "air conditioning",
          "art",
          "audio",
          "auto",
          "baby",
          "bed bath table",
          "books general interest",
          "books imported",
          "books technical",
          "christmas supplies",
          "cine photo",
          "computers",
          "computers accessories",
          "consoles games",
          "construction tools construction",
          "construction tools lights",
          "construction tools safety",
          "cool stuff",
          "costruction tools garden",
          "costruction tools tools",
          "diapers and hygiene",
          "drinks",
          "dvds blu ray",
          "electronics",
          "fashio female clothing",
          "fashion bags accessories",
          "fashion male clothing",
          "fashion shoes",
          "fashion sport",
          "fashion underwear beach",
          "fixed telephony",
          "flowers",
          "food",
          "food drink",
          "furniture bedroom",
          "furniture decor",
          "furniture living room",
          "furniture mattress and upholstery",
          "garden tools",
          "health beauty",
          "home appliances",
          "home appliances 2",
          "home confort",
          "home construction",
          "housewares",
          "industry commerce and business",
          "kitchen dining laundry garden furniture",
          "la cuisine",
          "luggage accessories",
          "market place",
          "music",
          "musical instruments",
          "office furniture",
          "party supplies",
          "perfumery",
          "pet shop",
          "signaling and security",
          "small appliances",
          "small appliances home oven and coffee",
          "sports leisure",
          "stationery",
          "tablets printing image",
          "telephony",
          "toys",
          "watches gifts",
          "agro industry and commerce",
          "air conditioning",
          "art",
          "arts and craftmanship",
          "audio",
          "auto",
          "baby",
          "bed bath table",
          "books general interest",
          "books imported",
          "books technical",
          "christmas supplies",
          "cine photo",
          "computers",
          "computers accessories",
          "consoles games",
          "construction tools construction",
          "construction tools lights",
          "construction tools safety",
          "cool stuff",
          "costruction tools garden",
          "costruction tools tools",
          "diapers and hygiene",
          "drinks",
          "dvds blu ray",
          "electronics",
          "fashion bags accessories",
          "fashion male clothing",
          "fashion shoes",
          "fashion underwear beach",
          "fixed telephony",
          "flowers",
          "food",
          "food drink",
          "furniture bedroom",
          "furniture decor",
          "furniture living room",
          "furniture mattress and upholstery",
          "garden tools",
          "health beauty",
          "home appliances",
          "home appliances 2",
          "home comfort 2",
          "home confort",
          "home construction",
          "housewares",
          "industry commerce and business",
          "kitchen dining laundry garden furniture",
          "luggage accessories",
          "market place",
          "music",
          "musical instruments",
          "office furniture",
          "party supplies",
          "perfumery",
          "pet shop",
          "signaling and security",
          "small appliances",
          "small appliances home oven and coffee",
          "sports leisure",
          "stationery",
          "telephony",
          "toys",
          "watches gifts",
          "agro industry and commerce",
          "air conditioning",
          "art",
          "audio",
          "auto",
          "baby",
          "bed bath table",
          "books general interest",
          "books imported",
          "books technical",
          "christmas supplies",
          "cine photo",
          "computers",
          "computers accessories",
          "consoles games",
          "construction tools construction",
          "construction tools lights",
          "construction tools safety",
          "cool stuff",
          "costruction tools garden",
          "costruction tools tools",
          "diapers and hygiene",
          "drinks",
          "dvds blu ray",
          "electronics",
          "fashion bags accessories",
          "fashion childrens clothes",
          "fashion male clothing",
          "fashion shoes",
          "fashion underwear beach",
          "fixed telephony",
          "flowers",
          "food",
          "food drink",
          "furniture bedroom",
          "furniture decor",
          "furniture living room",
          "garden tools",
          "health beauty",
          "home appliances",
          "home appliances 2",
          "home comfort 2",
          "home confort",
          "home construction",
          "housewares",
          "industry commerce and business",
          "kitchen dining laundry garden furniture",
          "luggage accessories",
          "market place",
          "music",
          "musical instruments",
          "office furniture",
          "party supplies",
          "perfumery",
          "pet shop",
          "signaling and security",
          "small appliances",
          "small appliances home oven and coffee",
          "sports leisure",
          "stationery",
          "tablets printing image",
          "telephony",
          "toys",
          "watches gifts",
          "agro industry and commerce",
          "air conditioning",
          "art",
          "audio",
          "auto",
          "baby",
          "bed bath table",
          "books general interest",
          "books imported",
          "books technical",
          "christmas supplies",
          "cine photo",
          "computers accessories",
          "consoles games",
          "construction tools construction",
          "construction tools lights",
          "construction tools safety",
          "cool stuff",
          "costruction tools garden",
          "costruction tools tools",
          "diapers and hygiene",
          "drinks",
          "dvds blu ray",
          "electronics",
          "fashio female clothing",
          "fashion bags accessories",
          "fashion childrens clothes",
          "fashion shoes",
          "fashion sport",
          "fashion underwear beach",
          "fixed telephony",
          "flowers",
          "food",
          "food drink",
          "furniture bedroom",
          "furniture decor",
          "furniture living room",
          "furniture mattress and upholstery",
          "garden tools",
          "health beauty",
          "home appliances",
          "home appliances 2",
          "home comfort 2",
          "home confort",
          "home construction",
          "housewares",
          "industry commerce and business",
          "kitchen dining laundry garden furniture",
          "la cuisine",
          "luggage accessories",
          "market place",
          "music",
          "musical instruments",
          "office furniture",
          "party supplies",
          "perfumery",
          "pet shop",
          "signaling and security",
          "small appliances",
          "small appliances home oven and coffee",
          "sports leisure",
          "stationery",
          "tablets printing image",
          "telephony",
          "toys",
          "watches gifts",
          "agro industry and commerce",
          "air conditioning",
          "art",
          "arts and craftmanship",
          "audio",
          "auto",
          "baby",
          "bed bath table",
          "books general interest",
          "books imported",
          "books technical",
          "christmas supplies",
          "cine photo",
          "computers",
          "computers accessories",
          "consoles games",
          "construction tools construction",
          "construction tools lights",
          "construction tools safety",
          "cool stuff",
          "costruction tools garden",
          "costruction tools tools",
          "diapers and hygiene",
          "drinks",
          "dvds blu ray",
          "electronics",
          "fashion bags accessories",
          "fashion male clothing",
          "fashion shoes",
          "fashion underwear beach",
          "fixed telephony",
          "flowers",
          "food",
          "food drink",
          "furniture bedroom",
          "furniture decor",
          "furniture living room",
          "garden tools",
          "health beauty",
          "home appliances",
          "home appliances 2",
          "home confort",
          "home construction",
          "housewares",
          "industry commerce and business",
          "kitchen dining laundry garden furniture",
          "luggage accessories",
          "market place",
          "music",
          "musical instruments",
          "office furniture",
          "party supplies",
          "perfumery",
          "pet shop",
          "signaling and security",
          "small appliances",
          "small appliances home oven and coffee",
          "sports leisure",
          "stationery",
          "tablets printing image",
          "telephony",
          "toys",
          "watches gifts",
          "kitchen dining laundry garden furniture"
         ],
         "xaxis": "x3",
         "y": {
          "bdata": "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",
          "dtype": "f8"
         },
         "yaxis": "y3"
        }
       ],
       "layout": {
        "annotations": [
         {
          "font": {},
          "showarrow": false,
          "text": "Sales Year=2016",
          "x": 0.15999999999999998,
          "xanchor": "center",
          "xref": "paper",
          "y": 1,
          "yanchor": "bottom",
          "yref": "paper"
         },
         {
          "font": {},
          "showarrow": false,
          "text": "Sales Year=2017",
          "x": 0.49999999999999994,
          "xanchor": "center",
          "xref": "paper",
          "y": 1,
          "yanchor": "bottom",
          "yref": "paper"
         },
         {
          "font": {},
          "showarrow": false,
          "text": "Sales Year=2018",
          "x": 0.8399999999999999,
          "xanchor": "center",
          "xref": "paper",
          "y": 1,
          "yanchor": "bottom",
          "yref": "paper"
         }
        ],
        "barmode": "relative",
        "coloraxis": {
         "cmid": 63850.37337199913,
         "colorbar": {
          "title": {
           "text": "Sales Revenue"
          }
         },
         "colorscale": [
          [
           0,
           "rgb(103,0,31)"
          ],
          [
           0.1,
           "rgb(178,24,43)"
          ],
          [
           0.2,
           "rgb(214,96,77)"
          ],
          [
           0.3,
           "rgb(244,165,130)"
          ],
          [
           0.4,
           "rgb(253,219,199)"
          ],
          [
           0.5,
           "rgb(247,247,247)"
          ],
          [
           0.6,
           "rgb(209,229,240)"
          ],
          [
           0.7,
           "rgb(146,197,222)"
          ],
          [
           0.8,
           "rgb(67,147,195)"
          ],
          [
           0.9,
           "rgb(33,102,172)"
          ],
          [
           1,
           "rgb(5,48,97)"
          ]
         ]
        },
        "legend": {
         "tracegroupgap": 0
        },
        "margin": {
         "t": 60
        },
        "template": {
         "data": {
          "bar": [
           {
            "error_x": {
             "color": "#2a3f5f"
            },
            "error_y": {
             "color": "#2a3f5f"
            },
            "marker": {
             "line": {
              "color": "#E5ECF6",
              "width": 0.5
             },
             "pattern": {
              "fillmode": "overlay",
              "size": 10,
              "solidity": 0.2
             }
            },
            "type": "bar"
           }
          ],
          "barpolar": [
           {
            "marker": {
             "line": {
              "color": "#E5ECF6",
              "width": 0.5
             },
             "pattern": {
              "fillmode": "overlay",
              "size": 10,
              "solidity": 0.2
             }
            },
            "type": "barpolar"
           }
          ],
          "carpet": [
           {
            "aaxis": {
             "endlinecolor": "#2a3f5f",
             "gridcolor": "white",
             "linecolor": "white",
             "minorgridcolor": "white",
             "startlinecolor": "#2a3f5f"
            },
            "baxis": {
             "endlinecolor": "#2a3f5f",
             "gridcolor": "white",
             "linecolor": "white",
             "minorgridcolor": "white",
             "startlinecolor": "#2a3f5f"
            },
            "type": "carpet"
           }
          ],
          "choropleth": [
           {
            "colorbar": {
             "outlinewidth": 0,
             "ticks": ""
            },
            "type": "choropleth"
           }
          ],
          "contour": [
           {
            "colorbar": {
             "outlinewidth": 0,
             "ticks": ""
            },
            "colorscale": [
             [
              0,
              "#0d0887"
             ],
             [
              0.1111111111111111,
              "#46039f"
             ],
             [
              0.2222222222222222,
              "#7201a8"
             ],
             [
              0.3333333333333333,
              "#9c179e"
             ],
             [
              0.4444444444444444,
              "#bd3786"
             ],
             [
              0.5555555555555556,
              "#d8576b"
             ],
             [
              0.6666666666666666,
              "#ed7953"
             ],
             [
              0.7777777777777778,
              "#fb9f3a"
             ],
             [
              0.8888888888888888,
              "#fdca26"
             ],
             [
              1,
              "#f0f921"
             ]
            ],
            "type": "contour"
           }
          ],
          "contourcarpet": [
           {
            "colorbar": {
             "outlinewidth": 0,
             "ticks": ""
            },
            "type": "contourcarpet"
           }
          ],
          "heatmap": [
           {
            "colorbar": {
             "outlinewidth": 0,
             "ticks": ""
            },
            "colorscale": [
             [
              0,
              "#0d0887"
             ],
             [
              0.1111111111111111,
              "#46039f"
             ],
             [
              0.2222222222222222,
              "#7201a8"
             ],
             [
              0.3333333333333333,
              "#9c179e"
             ],
             [
              0.4444444444444444,
              "#bd3786"
             ],
             [
              0.5555555555555556,
              "#d8576b"
             ],
             [
              0.6666666666666666,
              "#ed7953"
             ],
             [
              0.7777777777777778,
              "#fb9f3a"
             ],
             [
              0.8888888888888888,
              "#fdca26"
             ],
             [
              1,
              "#f0f921"
             ]
            ],
            "type": "heatmap"
           }
          ],
          "histogram": [
           {
            "marker": {
             "pattern": {
              "fillmode": "overlay",
              "size": 10,
              "solidity": 0.2
             }
            },
            "type": "histogram"
           }
          ],
          "histogram2d": [
           {
            "colorbar": {
             "outlinewidth": 0,
             "ticks": ""
            },
            "colorscale": [
             [
              0,
              "#0d0887"
             ],
             [
              0.1111111111111111,
              "#46039f"
             ],
             [
              0.2222222222222222,
              "#7201a8"
             ],
             [
              0.3333333333333333,
              "#9c179e"
             ],
             [
              0.4444444444444444,
              "#bd3786"
             ],
             [
              0.5555555555555556,
              "#d8576b"
             ],
             [
              0.6666666666666666,
              "#ed7953"
             ],
             [
              0.7777777777777778,
              "#fb9f3a"
             ],
             [
              0.8888888888888888,
              "#fdca26"
             ],
             [
              1,
              "#f0f921"
             ]
            ],
            "type": "histogram2d"
           }
          ],
          "histogram2dcontour": [
           {
            "colorbar": {
             "outlinewidth": 0,
             "ticks": ""
            },
            "colorscale": [
             [
              0,
              "#0d0887"
             ],
             [
              0.1111111111111111,
              "#46039f"
             ],
             [
              0.2222222222222222,
              "#7201a8"
             ],
             [
              0.3333333333333333,
              "#9c179e"
             ],
             [
              0.4444444444444444,
              "#bd3786"
             ],
             [
              0.5555555555555556,
              "#d8576b"
             ],
             [
              0.6666666666666666,
              "#ed7953"
             ],
             [
              0.7777777777777778,
              "#fb9f3a"
             ],
             [
              0.8888888888888888,
              "#fdca26"
             ],
             [
              1,
              "#f0f921"
             ]
            ],
            "type": "histogram2dcontour"
           }
          ],
          "mesh3d": [
           {
            "colorbar": {
             "outlinewidth": 0,
             "ticks": ""
            },
            "type": "mesh3d"
           }
          ],
          "parcoords": [
           {
            "line": {
             "colorbar": {
              "outlinewidth": 0,
              "ticks": ""
             }
            },
            "type": "parcoords"
           }
          ],
          "pie": [
           {
            "automargin": true,
            "type": "pie"
           }
          ],
          "scatter": [
           {
            "fillpattern": {
             "fillmode": "overlay",
             "size": 10,
             "solidity": 0.2
            },
            "type": "scatter"
           }
          ],
          "scatter3d": [
           {
            "line": {
             "colorbar": {
              "outlinewidth": 0,
              "ticks": ""
             }
            },
            "marker": {
             "colorbar": {
              "outlinewidth": 0,
              "ticks": ""
             }
            },
            "type": "scatter3d"
           }
          ],
          "scattercarpet": [
           {
            "marker": {
             "colorbar": {
              "outlinewidth": 0,
              "ticks": ""
             }
            },
            "type": "scattercarpet"
           }
          ],
          "scattergeo": [
           {
            "marker": {
             "colorbar": {
              "outlinewidth": 0,
              "ticks": ""
             }
            },
            "type": "scattergeo"
           }
          ],
          "scattergl": [
           {
            "marker": {
             "colorbar": {
              "outlinewidth": 0,
              "ticks": ""
             }
            },
            "type": "scattergl"
           }
          ],
          "scattermap": [
           {
            "marker": {
             "colorbar": {
              "outlinewidth": 0,
              "ticks": ""
             }
            },
            "type": "scattermap"
           }
          ],
          "scattermapbox": [
           {
            "marker": {
             "colorbar": {
              "outlinewidth": 0,
              "ticks": ""
             }
            },
            "type": "scattermapbox"
           }
          ],
          "scatterpolar": [
           {
            "marker": {
             "colorbar": {
              "outlinewidth": 0,
              "ticks": ""
             }
            },
            "type": "scatterpolar"
           }
          ],
          "scatterpolargl": [
           {
            "marker": {
             "colorbar": {
              "outlinewidth": 0,
              "ticks": ""
             }
            },
            "type": "scatterpolargl"
           }
          ],
          "scatterternary": [
           {
            "marker": {
             "colorbar": {
              "outlinewidth": 0,
              "ticks": ""
             }
            },
            "type": "scatterternary"
           }
          ],
          "surface": [
           {
            "colorbar": {
             "outlinewidth": 0,
             "ticks": ""
            },
            "colorscale": [
             [
              0,
              "#0d0887"
             ],
             [
              0.1111111111111111,
              "#46039f"
             ],
             [
              0.2222222222222222,
              "#7201a8"
             ],
             [
              0.3333333333333333,
              "#9c179e"
             ],
             [
              0.4444444444444444,
              "#bd3786"
             ],
             [
              0.5555555555555556,
              "#d8576b"
             ],
             [
              0.6666666666666666,
              "#ed7953"
             ],
             [
              0.7777777777777778,
              "#fb9f3a"
             ],
             [
              0.8888888888888888,
              "#fdca26"
             ],
             [
              1,
              "#f0f921"
             ]
            ],
            "type": "surface"
           }
          ],
          "table": [
           {
            "cells": {
             "fill": {
              "color": "#EBF0F8"
             },
             "line": {
              "color": "white"
             }
            },
            "header": {
             "fill": {
              "color": "#C8D4E3"
             },
             "line": {
              "color": "white"
             }
            },
            "type": "table"
           }
          ]
         },
         "layout": {
          "annotationdefaults": {
           "arrowcolor": "#2a3f5f",
           "arrowhead": 0,
           "arrowwidth": 1
          },
          "autotypenumbers": "strict",
          "coloraxis": {
           "colorbar": {
            "outlinewidth": 0,
            "ticks": ""
           }
          },
          "colorscale": {
           "diverging": [
            [
             0,
             "#8e0152"
            ],
            [
             0.1,
             "#c51b7d"
            ],
            [
             0.2,
             "#de77ae"
            ],
            [
             0.3,
             "#f1b6da"
            ],
            [
             0.4,
             "#fde0ef"
            ],
            [
             0.5,
             "#f7f7f7"
            ],
            [
             0.6,
             "#e6f5d0"
            ],
            [
             0.7,
             "#b8e186"
            ],
            [
             0.8,
             "#7fbc41"
            ],
            [
             0.9,
             "#4d9221"
            ],
            [
             1,
             "#276419"
            ]
           ],
           "sequential": [
            [
             0,
             "#0d0887"
            ],
            [
             0.1111111111111111,
             "#46039f"
            ],
            [
             0.2222222222222222,
             "#7201a8"
            ],
            [
             0.3333333333333333,
             "#9c179e"
            ],
            [
             0.4444444444444444,
             "#bd3786"
            ],
            [
             0.5555555555555556,
             "#d8576b"
            ],
            [
             0.6666666666666666,
             "#ed7953"
            ],
            [
             0.7777777777777778,
             "#fb9f3a"
            ],
            [
             0.8888888888888888,
             "#fdca26"
            ],
            [
             1,
             "#f0f921"
            ]
           ],
           "sequentialminus": [
            [
             0,
             "#0d0887"
            ],
            [
             0.1111111111111111,
             "#46039f"
            ],
            [
             0.2222222222222222,
             "#7201a8"
            ],
            [
             0.3333333333333333,
             "#9c179e"
            ],
            [
             0.4444444444444444,
             "#bd3786"
            ],
            [
             0.5555555555555556,
             "#d8576b"
            ],
            [
             0.6666666666666666,
             "#ed7953"
            ],
            [
             0.7777777777777778,
             "#fb9f3a"
            ],
            [
             0.8888888888888888,
             "#fdca26"
            ],
            [
             1,
             "#f0f921"
            ]
           ]
          },
          "colorway": [
           "#636efa",
           "#EF553B",
           "#00cc96",
           "#ab63fa",
           "#FFA15A",
           "#19d3f3",
           "#FF6692",
           "#B6E880",
           "#FF97FF",
           "#FECB52"
          ],
          "font": {
           "color": "#2a3f5f"
          },
          "geo": {
           "bgcolor": "white",
           "lakecolor": "white",
           "landcolor": "#E5ECF6",
           "showlakes": true,
           "showland": true,
           "subunitcolor": "white"
          },
          "hoverlabel": {
           "align": "left"
          },
          "hovermode": "closest",
          "mapbox": {
           "style": "light"
          },
          "paper_bgcolor": "white",
          "plot_bgcolor": "#E5ECF6",
          "polar": {
           "angularaxis": {
            "gridcolor": "white",
            "linecolor": "white",
            "ticks": ""
           },
           "bgcolor": "#E5ECF6",
           "radialaxis": {
            "gridcolor": "white",
            "linecolor": "white",
            "ticks": ""
           }
          },
          "scene": {
           "xaxis": {
            "backgroundcolor": "#E5ECF6",
            "gridcolor": "white",
            "gridwidth": 2,
            "linecolor": "white",
            "showbackground": true,
            "ticks": "",
            "zerolinecolor": "white"
           },
           "yaxis": {
            "backgroundcolor": "#E5ECF6",
            "gridcolor": "white",
            "gridwidth": 2,
            "linecolor": "white",
            "showbackground": true,
            "ticks": "",
            "zerolinecolor": "white"
           },
           "zaxis": {
            "backgroundcolor": "#E5ECF6",
            "gridcolor": "white",
            "gridwidth": 2,
            "linecolor": "white",
            "showbackground": true,
            "ticks": "",
            "zerolinecolor": "white"
           }
          },
          "shapedefaults": {
           "line": {
            "color": "#2a3f5f"
           }
          },
          "ternary": {
           "aaxis": {
            "gridcolor": "white",
            "linecolor": "white",
            "ticks": ""
           },
           "baxis": {
            "gridcolor": "white",
            "linecolor": "white",
            "ticks": ""
           },
           "bgcolor": "#E5ECF6",
           "caxis": {
            "gridcolor": "white",
            "linecolor": "white",
            "ticks": ""
           }
          },
          "title": {
           "x": 0.05
          },
          "xaxis": {
           "automargin": true,
           "gridcolor": "white",
           "linecolor": "white",
           "ticks": "",
           "title": {
            "standoff": 15
           },
           "zerolinecolor": "white",
           "zerolinewidth": 2
          },
          "yaxis": {
           "automargin": true,
           "gridcolor": "white",
           "linecolor": "white",
           "ticks": "",
           "title": {
            "standoff": 15
           },
           "zerolinecolor": "white",
           "zerolinewidth": 2
          }
         }
        },
        "xaxis": {
         "anchor": "y",
         "domain": [
          0,
          0.31999999999999995
         ],
         "title": {
          "text": "Product Category"
         }
        },
        "xaxis2": {
         "anchor": "y2",
         "domain": [
          0.33999999999999997,
          0.6599999999999999
         ],
         "matches": "x",
         "title": {
          "text": "Product Category"
         }
        },
        "xaxis3": {
         "anchor": "y3",
         "domain": [
          0.6799999999999999,
          0.9999999999999999
         ],
         "matches": "x",
         "title": {
          "text": "Product Category"
         }
        },
        "yaxis": {
         "anchor": "x",
         "domain": [
          0,
          1
         ],
         "title": {
          "text": "Sales Revenue"
         }
        },
        "yaxis2": {
         "anchor": "x2",
         "domain": [
          0,
          1
         ],
         "matches": "y",
         "showticklabels": false
        },
        "yaxis3": {
         "anchor": "x3",
         "domain": [
          0,
          1
         ],
         "matches": "y",
         "showticklabels": false
        }
       }
      }
     },
     "metadata": {},
     "output_type": "display_data"
    }
   ],
   "source": [
    "# Plotando o gráfico de barras (Ainda está ruim!!!)\n",
    "fig = px.bar(total_rev, \n",
    "             x = 'Product Category', \n",
    "             y = 'Sales Revenue', \n",
    "             color = 'Sales Revenue', \n",
    "             facet_col = 'Sales Year',  # Cria um gráfico separado para cada ano de vendas\n",
    "             hover_data = ['Sales Revenue'],\n",
    "             color_continuous_scale = 'RdBu',\n",
    "             color_continuous_midpoint = np.average(total_rev['Sales Revenue'], \n",
    "                                                    weights = total_rev['Sales Revenue']))\n",
    "\n",
    "fig.show()"
   ]
  },
  {
   "cell_type": "code",
   "execution_count": 78,
   "metadata": {},
   "outputs": [
    {
     "data": {
      "text/plain": [
       "(1252, 4)"
      ]
     },
     "execution_count": 78,
     "metadata": {},
     "output_type": "execute_result"
    }
   ],
   "source": [
    "total_rev.shape"
   ]
  },
  {
   "cell_type": "code",
   "execution_count": 79,
   "metadata": {},
   "outputs": [],
   "source": [
    "# Filtra os dados de 2018 \n",
    "df6 = df_prep[df_prep['order_purchase_year'] == 2018]"
   ]
  },
  {
   "cell_type": "code",
   "execution_count": 80,
   "metadata": {},
   "outputs": [],
   "source": [
    "# Vendas ao longo de 2018\n",
    "total_rev_2018 = df6.groupby(['order_purchase_year', \n",
    "                              'order_purchase_mon', \n",
    "                              'product_category_name_english'], as_index = False).payment_value.sum()"
   ]
  },
  {
   "cell_type": "code",
   "execution_count": 81,
   "metadata": {},
   "outputs": [],
   "source": [
    "# Ajusta os nomes das colunas\n",
    "total_rev_2018.columns = ['Sales Year', 'Sales Month', 'Product Category', 'Sales Revenue']"
   ]
  },
  {
   "cell_type": "code",
   "execution_count": 82,
   "metadata": {},
   "outputs": [
    {
     "data": {
      "text/plain": [
       "(518, 4)"
      ]
     },
     "execution_count": 82,
     "metadata": {},
     "output_type": "execute_result"
    }
   ],
   "source": [
    "total_rev_2018.shape"
   ]
  },
  {
   "cell_type": "code",
   "execution_count": 83,
   "metadata": {},
   "outputs": [
    {
     "data": {
      "application/vnd.plotly.v1+json": {
       "config": {
        "plotlyServerURL": "https://plot.ly"
       },
       "data": [
        {
         "branchvalues": "total",
         "customdata": {
          "bdata": "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",
          "dtype": "f8",
          "shape": "589, 1"
         },
         "domain": {
          "x": [
           0,
           1
          ],
          "y": [
           0,
           1
          ]
         },
         "hovertemplate": "labels=%{label}<br>Sales Revenue_sum=%{value}<br>parent=%{parent}<br>id=%{id}<br>Sales Revenue=%{color}<extra></extra>",
         "ids": [
          "2018/agro industry and commerce/Apr",
          "2018/air conditioning/Apr",
          "2018/art/Apr",
          "2018/arts and craftmanship/Apr",
          "2018/audio/Apr",
          "2018/auto/Apr",
          "2018/baby/Apr",
          "2018/bed bath table/Apr",
          "2018/books general interest/Apr",
          "2018/books imported/Apr",
          "2018/books technical/Apr",
          "2018/cds dvds musicals/Apr",
          "2018/christmas supplies/Apr",
          "2018/cine photo/Apr",
          "2018/computers/Apr",
          "2018/computers accessories/Apr",
          "2018/consoles games/Apr",
          "2018/construction tools construction/Apr",
          "2018/construction tools lights/Apr",
          "2018/construction tools safety/Apr",
          "2018/cool stuff/Apr",
          "2018/costruction tools garden/Apr",
          "2018/costruction tools tools/Apr",
          "2018/diapers and hygiene/Apr",
          "2018/drinks/Apr",
          "2018/dvds blu ray/Apr",
          "2018/electronics/Apr",
          "2018/fashio female clothing/Apr",
          "2018/fashion bags accessories/Apr",
          "2018/fashion male clothing/Apr",
          "2018/fashion shoes/Apr",
          "2018/fashion sport/Apr",
          "2018/fashion underwear beach/Apr",
          "2018/fixed telephony/Apr",
          "2018/flowers/Apr",
          "2018/food/Apr",
          "2018/food drink/Apr",
          "2018/furniture bedroom/Apr",
          "2018/furniture decor/Apr",
          "2018/furniture living room/Apr",
          "2018/garden tools/Apr",
          "2018/health beauty/Apr",
          "2018/home appliances/Apr",
          "2018/home appliances 2/Apr",
          "2018/home comfort 2/Apr",
          "2018/home confort/Apr",
          "2018/home construction/Apr",
          "2018/housewares/Apr",
          "2018/industry commerce and business/Apr",
          "2018/kitchen dining laundry garden furniture/Apr",
          "2018/la cuisine/Apr",
          "2018/luggage accessories/Apr",
          "2018/market place/Apr",
          "2018/music/Apr",
          "2018/musical instruments/Apr",
          "2018/office furniture/Apr",
          "2018/party supplies/Apr",
          "2018/perfumery/Apr",
          "2018/pet shop/Apr",
          "2018/signaling and security/Apr",
          "2018/small appliances/Apr",
          "2018/small appliances home oven and coffee/Apr",
          "2018/sports leisure/Apr",
          "2018/stationery/Apr",
          "2018/tablets printing image/Apr",
          "2018/telephony/Apr",
          "2018/toys/Apr",
          "2018/watches gifts/Apr",
          "2018/agro industry and commerce/Aug",
          "2018/air conditioning/Aug",
          "2018/art/Aug",
          "2018/arts and craftmanship/Aug",
          "2018/audio/Aug",
          "2018/auto/Aug",
          "2018/baby/Aug",
          "2018/bed bath table/Aug",
          "2018/books general interest/Aug",
          "2018/books imported/Aug",
          "2018/books technical/Aug",
          "2018/christmas supplies/Aug",
          "2018/cine photo/Aug",
          "2018/computers/Aug",
          "2018/computers accessories/Aug",
          "2018/consoles games/Aug",
          "2018/construction tools construction/Aug",
          "2018/construction tools lights/Aug",
          "2018/construction tools safety/Aug",
          "2018/cool stuff/Aug",
          "2018/costruction tools garden/Aug",
          "2018/costruction tools tools/Aug",
          "2018/diapers and hygiene/Aug",
          "2018/drinks/Aug",
          "2018/dvds blu ray/Aug",
          "2018/electronics/Aug",
          "2018/fashio female clothing/Aug",
          "2018/fashion bags accessories/Aug",
          "2018/fashion male clothing/Aug",
          "2018/fashion shoes/Aug",
          "2018/fashion sport/Aug",
          "2018/fashion underwear beach/Aug",
          "2018/fixed telephony/Aug",
          "2018/food/Aug",
          "2018/food drink/Aug",
          "2018/furniture bedroom/Aug",
          "2018/furniture decor/Aug",
          "2018/furniture living room/Aug",
          "2018/garden tools/Aug",
          "2018/health beauty/Aug",
          "2018/home appliances/Aug",
          "2018/home appliances 2/Aug",
          "2018/home confort/Aug",
          "2018/home construction/Aug",
          "2018/housewares/Aug",
          "2018/industry commerce and business/Aug",
          "2018/kitchen dining laundry garden furniture/Aug",
          "2018/luggage accessories/Aug",
          "2018/market place/Aug",
          "2018/music/Aug",
          "2018/musical instruments/Aug",
          "2018/office furniture/Aug",
          "2018/party supplies/Aug",
          "2018/perfumery/Aug",
          "2018/pet shop/Aug",
          "2018/signaling and security/Aug",
          "2018/small appliances/Aug",
          "2018/small appliances home oven and coffee/Aug",
          "2018/sports leisure/Aug",
          "2018/stationery/Aug",
          "2018/telephony/Aug",
          "2018/toys/Aug",
          "2018/watches gifts/Aug",
          "2018/agro industry and commerce/Feb",
          "2018/air conditioning/Feb",
          "2018/art/Feb",
          "2018/audio/Feb",
          "2018/auto/Feb",
          "2018/baby/Feb",
          "2018/bed bath table/Feb",
          "2018/books general interest/Feb",
          "2018/books imported/Feb",
          "2018/books technical/Feb",
          "2018/christmas supplies/Feb",
          "2018/cine photo/Feb",
          "2018/computers accessories/Feb",
          "2018/consoles games/Feb",
          "2018/construction tools construction/Feb",
          "2018/construction tools lights/Feb",
          "2018/construction tools safety/Feb",
          "2018/cool stuff/Feb",
          "2018/costruction tools garden/Feb",
          "2018/costruction tools tools/Feb",
          "2018/diapers and hygiene/Feb",
          "2018/drinks/Feb",
          "2018/dvds blu ray/Feb",
          "2018/electronics/Feb",
          "2018/fashio female clothing/Feb",
          "2018/fashion bags accessories/Feb",
          "2018/fashion male clothing/Feb",
          "2018/fashion shoes/Feb",
          "2018/fashion underwear beach/Feb",
          "2018/fixed telephony/Feb",
          "2018/flowers/Feb",
          "2018/food/Feb",
          "2018/food drink/Feb",
          "2018/furniture bedroom/Feb",
          "2018/furniture decor/Feb",
          "2018/furniture living room/Feb",
          "2018/furniture mattress and upholstery/Feb",
          "2018/garden tools/Feb",
          "2018/health beauty/Feb",
          "2018/home appliances/Feb",
          "2018/home appliances 2/Feb",
          "2018/home comfort 2/Feb",
          "2018/home confort/Feb",
          "2018/home construction/Feb",
          "2018/housewares/Feb",
          "2018/industry commerce and business/Feb",
          "2018/kitchen dining laundry garden furniture/Feb",
          "2018/luggage accessories/Feb",
          "2018/market place/Feb",
          "2018/music/Feb",
          "2018/musical instruments/Feb",
          "2018/office furniture/Feb",
          "2018/perfumery/Feb",
          "2018/pet shop/Feb",
          "2018/signaling and security/Feb",
          "2018/small appliances/Feb",
          "2018/small appliances home oven and coffee/Feb",
          "2018/sports leisure/Feb",
          "2018/stationery/Feb",
          "2018/tablets printing image/Feb",
          "2018/telephony/Feb",
          "2018/toys/Feb",
          "2018/watches gifts/Feb",
          "2018/agro industry and commerce/Jan",
          "2018/air conditioning/Jan",
          "2018/art/Jan",
          "2018/audio/Jan",
          "2018/auto/Jan",
          "2018/baby/Jan",
          "2018/bed bath table/Jan",
          "2018/books general interest/Jan",
          "2018/books imported/Jan",
          "2018/books technical/Jan",
          "2018/christmas supplies/Jan",
          "2018/cine photo/Jan",
          "2018/computers/Jan",
          "2018/computers accessories/Jan",
          "2018/consoles games/Jan",
          "2018/construction tools construction/Jan",
          "2018/construction tools lights/Jan",
          "2018/construction tools safety/Jan",
          "2018/cool stuff/Jan",
          "2018/costruction tools garden/Jan",
          "2018/costruction tools tools/Jan",
          "2018/diapers and hygiene/Jan",
          "2018/drinks/Jan",
          "2018/dvds blu ray/Jan",
          "2018/electronics/Jan",
          "2018/fashio female clothing/Jan",
          "2018/fashion bags accessories/Jan",
          "2018/fashion male clothing/Jan",
          "2018/fashion shoes/Jan",
          "2018/fashion sport/Jan",
          "2018/fashion underwear beach/Jan",
          "2018/fixed telephony/Jan",
          "2018/flowers/Jan",
          "2018/food/Jan",
          "2018/food drink/Jan",
          "2018/furniture bedroom/Jan",
          "2018/furniture decor/Jan",
          "2018/furniture living room/Jan",
          "2018/furniture mattress and upholstery/Jan",
          "2018/garden tools/Jan",
          "2018/health beauty/Jan",
          "2018/home appliances/Jan",
          "2018/home appliances 2/Jan",
          "2018/home confort/Jan",
          "2018/home construction/Jan",
          "2018/housewares/Jan",
          "2018/industry commerce and business/Jan",
          "2018/kitchen dining laundry garden furniture/Jan",
          "2018/la cuisine/Jan",
          "2018/luggage accessories/Jan",
          "2018/market place/Jan",
          "2018/music/Jan",
          "2018/musical instruments/Jan",
          "2018/office furniture/Jan",
          "2018/party supplies/Jan",
          "2018/perfumery/Jan",
          "2018/pet shop/Jan",
          "2018/signaling and security/Jan",
          "2018/small appliances/Jan",
          "2018/small appliances home oven and coffee/Jan",
          "2018/sports leisure/Jan",
          "2018/stationery/Jan",
          "2018/tablets printing image/Jan",
          "2018/telephony/Jan",
          "2018/toys/Jan",
          "2018/watches gifts/Jan",
          "2018/agro industry and commerce/Jul",
          "2018/air conditioning/Jul",
          "2018/art/Jul",
          "2018/arts and craftmanship/Jul",
          "2018/audio/Jul",
          "2018/auto/Jul",
          "2018/baby/Jul",
          "2018/bed bath table/Jul",
          "2018/books general interest/Jul",
          "2018/books imported/Jul",
          "2018/books technical/Jul",
          "2018/christmas supplies/Jul",
          "2018/cine photo/Jul",
          "2018/computers/Jul",
          "2018/computers accessories/Jul",
          "2018/consoles games/Jul",
          "2018/construction tools construction/Jul",
          "2018/construction tools lights/Jul",
          "2018/construction tools safety/Jul",
          "2018/cool stuff/Jul",
          "2018/costruction tools garden/Jul",
          "2018/costruction tools tools/Jul",
          "2018/diapers and hygiene/Jul",
          "2018/drinks/Jul",
          "2018/dvds blu ray/Jul",
          "2018/electronics/Jul",
          "2018/fashion bags accessories/Jul",
          "2018/fashion male clothing/Jul",
          "2018/fashion shoes/Jul",
          "2018/fashion underwear beach/Jul",
          "2018/fixed telephony/Jul",
          "2018/flowers/Jul",
          "2018/food/Jul",
          "2018/food drink/Jul",
          "2018/furniture bedroom/Jul",
          "2018/furniture decor/Jul",
          "2018/furniture living room/Jul",
          "2018/furniture mattress and upholstery/Jul",
          "2018/garden tools/Jul",
          "2018/health beauty/Jul",
          "2018/home appliances/Jul",
          "2018/home appliances 2/Jul",
          "2018/home comfort 2/Jul",
          "2018/home confort/Jul",
          "2018/home construction/Jul",
          "2018/housewares/Jul",
          "2018/industry commerce and business/Jul",
          "2018/kitchen dining laundry garden furniture/Jul",
          "2018/luggage accessories/Jul",
          "2018/market place/Jul",
          "2018/music/Jul",
          "2018/musical instruments/Jul",
          "2018/office furniture/Jul",
          "2018/party supplies/Jul",
          "2018/perfumery/Jul",
          "2018/pet shop/Jul",
          "2018/signaling and security/Jul",
          "2018/small appliances/Jul",
          "2018/small appliances home oven and coffee/Jul",
          "2018/sports leisure/Jul",
          "2018/stationery/Jul",
          "2018/telephony/Jul",
          "2018/toys/Jul",
          "2018/watches gifts/Jul",
          "2018/agro industry and commerce/Jun",
          "2018/air conditioning/Jun",
          "2018/art/Jun",
          "2018/audio/Jun",
          "2018/auto/Jun",
          "2018/baby/Jun",
          "2018/bed bath table/Jun",
          "2018/books general interest/Jun",
          "2018/books imported/Jun",
          "2018/books technical/Jun",
          "2018/christmas supplies/Jun",
          "2018/cine photo/Jun",
          "2018/computers/Jun",
          "2018/computers accessories/Jun",
          "2018/consoles games/Jun",
          "2018/construction tools construction/Jun",
          "2018/construction tools lights/Jun",
          "2018/construction tools safety/Jun",
          "2018/cool stuff/Jun",
          "2018/costruction tools garden/Jun",
          "2018/costruction tools tools/Jun",
          "2018/diapers and hygiene/Jun",
          "2018/drinks/Jun",
          "2018/dvds blu ray/Jun",
          "2018/electronics/Jun",
          "2018/fashion bags accessories/Jun",
          "2018/fashion childrens clothes/Jun",
          "2018/fashion male clothing/Jun",
          "2018/fashion shoes/Jun",
          "2018/fashion underwear beach/Jun",
          "2018/fixed telephony/Jun",
          "2018/flowers/Jun",
          "2018/food/Jun",
          "2018/food drink/Jun",
          "2018/furniture bedroom/Jun",
          "2018/furniture decor/Jun",
          "2018/furniture living room/Jun",
          "2018/garden tools/Jun",
          "2018/health beauty/Jun",
          "2018/home appliances/Jun",
          "2018/home appliances 2/Jun",
          "2018/home comfort 2/Jun",
          "2018/home confort/Jun",
          "2018/home construction/Jun",
          "2018/housewares/Jun",
          "2018/industry commerce and business/Jun",
          "2018/kitchen dining laundry garden furniture/Jun",
          "2018/luggage accessories/Jun",
          "2018/market place/Jun",
          "2018/music/Jun",
          "2018/musical instruments/Jun",
          "2018/office furniture/Jun",
          "2018/party supplies/Jun",
          "2018/perfumery/Jun",
          "2018/pet shop/Jun",
          "2018/signaling and security/Jun",
          "2018/small appliances/Jun",
          "2018/small appliances home oven and coffee/Jun",
          "2018/sports leisure/Jun",
          "2018/stationery/Jun",
          "2018/tablets printing image/Jun",
          "2018/telephony/Jun",
          "2018/toys/Jun",
          "2018/watches gifts/Jun",
          "2018/agro industry and commerce/Mar",
          "2018/air conditioning/Mar",
          "2018/art/Mar",
          "2018/audio/Mar",
          "2018/auto/Mar",
          "2018/baby/Mar",
          "2018/bed bath table/Mar",
          "2018/books general interest/Mar",
          "2018/books imported/Mar",
          "2018/books technical/Mar",
          "2018/christmas supplies/Mar",
          "2018/cine photo/Mar",
          "2018/computers accessories/Mar",
          "2018/consoles games/Mar",
          "2018/construction tools construction/Mar",
          "2018/construction tools lights/Mar",
          "2018/construction tools safety/Mar",
          "2018/cool stuff/Mar",
          "2018/costruction tools garden/Mar",
          "2018/costruction tools tools/Mar",
          "2018/diapers and hygiene/Mar",
          "2018/drinks/Mar",
          "2018/dvds blu ray/Mar",
          "2018/electronics/Mar",
          "2018/fashio female clothing/Mar",
          "2018/fashion bags accessories/Mar",
          "2018/fashion childrens clothes/Mar",
          "2018/fashion shoes/Mar",
          "2018/fashion sport/Mar",
          "2018/fashion underwear beach/Mar",
          "2018/fixed telephony/Mar",
          "2018/flowers/Mar",
          "2018/food/Mar",
          "2018/food drink/Mar",
          "2018/furniture bedroom/Mar",
          "2018/furniture decor/Mar",
          "2018/furniture living room/Mar",
          "2018/furniture mattress and upholstery/Mar",
          "2018/garden tools/Mar",
          "2018/health beauty/Mar",
          "2018/home appliances/Mar",
          "2018/home appliances 2/Mar",
          "2018/home comfort 2/Mar",
          "2018/home confort/Mar",
          "2018/home construction/Mar",
          "2018/housewares/Mar",
          "2018/industry commerce and business/Mar",
          "2018/kitchen dining laundry garden furniture/Mar",
          "2018/la cuisine/Mar",
          "2018/luggage accessories/Mar",
          "2018/market place/Mar",
          "2018/music/Mar",
          "2018/musical instruments/Mar",
          "2018/office furniture/Mar",
          "2018/party supplies/Mar",
          "2018/perfumery/Mar",
          "2018/pet shop/Mar",
          "2018/signaling and security/Mar",
          "2018/small appliances/Mar",
          "2018/small appliances home oven and coffee/Mar",
          "2018/sports leisure/Mar",
          "2018/stationery/Mar",
          "2018/tablets printing image/Mar",
          "2018/telephony/Mar",
          "2018/toys/Mar",
          "2018/watches gifts/Mar",
          "2018/agro industry and commerce/May",
          "2018/air conditioning/May",
          "2018/art/May",
          "2018/arts and craftmanship/May",
          "2018/audio/May",
          "2018/auto/May",
          "2018/baby/May",
          "2018/bed bath table/May",
          "2018/books general interest/May",
          "2018/books imported/May",
          "2018/books technical/May",
          "2018/christmas supplies/May",
          "2018/cine photo/May",
          "2018/computers/May",
          "2018/computers accessories/May",
          "2018/consoles games/May",
          "2018/construction tools construction/May",
          "2018/construction tools lights/May",
          "2018/construction tools safety/May",
          "2018/cool stuff/May",
          "2018/costruction tools garden/May",
          "2018/costruction tools tools/May",
          "2018/diapers and hygiene/May",
          "2018/drinks/May",
          "2018/dvds blu ray/May",
          "2018/electronics/May",
          "2018/fashion bags accessories/May",
          "2018/fashion male clothing/May",
          "2018/fashion shoes/May",
          "2018/fashion underwear beach/May",
          "2018/fixed telephony/May",
          "2018/flowers/May",
          "2018/food/May",
          "2018/food drink/May",
          "2018/furniture bedroom/May",
          "2018/furniture decor/May",
          "2018/furniture living room/May",
          "2018/garden tools/May",
          "2018/health beauty/May",
          "2018/home appliances/May",
          "2018/home appliances 2/May",
          "2018/home confort/May",
          "2018/home construction/May",
          "2018/housewares/May",
          "2018/industry commerce and business/May",
          "2018/kitchen dining laundry garden furniture/May",
          "2018/luggage accessories/May",
          "2018/market place/May",
          "2018/music/May",
          "2018/musical instruments/May",
          "2018/office furniture/May",
          "2018/party supplies/May",
          "2018/perfumery/May",
          "2018/pet shop/May",
          "2018/signaling and security/May",
          "2018/small appliances/May",
          "2018/small appliances home oven and coffee/May",
          "2018/sports leisure/May",
          "2018/stationery/May",
          "2018/tablets printing image/May",
          "2018/telephony/May",
          "2018/toys/May",
          "2018/watches gifts/May",
          "2018/kitchen dining laundry garden furniture/Sep",
          "2018/agro industry and commerce",
          "2018/air conditioning",
          "2018/art",
          "2018/arts and craftmanship",
          "2018/audio",
          "2018/auto",
          "2018/baby",
          "2018/bed bath table",
          "2018/books general interest",
          "2018/books imported",
          "2018/books technical",
          "2018/cds dvds musicals",
          "2018/christmas supplies",
          "2018/cine photo",
          "2018/computers",
          "2018/computers accessories",
          "2018/consoles games",
          "2018/construction tools construction",
          "2018/construction tools lights",
          "2018/construction tools safety",
          "2018/cool stuff",
          "2018/costruction tools garden",
          "2018/costruction tools tools",
          "2018/diapers and hygiene",
          "2018/drinks",
          "2018/dvds blu ray",
          "2018/electronics",
          "2018/fashio female clothing",
          "2018/fashion bags accessories",
          "2018/fashion male clothing",
          "2018/fashion shoes",
          "2018/fashion sport",
          "2018/fashion underwear beach",
          "2018/fixed telephony",
          "2018/flowers",
          "2018/food",
          "2018/food drink",
          "2018/furniture bedroom",
          "2018/furniture decor",
          "2018/furniture living room",
          "2018/garden tools",
          "2018/health beauty",
          "2018/home appliances",
          "2018/home appliances 2",
          "2018/home comfort 2",
          "2018/home confort",
          "2018/home construction",
          "2018/housewares",
          "2018/industry commerce and business",
          "2018/kitchen dining laundry garden furniture",
          "2018/la cuisine",
          "2018/luggage accessories",
          "2018/market place",
          "2018/music",
          "2018/musical instruments",
          "2018/office furniture",
          "2018/party supplies",
          "2018/perfumery",
          "2018/pet shop",
          "2018/signaling and security",
          "2018/small appliances",
          "2018/small appliances home oven and coffee",
          "2018/sports leisure",
          "2018/stationery",
          "2018/tablets printing image",
          "2018/telephony",
          "2018/toys",
          "2018/watches gifts",
          "2018/furniture mattress and upholstery",
          "2018/fashion childrens clothes",
          "2018"
         ],
         "labels": [
          "Apr",
          "Apr",
          "Apr",
          "Apr",
          "Apr",
          "Apr",
          "Apr",
          "Apr",
          "Apr",
          "Apr",
          "Apr",
          "Apr",
          "Apr",
          "Apr",
          "Apr",
          "Apr",
          "Apr",
          "Apr",
          "Apr",
          "Apr",
          "Apr",
          "Apr",
          "Apr",
          "Apr",
          "Apr",
          "Apr",
          "Apr",
          "Apr",
          "Apr",
          "Apr",
          "Apr",
          "Apr",
          "Apr",
          "Apr",
          "Apr",
          "Apr",
          "Apr",
          "Apr",
          "Apr",
          "Apr",
          "Apr",
          "Apr",
          "Apr",
          "Apr",
          "Apr",
          "Apr",
          "Apr",
          "Apr",
          "Apr",
          "Apr",
          "Apr",
          "Apr",
          "Apr",
          "Apr",
          "Apr",
          "Apr",
          "Apr",
          "Apr",
          "Apr",
          "Apr",
          "Apr",
          "Apr",
          "Apr",
          "Apr",
          "Apr",
          "Apr",
          "Apr",
          "Apr",
          "Aug",
          "Aug",
          "Aug",
          "Aug",
          "Aug",
          "Aug",
          "Aug",
          "Aug",
          "Aug",
          "Aug",
          "Aug",
          "Aug",
          "Aug",
          "Aug",
          "Aug",
          "Aug",
          "Aug",
          "Aug",
          "Aug",
          "Aug",
          "Aug",
          "Aug",
          "Aug",
          "Aug",
          "Aug",
          "Aug",
          "Aug",
          "Aug",
          "Aug",
          "Aug",
          "Aug",
          "Aug",
          "Aug",
          "Aug",
          "Aug",
          "Aug",
          "Aug",
          "Aug",
          "Aug",
          "Aug",
          "Aug",
          "Aug",
          "Aug",
          "Aug",
          "Aug",
          "Aug",
          "Aug",
          "Aug",
          "Aug",
          "Aug",
          "Aug",
          "Aug",
          "Aug",
          "Aug",
          "Aug",
          "Aug",
          "Aug",
          "Aug",
          "Aug",
          "Aug",
          "Aug",
          "Aug",
          "Aug",
          "Feb",
          "Feb",
          "Feb",
          "Feb",
          "Feb",
          "Feb",
          "Feb",
          "Feb",
          "Feb",
          "Feb",
          "Feb",
          "Feb",
          "Feb",
          "Feb",
          "Feb",
          "Feb",
          "Feb",
          "Feb",
          "Feb",
          "Feb",
          "Feb",
          "Feb",
          "Feb",
          "Feb",
          "Feb",
          "Feb",
          "Feb",
          "Feb",
          "Feb",
          "Feb",
          "Feb",
          "Feb",
          "Feb",
          "Feb",
          "Feb",
          "Feb",
          "Feb",
          "Feb",
          "Feb",
          "Feb",
          "Feb",
          "Feb",
          "Feb",
          "Feb",
          "Feb",
          "Feb",
          "Feb",
          "Feb",
          "Feb",
          "Feb",
          "Feb",
          "Feb",
          "Feb",
          "Feb",
          "Feb",
          "Feb",
          "Feb",
          "Feb",
          "Feb",
          "Feb",
          "Feb",
          "Feb",
          "Feb",
          "Jan",
          "Jan",
          "Jan",
          "Jan",
          "Jan",
          "Jan",
          "Jan",
          "Jan",
          "Jan",
          "Jan",
          "Jan",
          "Jan",
          "Jan",
          "Jan",
          "Jan",
          "Jan",
          "Jan",
          "Jan",
          "Jan",
          "Jan",
          "Jan",
          "Jan",
          "Jan",
          "Jan",
          "Jan",
          "Jan",
          "Jan",
          "Jan",
          "Jan",
          "Jan",
          "Jan",
          "Jan",
          "Jan",
          "Jan",
          "Jan",
          "Jan",
          "Jan",
          "Jan",
          "Jan",
          "Jan",
          "Jan",
          "Jan",
          "Jan",
          "Jan",
          "Jan",
          "Jan",
          "Jan",
          "Jan",
          "Jan",
          "Jan",
          "Jan",
          "Jan",
          "Jan",
          "Jan",
          "Jan",
          "Jan",
          "Jan",
          "Jan",
          "Jan",
          "Jan",
          "Jan",
          "Jan",
          "Jan",
          "Jan",
          "Jan",
          "Jan",
          "Jul",
          "Jul",
          "Jul",
          "Jul",
          "Jul",
          "Jul",
          "Jul",
          "Jul",
          "Jul",
          "Jul",
          "Jul",
          "Jul",
          "Jul",
          "Jul",
          "Jul",
          "Jul",
          "Jul",
          "Jul",
          "Jul",
          "Jul",
          "Jul",
          "Jul",
          "Jul",
          "Jul",
          "Jul",
          "Jul",
          "Jul",
          "Jul",
          "Jul",
          "Jul",
          "Jul",
          "Jul",
          "Jul",
          "Jul",
          "Jul",
          "Jul",
          "Jul",
          "Jul",
          "Jul",
          "Jul",
          "Jul",
          "Jul",
          "Jul",
          "Jul",
          "Jul",
          "Jul",
          "Jul",
          "Jul",
          "Jul",
          "Jul",
          "Jul",
          "Jul",
          "Jul",
          "Jul",
          "Jul",
          "Jul",
          "Jul",
          "Jul",
          "Jul",
          "Jul",
          "Jul",
          "Jul",
          "Jul",
          "Jul",
          "Jun",
          "Jun",
          "Jun",
          "Jun",
          "Jun",
          "Jun",
          "Jun",
          "Jun",
          "Jun",
          "Jun",
          "Jun",
          "Jun",
          "Jun",
          "Jun",
          "Jun",
          "Jun",
          "Jun",
          "Jun",
          "Jun",
          "Jun",
          "Jun",
          "Jun",
          "Jun",
          "Jun",
          "Jun",
          "Jun",
          "Jun",
          "Jun",
          "Jun",
          "Jun",
          "Jun",
          "Jun",
          "Jun",
          "Jun",
          "Jun",
          "Jun",
          "Jun",
          "Jun",
          "Jun",
          "Jun",
          "Jun",
          "Jun",
          "Jun",
          "Jun",
          "Jun",
          "Jun",
          "Jun",
          "Jun",
          "Jun",
          "Jun",
          "Jun",
          "Jun",
          "Jun",
          "Jun",
          "Jun",
          "Jun",
          "Jun",
          "Jun",
          "Jun",
          "Jun",
          "Jun",
          "Jun",
          "Jun",
          "Jun",
          "Mar",
          "Mar",
          "Mar",
          "Mar",
          "Mar",
          "Mar",
          "Mar",
          "Mar",
          "Mar",
          "Mar",
          "Mar",
          "Mar",
          "Mar",
          "Mar",
          "Mar",
          "Mar",
          "Mar",
          "Mar",
          "Mar",
          "Mar",
          "Mar",
          "Mar",
          "Mar",
          "Mar",
          "Mar",
          "Mar",
          "Mar",
          "Mar",
          "Mar",
          "Mar",
          "Mar",
          "Mar",
          "Mar",
          "Mar",
          "Mar",
          "Mar",
          "Mar",
          "Mar",
          "Mar",
          "Mar",
          "Mar",
          "Mar",
          "Mar",
          "Mar",
          "Mar",
          "Mar",
          "Mar",
          "Mar",
          "Mar",
          "Mar",
          "Mar",
          "Mar",
          "Mar",
          "Mar",
          "Mar",
          "Mar",
          "Mar",
          "Mar",
          "Mar",
          "Mar",
          "Mar",
          "Mar",
          "Mar",
          "Mar",
          "Mar",
          "Mar",
          "May",
          "May",
          "May",
          "May",
          "May",
          "May",
          "May",
          "May",
          "May",
          "May",
          "May",
          "May",
          "May",
          "May",
          "May",
          "May",
          "May",
          "May",
          "May",
          "May",
          "May",
          "May",
          "May",
          "May",
          "May",
          "May",
          "May",
          "May",
          "May",
          "May",
          "May",
          "May",
          "May",
          "May",
          "May",
          "May",
          "May",
          "May",
          "May",
          "May",
          "May",
          "May",
          "May",
          "May",
          "May",
          "May",
          "May",
          "May",
          "May",
          "May",
          "May",
          "May",
          "May",
          "May",
          "May",
          "May",
          "May",
          "May",
          "May",
          "May",
          "May",
          "May",
          "May",
          "Sep",
          "agro industry and commerce",
          "air conditioning",
          "art",
          "arts and craftmanship",
          "audio",
          "auto",
          "baby",
          "bed bath table",
          "books general interest",
          "books imported",
          "books technical",
          "cds dvds musicals",
          "christmas supplies",
          "cine photo",
          "computers",
          "computers accessories",
          "consoles games",
          "construction tools construction",
          "construction tools lights",
          "construction tools safety",
          "cool stuff",
          "costruction tools garden",
          "costruction tools tools",
          "diapers and hygiene",
          "drinks",
          "dvds blu ray",
          "electronics",
          "fashio female clothing",
          "fashion bags accessories",
          "fashion male clothing",
          "fashion shoes",
          "fashion sport",
          "fashion underwear beach",
          "fixed telephony",
          "flowers",
          "food",
          "food drink",
          "furniture bedroom",
          "furniture decor",
          "furniture living room",
          "garden tools",
          "health beauty",
          "home appliances",
          "home appliances 2",
          "home comfort 2",
          "home confort",
          "home construction",
          "housewares",
          "industry commerce and business",
          "kitchen dining laundry garden furniture",
          "la cuisine",
          "luggage accessories",
          "market place",
          "music",
          "musical instruments",
          "office furniture",
          "party supplies",
          "perfumery",
          "pet shop",
          "signaling and security",
          "small appliances",
          "small appliances home oven and coffee",
          "sports leisure",
          "stationery",
          "tablets printing image",
          "telephony",
          "toys",
          "watches gifts",
          "furniture mattress and upholstery",
          "fashion childrens clothes",
          "2018"
         ],
         "marker": {
          "coloraxis": "coloraxis",
          "colors": {
           "bdata": "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",
           "dtype": "f8"
          }
         },
         "name": "",
         "parents": [
          "2018/agro industry and commerce",
          "2018/air conditioning",
          "2018/art",
          "2018/arts and craftmanship",
          "2018/audio",
          "2018/auto",
          "2018/baby",
          "2018/bed bath table",
          "2018/books general interest",
          "2018/books imported",
          "2018/books technical",
          "2018/cds dvds musicals",
          "2018/christmas supplies",
          "2018/cine photo",
          "2018/computers",
          "2018/computers accessories",
          "2018/consoles games",
          "2018/construction tools construction",
          "2018/construction tools lights",
          "2018/construction tools safety",
          "2018/cool stuff",
          "2018/costruction tools garden",
          "2018/costruction tools tools",
          "2018/diapers and hygiene",
          "2018/drinks",
          "2018/dvds blu ray",
          "2018/electronics",
          "2018/fashio female clothing",
          "2018/fashion bags accessories",
          "2018/fashion male clothing",
          "2018/fashion shoes",
          "2018/fashion sport",
          "2018/fashion underwear beach",
          "2018/fixed telephony",
          "2018/flowers",
          "2018/food",
          "2018/food drink",
          "2018/furniture bedroom",
          "2018/furniture decor",
          "2018/furniture living room",
          "2018/garden tools",
          "2018/health beauty",
          "2018/home appliances",
          "2018/home appliances 2",
          "2018/home comfort 2",
          "2018/home confort",
          "2018/home construction",
          "2018/housewares",
          "2018/industry commerce and business",
          "2018/kitchen dining laundry garden furniture",
          "2018/la cuisine",
          "2018/luggage accessories",
          "2018/market place",
          "2018/music",
          "2018/musical instruments",
          "2018/office furniture",
          "2018/party supplies",
          "2018/perfumery",
          "2018/pet shop",
          "2018/signaling and security",
          "2018/small appliances",
          "2018/small appliances home oven and coffee",
          "2018/sports leisure",
          "2018/stationery",
          "2018/tablets printing image",
          "2018/telephony",
          "2018/toys",
          "2018/watches gifts",
          "2018/agro industry and commerce",
          "2018/air conditioning",
          "2018/art",
          "2018/arts and craftmanship",
          "2018/audio",
          "2018/auto",
          "2018/baby",
          "2018/bed bath table",
          "2018/books general interest",
          "2018/books imported",
          "2018/books technical",
          "2018/christmas supplies",
          "2018/cine photo",
          "2018/computers",
          "2018/computers accessories",
          "2018/consoles games",
          "2018/construction tools construction",
          "2018/construction tools lights",
          "2018/construction tools safety",
          "2018/cool stuff",
          "2018/costruction tools garden",
          "2018/costruction tools tools",
          "2018/diapers and hygiene",
          "2018/drinks",
          "2018/dvds blu ray",
          "2018/electronics",
          "2018/fashio female clothing",
          "2018/fashion bags accessories",
          "2018/fashion male clothing",
          "2018/fashion shoes",
          "2018/fashion sport",
          "2018/fashion underwear beach",
          "2018/fixed telephony",
          "2018/food",
          "2018/food drink",
          "2018/furniture bedroom",
          "2018/furniture decor",
          "2018/furniture living room",
          "2018/garden tools",
          "2018/health beauty",
          "2018/home appliances",
          "2018/home appliances 2",
          "2018/home confort",
          "2018/home construction",
          "2018/housewares",
          "2018/industry commerce and business",
          "2018/kitchen dining laundry garden furniture",
          "2018/luggage accessories",
          "2018/market place",
          "2018/music",
          "2018/musical instruments",
          "2018/office furniture",
          "2018/party supplies",
          "2018/perfumery",
          "2018/pet shop",
          "2018/signaling and security",
          "2018/small appliances",
          "2018/small appliances home oven and coffee",
          "2018/sports leisure",
          "2018/stationery",
          "2018/telephony",
          "2018/toys",
          "2018/watches gifts",
          "2018/agro industry and commerce",
          "2018/air conditioning",
          "2018/art",
          "2018/audio",
          "2018/auto",
          "2018/baby",
          "2018/bed bath table",
          "2018/books general interest",
          "2018/books imported",
          "2018/books technical",
          "2018/christmas supplies",
          "2018/cine photo",
          "2018/computers accessories",
          "2018/consoles games",
          "2018/construction tools construction",
          "2018/construction tools lights",
          "2018/construction tools safety",
          "2018/cool stuff",
          "2018/costruction tools garden",
          "2018/costruction tools tools",
          "2018/diapers and hygiene",
          "2018/drinks",
          "2018/dvds blu ray",
          "2018/electronics",
          "2018/fashio female clothing",
          "2018/fashion bags accessories",
          "2018/fashion male clothing",
          "2018/fashion shoes",
          "2018/fashion underwear beach",
          "2018/fixed telephony",
          "2018/flowers",
          "2018/food",
          "2018/food drink",
          "2018/furniture bedroom",
          "2018/furniture decor",
          "2018/furniture living room",
          "2018/furniture mattress and upholstery",
          "2018/garden tools",
          "2018/health beauty",
          "2018/home appliances",
          "2018/home appliances 2",
          "2018/home comfort 2",
          "2018/home confort",
          "2018/home construction",
          "2018/housewares",
          "2018/industry commerce and business",
          "2018/kitchen dining laundry garden furniture",
          "2018/luggage accessories",
          "2018/market place",
          "2018/music",
          "2018/musical instruments",
          "2018/office furniture",
          "2018/perfumery",
          "2018/pet shop",
          "2018/signaling and security",
          "2018/small appliances",
          "2018/small appliances home oven and coffee",
          "2018/sports leisure",
          "2018/stationery",
          "2018/tablets printing image",
          "2018/telephony",
          "2018/toys",
          "2018/watches gifts",
          "2018/agro industry and commerce",
          "2018/air conditioning",
          "2018/art",
          "2018/audio",
          "2018/auto",
          "2018/baby",
          "2018/bed bath table",
          "2018/books general interest",
          "2018/books imported",
          "2018/books technical",
          "2018/christmas supplies",
          "2018/cine photo",
          "2018/computers",
          "2018/computers accessories",
          "2018/consoles games",
          "2018/construction tools construction",
          "2018/construction tools lights",
          "2018/construction tools safety",
          "2018/cool stuff",
          "2018/costruction tools garden",
          "2018/costruction tools tools",
          "2018/diapers and hygiene",
          "2018/drinks",
          "2018/dvds blu ray",
          "2018/electronics",
          "2018/fashio female clothing",
          "2018/fashion bags accessories",
          "2018/fashion male clothing",
          "2018/fashion shoes",
          "2018/fashion sport",
          "2018/fashion underwear beach",
          "2018/fixed telephony",
          "2018/flowers",
          "2018/food",
          "2018/food drink",
          "2018/furniture bedroom",
          "2018/furniture decor",
          "2018/furniture living room",
          "2018/furniture mattress and upholstery",
          "2018/garden tools",
          "2018/health beauty",
          "2018/home appliances",
          "2018/home appliances 2",
          "2018/home confort",
          "2018/home construction",
          "2018/housewares",
          "2018/industry commerce and business",
          "2018/kitchen dining laundry garden furniture",
          "2018/la cuisine",
          "2018/luggage accessories",
          "2018/market place",
          "2018/music",
          "2018/musical instruments",
          "2018/office furniture",
          "2018/party supplies",
          "2018/perfumery",
          "2018/pet shop",
          "2018/signaling and security",
          "2018/small appliances",
          "2018/small appliances home oven and coffee",
          "2018/sports leisure",
          "2018/stationery",
          "2018/tablets printing image",
          "2018/telephony",
          "2018/toys",
          "2018/watches gifts",
          "2018/agro industry and commerce",
          "2018/air conditioning",
          "2018/art",
          "2018/arts and craftmanship",
          "2018/audio",
          "2018/auto",
          "2018/baby",
          "2018/bed bath table",
          "2018/books general interest",
          "2018/books imported",
          "2018/books technical",
          "2018/christmas supplies",
          "2018/cine photo",
          "2018/computers",
          "2018/computers accessories",
          "2018/consoles games",
          "2018/construction tools construction",
          "2018/construction tools lights",
          "2018/construction tools safety",
          "2018/cool stuff",
          "2018/costruction tools garden",
          "2018/costruction tools tools",
          "2018/diapers and hygiene",
          "2018/drinks",
          "2018/dvds blu ray",
          "2018/electronics",
          "2018/fashion bags accessories",
          "2018/fashion male clothing",
          "2018/fashion shoes",
          "2018/fashion underwear beach",
          "2018/fixed telephony",
          "2018/flowers",
          "2018/food",
          "2018/food drink",
          "2018/furniture bedroom",
          "2018/furniture decor",
          "2018/furniture living room",
          "2018/furniture mattress and upholstery",
          "2018/garden tools",
          "2018/health beauty",
          "2018/home appliances",
          "2018/home appliances 2",
          "2018/home comfort 2",
          "2018/home confort",
          "2018/home construction",
          "2018/housewares",
          "2018/industry commerce and business",
          "2018/kitchen dining laundry garden furniture",
          "2018/luggage accessories",
          "2018/market place",
          "2018/music",
          "2018/musical instruments",
          "2018/office furniture",
          "2018/party supplies",
          "2018/perfumery",
          "2018/pet shop",
          "2018/signaling and security",
          "2018/small appliances",
          "2018/small appliances home oven and coffee",
          "2018/sports leisure",
          "2018/stationery",
          "2018/telephony",
          "2018/toys",
          "2018/watches gifts",
          "2018/agro industry and commerce",
          "2018/air conditioning",
          "2018/art",
          "2018/audio",
          "2018/auto",
          "2018/baby",
          "2018/bed bath table",
          "2018/books general interest",
          "2018/books imported",
          "2018/books technical",
          "2018/christmas supplies",
          "2018/cine photo",
          "2018/computers",
          "2018/computers accessories",
          "2018/consoles games",
          "2018/construction tools construction",
          "2018/construction tools lights",
          "2018/construction tools safety",
          "2018/cool stuff",
          "2018/costruction tools garden",
          "2018/costruction tools tools",
          "2018/diapers and hygiene",
          "2018/drinks",
          "2018/dvds blu ray",
          "2018/electronics",
          "2018/fashion bags accessories",
          "2018/fashion childrens clothes",
          "2018/fashion male clothing",
          "2018/fashion shoes",
          "2018/fashion underwear beach",
          "2018/fixed telephony",
          "2018/flowers",
          "2018/food",
          "2018/food drink",
          "2018/furniture bedroom",
          "2018/furniture decor",
          "2018/furniture living room",
          "2018/garden tools",
          "2018/health beauty",
          "2018/home appliances",
          "2018/home appliances 2",
          "2018/home comfort 2",
          "2018/home confort",
          "2018/home construction",
          "2018/housewares",
          "2018/industry commerce and business",
          "2018/kitchen dining laundry garden furniture",
          "2018/luggage accessories",
          "2018/market place",
          "2018/music",
          "2018/musical instruments",
          "2018/office furniture",
          "2018/party supplies",
          "2018/perfumery",
          "2018/pet shop",
          "2018/signaling and security",
          "2018/small appliances",
          "2018/small appliances home oven and coffee",
          "2018/sports leisure",
          "2018/stationery",
          "2018/tablets printing image",
          "2018/telephony",
          "2018/toys",
          "2018/watches gifts",
          "2018/agro industry and commerce",
          "2018/air conditioning",
          "2018/art",
          "2018/audio",
          "2018/auto",
          "2018/baby",
          "2018/bed bath table",
          "2018/books general interest",
          "2018/books imported",
          "2018/books technical",
          "2018/christmas supplies",
          "2018/cine photo",
          "2018/computers accessories",
          "2018/consoles games",
          "2018/construction tools construction",
          "2018/construction tools lights",
          "2018/construction tools safety",
          "2018/cool stuff",
          "2018/costruction tools garden",
          "2018/costruction tools tools",
          "2018/diapers and hygiene",
          "2018/drinks",
          "2018/dvds blu ray",
          "2018/electronics",
          "2018/fashio female clothing",
          "2018/fashion bags accessories",
          "2018/fashion childrens clothes",
          "2018/fashion shoes",
          "2018/fashion sport",
          "2018/fashion underwear beach",
          "2018/fixed telephony",
          "2018/flowers",
          "2018/food",
          "2018/food drink",
          "2018/furniture bedroom",
          "2018/furniture decor",
          "2018/furniture living room",
          "2018/furniture mattress and upholstery",
          "2018/garden tools",
          "2018/health beauty",
          "2018/home appliances",
          "2018/home appliances 2",
          "2018/home comfort 2",
          "2018/home confort",
          "2018/home construction",
          "2018/housewares",
          "2018/industry commerce and business",
          "2018/kitchen dining laundry garden furniture",
          "2018/la cuisine",
          "2018/luggage accessories",
          "2018/market place",
          "2018/music",
          "2018/musical instruments",
          "2018/office furniture",
          "2018/party supplies",
          "2018/perfumery",
          "2018/pet shop",
          "2018/signaling and security",
          "2018/small appliances",
          "2018/small appliances home oven and coffee",
          "2018/sports leisure",
          "2018/stationery",
          "2018/tablets printing image",
          "2018/telephony",
          "2018/toys",
          "2018/watches gifts",
          "2018/agro industry and commerce",
          "2018/air conditioning",
          "2018/art",
          "2018/arts and craftmanship",
          "2018/audio",
          "2018/auto",
          "2018/baby",
          "2018/bed bath table",
          "2018/books general interest",
          "2018/books imported",
          "2018/books technical",
          "2018/christmas supplies",
          "2018/cine photo",
          "2018/computers",
          "2018/computers accessories",
          "2018/consoles games",
          "2018/construction tools construction",
          "2018/construction tools lights",
          "2018/construction tools safety",
          "2018/cool stuff",
          "2018/costruction tools garden",
          "2018/costruction tools tools",
          "2018/diapers and hygiene",
          "2018/drinks",
          "2018/dvds blu ray",
          "2018/electronics",
          "2018/fashion bags accessories",
          "2018/fashion male clothing",
          "2018/fashion shoes",
          "2018/fashion underwear beach",
          "2018/fixed telephony",
          "2018/flowers",
          "2018/food",
          "2018/food drink",
          "2018/furniture bedroom",
          "2018/furniture decor",
          "2018/furniture living room",
          "2018/garden tools",
          "2018/health beauty",
          "2018/home appliances",
          "2018/home appliances 2",
          "2018/home confort",
          "2018/home construction",
          "2018/housewares",
          "2018/industry commerce and business",
          "2018/kitchen dining laundry garden furniture",
          "2018/luggage accessories",
          "2018/market place",
          "2018/music",
          "2018/musical instruments",
          "2018/office furniture",
          "2018/party supplies",
          "2018/perfumery",
          "2018/pet shop",
          "2018/signaling and security",
          "2018/small appliances",
          "2018/small appliances home oven and coffee",
          "2018/sports leisure",
          "2018/stationery",
          "2018/tablets printing image",
          "2018/telephony",
          "2018/toys",
          "2018/watches gifts",
          "2018/kitchen dining laundry garden furniture",
          "2018",
          "2018",
          "2018",
          "2018",
          "2018",
          "2018",
          "2018",
          "2018",
          "2018",
          "2018",
          "2018",
          "2018",
          "2018",
          "2018",
          "2018",
          "2018",
          "2018",
          "2018",
          "2018",
          "2018",
          "2018",
          "2018",
          "2018",
          "2018",
          "2018",
          "2018",
          "2018",
          "2018",
          "2018",
          "2018",
          "2018",
          "2018",
          "2018",
          "2018",
          "2018",
          "2018",
          "2018",
          "2018",
          "2018",
          "2018",
          "2018",
          "2018",
          "2018",
          "2018",
          "2018",
          "2018",
          "2018",
          "2018",
          "2018",
          "2018",
          "2018",
          "2018",
          "2018",
          "2018",
          "2018",
          "2018",
          "2018",
          "2018",
          "2018",
          "2018",
          "2018",
          "2018",
          "2018",
          "2018",
          "2018",
          "2018",
          "2018",
          "2018",
          "2018",
          "2018",
          ""
         ],
         "type": "sunburst",
         "values": {
          "bdata": "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",
          "dtype": "f8"
         }
        }
       ],
       "layout": {
        "coloraxis": {
         "cmid": 75118.63568271602,
         "colorbar": {
          "title": {
           "text": "Sales Revenue"
          }
         },
         "colorscale": [
          [
           0,
           "rgb(103,0,31)"
          ],
          [
           0.1,
           "rgb(178,24,43)"
          ],
          [
           0.2,
           "rgb(214,96,77)"
          ],
          [
           0.3,
           "rgb(244,165,130)"
          ],
          [
           0.4,
           "rgb(253,219,199)"
          ],
          [
           0.5,
           "rgb(247,247,247)"
          ],
          [
           0.6,
           "rgb(209,229,240)"
          ],
          [
           0.7,
           "rgb(146,197,222)"
          ],
          [
           0.8,
           "rgb(67,147,195)"
          ],
          [
           0.9,
           "rgb(33,102,172)"
          ],
          [
           1,
           "rgb(5,48,97)"
          ]
         ]
        },
        "legend": {
         "tracegroupgap": 0
        },
        "margin": {
         "t": 60
        },
        "template": {
         "data": {
          "bar": [
           {
            "error_x": {
             "color": "#2a3f5f"
            },
            "error_y": {
             "color": "#2a3f5f"
            },
            "marker": {
             "line": {
              "color": "#E5ECF6",
              "width": 0.5
             },
             "pattern": {
              "fillmode": "overlay",
              "size": 10,
              "solidity": 0.2
             }
            },
            "type": "bar"
           }
          ],
          "barpolar": [
           {
            "marker": {
             "line": {
              "color": "#E5ECF6",
              "width": 0.5
             },
             "pattern": {
              "fillmode": "overlay",
              "size": 10,
              "solidity": 0.2
             }
            },
            "type": "barpolar"
           }
          ],
          "carpet": [
           {
            "aaxis": {
             "endlinecolor": "#2a3f5f",
             "gridcolor": "white",
             "linecolor": "white",
             "minorgridcolor": "white",
             "startlinecolor": "#2a3f5f"
            },
            "baxis": {
             "endlinecolor": "#2a3f5f",
             "gridcolor": "white",
             "linecolor": "white",
             "minorgridcolor": "white",
             "startlinecolor": "#2a3f5f"
            },
            "type": "carpet"
           }
          ],
          "choropleth": [
           {
            "colorbar": {
             "outlinewidth": 0,
             "ticks": ""
            },
            "type": "choropleth"
           }
          ],
          "contour": [
           {
            "colorbar": {
             "outlinewidth": 0,
             "ticks": ""
            },
            "colorscale": [
             [
              0,
              "#0d0887"
             ],
             [
              0.1111111111111111,
              "#46039f"
             ],
             [
              0.2222222222222222,
              "#7201a8"
             ],
             [
              0.3333333333333333,
              "#9c179e"
             ],
             [
              0.4444444444444444,
              "#bd3786"
             ],
             [
              0.5555555555555556,
              "#d8576b"
             ],
             [
              0.6666666666666666,
              "#ed7953"
             ],
             [
              0.7777777777777778,
              "#fb9f3a"
             ],
             [
              0.8888888888888888,
              "#fdca26"
             ],
             [
              1,
              "#f0f921"
             ]
            ],
            "type": "contour"
           }
          ],
          "contourcarpet": [
           {
            "colorbar": {
             "outlinewidth": 0,
             "ticks": ""
            },
            "type": "contourcarpet"
           }
          ],
          "heatmap": [
           {
            "colorbar": {
             "outlinewidth": 0,
             "ticks": ""
            },
            "colorscale": [
             [
              0,
              "#0d0887"
             ],
             [
              0.1111111111111111,
              "#46039f"
             ],
             [
              0.2222222222222222,
              "#7201a8"
             ],
             [
              0.3333333333333333,
              "#9c179e"
             ],
             [
              0.4444444444444444,
              "#bd3786"
             ],
             [
              0.5555555555555556,
              "#d8576b"
             ],
             [
              0.6666666666666666,
              "#ed7953"
             ],
             [
              0.7777777777777778,
              "#fb9f3a"
             ],
             [
              0.8888888888888888,
              "#fdca26"
             ],
             [
              1,
              "#f0f921"
             ]
            ],
            "type": "heatmap"
           }
          ],
          "histogram": [
           {
            "marker": {
             "pattern": {
              "fillmode": "overlay",
              "size": 10,
              "solidity": 0.2
             }
            },
            "type": "histogram"
           }
          ],
          "histogram2d": [
           {
            "colorbar": {
             "outlinewidth": 0,
             "ticks": ""
            },
            "colorscale": [
             [
              0,
              "#0d0887"
             ],
             [
              0.1111111111111111,
              "#46039f"
             ],
             [
              0.2222222222222222,
              "#7201a8"
             ],
             [
              0.3333333333333333,
              "#9c179e"
             ],
             [
              0.4444444444444444,
              "#bd3786"
             ],
             [
              0.5555555555555556,
              "#d8576b"
             ],
             [
              0.6666666666666666,
              "#ed7953"
             ],
             [
              0.7777777777777778,
              "#fb9f3a"
             ],
             [
              0.8888888888888888,
              "#fdca26"
             ],
             [
              1,
              "#f0f921"
             ]
            ],
            "type": "histogram2d"
           }
          ],
          "histogram2dcontour": [
           {
            "colorbar": {
             "outlinewidth": 0,
             "ticks": ""
            },
            "colorscale": [
             [
              0,
              "#0d0887"
             ],
             [
              0.1111111111111111,
              "#46039f"
             ],
             [
              0.2222222222222222,
              "#7201a8"
             ],
             [
              0.3333333333333333,
              "#9c179e"
             ],
             [
              0.4444444444444444,
              "#bd3786"
             ],
             [
              0.5555555555555556,
              "#d8576b"
             ],
             [
              0.6666666666666666,
              "#ed7953"
             ],
             [
              0.7777777777777778,
              "#fb9f3a"
             ],
             [
              0.8888888888888888,
              "#fdca26"
             ],
             [
              1,
              "#f0f921"
             ]
            ],
            "type": "histogram2dcontour"
           }
          ],
          "mesh3d": [
           {
            "colorbar": {
             "outlinewidth": 0,
             "ticks": ""
            },
            "type": "mesh3d"
           }
          ],
          "parcoords": [
           {
            "line": {
             "colorbar": {
              "outlinewidth": 0,
              "ticks": ""
             }
            },
            "type": "parcoords"
           }
          ],
          "pie": [
           {
            "automargin": true,
            "type": "pie"
           }
          ],
          "scatter": [
           {
            "fillpattern": {
             "fillmode": "overlay",
             "size": 10,
             "solidity": 0.2
            },
            "type": "scatter"
           }
          ],
          "scatter3d": [
           {
            "line": {
             "colorbar": {
              "outlinewidth": 0,
              "ticks": ""
             }
            },
            "marker": {
             "colorbar": {
              "outlinewidth": 0,
              "ticks": ""
             }
            },
            "type": "scatter3d"
           }
          ],
          "scattercarpet": [
           {
            "marker": {
             "colorbar": {
              "outlinewidth": 0,
              "ticks": ""
             }
            },
            "type": "scattercarpet"
           }
          ],
          "scattergeo": [
           {
            "marker": {
             "colorbar": {
              "outlinewidth": 0,
              "ticks": ""
             }
            },
            "type": "scattergeo"
           }
          ],
          "scattergl": [
           {
            "marker": {
             "colorbar": {
              "outlinewidth": 0,
              "ticks": ""
             }
            },
            "type": "scattergl"
           }
          ],
          "scattermap": [
           {
            "marker": {
             "colorbar": {
              "outlinewidth": 0,
              "ticks": ""
             }
            },
            "type": "scattermap"
           }
          ],
          "scattermapbox": [
           {
            "marker": {
             "colorbar": {
              "outlinewidth": 0,
              "ticks": ""
             }
            },
            "type": "scattermapbox"
           }
          ],
          "scatterpolar": [
           {
            "marker": {
             "colorbar": {
              "outlinewidth": 0,
              "ticks": ""
             }
            },
            "type": "scatterpolar"
           }
          ],
          "scatterpolargl": [
           {
            "marker": {
             "colorbar": {
              "outlinewidth": 0,
              "ticks": ""
             }
            },
            "type": "scatterpolargl"
           }
          ],
          "scatterternary": [
           {
            "marker": {
             "colorbar": {
              "outlinewidth": 0,
              "ticks": ""
             }
            },
            "type": "scatterternary"
           }
          ],
          "surface": [
           {
            "colorbar": {
             "outlinewidth": 0,
             "ticks": ""
            },
            "colorscale": [
             [
              0,
              "#0d0887"
             ],
             [
              0.1111111111111111,
              "#46039f"
             ],
             [
              0.2222222222222222,
              "#7201a8"
             ],
             [
              0.3333333333333333,
              "#9c179e"
             ],
             [
              0.4444444444444444,
              "#bd3786"
             ],
             [
              0.5555555555555556,
              "#d8576b"
             ],
             [
              0.6666666666666666,
              "#ed7953"
             ],
             [
              0.7777777777777778,
              "#fb9f3a"
             ],
             [
              0.8888888888888888,
              "#fdca26"
             ],
             [
              1,
              "#f0f921"
             ]
            ],
            "type": "surface"
           }
          ],
          "table": [
           {
            "cells": {
             "fill": {
              "color": "#EBF0F8"
             },
             "line": {
              "color": "white"
             }
            },
            "header": {
             "fill": {
              "color": "#C8D4E3"
             },
             "line": {
              "color": "white"
             }
            },
            "type": "table"
           }
          ]
         },
         "layout": {
          "annotationdefaults": {
           "arrowcolor": "#2a3f5f",
           "arrowhead": 0,
           "arrowwidth": 1
          },
          "autotypenumbers": "strict",
          "coloraxis": {
           "colorbar": {
            "outlinewidth": 0,
            "ticks": ""
           }
          },
          "colorscale": {
           "diverging": [
            [
             0,
             "#8e0152"
            ],
            [
             0.1,
             "#c51b7d"
            ],
            [
             0.2,
             "#de77ae"
            ],
            [
             0.3,
             "#f1b6da"
            ],
            [
             0.4,
             "#fde0ef"
            ],
            [
             0.5,
             "#f7f7f7"
            ],
            [
             0.6,
             "#e6f5d0"
            ],
            [
             0.7,
             "#b8e186"
            ],
            [
             0.8,
             "#7fbc41"
            ],
            [
             0.9,
             "#4d9221"
            ],
            [
             1,
             "#276419"
            ]
           ],
           "sequential": [
            [
             0,
             "#0d0887"
            ],
            [
             0.1111111111111111,
             "#46039f"
            ],
            [
             0.2222222222222222,
             "#7201a8"
            ],
            [
             0.3333333333333333,
             "#9c179e"
            ],
            [
             0.4444444444444444,
             "#bd3786"
            ],
            [
             0.5555555555555556,
             "#d8576b"
            ],
            [
             0.6666666666666666,
             "#ed7953"
            ],
            [
             0.7777777777777778,
             "#fb9f3a"
            ],
            [
             0.8888888888888888,
             "#fdca26"
            ],
            [
             1,
             "#f0f921"
            ]
           ],
           "sequentialminus": [
            [
             0,
             "#0d0887"
            ],
            [
             0.1111111111111111,
             "#46039f"
            ],
            [
             0.2222222222222222,
             "#7201a8"
            ],
            [
             0.3333333333333333,
             "#9c179e"
            ],
            [
             0.4444444444444444,
             "#bd3786"
            ],
            [
             0.5555555555555556,
             "#d8576b"
            ],
            [
             0.6666666666666666,
             "#ed7953"
            ],
            [
             0.7777777777777778,
             "#fb9f3a"
            ],
            [
             0.8888888888888888,
             "#fdca26"
            ],
            [
             1,
             "#f0f921"
            ]
           ]
          },
          "colorway": [
           "#636efa",
           "#EF553B",
           "#00cc96",
           "#ab63fa",
           "#FFA15A",
           "#19d3f3",
           "#FF6692",
           "#B6E880",
           "#FF97FF",
           "#FECB52"
          ],
          "font": {
           "color": "#2a3f5f"
          },
          "geo": {
           "bgcolor": "white",
           "lakecolor": "white",
           "landcolor": "#E5ECF6",
           "showlakes": true,
           "showland": true,
           "subunitcolor": "white"
          },
          "hoverlabel": {
           "align": "left"
          },
          "hovermode": "closest",
          "mapbox": {
           "style": "light"
          },
          "paper_bgcolor": "white",
          "plot_bgcolor": "#E5ECF6",
          "polar": {
           "angularaxis": {
            "gridcolor": "white",
            "linecolor": "white",
            "ticks": ""
           },
           "bgcolor": "#E5ECF6",
           "radialaxis": {
            "gridcolor": "white",
            "linecolor": "white",
            "ticks": ""
           }
          },
          "scene": {
           "xaxis": {
            "backgroundcolor": "#E5ECF6",
            "gridcolor": "white",
            "gridwidth": 2,
            "linecolor": "white",
            "showbackground": true,
            "ticks": "",
            "zerolinecolor": "white"
           },
           "yaxis": {
            "backgroundcolor": "#E5ECF6",
            "gridcolor": "white",
            "gridwidth": 2,
            "linecolor": "white",
            "showbackground": true,
            "ticks": "",
            "zerolinecolor": "white"
           },
           "zaxis": {
            "backgroundcolor": "#E5ECF6",
            "gridcolor": "white",
            "gridwidth": 2,
            "linecolor": "white",
            "showbackground": true,
            "ticks": "",
            "zerolinecolor": "white"
           }
          },
          "shapedefaults": {
           "line": {
            "color": "#2a3f5f"
           }
          },
          "ternary": {
           "aaxis": {
            "gridcolor": "white",
            "linecolor": "white",
            "ticks": ""
           },
           "baxis": {
            "gridcolor": "white",
            "linecolor": "white",
            "ticks": ""
           },
           "bgcolor": "#E5ECF6",
           "caxis": {
            "gridcolor": "white",
            "linecolor": "white",
            "ticks": ""
           }
          },
          "title": {
           "x": 0.05
          },
          "xaxis": {
           "automargin": true,
           "gridcolor": "white",
           "linecolor": "white",
           "ticks": "",
           "title": {
            "standoff": 15
           },
           "zerolinecolor": "white",
           "zerolinewidth": 2
          },
          "yaxis": {
           "automargin": true,
           "gridcolor": "white",
           "linecolor": "white",
           "ticks": "",
           "title": {
            "standoff": 15
           },
           "zerolinecolor": "white",
           "zerolinewidth": 2
          }
         }
        }
       }
      }
     },
     "metadata": {},
     "output_type": "display_data"
    }
   ],
   "source": [
    "# Plot dos dados de 2018 (Começou a melhorar!)\n",
    "fig = px.sunburst(total_rev_2018, \n",
    "                  path = ['Sales Year', 'Product Category', 'Sales Month'], \n",
    "                  values = 'Sales Revenue',\n",
    "                  color = 'Sales Revenue', \n",
    "                  hover_data = ['Sales Revenue'],\n",
    "                  color_continuous_scale = 'RdBu',\n",
    "                  color_continuous_midpoint = np.average(total_rev_2018['Sales Revenue'], \n",
    "                                                         weights = total_rev_2018['Sales Revenue']))\n",
    "fig.show()"
   ]
  },
  {
   "cell_type": "code",
   "execution_count": 84,
   "metadata": {},
   "outputs": [],
   "source": [
    "# Ordena o resultado por total de faturamento\n",
    "total_rev_2018 = total_rev_2018.sort_values(by = 'Sales Revenue', ascending = True)"
   ]
  },
  {
   "cell_type": "code",
   "execution_count": 85,
   "metadata": {},
   "outputs": [],
   "source": [
    "# Filtra os top 10\n",
    "total_rev_2018 = total_rev_2018[:10]"
   ]
  },
  {
   "cell_type": "code",
   "execution_count": 86,
   "metadata": {},
   "outputs": [
    {
     "data": {
      "application/vnd.plotly.v1+json": {
       "config": {
        "plotlyServerURL": "https://plot.ly"
       },
       "data": [
        {
         "branchvalues": "total",
         "customdata": {
          "bdata": "CtejcD1KMEBcj8L1KBxBQFyPwvUo3EFAKVyPwvUIRECkcD0K10NFQArXo3A9KkZA7FG4HoWLRkC4HoXrURhNQI/C9Shcj1FAZmZmZmY2UkC2j1Fjp6FBQFyPwvUoHEFAXI/C9SjcQUApXI/C9QhEQArXo3A9KkZA7FG4HoWLRkBqSpkY3exQQMzaAYX110lA",
          "dtype": "f8",
          "shape": "18, 1"
         },
         "domain": {
          "x": [
           0,
           1
          ],
          "y": [
           0,
           1
          ]
         },
         "hovertemplate": "labels=%{label}<br>Sales Revenue_sum=%{value}<br>parent=%{parent}<br>id=%{id}<br>Sales Revenue=%{color}<extra></extra>",
         "ids": [
          "2018/dvds blu ray/Aug",
          "2018/arts and craftmanship/Apr",
          "2018/flowers/May",
          "2018/music/Jan",
          "2018/dvds blu ray/Feb",
          "2018/home comfort 2/Mar",
          "2018/fashio female clothing/Feb",
          "2018/tablets printing image/May",
          "2018/tablets printing image/Apr",
          "2018/tablets printing image/Jun",
          "2018/dvds blu ray",
          "2018/arts and craftmanship",
          "2018/flowers",
          "2018/music",
          "2018/home comfort 2",
          "2018/fashio female clothing",
          "2018/tablets printing image",
          "2018"
         ],
         "labels": [
          "Aug",
          "Apr",
          "May",
          "Jan",
          "Feb",
          "Mar",
          "Feb",
          "May",
          "Apr",
          "Jun",
          "dvds blu ray",
          "arts and craftmanship",
          "flowers",
          "music",
          "home comfort 2",
          "fashio female clothing",
          "tablets printing image",
          "2018"
         ],
         "marker": {
          "coloraxis": "coloraxis",
          "colors": {
           "bdata": "CtejcD1KMEBcj8L1KBxBQFyPwvUo3EFAKVyPwvUIRECkcD0K10NFQArXo3A9KkZA7FG4HoWLRkC4HoXrURhNQI/C9Shcj1FAZmZmZmY2UkC2j1Fjp6FBQFyPwvUoHEFAXI/C9SjcQUApXI/C9QhEQArXo3A9KkZA7FG4HoWLRkBqSpkY3exQQMzaAYX110lA",
           "dtype": "f8"
          }
         },
         "name": "",
         "parents": [
          "2018/dvds blu ray",
          "2018/arts and craftmanship",
          "2018/flowers",
          "2018/music",
          "2018/dvds blu ray",
          "2018/home comfort 2",
          "2018/fashio female clothing",
          "2018/tablets printing image",
          "2018/tablets printing image",
          "2018/tablets printing image",
          "2018",
          "2018",
          "2018",
          "2018",
          "2018",
          "2018",
          "2018",
          ""
         ],
         "type": "sunburst",
         "values": {
          "bdata": "CtejcD1KMEBcj8L1KBxBQFyPwvUo3EFAKVyPwvUIRECkcD0K10NFQArXo3A9KkZA7FG4HoWLRkC4HoXrURhNQI/C9Shcj1FAZmZmZmY2UkApXI/C9WhNQFyPwvUoHEFAXI/C9SjcQUApXI/C9QhEQArXo3A9KkZA7FG4HoWLRkAoXI/C9ShpQBSuR+F6uHxA",
          "dtype": "f8"
         }
        }
       ],
       "layout": {
        "coloraxis": {
         "cmid": 51.687180162339786,
         "colorbar": {
          "title": {
           "text": "Sales Revenue"
          }
         },
         "colorscale": [
          [
           0,
           "rgb(103,0,31)"
          ],
          [
           0.1,
           "rgb(178,24,43)"
          ],
          [
           0.2,
           "rgb(214,96,77)"
          ],
          [
           0.3,
           "rgb(244,165,130)"
          ],
          [
           0.4,
           "rgb(253,219,199)"
          ],
          [
           0.5,
           "rgb(247,247,247)"
          ],
          [
           0.6,
           "rgb(209,229,240)"
          ],
          [
           0.7,
           "rgb(146,197,222)"
          ],
          [
           0.8,
           "rgb(67,147,195)"
          ],
          [
           0.9,
           "rgb(33,102,172)"
          ],
          [
           1,
           "rgb(5,48,97)"
          ]
         ]
        },
        "legend": {
         "tracegroupgap": 0
        },
        "margin": {
         "t": 60
        },
        "template": {
         "data": {
          "bar": [
           {
            "error_x": {
             "color": "#2a3f5f"
            },
            "error_y": {
             "color": "#2a3f5f"
            },
            "marker": {
             "line": {
              "color": "#E5ECF6",
              "width": 0.5
             },
             "pattern": {
              "fillmode": "overlay",
              "size": 10,
              "solidity": 0.2
             }
            },
            "type": "bar"
           }
          ],
          "barpolar": [
           {
            "marker": {
             "line": {
              "color": "#E5ECF6",
              "width": 0.5
             },
             "pattern": {
              "fillmode": "overlay",
              "size": 10,
              "solidity": 0.2
             }
            },
            "type": "barpolar"
           }
          ],
          "carpet": [
           {
            "aaxis": {
             "endlinecolor": "#2a3f5f",
             "gridcolor": "white",
             "linecolor": "white",
             "minorgridcolor": "white",
             "startlinecolor": "#2a3f5f"
            },
            "baxis": {
             "endlinecolor": "#2a3f5f",
             "gridcolor": "white",
             "linecolor": "white",
             "minorgridcolor": "white",
             "startlinecolor": "#2a3f5f"
            },
            "type": "carpet"
           }
          ],
          "choropleth": [
           {
            "colorbar": {
             "outlinewidth": 0,
             "ticks": ""
            },
            "type": "choropleth"
           }
          ],
          "contour": [
           {
            "colorbar": {
             "outlinewidth": 0,
             "ticks": ""
            },
            "colorscale": [
             [
              0,
              "#0d0887"
             ],
             [
              0.1111111111111111,
              "#46039f"
             ],
             [
              0.2222222222222222,
              "#7201a8"
             ],
             [
              0.3333333333333333,
              "#9c179e"
             ],
             [
              0.4444444444444444,
              "#bd3786"
             ],
             [
              0.5555555555555556,
              "#d8576b"
             ],
             [
              0.6666666666666666,
              "#ed7953"
             ],
             [
              0.7777777777777778,
              "#fb9f3a"
             ],
             [
              0.8888888888888888,
              "#fdca26"
             ],
             [
              1,
              "#f0f921"
             ]
            ],
            "type": "contour"
           }
          ],
          "contourcarpet": [
           {
            "colorbar": {
             "outlinewidth": 0,
             "ticks": ""
            },
            "type": "contourcarpet"
           }
          ],
          "heatmap": [
           {
            "colorbar": {
             "outlinewidth": 0,
             "ticks": ""
            },
            "colorscale": [
             [
              0,
              "#0d0887"
             ],
             [
              0.1111111111111111,
              "#46039f"
             ],
             [
              0.2222222222222222,
              "#7201a8"
             ],
             [
              0.3333333333333333,
              "#9c179e"
             ],
             [
              0.4444444444444444,
              "#bd3786"
             ],
             [
              0.5555555555555556,
              "#d8576b"
             ],
             [
              0.6666666666666666,
              "#ed7953"
             ],
             [
              0.7777777777777778,
              "#fb9f3a"
             ],
             [
              0.8888888888888888,
              "#fdca26"
             ],
             [
              1,
              "#f0f921"
             ]
            ],
            "type": "heatmap"
           }
          ],
          "histogram": [
           {
            "marker": {
             "pattern": {
              "fillmode": "overlay",
              "size": 10,
              "solidity": 0.2
             }
            },
            "type": "histogram"
           }
          ],
          "histogram2d": [
           {
            "colorbar": {
             "outlinewidth": 0,
             "ticks": ""
            },
            "colorscale": [
             [
              0,
              "#0d0887"
             ],
             [
              0.1111111111111111,
              "#46039f"
             ],
             [
              0.2222222222222222,
              "#7201a8"
             ],
             [
              0.3333333333333333,
              "#9c179e"
             ],
             [
              0.4444444444444444,
              "#bd3786"
             ],
             [
              0.5555555555555556,
              "#d8576b"
             ],
             [
              0.6666666666666666,
              "#ed7953"
             ],
             [
              0.7777777777777778,
              "#fb9f3a"
             ],
             [
              0.8888888888888888,
              "#fdca26"
             ],
             [
              1,
              "#f0f921"
             ]
            ],
            "type": "histogram2d"
           }
          ],
          "histogram2dcontour": [
           {
            "colorbar": {
             "outlinewidth": 0,
             "ticks": ""
            },
            "colorscale": [
             [
              0,
              "#0d0887"
             ],
             [
              0.1111111111111111,
              "#46039f"
             ],
             [
              0.2222222222222222,
              "#7201a8"
             ],
             [
              0.3333333333333333,
              "#9c179e"
             ],
             [
              0.4444444444444444,
              "#bd3786"
             ],
             [
              0.5555555555555556,
              "#d8576b"
             ],
             [
              0.6666666666666666,
              "#ed7953"
             ],
             [
              0.7777777777777778,
              "#fb9f3a"
             ],
             [
              0.8888888888888888,
              "#fdca26"
             ],
             [
              1,
              "#f0f921"
             ]
            ],
            "type": "histogram2dcontour"
           }
          ],
          "mesh3d": [
           {
            "colorbar": {
             "outlinewidth": 0,
             "ticks": ""
            },
            "type": "mesh3d"
           }
          ],
          "parcoords": [
           {
            "line": {
             "colorbar": {
              "outlinewidth": 0,
              "ticks": ""
             }
            },
            "type": "parcoords"
           }
          ],
          "pie": [
           {
            "automargin": true,
            "type": "pie"
           }
          ],
          "scatter": [
           {
            "fillpattern": {
             "fillmode": "overlay",
             "size": 10,
             "solidity": 0.2
            },
            "type": "scatter"
           }
          ],
          "scatter3d": [
           {
            "line": {
             "colorbar": {
              "outlinewidth": 0,
              "ticks": ""
             }
            },
            "marker": {
             "colorbar": {
              "outlinewidth": 0,
              "ticks": ""
             }
            },
            "type": "scatter3d"
           }
          ],
          "scattercarpet": [
           {
            "marker": {
             "colorbar": {
              "outlinewidth": 0,
              "ticks": ""
             }
            },
            "type": "scattercarpet"
           }
          ],
          "scattergeo": [
           {
            "marker": {
             "colorbar": {
              "outlinewidth": 0,
              "ticks": ""
             }
            },
            "type": "scattergeo"
           }
          ],
          "scattergl": [
           {
            "marker": {
             "colorbar": {
              "outlinewidth": 0,
              "ticks": ""
             }
            },
            "type": "scattergl"
           }
          ],
          "scattermap": [
           {
            "marker": {
             "colorbar": {
              "outlinewidth": 0,
              "ticks": ""
             }
            },
            "type": "scattermap"
           }
          ],
          "scattermapbox": [
           {
            "marker": {
             "colorbar": {
              "outlinewidth": 0,
              "ticks": ""
             }
            },
            "type": "scattermapbox"
           }
          ],
          "scatterpolar": [
           {
            "marker": {
             "colorbar": {
              "outlinewidth": 0,
              "ticks": ""
             }
            },
            "type": "scatterpolar"
           }
          ],
          "scatterpolargl": [
           {
            "marker": {
             "colorbar": {
              "outlinewidth": 0,
              "ticks": ""
             }
            },
            "type": "scatterpolargl"
           }
          ],
          "scatterternary": [
           {
            "marker": {
             "colorbar": {
              "outlinewidth": 0,
              "ticks": ""
             }
            },
            "type": "scatterternary"
           }
          ],
          "surface": [
           {
            "colorbar": {
             "outlinewidth": 0,
             "ticks": ""
            },
            "colorscale": [
             [
              0,
              "#0d0887"
             ],
             [
              0.1111111111111111,
              "#46039f"
             ],
             [
              0.2222222222222222,
              "#7201a8"
             ],
             [
              0.3333333333333333,
              "#9c179e"
             ],
             [
              0.4444444444444444,
              "#bd3786"
             ],
             [
              0.5555555555555556,
              "#d8576b"
             ],
             [
              0.6666666666666666,
              "#ed7953"
             ],
             [
              0.7777777777777778,
              "#fb9f3a"
             ],
             [
              0.8888888888888888,
              "#fdca26"
             ],
             [
              1,
              "#f0f921"
             ]
            ],
            "type": "surface"
           }
          ],
          "table": [
           {
            "cells": {
             "fill": {
              "color": "#EBF0F8"
             },
             "line": {
              "color": "white"
             }
            },
            "header": {
             "fill": {
              "color": "#C8D4E3"
             },
             "line": {
              "color": "white"
             }
            },
            "type": "table"
           }
          ]
         },
         "layout": {
          "annotationdefaults": {
           "arrowcolor": "#2a3f5f",
           "arrowhead": 0,
           "arrowwidth": 1
          },
          "autotypenumbers": "strict",
          "coloraxis": {
           "colorbar": {
            "outlinewidth": 0,
            "ticks": ""
           }
          },
          "colorscale": {
           "diverging": [
            [
             0,
             "#8e0152"
            ],
            [
             0.1,
             "#c51b7d"
            ],
            [
             0.2,
             "#de77ae"
            ],
            [
             0.3,
             "#f1b6da"
            ],
            [
             0.4,
             "#fde0ef"
            ],
            [
             0.5,
             "#f7f7f7"
            ],
            [
             0.6,
             "#e6f5d0"
            ],
            [
             0.7,
             "#b8e186"
            ],
            [
             0.8,
             "#7fbc41"
            ],
            [
             0.9,
             "#4d9221"
            ],
            [
             1,
             "#276419"
            ]
           ],
           "sequential": [
            [
             0,
             "#0d0887"
            ],
            [
             0.1111111111111111,
             "#46039f"
            ],
            [
             0.2222222222222222,
             "#7201a8"
            ],
            [
             0.3333333333333333,
             "#9c179e"
            ],
            [
             0.4444444444444444,
             "#bd3786"
            ],
            [
             0.5555555555555556,
             "#d8576b"
            ],
            [
             0.6666666666666666,
             "#ed7953"
            ],
            [
             0.7777777777777778,
             "#fb9f3a"
            ],
            [
             0.8888888888888888,
             "#fdca26"
            ],
            [
             1,
             "#f0f921"
            ]
           ],
           "sequentialminus": [
            [
             0,
             "#0d0887"
            ],
            [
             0.1111111111111111,
             "#46039f"
            ],
            [
             0.2222222222222222,
             "#7201a8"
            ],
            [
             0.3333333333333333,
             "#9c179e"
            ],
            [
             0.4444444444444444,
             "#bd3786"
            ],
            [
             0.5555555555555556,
             "#d8576b"
            ],
            [
             0.6666666666666666,
             "#ed7953"
            ],
            [
             0.7777777777777778,
             "#fb9f3a"
            ],
            [
             0.8888888888888888,
             "#fdca26"
            ],
            [
             1,
             "#f0f921"
            ]
           ]
          },
          "colorway": [
           "#636efa",
           "#EF553B",
           "#00cc96",
           "#ab63fa",
           "#FFA15A",
           "#19d3f3",
           "#FF6692",
           "#B6E880",
           "#FF97FF",
           "#FECB52"
          ],
          "font": {
           "color": "#2a3f5f"
          },
          "geo": {
           "bgcolor": "white",
           "lakecolor": "white",
           "landcolor": "#E5ECF6",
           "showlakes": true,
           "showland": true,
           "subunitcolor": "white"
          },
          "hoverlabel": {
           "align": "left"
          },
          "hovermode": "closest",
          "mapbox": {
           "style": "light"
          },
          "paper_bgcolor": "white",
          "plot_bgcolor": "#E5ECF6",
          "polar": {
           "angularaxis": {
            "gridcolor": "white",
            "linecolor": "white",
            "ticks": ""
           },
           "bgcolor": "#E5ECF6",
           "radialaxis": {
            "gridcolor": "white",
            "linecolor": "white",
            "ticks": ""
           }
          },
          "scene": {
           "xaxis": {
            "backgroundcolor": "#E5ECF6",
            "gridcolor": "white",
            "gridwidth": 2,
            "linecolor": "white",
            "showbackground": true,
            "ticks": "",
            "zerolinecolor": "white"
           },
           "yaxis": {
            "backgroundcolor": "#E5ECF6",
            "gridcolor": "white",
            "gridwidth": 2,
            "linecolor": "white",
            "showbackground": true,
            "ticks": "",
            "zerolinecolor": "white"
           },
           "zaxis": {
            "backgroundcolor": "#E5ECF6",
            "gridcolor": "white",
            "gridwidth": 2,
            "linecolor": "white",
            "showbackground": true,
            "ticks": "",
            "zerolinecolor": "white"
           }
          },
          "shapedefaults": {
           "line": {
            "color": "#2a3f5f"
           }
          },
          "ternary": {
           "aaxis": {
            "gridcolor": "white",
            "linecolor": "white",
            "ticks": ""
           },
           "baxis": {
            "gridcolor": "white",
            "linecolor": "white",
            "ticks": ""
           },
           "bgcolor": "#E5ECF6",
           "caxis": {
            "gridcolor": "white",
            "linecolor": "white",
            "ticks": ""
           }
          },
          "title": {
           "x": 0.05
          },
          "xaxis": {
           "automargin": true,
           "gridcolor": "white",
           "linecolor": "white",
           "ticks": "",
           "title": {
            "standoff": 15
           },
           "zerolinecolor": "white",
           "zerolinewidth": 2
          },
          "yaxis": {
           "automargin": true,
           "gridcolor": "white",
           "linecolor": "white",
           "ticks": "",
           "title": {
            "standoff": 15
           },
           "zerolinecolor": "white",
           "zerolinewidth": 2
          }
         }
        }
       }
      }
     },
     "metadata": {},
     "output_type": "display_data"
    }
   ],
   "source": [
    "# Plot\n",
    "fig = px.sunburst(total_rev_2018, \n",
    "                  path = ['Sales Year', 'Product Category', 'Sales Month'], \n",
    "                  values = 'Sales Revenue',\n",
    "                  color = 'Sales Revenue', \n",
    "                  hover_data = ['Sales Revenue'],\n",
    "                  color_continuous_scale = 'RdBu',\n",
    "                  color_continuous_midpoint = np.average(total_rev_2018['Sales Revenue'], \n",
    "                                                         weights = total_rev_2018['Sales Revenue']))\n",
    "fig.show()"
   ]
  },
  {
   "cell_type": "code",
   "execution_count": 87,
   "metadata": {},
   "outputs": [
    {
     "data": {
      "application/vnd.plotly.v1+json": {
       "config": {
        "plotlyServerURL": "https://plot.ly"
       },
       "data": [
        {
         "hovertemplate": "Sales Month=Aug<br>Sales Year=2018<br>Product Category=%{x}<br>Sales Revenue=%{marker.color}<extra></extra>",
         "legendgroup": "",
         "marker": {
          "color": {
           "bdata": "CtejcD1KMEA=",
           "dtype": "f8"
          },
          "coloraxis": "coloraxis",
          "pattern": {
           "shape": ""
          }
         },
         "name": "",
         "orientation": "v",
         "showlegend": false,
         "textposition": "auto",
         "type": "bar",
         "x": [
          "dvds blu ray"
         ],
         "xaxis": "x7",
         "y": {
          "bdata": "CtejcD1KMEA=",
          "dtype": "f8"
         },
         "yaxis": "y7"
        },
        {
         "hovertemplate": "Sales Month=Apr<br>Sales Year=2018<br>Product Category=%{x}<br>Sales Revenue=%{marker.color}<extra></extra>",
         "legendgroup": "",
         "marker": {
          "color": {
           "bdata": "XI/C9SgcQUCPwvUoXI9RQA==",
           "dtype": "f8"
          },
          "coloraxis": "coloraxis",
          "pattern": {
           "shape": ""
          }
         },
         "name": "",
         "orientation": "v",
         "showlegend": false,
         "textposition": "auto",
         "type": "bar",
         "x": [
          "arts and craftmanship",
          "tablets printing image"
         ],
         "xaxis": "x6",
         "y": {
          "bdata": "XI/C9SgcQUCPwvUoXI9RQA==",
          "dtype": "f8"
         },
         "yaxis": "y6"
        },
        {
         "hovertemplate": "Sales Month=May<br>Sales Year=2018<br>Product Category=%{x}<br>Sales Revenue=%{marker.color}<extra></extra>",
         "legendgroup": "",
         "marker": {
          "color": {
           "bdata": "XI/C9SjcQUC4HoXrURhNQA==",
           "dtype": "f8"
          },
          "coloraxis": "coloraxis",
          "pattern": {
           "shape": ""
          }
         },
         "name": "",
         "orientation": "v",
         "showlegend": false,
         "textposition": "auto",
         "type": "bar",
         "x": [
          "flowers",
          "tablets printing image"
         ],
         "xaxis": "x5",
         "y": {
          "bdata": "XI/C9SjcQUC4HoXrURhNQA==",
          "dtype": "f8"
         },
         "yaxis": "y5"
        },
        {
         "hovertemplate": "Sales Month=Jan<br>Sales Year=2018<br>Product Category=%{x}<br>Sales Revenue=%{marker.color}<extra></extra>",
         "legendgroup": "",
         "marker": {
          "color": {
           "bdata": "KVyPwvUIREA=",
           "dtype": "f8"
          },
          "coloraxis": "coloraxis",
          "pattern": {
           "shape": ""
          }
         },
         "name": "",
         "orientation": "v",
         "showlegend": false,
         "textposition": "auto",
         "type": "bar",
         "x": [
          "music"
         ],
         "xaxis": "x4",
         "y": {
          "bdata": "KVyPwvUIREA=",
          "dtype": "f8"
         },
         "yaxis": "y4"
        },
        {
         "hovertemplate": "Sales Month=Feb<br>Sales Year=2018<br>Product Category=%{x}<br>Sales Revenue=%{marker.color}<extra></extra>",
         "legendgroup": "",
         "marker": {
          "color": {
           "bdata": "pHA9CtdDRUDsUbgehYtGQA==",
           "dtype": "f8"
          },
          "coloraxis": "coloraxis",
          "pattern": {
           "shape": ""
          }
         },
         "name": "",
         "orientation": "v",
         "showlegend": false,
         "textposition": "auto",
         "type": "bar",
         "x": [
          "dvds blu ray",
          "fashio female clothing"
         ],
         "xaxis": "x3",
         "y": {
          "bdata": "pHA9CtdDRUDsUbgehYtGQA==",
          "dtype": "f8"
         },
         "yaxis": "y3"
        },
        {
         "hovertemplate": "Sales Month=Mar<br>Sales Year=2018<br>Product Category=%{x}<br>Sales Revenue=%{marker.color}<extra></extra>",
         "legendgroup": "",
         "marker": {
          "color": {
           "bdata": "CtejcD0qRkA=",
           "dtype": "f8"
          },
          "coloraxis": "coloraxis",
          "pattern": {
           "shape": ""
          }
         },
         "name": "",
         "orientation": "v",
         "showlegend": false,
         "textposition": "auto",
         "type": "bar",
         "x": [
          "home comfort 2"
         ],
         "xaxis": "x2",
         "y": {
          "bdata": "CtejcD0qRkA=",
          "dtype": "f8"
         },
         "yaxis": "y2"
        },
        {
         "hovertemplate": "Sales Month=Jun<br>Sales Year=2018<br>Product Category=%{x}<br>Sales Revenue=%{marker.color}<extra></extra>",
         "legendgroup": "",
         "marker": {
          "color": {
           "bdata": "ZmZmZmY2UkA=",
           "dtype": "f8"
          },
          "coloraxis": "coloraxis",
          "pattern": {
           "shape": ""
          }
         },
         "name": "",
         "orientation": "v",
         "showlegend": false,
         "textposition": "auto",
         "type": "bar",
         "x": [
          "tablets printing image"
         ],
         "xaxis": "x",
         "y": {
          "bdata": "ZmZmZmY2UkA=",
          "dtype": "f8"
         },
         "yaxis": "y"
        }
       ],
       "layout": {
        "annotations": [
         {
          "font": {},
          "showarrow": false,
          "text": "Sales Year=2018",
          "x": 0.49,
          "xanchor": "center",
          "xref": "paper",
          "y": 0.9999999999999999,
          "yanchor": "bottom",
          "yref": "paper"
         },
         {
          "font": {},
          "showarrow": false,
          "text": "Sales Month=Jun",
          "textangle": 90,
          "x": 0.98,
          "xanchor": "left",
          "xref": "paper",
          "y": 0.05857142857142857,
          "yanchor": "middle",
          "yref": "paper"
         },
         {
          "font": {},
          "showarrow": false,
          "text": "Sales Month=Mar",
          "textangle": 90,
          "x": 0.98,
          "xanchor": "left",
          "xref": "paper",
          "y": 0.2057142857142857,
          "yanchor": "middle",
          "yref": "paper"
         },
         {
          "font": {},
          "showarrow": false,
          "text": "Sales Month=Feb",
          "textangle": 90,
          "x": 0.98,
          "xanchor": "left",
          "xref": "paper",
          "y": 0.35285714285714287,
          "yanchor": "middle",
          "yref": "paper"
         },
         {
          "font": {},
          "showarrow": false,
          "text": "Sales Month=Jan",
          "textangle": 90,
          "x": 0.98,
          "xanchor": "left",
          "xref": "paper",
          "y": 0.49999999999999994,
          "yanchor": "middle",
          "yref": "paper"
         },
         {
          "font": {},
          "showarrow": false,
          "text": "Sales Month=May",
          "textangle": 90,
          "x": 0.98,
          "xanchor": "left",
          "xref": "paper",
          "y": 0.647142857142857,
          "yanchor": "middle",
          "yref": "paper"
         },
         {
          "font": {},
          "showarrow": false,
          "text": "Sales Month=Apr",
          "textangle": 90,
          "x": 0.98,
          "xanchor": "left",
          "xref": "paper",
          "y": 0.7942857142857143,
          "yanchor": "middle",
          "yref": "paper"
         },
         {
          "font": {},
          "showarrow": false,
          "text": "Sales Month=Aug",
          "textangle": 90,
          "x": 0.98,
          "xanchor": "left",
          "xref": "paper",
          "y": 0.9414285714285713,
          "yanchor": "middle",
          "yref": "paper"
         }
        ],
        "barmode": "relative",
        "coloraxis": {
         "cmid": 51.687180162339786,
         "colorbar": {
          "title": {
           "text": "Sales Revenue"
          }
         },
         "colorscale": [
          [
           0,
           "rgb(103,0,31)"
          ],
          [
           0.1,
           "rgb(178,24,43)"
          ],
          [
           0.2,
           "rgb(214,96,77)"
          ],
          [
           0.3,
           "rgb(244,165,130)"
          ],
          [
           0.4,
           "rgb(253,219,199)"
          ],
          [
           0.5,
           "rgb(247,247,247)"
          ],
          [
           0.6,
           "rgb(209,229,240)"
          ],
          [
           0.7,
           "rgb(146,197,222)"
          ],
          [
           0.8,
           "rgb(67,147,195)"
          ],
          [
           0.9,
           "rgb(33,102,172)"
          ],
          [
           1,
           "rgb(5,48,97)"
          ]
         ]
        },
        "height": 1000,
        "legend": {
         "tracegroupgap": 0
        },
        "margin": {
         "t": 60
        },
        "template": {
         "data": {
          "bar": [
           {
            "error_x": {
             "color": "#2a3f5f"
            },
            "error_y": {
             "color": "#2a3f5f"
            },
            "marker": {
             "line": {
              "color": "#E5ECF6",
              "width": 0.5
             },
             "pattern": {
              "fillmode": "overlay",
              "size": 10,
              "solidity": 0.2
             }
            },
            "type": "bar"
           }
          ],
          "barpolar": [
           {
            "marker": {
             "line": {
              "color": "#E5ECF6",
              "width": 0.5
             },
             "pattern": {
              "fillmode": "overlay",
              "size": 10,
              "solidity": 0.2
             }
            },
            "type": "barpolar"
           }
          ],
          "carpet": [
           {
            "aaxis": {
             "endlinecolor": "#2a3f5f",
             "gridcolor": "white",
             "linecolor": "white",
             "minorgridcolor": "white",
             "startlinecolor": "#2a3f5f"
            },
            "baxis": {
             "endlinecolor": "#2a3f5f",
             "gridcolor": "white",
             "linecolor": "white",
             "minorgridcolor": "white",
             "startlinecolor": "#2a3f5f"
            },
            "type": "carpet"
           }
          ],
          "choropleth": [
           {
            "colorbar": {
             "outlinewidth": 0,
             "ticks": ""
            },
            "type": "choropleth"
           }
          ],
          "contour": [
           {
            "colorbar": {
             "outlinewidth": 0,
             "ticks": ""
            },
            "colorscale": [
             [
              0,
              "#0d0887"
             ],
             [
              0.1111111111111111,
              "#46039f"
             ],
             [
              0.2222222222222222,
              "#7201a8"
             ],
             [
              0.3333333333333333,
              "#9c179e"
             ],
             [
              0.4444444444444444,
              "#bd3786"
             ],
             [
              0.5555555555555556,
              "#d8576b"
             ],
             [
              0.6666666666666666,
              "#ed7953"
             ],
             [
              0.7777777777777778,
              "#fb9f3a"
             ],
             [
              0.8888888888888888,
              "#fdca26"
             ],
             [
              1,
              "#f0f921"
             ]
            ],
            "type": "contour"
           }
          ],
          "contourcarpet": [
           {
            "colorbar": {
             "outlinewidth": 0,
             "ticks": ""
            },
            "type": "contourcarpet"
           }
          ],
          "heatmap": [
           {
            "colorbar": {
             "outlinewidth": 0,
             "ticks": ""
            },
            "colorscale": [
             [
              0,
              "#0d0887"
             ],
             [
              0.1111111111111111,
              "#46039f"
             ],
             [
              0.2222222222222222,
              "#7201a8"
             ],
             [
              0.3333333333333333,
              "#9c179e"
             ],
             [
              0.4444444444444444,
              "#bd3786"
             ],
             [
              0.5555555555555556,
              "#d8576b"
             ],
             [
              0.6666666666666666,
              "#ed7953"
             ],
             [
              0.7777777777777778,
              "#fb9f3a"
             ],
             [
              0.8888888888888888,
              "#fdca26"
             ],
             [
              1,
              "#f0f921"
             ]
            ],
            "type": "heatmap"
           }
          ],
          "histogram": [
           {
            "marker": {
             "pattern": {
              "fillmode": "overlay",
              "size": 10,
              "solidity": 0.2
             }
            },
            "type": "histogram"
           }
          ],
          "histogram2d": [
           {
            "colorbar": {
             "outlinewidth": 0,
             "ticks": ""
            },
            "colorscale": [
             [
              0,
              "#0d0887"
             ],
             [
              0.1111111111111111,
              "#46039f"
             ],
             [
              0.2222222222222222,
              "#7201a8"
             ],
             [
              0.3333333333333333,
              "#9c179e"
             ],
             [
              0.4444444444444444,
              "#bd3786"
             ],
             [
              0.5555555555555556,
              "#d8576b"
             ],
             [
              0.6666666666666666,
              "#ed7953"
             ],
             [
              0.7777777777777778,
              "#fb9f3a"
             ],
             [
              0.8888888888888888,
              "#fdca26"
             ],
             [
              1,
              "#f0f921"
             ]
            ],
            "type": "histogram2d"
           }
          ],
          "histogram2dcontour": [
           {
            "colorbar": {
             "outlinewidth": 0,
             "ticks": ""
            },
            "colorscale": [
             [
              0,
              "#0d0887"
             ],
             [
              0.1111111111111111,
              "#46039f"
             ],
             [
              0.2222222222222222,
              "#7201a8"
             ],
             [
              0.3333333333333333,
              "#9c179e"
             ],
             [
              0.4444444444444444,
              "#bd3786"
             ],
             [
              0.5555555555555556,
              "#d8576b"
             ],
             [
              0.6666666666666666,
              "#ed7953"
             ],
             [
              0.7777777777777778,
              "#fb9f3a"
             ],
             [
              0.8888888888888888,
              "#fdca26"
             ],
             [
              1,
              "#f0f921"
             ]
            ],
            "type": "histogram2dcontour"
           }
          ],
          "mesh3d": [
           {
            "colorbar": {
             "outlinewidth": 0,
             "ticks": ""
            },
            "type": "mesh3d"
           }
          ],
          "parcoords": [
           {
            "line": {
             "colorbar": {
              "outlinewidth": 0,
              "ticks": ""
             }
            },
            "type": "parcoords"
           }
          ],
          "pie": [
           {
            "automargin": true,
            "type": "pie"
           }
          ],
          "scatter": [
           {
            "fillpattern": {
             "fillmode": "overlay",
             "size": 10,
             "solidity": 0.2
            },
            "type": "scatter"
           }
          ],
          "scatter3d": [
           {
            "line": {
             "colorbar": {
              "outlinewidth": 0,
              "ticks": ""
             }
            },
            "marker": {
             "colorbar": {
              "outlinewidth": 0,
              "ticks": ""
             }
            },
            "type": "scatter3d"
           }
          ],
          "scattercarpet": [
           {
            "marker": {
             "colorbar": {
              "outlinewidth": 0,
              "ticks": ""
             }
            },
            "type": "scattercarpet"
           }
          ],
          "scattergeo": [
           {
            "marker": {
             "colorbar": {
              "outlinewidth": 0,
              "ticks": ""
             }
            },
            "type": "scattergeo"
           }
          ],
          "scattergl": [
           {
            "marker": {
             "colorbar": {
              "outlinewidth": 0,
              "ticks": ""
             }
            },
            "type": "scattergl"
           }
          ],
          "scattermap": [
           {
            "marker": {
             "colorbar": {
              "outlinewidth": 0,
              "ticks": ""
             }
            },
            "type": "scattermap"
           }
          ],
          "scattermapbox": [
           {
            "marker": {
             "colorbar": {
              "outlinewidth": 0,
              "ticks": ""
             }
            },
            "type": "scattermapbox"
           }
          ],
          "scatterpolar": [
           {
            "marker": {
             "colorbar": {
              "outlinewidth": 0,
              "ticks": ""
             }
            },
            "type": "scatterpolar"
           }
          ],
          "scatterpolargl": [
           {
            "marker": {
             "colorbar": {
              "outlinewidth": 0,
              "ticks": ""
             }
            },
            "type": "scatterpolargl"
           }
          ],
          "scatterternary": [
           {
            "marker": {
             "colorbar": {
              "outlinewidth": 0,
              "ticks": ""
             }
            },
            "type": "scatterternary"
           }
          ],
          "surface": [
           {
            "colorbar": {
             "outlinewidth": 0,
             "ticks": ""
            },
            "colorscale": [
             [
              0,
              "#0d0887"
             ],
             [
              0.1111111111111111,
              "#46039f"
             ],
             [
              0.2222222222222222,
              "#7201a8"
             ],
             [
              0.3333333333333333,
              "#9c179e"
             ],
             [
              0.4444444444444444,
              "#bd3786"
             ],
             [
              0.5555555555555556,
              "#d8576b"
             ],
             [
              0.6666666666666666,
              "#ed7953"
             ],
             [
              0.7777777777777778,
              "#fb9f3a"
             ],
             [
              0.8888888888888888,
              "#fdca26"
             ],
             [
              1,
              "#f0f921"
             ]
            ],
            "type": "surface"
           }
          ],
          "table": [
           {
            "cells": {
             "fill": {
              "color": "#EBF0F8"
             },
             "line": {
              "color": "white"
             }
            },
            "header": {
             "fill": {
              "color": "#C8D4E3"
             },
             "line": {
              "color": "white"
             }
            },
            "type": "table"
           }
          ]
         },
         "layout": {
          "annotationdefaults": {
           "arrowcolor": "#2a3f5f",
           "arrowhead": 0,
           "arrowwidth": 1
          },
          "autotypenumbers": "strict",
          "coloraxis": {
           "colorbar": {
            "outlinewidth": 0,
            "ticks": ""
           }
          },
          "colorscale": {
           "diverging": [
            [
             0,
             "#8e0152"
            ],
            [
             0.1,
             "#c51b7d"
            ],
            [
             0.2,
             "#de77ae"
            ],
            [
             0.3,
             "#f1b6da"
            ],
            [
             0.4,
             "#fde0ef"
            ],
            [
             0.5,
             "#f7f7f7"
            ],
            [
             0.6,
             "#e6f5d0"
            ],
            [
             0.7,
             "#b8e186"
            ],
            [
             0.8,
             "#7fbc41"
            ],
            [
             0.9,
             "#4d9221"
            ],
            [
             1,
             "#276419"
            ]
           ],
           "sequential": [
            [
             0,
             "#0d0887"
            ],
            [
             0.1111111111111111,
             "#46039f"
            ],
            [
             0.2222222222222222,
             "#7201a8"
            ],
            [
             0.3333333333333333,
             "#9c179e"
            ],
            [
             0.4444444444444444,
             "#bd3786"
            ],
            [
             0.5555555555555556,
             "#d8576b"
            ],
            [
             0.6666666666666666,
             "#ed7953"
            ],
            [
             0.7777777777777778,
             "#fb9f3a"
            ],
            [
             0.8888888888888888,
             "#fdca26"
            ],
            [
             1,
             "#f0f921"
            ]
           ],
           "sequentialminus": [
            [
             0,
             "#0d0887"
            ],
            [
             0.1111111111111111,
             "#46039f"
            ],
            [
             0.2222222222222222,
             "#7201a8"
            ],
            [
             0.3333333333333333,
             "#9c179e"
            ],
            [
             0.4444444444444444,
             "#bd3786"
            ],
            [
             0.5555555555555556,
             "#d8576b"
            ],
            [
             0.6666666666666666,
             "#ed7953"
            ],
            [
             0.7777777777777778,
             "#fb9f3a"
            ],
            [
             0.8888888888888888,
             "#fdca26"
            ],
            [
             1,
             "#f0f921"
            ]
           ]
          },
          "colorway": [
           "#636efa",
           "#EF553B",
           "#00cc96",
           "#ab63fa",
           "#FFA15A",
           "#19d3f3",
           "#FF6692",
           "#B6E880",
           "#FF97FF",
           "#FECB52"
          ],
          "font": {
           "color": "#2a3f5f"
          },
          "geo": {
           "bgcolor": "white",
           "lakecolor": "white",
           "landcolor": "#E5ECF6",
           "showlakes": true,
           "showland": true,
           "subunitcolor": "white"
          },
          "hoverlabel": {
           "align": "left"
          },
          "hovermode": "closest",
          "mapbox": {
           "style": "light"
          },
          "paper_bgcolor": "white",
          "plot_bgcolor": "#E5ECF6",
          "polar": {
           "angularaxis": {
            "gridcolor": "white",
            "linecolor": "white",
            "ticks": ""
           },
           "bgcolor": "#E5ECF6",
           "radialaxis": {
            "gridcolor": "white",
            "linecolor": "white",
            "ticks": ""
           }
          },
          "scene": {
           "xaxis": {
            "backgroundcolor": "#E5ECF6",
            "gridcolor": "white",
            "gridwidth": 2,
            "linecolor": "white",
            "showbackground": true,
            "ticks": "",
            "zerolinecolor": "white"
           },
           "yaxis": {
            "backgroundcolor": "#E5ECF6",
            "gridcolor": "white",
            "gridwidth": 2,
            "linecolor": "white",
            "showbackground": true,
            "ticks": "",
            "zerolinecolor": "white"
           },
           "zaxis": {
            "backgroundcolor": "#E5ECF6",
            "gridcolor": "white",
            "gridwidth": 2,
            "linecolor": "white",
            "showbackground": true,
            "ticks": "",
            "zerolinecolor": "white"
           }
          },
          "shapedefaults": {
           "line": {
            "color": "#2a3f5f"
           }
          },
          "ternary": {
           "aaxis": {
            "gridcolor": "white",
            "linecolor": "white",
            "ticks": ""
           },
           "baxis": {
            "gridcolor": "white",
            "linecolor": "white",
            "ticks": ""
           },
           "bgcolor": "#E5ECF6",
           "caxis": {
            "gridcolor": "white",
            "linecolor": "white",
            "ticks": ""
           }
          },
          "title": {
           "x": 0.05
          },
          "xaxis": {
           "automargin": true,
           "gridcolor": "white",
           "linecolor": "white",
           "ticks": "",
           "title": {
            "standoff": 15
           },
           "zerolinecolor": "white",
           "zerolinewidth": 2
          },
          "yaxis": {
           "automargin": true,
           "gridcolor": "white",
           "linecolor": "white",
           "ticks": "",
           "title": {
            "standoff": 15
           },
           "zerolinecolor": "white",
           "zerolinewidth": 2
          }
         }
        },
        "xaxis": {
         "anchor": "y",
         "domain": [
          0,
          0.98
         ],
         "title": {
          "text": "Product Category"
         }
        },
        "xaxis2": {
         "anchor": "y2",
         "domain": [
          0,
          0.98
         ],
         "matches": "x",
         "showticklabels": false
        },
        "xaxis3": {
         "anchor": "y3",
         "domain": [
          0,
          0.98
         ],
         "matches": "x",
         "showticklabels": false
        },
        "xaxis4": {
         "anchor": "y4",
         "domain": [
          0,
          0.98
         ],
         "matches": "x",
         "showticklabels": false
        },
        "xaxis5": {
         "anchor": "y5",
         "domain": [
          0,
          0.98
         ],
         "matches": "x",
         "showticklabels": false
        },
        "xaxis6": {
         "anchor": "y6",
         "domain": [
          0,
          0.98
         ],
         "matches": "x",
         "showticklabels": false
        },
        "xaxis7": {
         "anchor": "y7",
         "domain": [
          0,
          0.98
         ],
         "matches": "x",
         "showticklabels": false
        },
        "yaxis": {
         "anchor": "x",
         "domain": [
          0,
          0.11714285714285715
         ],
         "title": {
          "text": "Sales Revenue"
         }
        },
        "yaxis2": {
         "anchor": "x2",
         "domain": [
          0.14714285714285713,
          0.2642857142857143
         ],
         "matches": "y",
         "title": {
          "text": "Sales Revenue"
         }
        },
        "yaxis3": {
         "anchor": "x3",
         "domain": [
          0.29428571428571426,
          0.4114285714285714
         ],
         "matches": "y",
         "title": {
          "text": "Sales Revenue"
         }
        },
        "yaxis4": {
         "anchor": "x4",
         "domain": [
          0.4414285714285714,
          0.5585714285714285
         ],
         "matches": "y",
         "title": {
          "text": "Sales Revenue"
         }
        },
        "yaxis5": {
         "anchor": "x5",
         "domain": [
          0.5885714285714285,
          0.7057142857142856
         ],
         "matches": "y",
         "title": {
          "text": "Sales Revenue"
         }
        },
        "yaxis6": {
         "anchor": "x6",
         "domain": [
          0.7357142857142858,
          0.8528571428571429
         ],
         "matches": "y",
         "title": {
          "text": "Sales Revenue"
         }
        },
        "yaxis7": {
         "anchor": "x7",
         "domain": [
          0.8828571428571428,
          0.9999999999999999
         ],
         "matches": "y",
         "title": {
          "text": "Sales Revenue"
         }
        }
       }
      }
     },
     "metadata": {},
     "output_type": "display_data"
    }
   ],
   "source": [
    "# Plotando o gráfico de barras\n",
    "fig = px.bar(total_rev_2018, \n",
    "             x = 'Product Category', \n",
    "             y = 'Sales Revenue', \n",
    "             color = 'Sales Revenue', \n",
    "             facet_col = 'Sales Year',  # Cria um gráfico separado para cada ano de vendas\n",
    "             facet_row = 'Sales Month', # Cria um subgráfico separado para cada mês de vendas\n",
    "             hover_data = ['Sales Revenue'],\n",
    "             color_continuous_scale = 'RdBu',\n",
    "             height = 1000,\n",
    "             color_continuous_midpoint = np.average(total_rev_2018['Sales Revenue'], \n",
    "                                                    weights = total_rev_2018['Sales Revenue']))\n",
    "\n",
    "fig.show()"
   ]
  },
  {
   "cell_type": "markdown",
   "metadata": {},
   "source": [
    "### Pergunta 5.4 - Receita de Vendas Por Hora - Gráfico de Barras x Gráfico de Pizza - A Batalha Final"
   ]
  },
  {
   "cell_type": "code",
   "execution_count": 88,
   "metadata": {},
   "outputs": [],
   "source": [
    "# Receita de vendas de 2018 agrupada por hora do dia quando ocorreu a venda\n",
    "total_rev_hour = df_prep[df_prep['order_purchase_year'] == 2018].groupby(['order_purchase_hour'], \n",
    "                                                                       as_index = False).payment_value.sum()"
   ]
  },
  {
   "cell_type": "code",
   "execution_count": 89,
   "metadata": {},
   "outputs": [],
   "source": [
    "# Nomes de colunas\n",
    "total_rev_hour.columns = ['Sales Hour', 'Sales Revenue']"
   ]
  },
  {
   "cell_type": "code",
   "execution_count": 90,
   "metadata": {},
   "outputs": [
    {
     "data": {
      "text/html": [
       "<div>\n",
       "<style scoped>\n",
       "    .dataframe tbody tr th:only-of-type {\n",
       "        vertical-align: middle;\n",
       "    }\n",
       "\n",
       "    .dataframe tbody tr th {\n",
       "        vertical-align: top;\n",
       "    }\n",
       "\n",
       "    .dataframe thead th {\n",
       "        text-align: right;\n",
       "    }\n",
       "</style>\n",
       "<table border=\"1\" class=\"dataframe\">\n",
       "  <thead>\n",
       "    <tr style=\"text-align: right;\">\n",
       "      <th></th>\n",
       "      <th>Sales Hour</th>\n",
       "      <th>Sales Revenue</th>\n",
       "    </tr>\n",
       "  </thead>\n",
       "  <tbody>\n",
       "    <tr>\n",
       "      <th>0</th>\n",
       "      <td>0</td>\n",
       "      <td>259590.91</td>\n",
       "    </tr>\n",
       "    <tr>\n",
       "      <th>1</th>\n",
       "      <td>1</td>\n",
       "      <td>94903.13</td>\n",
       "    </tr>\n",
       "    <tr>\n",
       "      <th>2</th>\n",
       "      <td>2</td>\n",
       "      <td>48887.02</td>\n",
       "    </tr>\n",
       "    <tr>\n",
       "      <th>3</th>\n",
       "      <td>3</td>\n",
       "      <td>27073.97</td>\n",
       "    </tr>\n",
       "    <tr>\n",
       "      <th>4</th>\n",
       "      <td>4</td>\n",
       "      <td>15865.59</td>\n",
       "    </tr>\n",
       "  </tbody>\n",
       "</table>\n",
       "</div>"
      ],
      "text/plain": [
       "   Sales Hour  Sales Revenue\n",
       "0           0      259590.91\n",
       "1           1       94903.13\n",
       "2           2       48887.02\n",
       "3           3       27073.97\n",
       "4           4       15865.59"
      ]
     },
     "execution_count": 90,
     "metadata": {},
     "output_type": "execute_result"
    }
   ],
   "source": [
    "total_rev_hour.head()"
   ]
  },
  {
   "cell_type": "code",
   "execution_count": 91,
   "metadata": {},
   "outputs": [
    {
     "data": {
      "text/html": [
       "<div>\n",
       "<style scoped>\n",
       "    .dataframe tbody tr th:only-of-type {\n",
       "        vertical-align: middle;\n",
       "    }\n",
       "\n",
       "    .dataframe tbody tr th {\n",
       "        vertical-align: top;\n",
       "    }\n",
       "\n",
       "    .dataframe thead th {\n",
       "        text-align: right;\n",
       "    }\n",
       "</style>\n",
       "<table border=\"1\" class=\"dataframe\">\n",
       "  <thead>\n",
       "    <tr style=\"text-align: right;\">\n",
       "      <th></th>\n",
       "      <th>Sales Hour</th>\n",
       "      <th>Sales Revenue</th>\n",
       "    </tr>\n",
       "  </thead>\n",
       "  <tbody>\n",
       "    <tr>\n",
       "      <th>19</th>\n",
       "      <td>19</td>\n",
       "      <td>639093.04</td>\n",
       "    </tr>\n",
       "    <tr>\n",
       "      <th>20</th>\n",
       "      <td>20</td>\n",
       "      <td>679084.34</td>\n",
       "    </tr>\n",
       "    <tr>\n",
       "      <th>21</th>\n",
       "      <td>21</td>\n",
       "      <td>641839.78</td>\n",
       "    </tr>\n",
       "    <tr>\n",
       "      <th>22</th>\n",
       "      <td>22</td>\n",
       "      <td>591816.53</td>\n",
       "    </tr>\n",
       "    <tr>\n",
       "      <th>23</th>\n",
       "      <td>23</td>\n",
       "      <td>371116.32</td>\n",
       "    </tr>\n",
       "  </tbody>\n",
       "</table>\n",
       "</div>"
      ],
      "text/plain": [
       "    Sales Hour  Sales Revenue\n",
       "19          19      639093.04\n",
       "20          20      679084.34\n",
       "21          21      641839.78\n",
       "22          22      591816.53\n",
       "23          23      371116.32"
      ]
     },
     "execution_count": 91,
     "metadata": {},
     "output_type": "execute_result"
    }
   ],
   "source": [
    "total_rev_hour.tail()"
   ]
  },
  {
   "cell_type": "code",
   "execution_count": 92,
   "metadata": {},
   "outputs": [],
   "source": [
    "# Labels das horas de vendas\n",
    "labels = total_rev_hour['Sales Hour']"
   ]
  },
  {
   "cell_type": "code",
   "execution_count": 93,
   "metadata": {},
   "outputs": [],
   "source": [
    "# Valores de receita de vendas\n",
    "values = total_rev_hour['Sales Revenue']"
   ]
  },
  {
   "cell_type": "code",
   "execution_count": 94,
   "metadata": {},
   "outputs": [
    {
     "data": {
      "application/vnd.plotly.v1+json": {
       "config": {
        "plotlyServerURL": "https://plot.ly"
       },
       "data": [
        {
         "marker": {
          "line": {
           "width": 0
          }
         },
         "type": "bar",
         "x": {
          "bdata": "AAECAwQFBgcICQoLDA0ODxAREhMUFRYX",
          "dtype": "i1"
         },
         "y": {
          "bdata": "exSuRzewD0FI4XoUciv3QD0K16Pg3udASOF6FH5w2kBSuB6Fy/zOQBSuR+GacdBAuB6F6wmd5kBSuB6FmcoAQexRuB6UMhRBPQrXI2leIUF7FK5HsEElQbgehesixyRBuB6F630nJUGamZmZzeslQR+F69GOyilB4XoULojcJkE9CtejO4MoQY/C9SgV2yNBpHA9CtA5JUFI4XoU6oAjQeF6FK5YuSRB9ihcj1+WI0H2KFwPkQ8iQXsUrkexphZB",
          "dtype": "f8"
         }
        }
       ],
       "layout": {
        "template": {
         "data": {
          "bar": [
           {
            "error_x": {
             "color": "#2a3f5f"
            },
            "error_y": {
             "color": "#2a3f5f"
            },
            "marker": {
             "line": {
              "color": "#E5ECF6",
              "width": 0.5
             },
             "pattern": {
              "fillmode": "overlay",
              "size": 10,
              "solidity": 0.2
             }
            },
            "type": "bar"
           }
          ],
          "barpolar": [
           {
            "marker": {
             "line": {
              "color": "#E5ECF6",
              "width": 0.5
             },
             "pattern": {
              "fillmode": "overlay",
              "size": 10,
              "solidity": 0.2
             }
            },
            "type": "barpolar"
           }
          ],
          "carpet": [
           {
            "aaxis": {
             "endlinecolor": "#2a3f5f",
             "gridcolor": "white",
             "linecolor": "white",
             "minorgridcolor": "white",
             "startlinecolor": "#2a3f5f"
            },
            "baxis": {
             "endlinecolor": "#2a3f5f",
             "gridcolor": "white",
             "linecolor": "white",
             "minorgridcolor": "white",
             "startlinecolor": "#2a3f5f"
            },
            "type": "carpet"
           }
          ],
          "choropleth": [
           {
            "colorbar": {
             "outlinewidth": 0,
             "ticks": ""
            },
            "type": "choropleth"
           }
          ],
          "contour": [
           {
            "colorbar": {
             "outlinewidth": 0,
             "ticks": ""
            },
            "colorscale": [
             [
              0,
              "#0d0887"
             ],
             [
              0.1111111111111111,
              "#46039f"
             ],
             [
              0.2222222222222222,
              "#7201a8"
             ],
             [
              0.3333333333333333,
              "#9c179e"
             ],
             [
              0.4444444444444444,
              "#bd3786"
             ],
             [
              0.5555555555555556,
              "#d8576b"
             ],
             [
              0.6666666666666666,
              "#ed7953"
             ],
             [
              0.7777777777777778,
              "#fb9f3a"
             ],
             [
              0.8888888888888888,
              "#fdca26"
             ],
             [
              1,
              "#f0f921"
             ]
            ],
            "type": "contour"
           }
          ],
          "contourcarpet": [
           {
            "colorbar": {
             "outlinewidth": 0,
             "ticks": ""
            },
            "type": "contourcarpet"
           }
          ],
          "heatmap": [
           {
            "colorbar": {
             "outlinewidth": 0,
             "ticks": ""
            },
            "colorscale": [
             [
              0,
              "#0d0887"
             ],
             [
              0.1111111111111111,
              "#46039f"
             ],
             [
              0.2222222222222222,
              "#7201a8"
             ],
             [
              0.3333333333333333,
              "#9c179e"
             ],
             [
              0.4444444444444444,
              "#bd3786"
             ],
             [
              0.5555555555555556,
              "#d8576b"
             ],
             [
              0.6666666666666666,
              "#ed7953"
             ],
             [
              0.7777777777777778,
              "#fb9f3a"
             ],
             [
              0.8888888888888888,
              "#fdca26"
             ],
             [
              1,
              "#f0f921"
             ]
            ],
            "type": "heatmap"
           }
          ],
          "histogram": [
           {
            "marker": {
             "pattern": {
              "fillmode": "overlay",
              "size": 10,
              "solidity": 0.2
             }
            },
            "type": "histogram"
           }
          ],
          "histogram2d": [
           {
            "colorbar": {
             "outlinewidth": 0,
             "ticks": ""
            },
            "colorscale": [
             [
              0,
              "#0d0887"
             ],
             [
              0.1111111111111111,
              "#46039f"
             ],
             [
              0.2222222222222222,
              "#7201a8"
             ],
             [
              0.3333333333333333,
              "#9c179e"
             ],
             [
              0.4444444444444444,
              "#bd3786"
             ],
             [
              0.5555555555555556,
              "#d8576b"
             ],
             [
              0.6666666666666666,
              "#ed7953"
             ],
             [
              0.7777777777777778,
              "#fb9f3a"
             ],
             [
              0.8888888888888888,
              "#fdca26"
             ],
             [
              1,
              "#f0f921"
             ]
            ],
            "type": "histogram2d"
           }
          ],
          "histogram2dcontour": [
           {
            "colorbar": {
             "outlinewidth": 0,
             "ticks": ""
            },
            "colorscale": [
             [
              0,
              "#0d0887"
             ],
             [
              0.1111111111111111,
              "#46039f"
             ],
             [
              0.2222222222222222,
              "#7201a8"
             ],
             [
              0.3333333333333333,
              "#9c179e"
             ],
             [
              0.4444444444444444,
              "#bd3786"
             ],
             [
              0.5555555555555556,
              "#d8576b"
             ],
             [
              0.6666666666666666,
              "#ed7953"
             ],
             [
              0.7777777777777778,
              "#fb9f3a"
             ],
             [
              0.8888888888888888,
              "#fdca26"
             ],
             [
              1,
              "#f0f921"
             ]
            ],
            "type": "histogram2dcontour"
           }
          ],
          "mesh3d": [
           {
            "colorbar": {
             "outlinewidth": 0,
             "ticks": ""
            },
            "type": "mesh3d"
           }
          ],
          "parcoords": [
           {
            "line": {
             "colorbar": {
              "outlinewidth": 0,
              "ticks": ""
             }
            },
            "type": "parcoords"
           }
          ],
          "pie": [
           {
            "automargin": true,
            "type": "pie"
           }
          ],
          "scatter": [
           {
            "fillpattern": {
             "fillmode": "overlay",
             "size": 10,
             "solidity": 0.2
            },
            "type": "scatter"
           }
          ],
          "scatter3d": [
           {
            "line": {
             "colorbar": {
              "outlinewidth": 0,
              "ticks": ""
             }
            },
            "marker": {
             "colorbar": {
              "outlinewidth": 0,
              "ticks": ""
             }
            },
            "type": "scatter3d"
           }
          ],
          "scattercarpet": [
           {
            "marker": {
             "colorbar": {
              "outlinewidth": 0,
              "ticks": ""
             }
            },
            "type": "scattercarpet"
           }
          ],
          "scattergeo": [
           {
            "marker": {
             "colorbar": {
              "outlinewidth": 0,
              "ticks": ""
             }
            },
            "type": "scattergeo"
           }
          ],
          "scattergl": [
           {
            "marker": {
             "colorbar": {
              "outlinewidth": 0,
              "ticks": ""
             }
            },
            "type": "scattergl"
           }
          ],
          "scattermap": [
           {
            "marker": {
             "colorbar": {
              "outlinewidth": 0,
              "ticks": ""
             }
            },
            "type": "scattermap"
           }
          ],
          "scattermapbox": [
           {
            "marker": {
             "colorbar": {
              "outlinewidth": 0,
              "ticks": ""
             }
            },
            "type": "scattermapbox"
           }
          ],
          "scatterpolar": [
           {
            "marker": {
             "colorbar": {
              "outlinewidth": 0,
              "ticks": ""
             }
            },
            "type": "scatterpolar"
           }
          ],
          "scatterpolargl": [
           {
            "marker": {
             "colorbar": {
              "outlinewidth": 0,
              "ticks": ""
             }
            },
            "type": "scatterpolargl"
           }
          ],
          "scatterternary": [
           {
            "marker": {
             "colorbar": {
              "outlinewidth": 0,
              "ticks": ""
             }
            },
            "type": "scatterternary"
           }
          ],
          "surface": [
           {
            "colorbar": {
             "outlinewidth": 0,
             "ticks": ""
            },
            "colorscale": [
             [
              0,
              "#0d0887"
             ],
             [
              0.1111111111111111,
              "#46039f"
             ],
             [
              0.2222222222222222,
              "#7201a8"
             ],
             [
              0.3333333333333333,
              "#9c179e"
             ],
             [
              0.4444444444444444,
              "#bd3786"
             ],
             [
              0.5555555555555556,
              "#d8576b"
             ],
             [
              0.6666666666666666,
              "#ed7953"
             ],
             [
              0.7777777777777778,
              "#fb9f3a"
             ],
             [
              0.8888888888888888,
              "#fdca26"
             ],
             [
              1,
              "#f0f921"
             ]
            ],
            "type": "surface"
           }
          ],
          "table": [
           {
            "cells": {
             "fill": {
              "color": "#EBF0F8"
             },
             "line": {
              "color": "white"
             }
            },
            "header": {
             "fill": {
              "color": "#C8D4E3"
             },
             "line": {
              "color": "white"
             }
            },
            "type": "table"
           }
          ]
         },
         "layout": {
          "annotationdefaults": {
           "arrowcolor": "#2a3f5f",
           "arrowhead": 0,
           "arrowwidth": 1
          },
          "autotypenumbers": "strict",
          "coloraxis": {
           "colorbar": {
            "outlinewidth": 0,
            "ticks": ""
           }
          },
          "colorscale": {
           "diverging": [
            [
             0,
             "#8e0152"
            ],
            [
             0.1,
             "#c51b7d"
            ],
            [
             0.2,
             "#de77ae"
            ],
            [
             0.3,
             "#f1b6da"
            ],
            [
             0.4,
             "#fde0ef"
            ],
            [
             0.5,
             "#f7f7f7"
            ],
            [
             0.6,
             "#e6f5d0"
            ],
            [
             0.7,
             "#b8e186"
            ],
            [
             0.8,
             "#7fbc41"
            ],
            [
             0.9,
             "#4d9221"
            ],
            [
             1,
             "#276419"
            ]
           ],
           "sequential": [
            [
             0,
             "#0d0887"
            ],
            [
             0.1111111111111111,
             "#46039f"
            ],
            [
             0.2222222222222222,
             "#7201a8"
            ],
            [
             0.3333333333333333,
             "#9c179e"
            ],
            [
             0.4444444444444444,
             "#bd3786"
            ],
            [
             0.5555555555555556,
             "#d8576b"
            ],
            [
             0.6666666666666666,
             "#ed7953"
            ],
            [
             0.7777777777777778,
             "#fb9f3a"
            ],
            [
             0.8888888888888888,
             "#fdca26"
            ],
            [
             1,
             "#f0f921"
            ]
           ],
           "sequentialminus": [
            [
             0,
             "#0d0887"
            ],
            [
             0.1111111111111111,
             "#46039f"
            ],
            [
             0.2222222222222222,
             "#7201a8"
            ],
            [
             0.3333333333333333,
             "#9c179e"
            ],
            [
             0.4444444444444444,
             "#bd3786"
            ],
            [
             0.5555555555555556,
             "#d8576b"
            ],
            [
             0.6666666666666666,
             "#ed7953"
            ],
            [
             0.7777777777777778,
             "#fb9f3a"
            ],
            [
             0.8888888888888888,
             "#fdca26"
            ],
            [
             1,
             "#f0f921"
            ]
           ]
          },
          "colorway": [
           "#636efa",
           "#EF553B",
           "#00cc96",
           "#ab63fa",
           "#FFA15A",
           "#19d3f3",
           "#FF6692",
           "#B6E880",
           "#FF97FF",
           "#FECB52"
          ],
          "font": {
           "color": "#2a3f5f"
          },
          "geo": {
           "bgcolor": "white",
           "lakecolor": "white",
           "landcolor": "#E5ECF6",
           "showlakes": true,
           "showland": true,
           "subunitcolor": "white"
          },
          "hoverlabel": {
           "align": "left"
          },
          "hovermode": "closest",
          "mapbox": {
           "style": "light"
          },
          "paper_bgcolor": "white",
          "plot_bgcolor": "#E5ECF6",
          "polar": {
           "angularaxis": {
            "gridcolor": "white",
            "linecolor": "white",
            "ticks": ""
           },
           "bgcolor": "#E5ECF6",
           "radialaxis": {
            "gridcolor": "white",
            "linecolor": "white",
            "ticks": ""
           }
          },
          "scene": {
           "xaxis": {
            "backgroundcolor": "#E5ECF6",
            "gridcolor": "white",
            "gridwidth": 2,
            "linecolor": "white",
            "showbackground": true,
            "ticks": "",
            "zerolinecolor": "white"
           },
           "yaxis": {
            "backgroundcolor": "#E5ECF6",
            "gridcolor": "white",
            "gridwidth": 2,
            "linecolor": "white",
            "showbackground": true,
            "ticks": "",
            "zerolinecolor": "white"
           },
           "zaxis": {
            "backgroundcolor": "#E5ECF6",
            "gridcolor": "white",
            "gridwidth": 2,
            "linecolor": "white",
            "showbackground": true,
            "ticks": "",
            "zerolinecolor": "white"
           }
          },
          "shapedefaults": {
           "line": {
            "color": "#2a3f5f"
           }
          },
          "ternary": {
           "aaxis": {
            "gridcolor": "white",
            "linecolor": "white",
            "ticks": ""
           },
           "baxis": {
            "gridcolor": "white",
            "linecolor": "white",
            "ticks": ""
           },
           "bgcolor": "#E5ECF6",
           "caxis": {
            "gridcolor": "white",
            "linecolor": "white",
            "ticks": ""
           }
          },
          "title": {
           "x": 0.05
          },
          "xaxis": {
           "automargin": true,
           "gridcolor": "white",
           "linecolor": "white",
           "ticks": "",
           "title": {
            "standoff": 15
           },
           "zerolinecolor": "white",
           "zerolinewidth": 2
          },
          "yaxis": {
           "automargin": true,
           "gridcolor": "white",
           "linecolor": "white",
           "ticks": "",
           "title": {
            "standoff": 15
           },
           "zerolinecolor": "white",
           "zerolinewidth": 2
          }
         }
        },
        "title": {
         "text": "Receita de Vendas por Hora - Gráfico de Barras"
        },
        "xaxis": {
         "title": {
          "text": "Hora do Dia"
         }
        },
        "yaxis": {
         "title": {
          "text": "Receita de Vendas"
         }
        }
       }
      }
     },
     "metadata": {},
     "output_type": "display_data"
    }
   ],
   "source": [
    "# Cria o gráfico de barras\n",
    "fig = go.Figure(data = [go.Bar(x = labels, y = values, marker_line_width = 0)]) \n",
    "\n",
    "# Adiciona título e rótulos aos eixos\n",
    "fig.update_layout(title = 'Receita de Vendas por Hora - Gráfico de Barras',\n",
    "                  xaxis_title = 'Hora do Dia',\n",
    "                  yaxis_title = 'Receita de Vendas')\n",
    "\n",
    "# Exibe o gráfico\n",
    "fig.show()"
   ]
  },
  {
   "cell_type": "code",
   "execution_count": 95,
   "metadata": {},
   "outputs": [],
   "source": [
    "# Prepara os dados\n",
    "labels = total_rev_hour['Sales Hour']\n",
    "values = total_rev_hour['Sales Revenue']"
   ]
  },
  {
   "cell_type": "code",
   "execution_count": 96,
   "metadata": {},
   "outputs": [
    {
     "data": {
      "application/vnd.plotly.v1+json": {
       "config": {
        "plotlyServerURL": "https://plot.ly"
       },
       "data": [
        {
         "hole": 0.2,
         "labels": {
          "bdata": "AAECAwQFBgcICQoLDA0ODxAREhMUFRYX",
          "dtype": "i1"
         },
         "type": "pie",
         "values": {
          "bdata": "exSuRzewD0FI4XoUciv3QD0K16Pg3udASOF6FH5w2kBSuB6Fy/zOQBSuR+GacdBAuB6F6wmd5kBSuB6FmcoAQexRuB6UMhRBPQrXI2leIUF7FK5HsEElQbgehesixyRBuB6F630nJUGamZmZzeslQR+F69GOyilB4XoULojcJkE9CtejO4MoQY/C9SgV2yNBpHA9CtA5JUFI4XoU6oAjQeF6FK5YuSRB9ihcj1+WI0H2KFwPkQ8iQXsUrkexphZB",
          "dtype": "f8"
         }
        }
       ],
       "layout": {
        "template": {
         "data": {
          "bar": [
           {
            "error_x": {
             "color": "#2a3f5f"
            },
            "error_y": {
             "color": "#2a3f5f"
            },
            "marker": {
             "line": {
              "color": "#E5ECF6",
              "width": 0.5
             },
             "pattern": {
              "fillmode": "overlay",
              "size": 10,
              "solidity": 0.2
             }
            },
            "type": "bar"
           }
          ],
          "barpolar": [
           {
            "marker": {
             "line": {
              "color": "#E5ECF6",
              "width": 0.5
             },
             "pattern": {
              "fillmode": "overlay",
              "size": 10,
              "solidity": 0.2
             }
            },
            "type": "barpolar"
           }
          ],
          "carpet": [
           {
            "aaxis": {
             "endlinecolor": "#2a3f5f",
             "gridcolor": "white",
             "linecolor": "white",
             "minorgridcolor": "white",
             "startlinecolor": "#2a3f5f"
            },
            "baxis": {
             "endlinecolor": "#2a3f5f",
             "gridcolor": "white",
             "linecolor": "white",
             "minorgridcolor": "white",
             "startlinecolor": "#2a3f5f"
            },
            "type": "carpet"
           }
          ],
          "choropleth": [
           {
            "colorbar": {
             "outlinewidth": 0,
             "ticks": ""
            },
            "type": "choropleth"
           }
          ],
          "contour": [
           {
            "colorbar": {
             "outlinewidth": 0,
             "ticks": ""
            },
            "colorscale": [
             [
              0,
              "#0d0887"
             ],
             [
              0.1111111111111111,
              "#46039f"
             ],
             [
              0.2222222222222222,
              "#7201a8"
             ],
             [
              0.3333333333333333,
              "#9c179e"
             ],
             [
              0.4444444444444444,
              "#bd3786"
             ],
             [
              0.5555555555555556,
              "#d8576b"
             ],
             [
              0.6666666666666666,
              "#ed7953"
             ],
             [
              0.7777777777777778,
              "#fb9f3a"
             ],
             [
              0.8888888888888888,
              "#fdca26"
             ],
             [
              1,
              "#f0f921"
             ]
            ],
            "type": "contour"
           }
          ],
          "contourcarpet": [
           {
            "colorbar": {
             "outlinewidth": 0,
             "ticks": ""
            },
            "type": "contourcarpet"
           }
          ],
          "heatmap": [
           {
            "colorbar": {
             "outlinewidth": 0,
             "ticks": ""
            },
            "colorscale": [
             [
              0,
              "#0d0887"
             ],
             [
              0.1111111111111111,
              "#46039f"
             ],
             [
              0.2222222222222222,
              "#7201a8"
             ],
             [
              0.3333333333333333,
              "#9c179e"
             ],
             [
              0.4444444444444444,
              "#bd3786"
             ],
             [
              0.5555555555555556,
              "#d8576b"
             ],
             [
              0.6666666666666666,
              "#ed7953"
             ],
             [
              0.7777777777777778,
              "#fb9f3a"
             ],
             [
              0.8888888888888888,
              "#fdca26"
             ],
             [
              1,
              "#f0f921"
             ]
            ],
            "type": "heatmap"
           }
          ],
          "histogram": [
           {
            "marker": {
             "pattern": {
              "fillmode": "overlay",
              "size": 10,
              "solidity": 0.2
             }
            },
            "type": "histogram"
           }
          ],
          "histogram2d": [
           {
            "colorbar": {
             "outlinewidth": 0,
             "ticks": ""
            },
            "colorscale": [
             [
              0,
              "#0d0887"
             ],
             [
              0.1111111111111111,
              "#46039f"
             ],
             [
              0.2222222222222222,
              "#7201a8"
             ],
             [
              0.3333333333333333,
              "#9c179e"
             ],
             [
              0.4444444444444444,
              "#bd3786"
             ],
             [
              0.5555555555555556,
              "#d8576b"
             ],
             [
              0.6666666666666666,
              "#ed7953"
             ],
             [
              0.7777777777777778,
              "#fb9f3a"
             ],
             [
              0.8888888888888888,
              "#fdca26"
             ],
             [
              1,
              "#f0f921"
             ]
            ],
            "type": "histogram2d"
           }
          ],
          "histogram2dcontour": [
           {
            "colorbar": {
             "outlinewidth": 0,
             "ticks": ""
            },
            "colorscale": [
             [
              0,
              "#0d0887"
             ],
             [
              0.1111111111111111,
              "#46039f"
             ],
             [
              0.2222222222222222,
              "#7201a8"
             ],
             [
              0.3333333333333333,
              "#9c179e"
             ],
             [
              0.4444444444444444,
              "#bd3786"
             ],
             [
              0.5555555555555556,
              "#d8576b"
             ],
             [
              0.6666666666666666,
              "#ed7953"
             ],
             [
              0.7777777777777778,
              "#fb9f3a"
             ],
             [
              0.8888888888888888,
              "#fdca26"
             ],
             [
              1,
              "#f0f921"
             ]
            ],
            "type": "histogram2dcontour"
           }
          ],
          "mesh3d": [
           {
            "colorbar": {
             "outlinewidth": 0,
             "ticks": ""
            },
            "type": "mesh3d"
           }
          ],
          "parcoords": [
           {
            "line": {
             "colorbar": {
              "outlinewidth": 0,
              "ticks": ""
             }
            },
            "type": "parcoords"
           }
          ],
          "pie": [
           {
            "automargin": true,
            "type": "pie"
           }
          ],
          "scatter": [
           {
            "fillpattern": {
             "fillmode": "overlay",
             "size": 10,
             "solidity": 0.2
            },
            "type": "scatter"
           }
          ],
          "scatter3d": [
           {
            "line": {
             "colorbar": {
              "outlinewidth": 0,
              "ticks": ""
             }
            },
            "marker": {
             "colorbar": {
              "outlinewidth": 0,
              "ticks": ""
             }
            },
            "type": "scatter3d"
           }
          ],
          "scattercarpet": [
           {
            "marker": {
             "colorbar": {
              "outlinewidth": 0,
              "ticks": ""
             }
            },
            "type": "scattercarpet"
           }
          ],
          "scattergeo": [
           {
            "marker": {
             "colorbar": {
              "outlinewidth": 0,
              "ticks": ""
             }
            },
            "type": "scattergeo"
           }
          ],
          "scattergl": [
           {
            "marker": {
             "colorbar": {
              "outlinewidth": 0,
              "ticks": ""
             }
            },
            "type": "scattergl"
           }
          ],
          "scattermap": [
           {
            "marker": {
             "colorbar": {
              "outlinewidth": 0,
              "ticks": ""
             }
            },
            "type": "scattermap"
           }
          ],
          "scattermapbox": [
           {
            "marker": {
             "colorbar": {
              "outlinewidth": 0,
              "ticks": ""
             }
            },
            "type": "scattermapbox"
           }
          ],
          "scatterpolar": [
           {
            "marker": {
             "colorbar": {
              "outlinewidth": 0,
              "ticks": ""
             }
            },
            "type": "scatterpolar"
           }
          ],
          "scatterpolargl": [
           {
            "marker": {
             "colorbar": {
              "outlinewidth": 0,
              "ticks": ""
             }
            },
            "type": "scatterpolargl"
           }
          ],
          "scatterternary": [
           {
            "marker": {
             "colorbar": {
              "outlinewidth": 0,
              "ticks": ""
             }
            },
            "type": "scatterternary"
           }
          ],
          "surface": [
           {
            "colorbar": {
             "outlinewidth": 0,
             "ticks": ""
            },
            "colorscale": [
             [
              0,
              "#0d0887"
             ],
             [
              0.1111111111111111,
              "#46039f"
             ],
             [
              0.2222222222222222,
              "#7201a8"
             ],
             [
              0.3333333333333333,
              "#9c179e"
             ],
             [
              0.4444444444444444,
              "#bd3786"
             ],
             [
              0.5555555555555556,
              "#d8576b"
             ],
             [
              0.6666666666666666,
              "#ed7953"
             ],
             [
              0.7777777777777778,
              "#fb9f3a"
             ],
             [
              0.8888888888888888,
              "#fdca26"
             ],
             [
              1,
              "#f0f921"
             ]
            ],
            "type": "surface"
           }
          ],
          "table": [
           {
            "cells": {
             "fill": {
              "color": "#EBF0F8"
             },
             "line": {
              "color": "white"
             }
            },
            "header": {
             "fill": {
              "color": "#C8D4E3"
             },
             "line": {
              "color": "white"
             }
            },
            "type": "table"
           }
          ]
         },
         "layout": {
          "annotationdefaults": {
           "arrowcolor": "#2a3f5f",
           "arrowhead": 0,
           "arrowwidth": 1
          },
          "autotypenumbers": "strict",
          "coloraxis": {
           "colorbar": {
            "outlinewidth": 0,
            "ticks": ""
           }
          },
          "colorscale": {
           "diverging": [
            [
             0,
             "#8e0152"
            ],
            [
             0.1,
             "#c51b7d"
            ],
            [
             0.2,
             "#de77ae"
            ],
            [
             0.3,
             "#f1b6da"
            ],
            [
             0.4,
             "#fde0ef"
            ],
            [
             0.5,
             "#f7f7f7"
            ],
            [
             0.6,
             "#e6f5d0"
            ],
            [
             0.7,
             "#b8e186"
            ],
            [
             0.8,
             "#7fbc41"
            ],
            [
             0.9,
             "#4d9221"
            ],
            [
             1,
             "#276419"
            ]
           ],
           "sequential": [
            [
             0,
             "#0d0887"
            ],
            [
             0.1111111111111111,
             "#46039f"
            ],
            [
             0.2222222222222222,
             "#7201a8"
            ],
            [
             0.3333333333333333,
             "#9c179e"
            ],
            [
             0.4444444444444444,
             "#bd3786"
            ],
            [
             0.5555555555555556,
             "#d8576b"
            ],
            [
             0.6666666666666666,
             "#ed7953"
            ],
            [
             0.7777777777777778,
             "#fb9f3a"
            ],
            [
             0.8888888888888888,
             "#fdca26"
            ],
            [
             1,
             "#f0f921"
            ]
           ],
           "sequentialminus": [
            [
             0,
             "#0d0887"
            ],
            [
             0.1111111111111111,
             "#46039f"
            ],
            [
             0.2222222222222222,
             "#7201a8"
            ],
            [
             0.3333333333333333,
             "#9c179e"
            ],
            [
             0.4444444444444444,
             "#bd3786"
            ],
            [
             0.5555555555555556,
             "#d8576b"
            ],
            [
             0.6666666666666666,
             "#ed7953"
            ],
            [
             0.7777777777777778,
             "#fb9f3a"
            ],
            [
             0.8888888888888888,
             "#fdca26"
            ],
            [
             1,
             "#f0f921"
            ]
           ]
          },
          "colorway": [
           "#636efa",
           "#EF553B",
           "#00cc96",
           "#ab63fa",
           "#FFA15A",
           "#19d3f3",
           "#FF6692",
           "#B6E880",
           "#FF97FF",
           "#FECB52"
          ],
          "font": {
           "color": "#2a3f5f"
          },
          "geo": {
           "bgcolor": "white",
           "lakecolor": "white",
           "landcolor": "#E5ECF6",
           "showlakes": true,
           "showland": true,
           "subunitcolor": "white"
          },
          "hoverlabel": {
           "align": "left"
          },
          "hovermode": "closest",
          "mapbox": {
           "style": "light"
          },
          "paper_bgcolor": "white",
          "plot_bgcolor": "#E5ECF6",
          "polar": {
           "angularaxis": {
            "gridcolor": "white",
            "linecolor": "white",
            "ticks": ""
           },
           "bgcolor": "#E5ECF6",
           "radialaxis": {
            "gridcolor": "white",
            "linecolor": "white",
            "ticks": ""
           }
          },
          "scene": {
           "xaxis": {
            "backgroundcolor": "#E5ECF6",
            "gridcolor": "white",
            "gridwidth": 2,
            "linecolor": "white",
            "showbackground": true,
            "ticks": "",
            "zerolinecolor": "white"
           },
           "yaxis": {
            "backgroundcolor": "#E5ECF6",
            "gridcolor": "white",
            "gridwidth": 2,
            "linecolor": "white",
            "showbackground": true,
            "ticks": "",
            "zerolinecolor": "white"
           },
           "zaxis": {
            "backgroundcolor": "#E5ECF6",
            "gridcolor": "white",
            "gridwidth": 2,
            "linecolor": "white",
            "showbackground": true,
            "ticks": "",
            "zerolinecolor": "white"
           }
          },
          "shapedefaults": {
           "line": {
            "color": "#2a3f5f"
           }
          },
          "ternary": {
           "aaxis": {
            "gridcolor": "white",
            "linecolor": "white",
            "ticks": ""
           },
           "baxis": {
            "gridcolor": "white",
            "linecolor": "white",
            "ticks": ""
           },
           "bgcolor": "#E5ECF6",
           "caxis": {
            "gridcolor": "white",
            "linecolor": "white",
            "ticks": ""
           }
          },
          "title": {
           "x": 0.05
          },
          "xaxis": {
           "automargin": true,
           "gridcolor": "white",
           "linecolor": "white",
           "ticks": "",
           "title": {
            "standoff": 15
           },
           "zerolinecolor": "white",
           "zerolinewidth": 2
          },
          "yaxis": {
           "automargin": true,
           "gridcolor": "white",
           "linecolor": "white",
           "ticks": "",
           "title": {
            "standoff": 15
           },
           "zerolinecolor": "white",
           "zerolinewidth": 2
          }
         }
        },
        "title": {
         "text": "Receita de Vendas por Hora - Gráfico de Pizza"
        },
        "xaxis": {
         "title": {
          "text": "Hora do Dia"
         }
        },
        "yaxis": {
         "title": {
          "text": "Receita de Vendas"
         }
        }
       }
      }
     },
     "metadata": {},
     "output_type": "display_data"
    }
   ],
   "source": [
    "# Cria o gráfico de pizza\n",
    "fig = go.Figure(data = [go.Pie(labels = labels, values = values, hole = .2)])\n",
    "\n",
    "# Adiciona título e rótulos aos eixos\n",
    "fig.update_layout(title = 'Receita de Vendas por Hora - Gráfico de Pizza',\n",
    "                  xaxis_title = 'Hora do Dia',\n",
    "                  yaxis_title = 'Receita de Vendas')\n",
    "\n",
    "# Exibe o gráfico\n",
    "fig.show()"
   ]
  },
  {
   "cell_type": "code",
   "execution_count": 97,
   "metadata": {},
   "outputs": [
    {
     "data": {
      "application/vnd.plotly.v1+json": {
       "config": {
        "plotlyServerURL": "https://plot.ly"
       },
       "data": [
        {
         "branchvalues": "total",
         "customdata": {
          "bdata": "exSuRzewD0FJ4XoUciv3QD0K16Pg3udASOF6FH5w2kBSuB6Fy/zOQBSuR+GacdBAuB6F6wmd5kBSuB6FmcoAQexRuB6UMhRBPQrXI2leIUF7FK5HsEElQbgehesixyRBuB6F630nJUGamZmZzeslQR6F69GOyilB4HoULojcJkE9CtejO4MoQY/C9SgV2yNBpHA9CtA5JUFI4XoU6oAjQeF6FK5YuSRB9ihcj1+WI0H2KFwPkQ8iQXsUrkexphZB",
          "dtype": "f8",
          "shape": "24, 1"
         },
         "domain": {
          "x": [
           0,
           1
          ],
          "y": [
           0,
           1
          ]
         },
         "hovertemplate": "labels=%{label}<br>Sales Revenue_sum=%{value}<br>parent=%{parent}<br>id=%{id}<br>Sales Revenue=%{color}<extra></extra>",
         "ids": [
          "0",
          "1",
          "2",
          "3",
          "4",
          "5",
          "6",
          "7",
          "8",
          "9",
          "10",
          "11",
          "12",
          "13",
          "14",
          "15",
          "16",
          "17",
          "18",
          "19",
          "20",
          "21",
          "22",
          "23"
         ],
         "labels": [
          "0",
          "1",
          "2",
          "3",
          "4",
          "5",
          "6",
          "7",
          "8",
          "9",
          "10",
          "11",
          "12",
          "13",
          "14",
          "15",
          "16",
          "17",
          "18",
          "19",
          "20",
          "21",
          "22",
          "23"
         ],
         "marker": {
          "coloraxis": "coloraxis",
          "colors": {
           "bdata": "exSuRzewD0FJ4XoUciv3QD0K16Pg3udASOF6FH5w2kBSuB6Fy/zOQBSuR+GacdBAuB6F6wmd5kBSuB6FmcoAQexRuB6UMhRBPQrXI2leIUF7FK5HsEElQbgehesixyRBuB6F630nJUGamZmZzeslQR6F69GOyilB4HoULojcJkE9CtejO4MoQY/C9SgV2yNBpHA9CtA5JUFI4XoU6oAjQeF6FK5YuSRB9ihcj1+WI0H2KFwPkQ8iQXsUrkexphZB",
           "dtype": "f8"
          }
         },
         "name": "",
         "parents": [
          "",
          "",
          "",
          "",
          "",
          "",
          "",
          "",
          "",
          "",
          "",
          "",
          "",
          "",
          "",
          "",
          "",
          "",
          "",
          "",
          "",
          "",
          "",
          ""
         ],
         "type": "sunburst",
         "values": {
          "bdata": "exSuRzewD0FI4XoUciv3QD0K16Pg3udASOF6FH5w2kBSuB6Fy/zOQBSuR+GacdBAuB6F6wmd5kBSuB6FmcoAQexRuB6UMhRBPQrXI2leIUF7FK5HsEElQbgehesixyRBuB6F630nJUGamZmZzeslQR+F69GOyilB4XoULojcJkE9CtejO4MoQY/C9SgV2yNBpHA9CtA5JUFI4XoU6oAjQeF6FK5YuSRB9ihcj1+WI0H2KFwPkQ8iQXsUrkexphZB",
          "dtype": "f8"
         }
        }
       ],
       "layout": {
        "coloraxis": {
         "cmid": 643210.0051617633,
         "colorbar": {
          "title": {
           "text": "Sales Revenue"
          }
         },
         "colorscale": [
          [
           0,
           "rgb(103,0,31)"
          ],
          [
           0.1,
           "rgb(178,24,43)"
          ],
          [
           0.2,
           "rgb(214,96,77)"
          ],
          [
           0.3,
           "rgb(244,165,130)"
          ],
          [
           0.4,
           "rgb(253,219,199)"
          ],
          [
           0.5,
           "rgb(247,247,247)"
          ],
          [
           0.6,
           "rgb(209,229,240)"
          ],
          [
           0.7,
           "rgb(146,197,222)"
          ],
          [
           0.8,
           "rgb(67,147,195)"
          ],
          [
           0.9,
           "rgb(33,102,172)"
          ],
          [
           1,
           "rgb(5,48,97)"
          ]
         ]
        },
        "legend": {
         "tracegroupgap": 0
        },
        "margin": {
         "t": 60
        },
        "template": {
         "data": {
          "bar": [
           {
            "error_x": {
             "color": "#2a3f5f"
            },
            "error_y": {
             "color": "#2a3f5f"
            },
            "marker": {
             "line": {
              "color": "#E5ECF6",
              "width": 0.5
             },
             "pattern": {
              "fillmode": "overlay",
              "size": 10,
              "solidity": 0.2
             }
            },
            "type": "bar"
           }
          ],
          "barpolar": [
           {
            "marker": {
             "line": {
              "color": "#E5ECF6",
              "width": 0.5
             },
             "pattern": {
              "fillmode": "overlay",
              "size": 10,
              "solidity": 0.2
             }
            },
            "type": "barpolar"
           }
          ],
          "carpet": [
           {
            "aaxis": {
             "endlinecolor": "#2a3f5f",
             "gridcolor": "white",
             "linecolor": "white",
             "minorgridcolor": "white",
             "startlinecolor": "#2a3f5f"
            },
            "baxis": {
             "endlinecolor": "#2a3f5f",
             "gridcolor": "white",
             "linecolor": "white",
             "minorgridcolor": "white",
             "startlinecolor": "#2a3f5f"
            },
            "type": "carpet"
           }
          ],
          "choropleth": [
           {
            "colorbar": {
             "outlinewidth": 0,
             "ticks": ""
            },
            "type": "choropleth"
           }
          ],
          "contour": [
           {
            "colorbar": {
             "outlinewidth": 0,
             "ticks": ""
            },
            "colorscale": [
             [
              0,
              "#0d0887"
             ],
             [
              0.1111111111111111,
              "#46039f"
             ],
             [
              0.2222222222222222,
              "#7201a8"
             ],
             [
              0.3333333333333333,
              "#9c179e"
             ],
             [
              0.4444444444444444,
              "#bd3786"
             ],
             [
              0.5555555555555556,
              "#d8576b"
             ],
             [
              0.6666666666666666,
              "#ed7953"
             ],
             [
              0.7777777777777778,
              "#fb9f3a"
             ],
             [
              0.8888888888888888,
              "#fdca26"
             ],
             [
              1,
              "#f0f921"
             ]
            ],
            "type": "contour"
           }
          ],
          "contourcarpet": [
           {
            "colorbar": {
             "outlinewidth": 0,
             "ticks": ""
            },
            "type": "contourcarpet"
           }
          ],
          "heatmap": [
           {
            "colorbar": {
             "outlinewidth": 0,
             "ticks": ""
            },
            "colorscale": [
             [
              0,
              "#0d0887"
             ],
             [
              0.1111111111111111,
              "#46039f"
             ],
             [
              0.2222222222222222,
              "#7201a8"
             ],
             [
              0.3333333333333333,
              "#9c179e"
             ],
             [
              0.4444444444444444,
              "#bd3786"
             ],
             [
              0.5555555555555556,
              "#d8576b"
             ],
             [
              0.6666666666666666,
              "#ed7953"
             ],
             [
              0.7777777777777778,
              "#fb9f3a"
             ],
             [
              0.8888888888888888,
              "#fdca26"
             ],
             [
              1,
              "#f0f921"
             ]
            ],
            "type": "heatmap"
           }
          ],
          "histogram": [
           {
            "marker": {
             "pattern": {
              "fillmode": "overlay",
              "size": 10,
              "solidity": 0.2
             }
            },
            "type": "histogram"
           }
          ],
          "histogram2d": [
           {
            "colorbar": {
             "outlinewidth": 0,
             "ticks": ""
            },
            "colorscale": [
             [
              0,
              "#0d0887"
             ],
             [
              0.1111111111111111,
              "#46039f"
             ],
             [
              0.2222222222222222,
              "#7201a8"
             ],
             [
              0.3333333333333333,
              "#9c179e"
             ],
             [
              0.4444444444444444,
              "#bd3786"
             ],
             [
              0.5555555555555556,
              "#d8576b"
             ],
             [
              0.6666666666666666,
              "#ed7953"
             ],
             [
              0.7777777777777778,
              "#fb9f3a"
             ],
             [
              0.8888888888888888,
              "#fdca26"
             ],
             [
              1,
              "#f0f921"
             ]
            ],
            "type": "histogram2d"
           }
          ],
          "histogram2dcontour": [
           {
            "colorbar": {
             "outlinewidth": 0,
             "ticks": ""
            },
            "colorscale": [
             [
              0,
              "#0d0887"
             ],
             [
              0.1111111111111111,
              "#46039f"
             ],
             [
              0.2222222222222222,
              "#7201a8"
             ],
             [
              0.3333333333333333,
              "#9c179e"
             ],
             [
              0.4444444444444444,
              "#bd3786"
             ],
             [
              0.5555555555555556,
              "#d8576b"
             ],
             [
              0.6666666666666666,
              "#ed7953"
             ],
             [
              0.7777777777777778,
              "#fb9f3a"
             ],
             [
              0.8888888888888888,
              "#fdca26"
             ],
             [
              1,
              "#f0f921"
             ]
            ],
            "type": "histogram2dcontour"
           }
          ],
          "mesh3d": [
           {
            "colorbar": {
             "outlinewidth": 0,
             "ticks": ""
            },
            "type": "mesh3d"
           }
          ],
          "parcoords": [
           {
            "line": {
             "colorbar": {
              "outlinewidth": 0,
              "ticks": ""
             }
            },
            "type": "parcoords"
           }
          ],
          "pie": [
           {
            "automargin": true,
            "type": "pie"
           }
          ],
          "scatter": [
           {
            "fillpattern": {
             "fillmode": "overlay",
             "size": 10,
             "solidity": 0.2
            },
            "type": "scatter"
           }
          ],
          "scatter3d": [
           {
            "line": {
             "colorbar": {
              "outlinewidth": 0,
              "ticks": ""
             }
            },
            "marker": {
             "colorbar": {
              "outlinewidth": 0,
              "ticks": ""
             }
            },
            "type": "scatter3d"
           }
          ],
          "scattercarpet": [
           {
            "marker": {
             "colorbar": {
              "outlinewidth": 0,
              "ticks": ""
             }
            },
            "type": "scattercarpet"
           }
          ],
          "scattergeo": [
           {
            "marker": {
             "colorbar": {
              "outlinewidth": 0,
              "ticks": ""
             }
            },
            "type": "scattergeo"
           }
          ],
          "scattergl": [
           {
            "marker": {
             "colorbar": {
              "outlinewidth": 0,
              "ticks": ""
             }
            },
            "type": "scattergl"
           }
          ],
          "scattermap": [
           {
            "marker": {
             "colorbar": {
              "outlinewidth": 0,
              "ticks": ""
             }
            },
            "type": "scattermap"
           }
          ],
          "scattermapbox": [
           {
            "marker": {
             "colorbar": {
              "outlinewidth": 0,
              "ticks": ""
             }
            },
            "type": "scattermapbox"
           }
          ],
          "scatterpolar": [
           {
            "marker": {
             "colorbar": {
              "outlinewidth": 0,
              "ticks": ""
             }
            },
            "type": "scatterpolar"
           }
          ],
          "scatterpolargl": [
           {
            "marker": {
             "colorbar": {
              "outlinewidth": 0,
              "ticks": ""
             }
            },
            "type": "scatterpolargl"
           }
          ],
          "scatterternary": [
           {
            "marker": {
             "colorbar": {
              "outlinewidth": 0,
              "ticks": ""
             }
            },
            "type": "scatterternary"
           }
          ],
          "surface": [
           {
            "colorbar": {
             "outlinewidth": 0,
             "ticks": ""
            },
            "colorscale": [
             [
              0,
              "#0d0887"
             ],
             [
              0.1111111111111111,
              "#46039f"
             ],
             [
              0.2222222222222222,
              "#7201a8"
             ],
             [
              0.3333333333333333,
              "#9c179e"
             ],
             [
              0.4444444444444444,
              "#bd3786"
             ],
             [
              0.5555555555555556,
              "#d8576b"
             ],
             [
              0.6666666666666666,
              "#ed7953"
             ],
             [
              0.7777777777777778,
              "#fb9f3a"
             ],
             [
              0.8888888888888888,
              "#fdca26"
             ],
             [
              1,
              "#f0f921"
             ]
            ],
            "type": "surface"
           }
          ],
          "table": [
           {
            "cells": {
             "fill": {
              "color": "#EBF0F8"
             },
             "line": {
              "color": "white"
             }
            },
            "header": {
             "fill": {
              "color": "#C8D4E3"
             },
             "line": {
              "color": "white"
             }
            },
            "type": "table"
           }
          ]
         },
         "layout": {
          "annotationdefaults": {
           "arrowcolor": "#2a3f5f",
           "arrowhead": 0,
           "arrowwidth": 1
          },
          "autotypenumbers": "strict",
          "coloraxis": {
           "colorbar": {
            "outlinewidth": 0,
            "ticks": ""
           }
          },
          "colorscale": {
           "diverging": [
            [
             0,
             "#8e0152"
            ],
            [
             0.1,
             "#c51b7d"
            ],
            [
             0.2,
             "#de77ae"
            ],
            [
             0.3,
             "#f1b6da"
            ],
            [
             0.4,
             "#fde0ef"
            ],
            [
             0.5,
             "#f7f7f7"
            ],
            [
             0.6,
             "#e6f5d0"
            ],
            [
             0.7,
             "#b8e186"
            ],
            [
             0.8,
             "#7fbc41"
            ],
            [
             0.9,
             "#4d9221"
            ],
            [
             1,
             "#276419"
            ]
           ],
           "sequential": [
            [
             0,
             "#0d0887"
            ],
            [
             0.1111111111111111,
             "#46039f"
            ],
            [
             0.2222222222222222,
             "#7201a8"
            ],
            [
             0.3333333333333333,
             "#9c179e"
            ],
            [
             0.4444444444444444,
             "#bd3786"
            ],
            [
             0.5555555555555556,
             "#d8576b"
            ],
            [
             0.6666666666666666,
             "#ed7953"
            ],
            [
             0.7777777777777778,
             "#fb9f3a"
            ],
            [
             0.8888888888888888,
             "#fdca26"
            ],
            [
             1,
             "#f0f921"
            ]
           ],
           "sequentialminus": [
            [
             0,
             "#0d0887"
            ],
            [
             0.1111111111111111,
             "#46039f"
            ],
            [
             0.2222222222222222,
             "#7201a8"
            ],
            [
             0.3333333333333333,
             "#9c179e"
            ],
            [
             0.4444444444444444,
             "#bd3786"
            ],
            [
             0.5555555555555556,
             "#d8576b"
            ],
            [
             0.6666666666666666,
             "#ed7953"
            ],
            [
             0.7777777777777778,
             "#fb9f3a"
            ],
            [
             0.8888888888888888,
             "#fdca26"
            ],
            [
             1,
             "#f0f921"
            ]
           ]
          },
          "colorway": [
           "#636efa",
           "#EF553B",
           "#00cc96",
           "#ab63fa",
           "#FFA15A",
           "#19d3f3",
           "#FF6692",
           "#B6E880",
           "#FF97FF",
           "#FECB52"
          ],
          "font": {
           "color": "#2a3f5f"
          },
          "geo": {
           "bgcolor": "white",
           "lakecolor": "white",
           "landcolor": "#E5ECF6",
           "showlakes": true,
           "showland": true,
           "subunitcolor": "white"
          },
          "hoverlabel": {
           "align": "left"
          },
          "hovermode": "closest",
          "mapbox": {
           "style": "light"
          },
          "paper_bgcolor": "white",
          "plot_bgcolor": "#E5ECF6",
          "polar": {
           "angularaxis": {
            "gridcolor": "white",
            "linecolor": "white",
            "ticks": ""
           },
           "bgcolor": "#E5ECF6",
           "radialaxis": {
            "gridcolor": "white",
            "linecolor": "white",
            "ticks": ""
           }
          },
          "scene": {
           "xaxis": {
            "backgroundcolor": "#E5ECF6",
            "gridcolor": "white",
            "gridwidth": 2,
            "linecolor": "white",
            "showbackground": true,
            "ticks": "",
            "zerolinecolor": "white"
           },
           "yaxis": {
            "backgroundcolor": "#E5ECF6",
            "gridcolor": "white",
            "gridwidth": 2,
            "linecolor": "white",
            "showbackground": true,
            "ticks": "",
            "zerolinecolor": "white"
           },
           "zaxis": {
            "backgroundcolor": "#E5ECF6",
            "gridcolor": "white",
            "gridwidth": 2,
            "linecolor": "white",
            "showbackground": true,
            "ticks": "",
            "zerolinecolor": "white"
           }
          },
          "shapedefaults": {
           "line": {
            "color": "#2a3f5f"
           }
          },
          "ternary": {
           "aaxis": {
            "gridcolor": "white",
            "linecolor": "white",
            "ticks": ""
           },
           "baxis": {
            "gridcolor": "white",
            "linecolor": "white",
            "ticks": ""
           },
           "bgcolor": "#E5ECF6",
           "caxis": {
            "gridcolor": "white",
            "linecolor": "white",
            "ticks": ""
           }
          },
          "title": {
           "x": 0.05
          },
          "xaxis": {
           "automargin": true,
           "gridcolor": "white",
           "linecolor": "white",
           "ticks": "",
           "title": {
            "standoff": 15
           },
           "zerolinecolor": "white",
           "zerolinewidth": 2
          },
          "yaxis": {
           "automargin": true,
           "gridcolor": "white",
           "linecolor": "white",
           "ticks": "",
           "title": {
            "standoff": 15
           },
           "zerolinecolor": "white",
           "zerolinewidth": 2
          }
         }
        },
        "title": {
         "text": "Receita de Vendas por Hora - Gráfico Sunburst"
        }
       }
      }
     },
     "metadata": {},
     "output_type": "display_data"
    }
   ],
   "source": [
    "# Vendas por categoria por hora (alternativa ao gráfico de pizza)\n",
    "fig = px.sunburst(total_rev_hour, \n",
    "                  path = ['Sales Hour'], \n",
    "                  values = 'Sales Revenue',\n",
    "                  color = 'Sales Revenue', \n",
    "                  hover_data = ['Sales Revenue'],\n",
    "                  color_continuous_scale = 'RdBu',\n",
    "                  color_continuous_midpoint = np.average(total_rev_hour['Sales Revenue'], \n",
    "                                                         weights = total_rev_hour['Sales Revenue']))\n",
    "\n",
    "# Adiciona título e rótulos aos eixos\n",
    "fig.update_layout(title = 'Receita de Vendas por Hora - Gráfico Sunburst')\n",
    "\n",
    "# Exibe o gráfico\n",
    "fig.show()"
   ]
  },
  {
   "cell_type": "markdown",
   "metadata": {},
   "source": [
    "### Pergunta 5.5 - Vendas Por Categoria Por Dia da Semana"
   ]
  },
  {
   "cell_type": "code",
   "execution_count": 98,
   "metadata": {},
   "outputs": [],
   "source": [
    "# Vendas por categoria por dia da semana\n",
    "total_rev_hour = df_prep[df_prep['order_purchase_year'] == 2018].groupby(['order_purchase_day', \n",
    "                                                                        'product_category_name_english'], \n",
    "                                                                       as_index = False).payment_value.sum()"
   ]
  },
  {
   "cell_type": "code",
   "execution_count": 99,
   "metadata": {},
   "outputs": [
    {
     "data": {
      "text/html": [
       "<div>\n",
       "<style scoped>\n",
       "    .dataframe tbody tr th:only-of-type {\n",
       "        vertical-align: middle;\n",
       "    }\n",
       "\n",
       "    .dataframe tbody tr th {\n",
       "        vertical-align: top;\n",
       "    }\n",
       "\n",
       "    .dataframe thead th {\n",
       "        text-align: right;\n",
       "    }\n",
       "</style>\n",
       "<table border=\"1\" class=\"dataframe\">\n",
       "  <thead>\n",
       "    <tr style=\"text-align: right;\">\n",
       "      <th></th>\n",
       "      <th>Sales DayofWeek</th>\n",
       "      <th>Product Category</th>\n",
       "      <th>Sales Revenue</th>\n",
       "    </tr>\n",
       "  </thead>\n",
       "  <tbody>\n",
       "    <tr>\n",
       "      <th>0</th>\n",
       "      <td>Fri</td>\n",
       "      <td>agro industry and commerce</td>\n",
       "      <td>5839.40</td>\n",
       "    </tr>\n",
       "    <tr>\n",
       "      <th>1</th>\n",
       "      <td>Fri</td>\n",
       "      <td>air conditioning</td>\n",
       "      <td>5826.38</td>\n",
       "    </tr>\n",
       "    <tr>\n",
       "      <th>2</th>\n",
       "      <td>Fri</td>\n",
       "      <td>art</td>\n",
       "      <td>2398.56</td>\n",
       "    </tr>\n",
       "    <tr>\n",
       "      <th>3</th>\n",
       "      <td>Fri</td>\n",
       "      <td>arts and craftmanship</td>\n",
       "      <td>408.95</td>\n",
       "    </tr>\n",
       "    <tr>\n",
       "      <th>4</th>\n",
       "      <td>Fri</td>\n",
       "      <td>audio</td>\n",
       "      <td>4834.79</td>\n",
       "    </tr>\n",
       "  </tbody>\n",
       "</table>\n",
       "</div>"
      ],
      "text/plain": [
       "  Sales DayofWeek            Product Category  Sales Revenue\n",
       "0             Fri  agro industry and commerce        5839.40\n",
       "1             Fri            air conditioning        5826.38\n",
       "2             Fri                         art        2398.56\n",
       "3             Fri       arts and craftmanship         408.95\n",
       "4             Fri                       audio        4834.79"
      ]
     },
     "execution_count": 99,
     "metadata": {},
     "output_type": "execute_result"
    }
   ],
   "source": [
    "total_rev_hour.columns = ['Sales DayofWeek', 'Product Category' , 'Sales Revenue']\n",
    "total_rev_hour.head()"
   ]
  },
  {
   "cell_type": "code",
   "execution_count": 101,
   "metadata": {},
   "outputs": [
    {
     "data": {
      "application/vnd.plotly.v1+json": {
       "config": {
        "plotlyServerURL": "https://plot.ly"
       },
       "data": [
        {
         "type": "bar",
         "x": [
          "Fri",
          "Fri",
          "Fri",
          "Fri",
          "Fri",
          "Fri",
          "Fri",
          "Fri",
          "Fri",
          "Fri",
          "Fri",
          "Fri",
          "Fri",
          "Fri",
          "Fri",
          "Fri",
          "Fri",
          "Fri",
          "Fri",
          "Fri",
          "Fri",
          "Fri",
          "Fri",
          "Fri",
          "Fri",
          "Fri",
          "Fri",
          "Fri",
          "Fri",
          "Fri",
          "Fri",
          "Fri",
          "Fri",
          "Fri",
          "Fri",
          "Fri",
          "Fri",
          "Fri",
          "Fri",
          "Fri",
          "Fri",
          "Fri",
          "Fri",
          "Fri",
          "Fri",
          "Fri",
          "Fri",
          "Fri",
          "Fri",
          "Fri",
          "Fri",
          "Fri",
          "Fri",
          "Fri",
          "Fri",
          "Fri",
          "Fri",
          "Fri",
          "Fri",
          "Fri",
          "Fri",
          "Fri",
          "Fri",
          "Fri",
          "Fri",
          "Fri",
          "Fri",
          "Mon",
          "Mon",
          "Mon",
          "Mon",
          "Mon",
          "Mon",
          "Mon",
          "Mon",
          "Mon",
          "Mon",
          "Mon",
          "Mon",
          "Mon",
          "Mon",
          "Mon",
          "Mon",
          "Mon",
          "Mon",
          "Mon",
          "Mon",
          "Mon",
          "Mon",
          "Mon",
          "Mon",
          "Mon",
          "Mon",
          "Mon",
          "Mon",
          "Mon",
          "Mon",
          "Mon",
          "Mon",
          "Mon",
          "Mon",
          "Mon",
          "Mon",
          "Mon",
          "Mon",
          "Mon",
          "Mon",
          "Mon",
          "Mon",
          "Mon",
          "Mon",
          "Mon",
          "Mon",
          "Mon",
          "Mon",
          "Mon",
          "Mon",
          "Mon",
          "Mon",
          "Mon",
          "Mon",
          "Mon",
          "Mon",
          "Mon",
          "Mon",
          "Mon",
          "Mon",
          "Mon",
          "Mon",
          "Mon",
          "Mon",
          "Mon",
          "Mon",
          "Mon",
          "Sat",
          "Sat",
          "Sat",
          "Sat",
          "Sat",
          "Sat",
          "Sat",
          "Sat",
          "Sat",
          "Sat",
          "Sat",
          "Sat",
          "Sat",
          "Sat",
          "Sat",
          "Sat",
          "Sat",
          "Sat",
          "Sat",
          "Sat",
          "Sat",
          "Sat",
          "Sat",
          "Sat",
          "Sat",
          "Sat",
          "Sat",
          "Sat",
          "Sat",
          "Sat",
          "Sat",
          "Sat",
          "Sat",
          "Sat",
          "Sat",
          "Sat",
          "Sat",
          "Sat",
          "Sat",
          "Sat",
          "Sat",
          "Sat",
          "Sat",
          "Sat",
          "Sat",
          "Sat",
          "Sat",
          "Sat",
          "Sat",
          "Sat",
          "Sat",
          "Sat",
          "Sat",
          "Sat",
          "Sat",
          "Sat",
          "Sat",
          "Sat",
          "Sat",
          "Sat",
          "Sat",
          "Sat",
          "Sat",
          "Sat",
          "Sun",
          "Sun",
          "Sun",
          "Sun",
          "Sun",
          "Sun",
          "Sun",
          "Sun",
          "Sun",
          "Sun",
          "Sun",
          "Sun",
          "Sun",
          "Sun",
          "Sun",
          "Sun",
          "Sun",
          "Sun",
          "Sun",
          "Sun",
          "Sun",
          "Sun",
          "Sun",
          "Sun",
          "Sun",
          "Sun",
          "Sun",
          "Sun",
          "Sun",
          "Sun",
          "Sun",
          "Sun",
          "Sun",
          "Sun",
          "Sun",
          "Sun",
          "Sun",
          "Sun",
          "Sun",
          "Sun",
          "Sun",
          "Sun",
          "Sun",
          "Sun",
          "Sun",
          "Sun",
          "Sun",
          "Sun",
          "Sun",
          "Sun",
          "Sun",
          "Sun",
          "Sun",
          "Sun",
          "Sun",
          "Sun",
          "Sun",
          "Sun",
          "Sun",
          "Sun",
          "Sun",
          "Sun",
          "Sun",
          "Sun",
          "Sun",
          "Sun",
          "Sun",
          "Thu",
          "Thu",
          "Thu",
          "Thu",
          "Thu",
          "Thu",
          "Thu",
          "Thu",
          "Thu",
          "Thu",
          "Thu",
          "Thu",
          "Thu",
          "Thu",
          "Thu",
          "Thu",
          "Thu",
          "Thu",
          "Thu",
          "Thu",
          "Thu",
          "Thu",
          "Thu",
          "Thu",
          "Thu",
          "Thu",
          "Thu",
          "Thu",
          "Thu",
          "Thu",
          "Thu",
          "Thu",
          "Thu",
          "Thu",
          "Thu",
          "Thu",
          "Thu",
          "Thu",
          "Thu",
          "Thu",
          "Thu",
          "Thu",
          "Thu",
          "Thu",
          "Thu",
          "Thu",
          "Thu",
          "Thu",
          "Thu",
          "Thu",
          "Thu",
          "Thu",
          "Thu",
          "Thu",
          "Thu",
          "Thu",
          "Thu",
          "Thu",
          "Thu",
          "Thu",
          "Thu",
          "Thu",
          "Thu",
          "Thu",
          "Thu",
          "Tue",
          "Tue",
          "Tue",
          "Tue",
          "Tue",
          "Tue",
          "Tue",
          "Tue",
          "Tue",
          "Tue",
          "Tue",
          "Tue",
          "Tue",
          "Tue",
          "Tue",
          "Tue",
          "Tue",
          "Tue",
          "Tue",
          "Tue",
          "Tue",
          "Tue",
          "Tue",
          "Tue",
          "Tue",
          "Tue",
          "Tue",
          "Tue",
          "Tue",
          "Tue",
          "Tue",
          "Tue",
          "Tue",
          "Tue",
          "Tue",
          "Tue",
          "Tue",
          "Tue",
          "Tue",
          "Tue",
          "Tue",
          "Tue",
          "Tue",
          "Tue",
          "Tue",
          "Tue",
          "Tue",
          "Tue",
          "Tue",
          "Tue",
          "Tue",
          "Tue",
          "Tue",
          "Tue",
          "Tue",
          "Tue",
          "Tue",
          "Tue",
          "Tue",
          "Tue",
          "Tue",
          "Tue",
          "Tue",
          "Tue",
          "Tue",
          "Tue",
          "Wed",
          "Wed",
          "Wed",
          "Wed",
          "Wed",
          "Wed",
          "Wed",
          "Wed",
          "Wed",
          "Wed",
          "Wed",
          "Wed",
          "Wed",
          "Wed",
          "Wed",
          "Wed",
          "Wed",
          "Wed",
          "Wed",
          "Wed",
          "Wed",
          "Wed",
          "Wed",
          "Wed",
          "Wed",
          "Wed",
          "Wed",
          "Wed",
          "Wed",
          "Wed",
          "Wed",
          "Wed",
          "Wed",
          "Wed",
          "Wed",
          "Wed",
          "Wed",
          "Wed",
          "Wed",
          "Wed",
          "Wed",
          "Wed",
          "Wed",
          "Wed",
          "Wed",
          "Wed",
          "Wed",
          "Wed",
          "Wed",
          "Wed",
          "Wed",
          "Wed",
          "Wed",
          "Wed",
          "Wed",
          "Wed",
          "Wed",
          "Wed",
          "Wed",
          "Wed",
          "Wed",
          "Wed",
          "Wed",
          "Wed",
          "Wed",
          "Wed",
          "Wed"
         ],
         "y": {
          "bdata": "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",
          "dtype": "f8"
         }
        }
       ],
       "layout": {
        "template": {
         "data": {
          "bar": [
           {
            "error_x": {
             "color": "#2a3f5f"
            },
            "error_y": {
             "color": "#2a3f5f"
            },
            "marker": {
             "line": {
              "color": "#E5ECF6",
              "width": 0.5
             },
             "pattern": {
              "fillmode": "overlay",
              "size": 10,
              "solidity": 0.2
             }
            },
            "type": "bar"
           }
          ],
          "barpolar": [
           {
            "marker": {
             "line": {
              "color": "#E5ECF6",
              "width": 0.5
             },
             "pattern": {
              "fillmode": "overlay",
              "size": 10,
              "solidity": 0.2
             }
            },
            "type": "barpolar"
           }
          ],
          "carpet": [
           {
            "aaxis": {
             "endlinecolor": "#2a3f5f",
             "gridcolor": "white",
             "linecolor": "white",
             "minorgridcolor": "white",
             "startlinecolor": "#2a3f5f"
            },
            "baxis": {
             "endlinecolor": "#2a3f5f",
             "gridcolor": "white",
             "linecolor": "white",
             "minorgridcolor": "white",
             "startlinecolor": "#2a3f5f"
            },
            "type": "carpet"
           }
          ],
          "choropleth": [
           {
            "colorbar": {
             "outlinewidth": 0,
             "ticks": ""
            },
            "type": "choropleth"
           }
          ],
          "contour": [
           {
            "colorbar": {
             "outlinewidth": 0,
             "ticks": ""
            },
            "colorscale": [
             [
              0,
              "#0d0887"
             ],
             [
              0.1111111111111111,
              "#46039f"
             ],
             [
              0.2222222222222222,
              "#7201a8"
             ],
             [
              0.3333333333333333,
              "#9c179e"
             ],
             [
              0.4444444444444444,
              "#bd3786"
             ],
             [
              0.5555555555555556,
              "#d8576b"
             ],
             [
              0.6666666666666666,
              "#ed7953"
             ],
             [
              0.7777777777777778,
              "#fb9f3a"
             ],
             [
              0.8888888888888888,
              "#fdca26"
             ],
             [
              1,
              "#f0f921"
             ]
            ],
            "type": "contour"
           }
          ],
          "contourcarpet": [
           {
            "colorbar": {
             "outlinewidth": 0,
             "ticks": ""
            },
            "type": "contourcarpet"
           }
          ],
          "heatmap": [
           {
            "colorbar": {
             "outlinewidth": 0,
             "ticks": ""
            },
            "colorscale": [
             [
              0,
              "#0d0887"
             ],
             [
              0.1111111111111111,
              "#46039f"
             ],
             [
              0.2222222222222222,
              "#7201a8"
             ],
             [
              0.3333333333333333,
              "#9c179e"
             ],
             [
              0.4444444444444444,
              "#bd3786"
             ],
             [
              0.5555555555555556,
              "#d8576b"
             ],
             [
              0.6666666666666666,
              "#ed7953"
             ],
             [
              0.7777777777777778,
              "#fb9f3a"
             ],
             [
              0.8888888888888888,
              "#fdca26"
             ],
             [
              1,
              "#f0f921"
             ]
            ],
            "type": "heatmap"
           }
          ],
          "histogram": [
           {
            "marker": {
             "pattern": {
              "fillmode": "overlay",
              "size": 10,
              "solidity": 0.2
             }
            },
            "type": "histogram"
           }
          ],
          "histogram2d": [
           {
            "colorbar": {
             "outlinewidth": 0,
             "ticks": ""
            },
            "colorscale": [
             [
              0,
              "#0d0887"
             ],
             [
              0.1111111111111111,
              "#46039f"
             ],
             [
              0.2222222222222222,
              "#7201a8"
             ],
             [
              0.3333333333333333,
              "#9c179e"
             ],
             [
              0.4444444444444444,
              "#bd3786"
             ],
             [
              0.5555555555555556,
              "#d8576b"
             ],
             [
              0.6666666666666666,
              "#ed7953"
             ],
             [
              0.7777777777777778,
              "#fb9f3a"
             ],
             [
              0.8888888888888888,
              "#fdca26"
             ],
             [
              1,
              "#f0f921"
             ]
            ],
            "type": "histogram2d"
           }
          ],
          "histogram2dcontour": [
           {
            "colorbar": {
             "outlinewidth": 0,
             "ticks": ""
            },
            "colorscale": [
             [
              0,
              "#0d0887"
             ],
             [
              0.1111111111111111,
              "#46039f"
             ],
             [
              0.2222222222222222,
              "#7201a8"
             ],
             [
              0.3333333333333333,
              "#9c179e"
             ],
             [
              0.4444444444444444,
              "#bd3786"
             ],
             [
              0.5555555555555556,
              "#d8576b"
             ],
             [
              0.6666666666666666,
              "#ed7953"
             ],
             [
              0.7777777777777778,
              "#fb9f3a"
             ],
             [
              0.8888888888888888,
              "#fdca26"
             ],
             [
              1,
              "#f0f921"
             ]
            ],
            "type": "histogram2dcontour"
           }
          ],
          "mesh3d": [
           {
            "colorbar": {
             "outlinewidth": 0,
             "ticks": ""
            },
            "type": "mesh3d"
           }
          ],
          "parcoords": [
           {
            "line": {
             "colorbar": {
              "outlinewidth": 0,
              "ticks": ""
             }
            },
            "type": "parcoords"
           }
          ],
          "pie": [
           {
            "automargin": true,
            "type": "pie"
           }
          ],
          "scatter": [
           {
            "fillpattern": {
             "fillmode": "overlay",
             "size": 10,
             "solidity": 0.2
            },
            "type": "scatter"
           }
          ],
          "scatter3d": [
           {
            "line": {
             "colorbar": {
              "outlinewidth": 0,
              "ticks": ""
             }
            },
            "marker": {
             "colorbar": {
              "outlinewidth": 0,
              "ticks": ""
             }
            },
            "type": "scatter3d"
           }
          ],
          "scattercarpet": [
           {
            "marker": {
             "colorbar": {
              "outlinewidth": 0,
              "ticks": ""
             }
            },
            "type": "scattercarpet"
           }
          ],
          "scattergeo": [
           {
            "marker": {
             "colorbar": {
              "outlinewidth": 0,
              "ticks": ""
             }
            },
            "type": "scattergeo"
           }
          ],
          "scattergl": [
           {
            "marker": {
             "colorbar": {
              "outlinewidth": 0,
              "ticks": ""
             }
            },
            "type": "scattergl"
           }
          ],
          "scattermap": [
           {
            "marker": {
             "colorbar": {
              "outlinewidth": 0,
              "ticks": ""
             }
            },
            "type": "scattermap"
           }
          ],
          "scattermapbox": [
           {
            "marker": {
             "colorbar": {
              "outlinewidth": 0,
              "ticks": ""
             }
            },
            "type": "scattermapbox"
           }
          ],
          "scatterpolar": [
           {
            "marker": {
             "colorbar": {
              "outlinewidth": 0,
              "ticks": ""
             }
            },
            "type": "scatterpolar"
           }
          ],
          "scatterpolargl": [
           {
            "marker": {
             "colorbar": {
              "outlinewidth": 0,
              "ticks": ""
             }
            },
            "type": "scatterpolargl"
           }
          ],
          "scatterternary": [
           {
            "marker": {
             "colorbar": {
              "outlinewidth": 0,
              "ticks": ""
             }
            },
            "type": "scatterternary"
           }
          ],
          "surface": [
           {
            "colorbar": {
             "outlinewidth": 0,
             "ticks": ""
            },
            "colorscale": [
             [
              0,
              "#0d0887"
             ],
             [
              0.1111111111111111,
              "#46039f"
             ],
             [
              0.2222222222222222,
              "#7201a8"
             ],
             [
              0.3333333333333333,
              "#9c179e"
             ],
             [
              0.4444444444444444,
              "#bd3786"
             ],
             [
              0.5555555555555556,
              "#d8576b"
             ],
             [
              0.6666666666666666,
              "#ed7953"
             ],
             [
              0.7777777777777778,
              "#fb9f3a"
             ],
             [
              0.8888888888888888,
              "#fdca26"
             ],
             [
              1,
              "#f0f921"
             ]
            ],
            "type": "surface"
           }
          ],
          "table": [
           {
            "cells": {
             "fill": {
              "color": "#EBF0F8"
             },
             "line": {
              "color": "white"
             }
            },
            "header": {
             "fill": {
              "color": "#C8D4E3"
             },
             "line": {
              "color": "white"
             }
            },
            "type": "table"
           }
          ]
         },
         "layout": {
          "annotationdefaults": {
           "arrowcolor": "#2a3f5f",
           "arrowhead": 0,
           "arrowwidth": 1
          },
          "autotypenumbers": "strict",
          "coloraxis": {
           "colorbar": {
            "outlinewidth": 0,
            "ticks": ""
           }
          },
          "colorscale": {
           "diverging": [
            [
             0,
             "#8e0152"
            ],
            [
             0.1,
             "#c51b7d"
            ],
            [
             0.2,
             "#de77ae"
            ],
            [
             0.3,
             "#f1b6da"
            ],
            [
             0.4,
             "#fde0ef"
            ],
            [
             0.5,
             "#f7f7f7"
            ],
            [
             0.6,
             "#e6f5d0"
            ],
            [
             0.7,
             "#b8e186"
            ],
            [
             0.8,
             "#7fbc41"
            ],
            [
             0.9,
             "#4d9221"
            ],
            [
             1,
             "#276419"
            ]
           ],
           "sequential": [
            [
             0,
             "#0d0887"
            ],
            [
             0.1111111111111111,
             "#46039f"
            ],
            [
             0.2222222222222222,
             "#7201a8"
            ],
            [
             0.3333333333333333,
             "#9c179e"
            ],
            [
             0.4444444444444444,
             "#bd3786"
            ],
            [
             0.5555555555555556,
             "#d8576b"
            ],
            [
             0.6666666666666666,
             "#ed7953"
            ],
            [
             0.7777777777777778,
             "#fb9f3a"
            ],
            [
             0.8888888888888888,
             "#fdca26"
            ],
            [
             1,
             "#f0f921"
            ]
           ],
           "sequentialminus": [
            [
             0,
             "#0d0887"
            ],
            [
             0.1111111111111111,
             "#46039f"
            ],
            [
             0.2222222222222222,
             "#7201a8"
            ],
            [
             0.3333333333333333,
             "#9c179e"
            ],
            [
             0.4444444444444444,
             "#bd3786"
            ],
            [
             0.5555555555555556,
             "#d8576b"
            ],
            [
             0.6666666666666666,
             "#ed7953"
            ],
            [
             0.7777777777777778,
             "#fb9f3a"
            ],
            [
             0.8888888888888888,
             "#fdca26"
            ],
            [
             1,
             "#f0f921"
            ]
           ]
          },
          "colorway": [
           "#636efa",
           "#EF553B",
           "#00cc96",
           "#ab63fa",
           "#FFA15A",
           "#19d3f3",
           "#FF6692",
           "#B6E880",
           "#FF97FF",
           "#FECB52"
          ],
          "font": {
           "color": "#2a3f5f"
          },
          "geo": {
           "bgcolor": "white",
           "lakecolor": "white",
           "landcolor": "#E5ECF6",
           "showlakes": true,
           "showland": true,
           "subunitcolor": "white"
          },
          "hoverlabel": {
           "align": "left"
          },
          "hovermode": "closest",
          "mapbox": {
           "style": "light"
          },
          "paper_bgcolor": "white",
          "plot_bgcolor": "#E5ECF6",
          "polar": {
           "angularaxis": {
            "gridcolor": "white",
            "linecolor": "white",
            "ticks": ""
           },
           "bgcolor": "#E5ECF6",
           "radialaxis": {
            "gridcolor": "white",
            "linecolor": "white",
            "ticks": ""
           }
          },
          "scene": {
           "xaxis": {
            "backgroundcolor": "#E5ECF6",
            "gridcolor": "white",
            "gridwidth": 2,
            "linecolor": "white",
            "showbackground": true,
            "ticks": "",
            "zerolinecolor": "white"
           },
           "yaxis": {
            "backgroundcolor": "#E5ECF6",
            "gridcolor": "white",
            "gridwidth": 2,
            "linecolor": "white",
            "showbackground": true,
            "ticks": "",
            "zerolinecolor": "white"
           },
           "zaxis": {
            "backgroundcolor": "#E5ECF6",
            "gridcolor": "white",
            "gridwidth": 2,
            "linecolor": "white",
            "showbackground": true,
            "ticks": "",
            "zerolinecolor": "white"
           }
          },
          "shapedefaults": {
           "line": {
            "color": "#2a3f5f"
           }
          },
          "ternary": {
           "aaxis": {
            "gridcolor": "white",
            "linecolor": "white",
            "ticks": ""
           },
           "baxis": {
            "gridcolor": "white",
            "linecolor": "white",
            "ticks": ""
           },
           "bgcolor": "#E5ECF6",
           "caxis": {
            "gridcolor": "white",
            "linecolor": "white",
            "ticks": ""
           }
          },
          "title": {
           "x": 0.05
          },
          "xaxis": {
           "automargin": true,
           "gridcolor": "white",
           "linecolor": "white",
           "ticks": "",
           "title": {
            "standoff": 15
           },
           "zerolinecolor": "white",
           "zerolinewidth": 2
          },
          "yaxis": {
           "automargin": true,
           "gridcolor": "white",
           "linecolor": "white",
           "ticks": "",
           "title": {
            "standoff": 15
           },
           "zerolinecolor": "white",
           "zerolinewidth": 2
          }
         }
        },
        "title": {
         "text": "Receita de Vendas Por Categoria Por Dia da Semana"
        }
       }
      }
     },
     "metadata": {},
     "output_type": "display_data"
    }
   ],
   "source": [
    "# Plot\n",
    "\n",
    "# Labels\n",
    "labels = total_rev_hour['Sales DayofWeek']\n",
    "values = total_rev_hour['Sales Revenue']\n",
    "\n",
    "# Gráfico\n",
    "fig = go.Figure(data = [go.Bar(x = labels, y = values)])\n",
    "\n",
    "# Adiciona título e rótulos aos eixos\n",
    "fig.update_layout(title = 'Receita de Vendas Por Categoria Por Dia da Semana')\n",
    "fig.show()"
   ]
  },
  {
   "cell_type": "markdown",
   "metadata": {},
   "source": [
    "### Pergunta 5.6 - Total de Vendas Por Categoria e Por Dia da Semana com Gráfico Sunburst"
   ]
  },
  {
   "cell_type": "code",
   "execution_count": 102,
   "metadata": {},
   "outputs": [],
   "source": [
    "# Ordena o resultado por total de faturamento\n",
    "total_rev_hour = total_rev_hour.sort_values(by = 'Sales Revenue', ascending = True)"
   ]
  },
  {
   "cell_type": "code",
   "execution_count": 103,
   "metadata": {},
   "outputs": [],
   "source": [
    "total_rev_hour = total_rev_hour[:10]"
   ]
  },
  {
   "cell_type": "code",
   "execution_count": 104,
   "metadata": {},
   "outputs": [
    {
     "data": {
      "application/vnd.plotly.v1+json": {
       "config": {
        "plotlyServerURL": "https://plot.ly"
       },
       "data": [
        {
         "branchvalues": "total",
         "customdata": [
          [
           "books imported",
           26.379999999999995
          ],
          [
           "flowers",
           38.68
          ],
          [
           "home comfort 2",
           44.33
          ],
          [
           "diapers and hygiene",
           56.15
          ],
          [
           "fashio female clothing",
           57.17
          ],
          [
           "tablets printing image",
           58.19
          ],
          [
           "tablets printing image",
           60.72
          ],
          [
           "arts and craftmanship",
           65.82000000000001
          ],
          [
           "flowers",
           73.89
          ],
          [
           "party supplies",
           73.99
          ],
          [
           "(?)",
           59.50939138217619
          ],
          [
           "flowers",
           38.68
          ],
          [
           "(?)",
           53.803591623036645
          ],
          [
           "(?)",
           57.68450936199723
          ],
          [
           "arts and craftmanship",
           65.82000000000001
          ],
          [
           "party supplies",
           73.99
          ]
         ],
         "domain": {
          "x": [
           0,
           1
          ],
          "y": [
           0,
           1
          ]
         },
         "hovertemplate": "labels=%{label}<br>Sales Revenue_sum=%{value}<br>parent=%{parent}<br>id=%{id}<br>Product Category=%{customdata[0]}<br>Sales Revenue=%{color}<extra></extra>",
         "ids": [
          "Sat/books imported",
          "Sun/flowers",
          "Mon/home comfort 2",
          "Sat/diapers and hygiene",
          "Tue/fashio female clothing",
          "Tue/tablets printing image",
          "Mon/tablets printing image",
          "Thu/arts and craftmanship",
          "Sat/flowers",
          "Wed/party supplies",
          "Sat",
          "Sun",
          "Mon",
          "Tue",
          "Thu",
          "Wed"
         ],
         "labels": [
          "books imported",
          "flowers",
          "home comfort 2",
          "diapers and hygiene",
          "fashio female clothing",
          "tablets printing image",
          "tablets printing image",
          "arts and craftmanship",
          "flowers",
          "party supplies",
          "Sat",
          "Sun",
          "Mon",
          "Tue",
          "Thu",
          "Wed"
         ],
         "marker": {
          "coloraxis": "coloraxis",
          "colors": {
           "bdata": "4HoUrkdhOkDXo3A9CldDQArXo3A9KkZAMzMzMzMTTED2KFyPwpVMQLgehetRGE1AXI/C9ShcTkAVrkfhenRQQClcj8L1eFJAj8L1KFx/UkDOp5+8M8FNQNejcD0KV0NAFyQeF9zmSkC+yrUAntdMQBWuR+F6dFBAj8L1KFx/UkA=",
           "dtype": "f8"
          }
         },
         "name": "",
         "parents": [
          "Sat",
          "Sun",
          "Mon",
          "Sat",
          "Tue",
          "Tue",
          "Mon",
          "Thu",
          "Sat",
          "Wed",
          "",
          "",
          "",
          "",
          "",
          ""
         ],
         "type": "sunburst",
         "values": {
          "bdata": "4XoUrkdhOkDXo3A9CldDQArXo3A9KkZAMzMzMzMTTED2KFyPwpVMQLgehetRGE1AXI/C9ShcTkAVrkfhenRQQClcj8L1eFJAj8L1KFx/UkA9CtejcI1jQNejcD0KV0NAMzMzMzNDWkDXo3A9CtdcQBWuR+F6dFBAj8L1KFx/UkA=",
          "dtype": "f8"
         }
        }
       ],
       "layout": {
        "coloraxis": {
         "cmid": 59.27743679320032,
         "colorbar": {
          "title": {
           "text": "Sales Revenue"
          }
         },
         "colorscale": [
          [
           0,
           "rgb(103,0,31)"
          ],
          [
           0.1,
           "rgb(178,24,43)"
          ],
          [
           0.2,
           "rgb(214,96,77)"
          ],
          [
           0.3,
           "rgb(244,165,130)"
          ],
          [
           0.4,
           "rgb(253,219,199)"
          ],
          [
           0.5,
           "rgb(247,247,247)"
          ],
          [
           0.6,
           "rgb(209,229,240)"
          ],
          [
           0.7,
           "rgb(146,197,222)"
          ],
          [
           0.8,
           "rgb(67,147,195)"
          ],
          [
           0.9,
           "rgb(33,102,172)"
          ],
          [
           1,
           "rgb(5,48,97)"
          ]
         ]
        },
        "legend": {
         "tracegroupgap": 0
        },
        "margin": {
         "t": 60
        },
        "template": {
         "data": {
          "bar": [
           {
            "error_x": {
             "color": "#2a3f5f"
            },
            "error_y": {
             "color": "#2a3f5f"
            },
            "marker": {
             "line": {
              "color": "#E5ECF6",
              "width": 0.5
             },
             "pattern": {
              "fillmode": "overlay",
              "size": 10,
              "solidity": 0.2
             }
            },
            "type": "bar"
           }
          ],
          "barpolar": [
           {
            "marker": {
             "line": {
              "color": "#E5ECF6",
              "width": 0.5
             },
             "pattern": {
              "fillmode": "overlay",
              "size": 10,
              "solidity": 0.2
             }
            },
            "type": "barpolar"
           }
          ],
          "carpet": [
           {
            "aaxis": {
             "endlinecolor": "#2a3f5f",
             "gridcolor": "white",
             "linecolor": "white",
             "minorgridcolor": "white",
             "startlinecolor": "#2a3f5f"
            },
            "baxis": {
             "endlinecolor": "#2a3f5f",
             "gridcolor": "white",
             "linecolor": "white",
             "minorgridcolor": "white",
             "startlinecolor": "#2a3f5f"
            },
            "type": "carpet"
           }
          ],
          "choropleth": [
           {
            "colorbar": {
             "outlinewidth": 0,
             "ticks": ""
            },
            "type": "choropleth"
           }
          ],
          "contour": [
           {
            "colorbar": {
             "outlinewidth": 0,
             "ticks": ""
            },
            "colorscale": [
             [
              0,
              "#0d0887"
             ],
             [
              0.1111111111111111,
              "#46039f"
             ],
             [
              0.2222222222222222,
              "#7201a8"
             ],
             [
              0.3333333333333333,
              "#9c179e"
             ],
             [
              0.4444444444444444,
              "#bd3786"
             ],
             [
              0.5555555555555556,
              "#d8576b"
             ],
             [
              0.6666666666666666,
              "#ed7953"
             ],
             [
              0.7777777777777778,
              "#fb9f3a"
             ],
             [
              0.8888888888888888,
              "#fdca26"
             ],
             [
              1,
              "#f0f921"
             ]
            ],
            "type": "contour"
           }
          ],
          "contourcarpet": [
           {
            "colorbar": {
             "outlinewidth": 0,
             "ticks": ""
            },
            "type": "contourcarpet"
           }
          ],
          "heatmap": [
           {
            "colorbar": {
             "outlinewidth": 0,
             "ticks": ""
            },
            "colorscale": [
             [
              0,
              "#0d0887"
             ],
             [
              0.1111111111111111,
              "#46039f"
             ],
             [
              0.2222222222222222,
              "#7201a8"
             ],
             [
              0.3333333333333333,
              "#9c179e"
             ],
             [
              0.4444444444444444,
              "#bd3786"
             ],
             [
              0.5555555555555556,
              "#d8576b"
             ],
             [
              0.6666666666666666,
              "#ed7953"
             ],
             [
              0.7777777777777778,
              "#fb9f3a"
             ],
             [
              0.8888888888888888,
              "#fdca26"
             ],
             [
              1,
              "#f0f921"
             ]
            ],
            "type": "heatmap"
           }
          ],
          "histogram": [
           {
            "marker": {
             "pattern": {
              "fillmode": "overlay",
              "size": 10,
              "solidity": 0.2
             }
            },
            "type": "histogram"
           }
          ],
          "histogram2d": [
           {
            "colorbar": {
             "outlinewidth": 0,
             "ticks": ""
            },
            "colorscale": [
             [
              0,
              "#0d0887"
             ],
             [
              0.1111111111111111,
              "#46039f"
             ],
             [
              0.2222222222222222,
              "#7201a8"
             ],
             [
              0.3333333333333333,
              "#9c179e"
             ],
             [
              0.4444444444444444,
              "#bd3786"
             ],
             [
              0.5555555555555556,
              "#d8576b"
             ],
             [
              0.6666666666666666,
              "#ed7953"
             ],
             [
              0.7777777777777778,
              "#fb9f3a"
             ],
             [
              0.8888888888888888,
              "#fdca26"
             ],
             [
              1,
              "#f0f921"
             ]
            ],
            "type": "histogram2d"
           }
          ],
          "histogram2dcontour": [
           {
            "colorbar": {
             "outlinewidth": 0,
             "ticks": ""
            },
            "colorscale": [
             [
              0,
              "#0d0887"
             ],
             [
              0.1111111111111111,
              "#46039f"
             ],
             [
              0.2222222222222222,
              "#7201a8"
             ],
             [
              0.3333333333333333,
              "#9c179e"
             ],
             [
              0.4444444444444444,
              "#bd3786"
             ],
             [
              0.5555555555555556,
              "#d8576b"
             ],
             [
              0.6666666666666666,
              "#ed7953"
             ],
             [
              0.7777777777777778,
              "#fb9f3a"
             ],
             [
              0.8888888888888888,
              "#fdca26"
             ],
             [
              1,
              "#f0f921"
             ]
            ],
            "type": "histogram2dcontour"
           }
          ],
          "mesh3d": [
           {
            "colorbar": {
             "outlinewidth": 0,
             "ticks": ""
            },
            "type": "mesh3d"
           }
          ],
          "parcoords": [
           {
            "line": {
             "colorbar": {
              "outlinewidth": 0,
              "ticks": ""
             }
            },
            "type": "parcoords"
           }
          ],
          "pie": [
           {
            "automargin": true,
            "type": "pie"
           }
          ],
          "scatter": [
           {
            "fillpattern": {
             "fillmode": "overlay",
             "size": 10,
             "solidity": 0.2
            },
            "type": "scatter"
           }
          ],
          "scatter3d": [
           {
            "line": {
             "colorbar": {
              "outlinewidth": 0,
              "ticks": ""
             }
            },
            "marker": {
             "colorbar": {
              "outlinewidth": 0,
              "ticks": ""
             }
            },
            "type": "scatter3d"
           }
          ],
          "scattercarpet": [
           {
            "marker": {
             "colorbar": {
              "outlinewidth": 0,
              "ticks": ""
             }
            },
            "type": "scattercarpet"
           }
          ],
          "scattergeo": [
           {
            "marker": {
             "colorbar": {
              "outlinewidth": 0,
              "ticks": ""
             }
            },
            "type": "scattergeo"
           }
          ],
          "scattergl": [
           {
            "marker": {
             "colorbar": {
              "outlinewidth": 0,
              "ticks": ""
             }
            },
            "type": "scattergl"
           }
          ],
          "scattermap": [
           {
            "marker": {
             "colorbar": {
              "outlinewidth": 0,
              "ticks": ""
             }
            },
            "type": "scattermap"
           }
          ],
          "scattermapbox": [
           {
            "marker": {
             "colorbar": {
              "outlinewidth": 0,
              "ticks": ""
             }
            },
            "type": "scattermapbox"
           }
          ],
          "scatterpolar": [
           {
            "marker": {
             "colorbar": {
              "outlinewidth": 0,
              "ticks": ""
             }
            },
            "type": "scatterpolar"
           }
          ],
          "scatterpolargl": [
           {
            "marker": {
             "colorbar": {
              "outlinewidth": 0,
              "ticks": ""
             }
            },
            "type": "scatterpolargl"
           }
          ],
          "scatterternary": [
           {
            "marker": {
             "colorbar": {
              "outlinewidth": 0,
              "ticks": ""
             }
            },
            "type": "scatterternary"
           }
          ],
          "surface": [
           {
            "colorbar": {
             "outlinewidth": 0,
             "ticks": ""
            },
            "colorscale": [
             [
              0,
              "#0d0887"
             ],
             [
              0.1111111111111111,
              "#46039f"
             ],
             [
              0.2222222222222222,
              "#7201a8"
             ],
             [
              0.3333333333333333,
              "#9c179e"
             ],
             [
              0.4444444444444444,
              "#bd3786"
             ],
             [
              0.5555555555555556,
              "#d8576b"
             ],
             [
              0.6666666666666666,
              "#ed7953"
             ],
             [
              0.7777777777777778,
              "#fb9f3a"
             ],
             [
              0.8888888888888888,
              "#fdca26"
             ],
             [
              1,
              "#f0f921"
             ]
            ],
            "type": "surface"
           }
          ],
          "table": [
           {
            "cells": {
             "fill": {
              "color": "#EBF0F8"
             },
             "line": {
              "color": "white"
             }
            },
            "header": {
             "fill": {
              "color": "#C8D4E3"
             },
             "line": {
              "color": "white"
             }
            },
            "type": "table"
           }
          ]
         },
         "layout": {
          "annotationdefaults": {
           "arrowcolor": "#2a3f5f",
           "arrowhead": 0,
           "arrowwidth": 1
          },
          "autotypenumbers": "strict",
          "coloraxis": {
           "colorbar": {
            "outlinewidth": 0,
            "ticks": ""
           }
          },
          "colorscale": {
           "diverging": [
            [
             0,
             "#8e0152"
            ],
            [
             0.1,
             "#c51b7d"
            ],
            [
             0.2,
             "#de77ae"
            ],
            [
             0.3,
             "#f1b6da"
            ],
            [
             0.4,
             "#fde0ef"
            ],
            [
             0.5,
             "#f7f7f7"
            ],
            [
             0.6,
             "#e6f5d0"
            ],
            [
             0.7,
             "#b8e186"
            ],
            [
             0.8,
             "#7fbc41"
            ],
            [
             0.9,
             "#4d9221"
            ],
            [
             1,
             "#276419"
            ]
           ],
           "sequential": [
            [
             0,
             "#0d0887"
            ],
            [
             0.1111111111111111,
             "#46039f"
            ],
            [
             0.2222222222222222,
             "#7201a8"
            ],
            [
             0.3333333333333333,
             "#9c179e"
            ],
            [
             0.4444444444444444,
             "#bd3786"
            ],
            [
             0.5555555555555556,
             "#d8576b"
            ],
            [
             0.6666666666666666,
             "#ed7953"
            ],
            [
             0.7777777777777778,
             "#fb9f3a"
            ],
            [
             0.8888888888888888,
             "#fdca26"
            ],
            [
             1,
             "#f0f921"
            ]
           ],
           "sequentialminus": [
            [
             0,
             "#0d0887"
            ],
            [
             0.1111111111111111,
             "#46039f"
            ],
            [
             0.2222222222222222,
             "#7201a8"
            ],
            [
             0.3333333333333333,
             "#9c179e"
            ],
            [
             0.4444444444444444,
             "#bd3786"
            ],
            [
             0.5555555555555556,
             "#d8576b"
            ],
            [
             0.6666666666666666,
             "#ed7953"
            ],
            [
             0.7777777777777778,
             "#fb9f3a"
            ],
            [
             0.8888888888888888,
             "#fdca26"
            ],
            [
             1,
             "#f0f921"
            ]
           ]
          },
          "colorway": [
           "#636efa",
           "#EF553B",
           "#00cc96",
           "#ab63fa",
           "#FFA15A",
           "#19d3f3",
           "#FF6692",
           "#B6E880",
           "#FF97FF",
           "#FECB52"
          ],
          "font": {
           "color": "#2a3f5f"
          },
          "geo": {
           "bgcolor": "white",
           "lakecolor": "white",
           "landcolor": "#E5ECF6",
           "showlakes": true,
           "showland": true,
           "subunitcolor": "white"
          },
          "hoverlabel": {
           "align": "left"
          },
          "hovermode": "closest",
          "mapbox": {
           "style": "light"
          },
          "paper_bgcolor": "white",
          "plot_bgcolor": "#E5ECF6",
          "polar": {
           "angularaxis": {
            "gridcolor": "white",
            "linecolor": "white",
            "ticks": ""
           },
           "bgcolor": "#E5ECF6",
           "radialaxis": {
            "gridcolor": "white",
            "linecolor": "white",
            "ticks": ""
           }
          },
          "scene": {
           "xaxis": {
            "backgroundcolor": "#E5ECF6",
            "gridcolor": "white",
            "gridwidth": 2,
            "linecolor": "white",
            "showbackground": true,
            "ticks": "",
            "zerolinecolor": "white"
           },
           "yaxis": {
            "backgroundcolor": "#E5ECF6",
            "gridcolor": "white",
            "gridwidth": 2,
            "linecolor": "white",
            "showbackground": true,
            "ticks": "",
            "zerolinecolor": "white"
           },
           "zaxis": {
            "backgroundcolor": "#E5ECF6",
            "gridcolor": "white",
            "gridwidth": 2,
            "linecolor": "white",
            "showbackground": true,
            "ticks": "",
            "zerolinecolor": "white"
           }
          },
          "shapedefaults": {
           "line": {
            "color": "#2a3f5f"
           }
          },
          "ternary": {
           "aaxis": {
            "gridcolor": "white",
            "linecolor": "white",
            "ticks": ""
           },
           "baxis": {
            "gridcolor": "white",
            "linecolor": "white",
            "ticks": ""
           },
           "bgcolor": "#E5ECF6",
           "caxis": {
            "gridcolor": "white",
            "linecolor": "white",
            "ticks": ""
           }
          },
          "title": {
           "x": 0.05
          },
          "xaxis": {
           "automargin": true,
           "gridcolor": "white",
           "linecolor": "white",
           "ticks": "",
           "title": {
            "standoff": 15
           },
           "zerolinecolor": "white",
           "zerolinewidth": 2
          },
          "yaxis": {
           "automargin": true,
           "gridcolor": "white",
           "linecolor": "white",
           "ticks": "",
           "title": {
            "standoff": 15
           },
           "zerolinecolor": "white",
           "zerolinewidth": 2
          }
         }
        }
       }
      }
     },
     "metadata": {},
     "output_type": "display_data"
    }
   ],
   "source": [
    "# Plot\n",
    "fig = px.sunburst(total_rev_hour, \n",
    "                  path = ['Sales DayofWeek', 'Product Category'], \n",
    "                  values = 'Sales Revenue',\n",
    "                  color = 'Sales Revenue', \n",
    "                  hover_data = ['Product Category'],\n",
    "                  color_continuous_scale = 'RdBu',\n",
    "                  color_continuous_midpoint = np.average(total_rev_hour['Sales Revenue'], \n",
    "                                                         weights = total_rev_hour['Sales Revenue']))\n",
    "fig.show()"
   ]
  },
  {
   "cell_type": "code",
   "execution_count": 105,
   "metadata": {},
   "outputs": [
    {
     "data": {
      "application/vnd.plotly.v1+json": {
       "config": {
        "plotlyServerURL": "https://plot.ly"
       },
       "data": [
        {
         "type": "bar",
         "x": [
          "Sat",
          "Sun",
          "Mon",
          "Sat",
          "Tue",
          "Tue",
          "Mon",
          "Thu",
          "Sat",
          "Wed"
         ],
         "y": {
          "bdata": "4XoUrkdhOkDXo3A9CldDQArXo3A9KkZAMzMzMzMTTED2KFyPwpVMQLgehetRGE1AXI/C9ShcTkAVrkfhenRQQClcj8L1eFJAj8L1KFx/UkA=",
          "dtype": "f8"
         }
        }
       ],
       "layout": {
        "template": {
         "data": {
          "bar": [
           {
            "error_x": {
             "color": "#2a3f5f"
            },
            "error_y": {
             "color": "#2a3f5f"
            },
            "marker": {
             "line": {
              "color": "#E5ECF6",
              "width": 0.5
             },
             "pattern": {
              "fillmode": "overlay",
              "size": 10,
              "solidity": 0.2
             }
            },
            "type": "bar"
           }
          ],
          "barpolar": [
           {
            "marker": {
             "line": {
              "color": "#E5ECF6",
              "width": 0.5
             },
             "pattern": {
              "fillmode": "overlay",
              "size": 10,
              "solidity": 0.2
             }
            },
            "type": "barpolar"
           }
          ],
          "carpet": [
           {
            "aaxis": {
             "endlinecolor": "#2a3f5f",
             "gridcolor": "white",
             "linecolor": "white",
             "minorgridcolor": "white",
             "startlinecolor": "#2a3f5f"
            },
            "baxis": {
             "endlinecolor": "#2a3f5f",
             "gridcolor": "white",
             "linecolor": "white",
             "minorgridcolor": "white",
             "startlinecolor": "#2a3f5f"
            },
            "type": "carpet"
           }
          ],
          "choropleth": [
           {
            "colorbar": {
             "outlinewidth": 0,
             "ticks": ""
            },
            "type": "choropleth"
           }
          ],
          "contour": [
           {
            "colorbar": {
             "outlinewidth": 0,
             "ticks": ""
            },
            "colorscale": [
             [
              0,
              "#0d0887"
             ],
             [
              0.1111111111111111,
              "#46039f"
             ],
             [
              0.2222222222222222,
              "#7201a8"
             ],
             [
              0.3333333333333333,
              "#9c179e"
             ],
             [
              0.4444444444444444,
              "#bd3786"
             ],
             [
              0.5555555555555556,
              "#d8576b"
             ],
             [
              0.6666666666666666,
              "#ed7953"
             ],
             [
              0.7777777777777778,
              "#fb9f3a"
             ],
             [
              0.8888888888888888,
              "#fdca26"
             ],
             [
              1,
              "#f0f921"
             ]
            ],
            "type": "contour"
           }
          ],
          "contourcarpet": [
           {
            "colorbar": {
             "outlinewidth": 0,
             "ticks": ""
            },
            "type": "contourcarpet"
           }
          ],
          "heatmap": [
           {
            "colorbar": {
             "outlinewidth": 0,
             "ticks": ""
            },
            "colorscale": [
             [
              0,
              "#0d0887"
             ],
             [
              0.1111111111111111,
              "#46039f"
             ],
             [
              0.2222222222222222,
              "#7201a8"
             ],
             [
              0.3333333333333333,
              "#9c179e"
             ],
             [
              0.4444444444444444,
              "#bd3786"
             ],
             [
              0.5555555555555556,
              "#d8576b"
             ],
             [
              0.6666666666666666,
              "#ed7953"
             ],
             [
              0.7777777777777778,
              "#fb9f3a"
             ],
             [
              0.8888888888888888,
              "#fdca26"
             ],
             [
              1,
              "#f0f921"
             ]
            ],
            "type": "heatmap"
           }
          ],
          "histogram": [
           {
            "marker": {
             "pattern": {
              "fillmode": "overlay",
              "size": 10,
              "solidity": 0.2
             }
            },
            "type": "histogram"
           }
          ],
          "histogram2d": [
           {
            "colorbar": {
             "outlinewidth": 0,
             "ticks": ""
            },
            "colorscale": [
             [
              0,
              "#0d0887"
             ],
             [
              0.1111111111111111,
              "#46039f"
             ],
             [
              0.2222222222222222,
              "#7201a8"
             ],
             [
              0.3333333333333333,
              "#9c179e"
             ],
             [
              0.4444444444444444,
              "#bd3786"
             ],
             [
              0.5555555555555556,
              "#d8576b"
             ],
             [
              0.6666666666666666,
              "#ed7953"
             ],
             [
              0.7777777777777778,
              "#fb9f3a"
             ],
             [
              0.8888888888888888,
              "#fdca26"
             ],
             [
              1,
              "#f0f921"
             ]
            ],
            "type": "histogram2d"
           }
          ],
          "histogram2dcontour": [
           {
            "colorbar": {
             "outlinewidth": 0,
             "ticks": ""
            },
            "colorscale": [
             [
              0,
              "#0d0887"
             ],
             [
              0.1111111111111111,
              "#46039f"
             ],
             [
              0.2222222222222222,
              "#7201a8"
             ],
             [
              0.3333333333333333,
              "#9c179e"
             ],
             [
              0.4444444444444444,
              "#bd3786"
             ],
             [
              0.5555555555555556,
              "#d8576b"
             ],
             [
              0.6666666666666666,
              "#ed7953"
             ],
             [
              0.7777777777777778,
              "#fb9f3a"
             ],
             [
              0.8888888888888888,
              "#fdca26"
             ],
             [
              1,
              "#f0f921"
             ]
            ],
            "type": "histogram2dcontour"
           }
          ],
          "mesh3d": [
           {
            "colorbar": {
             "outlinewidth": 0,
             "ticks": ""
            },
            "type": "mesh3d"
           }
          ],
          "parcoords": [
           {
            "line": {
             "colorbar": {
              "outlinewidth": 0,
              "ticks": ""
             }
            },
            "type": "parcoords"
           }
          ],
          "pie": [
           {
            "automargin": true,
            "type": "pie"
           }
          ],
          "scatter": [
           {
            "fillpattern": {
             "fillmode": "overlay",
             "size": 10,
             "solidity": 0.2
            },
            "type": "scatter"
           }
          ],
          "scatter3d": [
           {
            "line": {
             "colorbar": {
              "outlinewidth": 0,
              "ticks": ""
             }
            },
            "marker": {
             "colorbar": {
              "outlinewidth": 0,
              "ticks": ""
             }
            },
            "type": "scatter3d"
           }
          ],
          "scattercarpet": [
           {
            "marker": {
             "colorbar": {
              "outlinewidth": 0,
              "ticks": ""
             }
            },
            "type": "scattercarpet"
           }
          ],
          "scattergeo": [
           {
            "marker": {
             "colorbar": {
              "outlinewidth": 0,
              "ticks": ""
             }
            },
            "type": "scattergeo"
           }
          ],
          "scattergl": [
           {
            "marker": {
             "colorbar": {
              "outlinewidth": 0,
              "ticks": ""
             }
            },
            "type": "scattergl"
           }
          ],
          "scattermap": [
           {
            "marker": {
             "colorbar": {
              "outlinewidth": 0,
              "ticks": ""
             }
            },
            "type": "scattermap"
           }
          ],
          "scattermapbox": [
           {
            "marker": {
             "colorbar": {
              "outlinewidth": 0,
              "ticks": ""
             }
            },
            "type": "scattermapbox"
           }
          ],
          "scatterpolar": [
           {
            "marker": {
             "colorbar": {
              "outlinewidth": 0,
              "ticks": ""
             }
            },
            "type": "scatterpolar"
           }
          ],
          "scatterpolargl": [
           {
            "marker": {
             "colorbar": {
              "outlinewidth": 0,
              "ticks": ""
             }
            },
            "type": "scatterpolargl"
           }
          ],
          "scatterternary": [
           {
            "marker": {
             "colorbar": {
              "outlinewidth": 0,
              "ticks": ""
             }
            },
            "type": "scatterternary"
           }
          ],
          "surface": [
           {
            "colorbar": {
             "outlinewidth": 0,
             "ticks": ""
            },
            "colorscale": [
             [
              0,
              "#0d0887"
             ],
             [
              0.1111111111111111,
              "#46039f"
             ],
             [
              0.2222222222222222,
              "#7201a8"
             ],
             [
              0.3333333333333333,
              "#9c179e"
             ],
             [
              0.4444444444444444,
              "#bd3786"
             ],
             [
              0.5555555555555556,
              "#d8576b"
             ],
             [
              0.6666666666666666,
              "#ed7953"
             ],
             [
              0.7777777777777778,
              "#fb9f3a"
             ],
             [
              0.8888888888888888,
              "#fdca26"
             ],
             [
              1,
              "#f0f921"
             ]
            ],
            "type": "surface"
           }
          ],
          "table": [
           {
            "cells": {
             "fill": {
              "color": "#EBF0F8"
             },
             "line": {
              "color": "white"
             }
            },
            "header": {
             "fill": {
              "color": "#C8D4E3"
             },
             "line": {
              "color": "white"
             }
            },
            "type": "table"
           }
          ]
         },
         "layout": {
          "annotationdefaults": {
           "arrowcolor": "#2a3f5f",
           "arrowhead": 0,
           "arrowwidth": 1
          },
          "autotypenumbers": "strict",
          "coloraxis": {
           "colorbar": {
            "outlinewidth": 0,
            "ticks": ""
           }
          },
          "colorscale": {
           "diverging": [
            [
             0,
             "#8e0152"
            ],
            [
             0.1,
             "#c51b7d"
            ],
            [
             0.2,
             "#de77ae"
            ],
            [
             0.3,
             "#f1b6da"
            ],
            [
             0.4,
             "#fde0ef"
            ],
            [
             0.5,
             "#f7f7f7"
            ],
            [
             0.6,
             "#e6f5d0"
            ],
            [
             0.7,
             "#b8e186"
            ],
            [
             0.8,
             "#7fbc41"
            ],
            [
             0.9,
             "#4d9221"
            ],
            [
             1,
             "#276419"
            ]
           ],
           "sequential": [
            [
             0,
             "#0d0887"
            ],
            [
             0.1111111111111111,
             "#46039f"
            ],
            [
             0.2222222222222222,
             "#7201a8"
            ],
            [
             0.3333333333333333,
             "#9c179e"
            ],
            [
             0.4444444444444444,
             "#bd3786"
            ],
            [
             0.5555555555555556,
             "#d8576b"
            ],
            [
             0.6666666666666666,
             "#ed7953"
            ],
            [
             0.7777777777777778,
             "#fb9f3a"
            ],
            [
             0.8888888888888888,
             "#fdca26"
            ],
            [
             1,
             "#f0f921"
            ]
           ],
           "sequentialminus": [
            [
             0,
             "#0d0887"
            ],
            [
             0.1111111111111111,
             "#46039f"
            ],
            [
             0.2222222222222222,
             "#7201a8"
            ],
            [
             0.3333333333333333,
             "#9c179e"
            ],
            [
             0.4444444444444444,
             "#bd3786"
            ],
            [
             0.5555555555555556,
             "#d8576b"
            ],
            [
             0.6666666666666666,
             "#ed7953"
            ],
            [
             0.7777777777777778,
             "#fb9f3a"
            ],
            [
             0.8888888888888888,
             "#fdca26"
            ],
            [
             1,
             "#f0f921"
            ]
           ]
          },
          "colorway": [
           "#636efa",
           "#EF553B",
           "#00cc96",
           "#ab63fa",
           "#FFA15A",
           "#19d3f3",
           "#FF6692",
           "#B6E880",
           "#FF97FF",
           "#FECB52"
          ],
          "font": {
           "color": "#2a3f5f"
          },
          "geo": {
           "bgcolor": "white",
           "lakecolor": "white",
           "landcolor": "#E5ECF6",
           "showlakes": true,
           "showland": true,
           "subunitcolor": "white"
          },
          "hoverlabel": {
           "align": "left"
          },
          "hovermode": "closest",
          "mapbox": {
           "style": "light"
          },
          "paper_bgcolor": "white",
          "plot_bgcolor": "#E5ECF6",
          "polar": {
           "angularaxis": {
            "gridcolor": "white",
            "linecolor": "white",
            "ticks": ""
           },
           "bgcolor": "#E5ECF6",
           "radialaxis": {
            "gridcolor": "white",
            "linecolor": "white",
            "ticks": ""
           }
          },
          "scene": {
           "xaxis": {
            "backgroundcolor": "#E5ECF6",
            "gridcolor": "white",
            "gridwidth": 2,
            "linecolor": "white",
            "showbackground": true,
            "ticks": "",
            "zerolinecolor": "white"
           },
           "yaxis": {
            "backgroundcolor": "#E5ECF6",
            "gridcolor": "white",
            "gridwidth": 2,
            "linecolor": "white",
            "showbackground": true,
            "ticks": "",
            "zerolinecolor": "white"
           },
           "zaxis": {
            "backgroundcolor": "#E5ECF6",
            "gridcolor": "white",
            "gridwidth": 2,
            "linecolor": "white",
            "showbackground": true,
            "ticks": "",
            "zerolinecolor": "white"
           }
          },
          "shapedefaults": {
           "line": {
            "color": "#2a3f5f"
           }
          },
          "ternary": {
           "aaxis": {
            "gridcolor": "white",
            "linecolor": "white",
            "ticks": ""
           },
           "baxis": {
            "gridcolor": "white",
            "linecolor": "white",
            "ticks": ""
           },
           "bgcolor": "#E5ECF6",
           "caxis": {
            "gridcolor": "white",
            "linecolor": "white",
            "ticks": ""
           }
          },
          "title": {
           "x": 0.05
          },
          "xaxis": {
           "automargin": true,
           "gridcolor": "white",
           "linecolor": "white",
           "ticks": "",
           "title": {
            "standoff": 15
           },
           "zerolinecolor": "white",
           "zerolinewidth": 2
          },
          "yaxis": {
           "automargin": true,
           "gridcolor": "white",
           "linecolor": "white",
           "ticks": "",
           "title": {
            "standoff": 15
           },
           "zerolinecolor": "white",
           "zerolinewidth": 2
          }
         }
        },
        "title": {
         "text": "Receita de Vendas Por Categoria Por Dia da Semana"
        }
       }
      }
     },
     "metadata": {},
     "output_type": "display_data"
    }
   ],
   "source": [
    "# Plot\n",
    "\n",
    "# Labels\n",
    "labels = total_rev_hour['Sales DayofWeek']\n",
    "values = total_rev_hour['Sales Revenue']\n",
    "\n",
    "# Gráfico\n",
    "fig = go.Figure(data = [go.Bar(x = labels, y = values)])\n",
    "\n",
    "# Adiciona título e rótulos aos eixos\n",
    "fig.update_layout(title = 'Receita de Vendas Por Categoria Por Dia da Semana')\n",
    "fig.show()"
   ]
  },
  {
   "cell_type": "markdown",
   "metadata": {},
   "source": [
    "### Pergunta 5.7 - Atividades Por Categoria com Gráfico de Funil"
   ]
  },
  {
   "cell_type": "code",
   "execution_count": 106,
   "metadata": {},
   "outputs": [
    {
     "data": {
      "text/html": [
       "<div>\n",
       "<style scoped>\n",
       "    .dataframe tbody tr th:only-of-type {\n",
       "        vertical-align: middle;\n",
       "    }\n",
       "\n",
       "    .dataframe tbody tr th {\n",
       "        vertical-align: top;\n",
       "    }\n",
       "\n",
       "    .dataframe thead th {\n",
       "        text-align: right;\n",
       "    }\n",
       "</style>\n",
       "<table border=\"1\" class=\"dataframe\">\n",
       "  <thead>\n",
       "    <tr style=\"text-align: right;\">\n",
       "      <th></th>\n",
       "      <th>Activity</th>\n",
       "    </tr>\n",
       "    <tr>\n",
       "      <th>product_category_name_english</th>\n",
       "      <th></th>\n",
       "    </tr>\n",
       "  </thead>\n",
       "  <tbody>\n",
       "    <tr>\n",
       "      <th>health beauty</th>\n",
       "      <td>5402</td>\n",
       "    </tr>\n",
       "    <tr>\n",
       "      <th>bed bath table</th>\n",
       "      <td>4909</td>\n",
       "    </tr>\n",
       "    <tr>\n",
       "      <th>sports leisure</th>\n",
       "      <td>4058</td>\n",
       "    </tr>\n",
       "    <tr>\n",
       "      <th>computers accessories</th>\n",
       "      <td>4053</td>\n",
       "    </tr>\n",
       "    <tr>\n",
       "      <th>watches gifts</th>\n",
       "      <td>3493</td>\n",
       "    </tr>\n",
       "  </tbody>\n",
       "</table>\n",
       "</div>"
      ],
      "text/plain": [
       "                               Activity\n",
       "product_category_name_english          \n",
       "health beauty                      5402\n",
       "bed bath table                     4909\n",
       "sports leisure                     4058\n",
       "computers accessories              4053\n",
       "watches gifts                      3493"
      ]
     },
     "execution_count": 106,
     "metadata": {},
     "output_type": "execute_result"
    }
   ],
   "source": [
    "# Atividade (pedidos) por categoria\n",
    "cat_activity = df_prep[df_prep['order_purchase_year'] == 2018].groupby(['product_category_name_english']).order_id.nunique()\n",
    "cat_activity = pd.DataFrame(cat_activity)\n",
    "cat_activity.columns = [ 'Activity']\n",
    "cat_activity = cat_activity.sort_values(by = ['Activity'], ascending = False)\n",
    "cat_activity.head()"
   ]
  },
  {
   "cell_type": "code",
   "execution_count": 107,
   "metadata": {},
   "outputs": [
    {
     "data": {
      "application/vnd.plotly.v1+json": {
       "config": {
        "plotlyServerURL": "https://plot.ly"
       },
       "data": [
        {
         "domain": {
          "x": [
           0,
           1
          ],
          "y": [
           0,
           1
          ]
         },
         "hovertemplate": "label=%{label}<br>value=%{value}<extra></extra>",
         "labels": [
          "health beauty",
          "bed bath table",
          "sports leisure",
          "computers accessories",
          "watches gifts",
          "housewares",
          "furniture decor",
          "auto",
          "telephony",
          "electronics",
          "baby",
          "garden tools",
          "perfumery",
          "cool stuff",
          "toys",
          "stationery",
          "pet shop",
          "fashion bags accessories",
          "office furniture",
          "construction tools construction",
          "home appliances",
          "luggage accessories",
          "consoles games",
          "home construction",
          "musical instruments",
          "food",
          "small appliances",
          "books general interest",
          "construction tools lights",
          "drinks",
          "books technical",
          "furniture living room",
          "industry commerce and business",
          "audio",
          "art",
          "home confort",
          "home appliances 2",
          "kitchen dining laundry garden furniture",
          "agro industry and commerce",
          "air conditioning",
          "construction tools safety",
          "costruction tools garden",
          "food drink",
          "signaling and security",
          "market place",
          "fixed telephony",
          "christmas supplies",
          "costruction tools tools",
          "small appliances home oven and coffee",
          "fashion shoes",
          "computers",
          "cine photo",
          "furniture bedroom",
          "books imported",
          "fashion underwear beach",
          "party supplies",
          "music",
          "diapers and hygiene",
          "fashion male clothing",
          "dvds blu ray",
          "arts and craftmanship",
          "flowers",
          "furniture mattress and upholstery",
          "tablets printing image",
          "fashio female clothing",
          "home comfort 2",
          "fashion sport",
          "la cuisine",
          "fashion childrens clothes",
          "cds dvds musicals"
         ],
         "legendgroup": "",
         "name": "",
         "showlegend": true,
         "type": "funnelarea",
         "values": {
          "bdata": "GhUtE9oP1Q+lDV0NfwyZCW8IvwaDBv8FzwWHBYEFdQX2Az4DiAKDAgwC1gGDAXsBdwFVAUMBIgHjAN4A2ADVAMUAuwCmAJQAkgCOAIYAhgCCAIIAdwBpAF8AVwBOAEwARwBEADoAOQA3ACgAJgAdABsAGQAYABYAFQAVABQAFAAIAAcABQADAAMAAQA=",
          "dtype": "i2"
         }
        }
       ],
       "layout": {
        "legend": {
         "tracegroupgap": 0
        },
        "margin": {
         "t": 60
        },
        "template": {
         "data": {
          "bar": [
           {
            "error_x": {
             "color": "#2a3f5f"
            },
            "error_y": {
             "color": "#2a3f5f"
            },
            "marker": {
             "line": {
              "color": "#E5ECF6",
              "width": 0.5
             },
             "pattern": {
              "fillmode": "overlay",
              "size": 10,
              "solidity": 0.2
             }
            },
            "type": "bar"
           }
          ],
          "barpolar": [
           {
            "marker": {
             "line": {
              "color": "#E5ECF6",
              "width": 0.5
             },
             "pattern": {
              "fillmode": "overlay",
              "size": 10,
              "solidity": 0.2
             }
            },
            "type": "barpolar"
           }
          ],
          "carpet": [
           {
            "aaxis": {
             "endlinecolor": "#2a3f5f",
             "gridcolor": "white",
             "linecolor": "white",
             "minorgridcolor": "white",
             "startlinecolor": "#2a3f5f"
            },
            "baxis": {
             "endlinecolor": "#2a3f5f",
             "gridcolor": "white",
             "linecolor": "white",
             "minorgridcolor": "white",
             "startlinecolor": "#2a3f5f"
            },
            "type": "carpet"
           }
          ],
          "choropleth": [
           {
            "colorbar": {
             "outlinewidth": 0,
             "ticks": ""
            },
            "type": "choropleth"
           }
          ],
          "contour": [
           {
            "colorbar": {
             "outlinewidth": 0,
             "ticks": ""
            },
            "colorscale": [
             [
              0,
              "#0d0887"
             ],
             [
              0.1111111111111111,
              "#46039f"
             ],
             [
              0.2222222222222222,
              "#7201a8"
             ],
             [
              0.3333333333333333,
              "#9c179e"
             ],
             [
              0.4444444444444444,
              "#bd3786"
             ],
             [
              0.5555555555555556,
              "#d8576b"
             ],
             [
              0.6666666666666666,
              "#ed7953"
             ],
             [
              0.7777777777777778,
              "#fb9f3a"
             ],
             [
              0.8888888888888888,
              "#fdca26"
             ],
             [
              1,
              "#f0f921"
             ]
            ],
            "type": "contour"
           }
          ],
          "contourcarpet": [
           {
            "colorbar": {
             "outlinewidth": 0,
             "ticks": ""
            },
            "type": "contourcarpet"
           }
          ],
          "heatmap": [
           {
            "colorbar": {
             "outlinewidth": 0,
             "ticks": ""
            },
            "colorscale": [
             [
              0,
              "#0d0887"
             ],
             [
              0.1111111111111111,
              "#46039f"
             ],
             [
              0.2222222222222222,
              "#7201a8"
             ],
             [
              0.3333333333333333,
              "#9c179e"
             ],
             [
              0.4444444444444444,
              "#bd3786"
             ],
             [
              0.5555555555555556,
              "#d8576b"
             ],
             [
              0.6666666666666666,
              "#ed7953"
             ],
             [
              0.7777777777777778,
              "#fb9f3a"
             ],
             [
              0.8888888888888888,
              "#fdca26"
             ],
             [
              1,
              "#f0f921"
             ]
            ],
            "type": "heatmap"
           }
          ],
          "histogram": [
           {
            "marker": {
             "pattern": {
              "fillmode": "overlay",
              "size": 10,
              "solidity": 0.2
             }
            },
            "type": "histogram"
           }
          ],
          "histogram2d": [
           {
            "colorbar": {
             "outlinewidth": 0,
             "ticks": ""
            },
            "colorscale": [
             [
              0,
              "#0d0887"
             ],
             [
              0.1111111111111111,
              "#46039f"
             ],
             [
              0.2222222222222222,
              "#7201a8"
             ],
             [
              0.3333333333333333,
              "#9c179e"
             ],
             [
              0.4444444444444444,
              "#bd3786"
             ],
             [
              0.5555555555555556,
              "#d8576b"
             ],
             [
              0.6666666666666666,
              "#ed7953"
             ],
             [
              0.7777777777777778,
              "#fb9f3a"
             ],
             [
              0.8888888888888888,
              "#fdca26"
             ],
             [
              1,
              "#f0f921"
             ]
            ],
            "type": "histogram2d"
           }
          ],
          "histogram2dcontour": [
           {
            "colorbar": {
             "outlinewidth": 0,
             "ticks": ""
            },
            "colorscale": [
             [
              0,
              "#0d0887"
             ],
             [
              0.1111111111111111,
              "#46039f"
             ],
             [
              0.2222222222222222,
              "#7201a8"
             ],
             [
              0.3333333333333333,
              "#9c179e"
             ],
             [
              0.4444444444444444,
              "#bd3786"
             ],
             [
              0.5555555555555556,
              "#d8576b"
             ],
             [
              0.6666666666666666,
              "#ed7953"
             ],
             [
              0.7777777777777778,
              "#fb9f3a"
             ],
             [
              0.8888888888888888,
              "#fdca26"
             ],
             [
              1,
              "#f0f921"
             ]
            ],
            "type": "histogram2dcontour"
           }
          ],
          "mesh3d": [
           {
            "colorbar": {
             "outlinewidth": 0,
             "ticks": ""
            },
            "type": "mesh3d"
           }
          ],
          "parcoords": [
           {
            "line": {
             "colorbar": {
              "outlinewidth": 0,
              "ticks": ""
             }
            },
            "type": "parcoords"
           }
          ],
          "pie": [
           {
            "automargin": true,
            "type": "pie"
           }
          ],
          "scatter": [
           {
            "fillpattern": {
             "fillmode": "overlay",
             "size": 10,
             "solidity": 0.2
            },
            "type": "scatter"
           }
          ],
          "scatter3d": [
           {
            "line": {
             "colorbar": {
              "outlinewidth": 0,
              "ticks": ""
             }
            },
            "marker": {
             "colorbar": {
              "outlinewidth": 0,
              "ticks": ""
             }
            },
            "type": "scatter3d"
           }
          ],
          "scattercarpet": [
           {
            "marker": {
             "colorbar": {
              "outlinewidth": 0,
              "ticks": ""
             }
            },
            "type": "scattercarpet"
           }
          ],
          "scattergeo": [
           {
            "marker": {
             "colorbar": {
              "outlinewidth": 0,
              "ticks": ""
             }
            },
            "type": "scattergeo"
           }
          ],
          "scattergl": [
           {
            "marker": {
             "colorbar": {
              "outlinewidth": 0,
              "ticks": ""
             }
            },
            "type": "scattergl"
           }
          ],
          "scattermap": [
           {
            "marker": {
             "colorbar": {
              "outlinewidth": 0,
              "ticks": ""
             }
            },
            "type": "scattermap"
           }
          ],
          "scattermapbox": [
           {
            "marker": {
             "colorbar": {
              "outlinewidth": 0,
              "ticks": ""
             }
            },
            "type": "scattermapbox"
           }
          ],
          "scatterpolar": [
           {
            "marker": {
             "colorbar": {
              "outlinewidth": 0,
              "ticks": ""
             }
            },
            "type": "scatterpolar"
           }
          ],
          "scatterpolargl": [
           {
            "marker": {
             "colorbar": {
              "outlinewidth": 0,
              "ticks": ""
             }
            },
            "type": "scatterpolargl"
           }
          ],
          "scatterternary": [
           {
            "marker": {
             "colorbar": {
              "outlinewidth": 0,
              "ticks": ""
             }
            },
            "type": "scatterternary"
           }
          ],
          "surface": [
           {
            "colorbar": {
             "outlinewidth": 0,
             "ticks": ""
            },
            "colorscale": [
             [
              0,
              "#0d0887"
             ],
             [
              0.1111111111111111,
              "#46039f"
             ],
             [
              0.2222222222222222,
              "#7201a8"
             ],
             [
              0.3333333333333333,
              "#9c179e"
             ],
             [
              0.4444444444444444,
              "#bd3786"
             ],
             [
              0.5555555555555556,
              "#d8576b"
             ],
             [
              0.6666666666666666,
              "#ed7953"
             ],
             [
              0.7777777777777778,
              "#fb9f3a"
             ],
             [
              0.8888888888888888,
              "#fdca26"
             ],
             [
              1,
              "#f0f921"
             ]
            ],
            "type": "surface"
           }
          ],
          "table": [
           {
            "cells": {
             "fill": {
              "color": "#EBF0F8"
             },
             "line": {
              "color": "white"
             }
            },
            "header": {
             "fill": {
              "color": "#C8D4E3"
             },
             "line": {
              "color": "white"
             }
            },
            "type": "table"
           }
          ]
         },
         "layout": {
          "annotationdefaults": {
           "arrowcolor": "#2a3f5f",
           "arrowhead": 0,
           "arrowwidth": 1
          },
          "autotypenumbers": "strict",
          "coloraxis": {
           "colorbar": {
            "outlinewidth": 0,
            "ticks": ""
           }
          },
          "colorscale": {
           "diverging": [
            [
             0,
             "#8e0152"
            ],
            [
             0.1,
             "#c51b7d"
            ],
            [
             0.2,
             "#de77ae"
            ],
            [
             0.3,
             "#f1b6da"
            ],
            [
             0.4,
             "#fde0ef"
            ],
            [
             0.5,
             "#f7f7f7"
            ],
            [
             0.6,
             "#e6f5d0"
            ],
            [
             0.7,
             "#b8e186"
            ],
            [
             0.8,
             "#7fbc41"
            ],
            [
             0.9,
             "#4d9221"
            ],
            [
             1,
             "#276419"
            ]
           ],
           "sequential": [
            [
             0,
             "#0d0887"
            ],
            [
             0.1111111111111111,
             "#46039f"
            ],
            [
             0.2222222222222222,
             "#7201a8"
            ],
            [
             0.3333333333333333,
             "#9c179e"
            ],
            [
             0.4444444444444444,
             "#bd3786"
            ],
            [
             0.5555555555555556,
             "#d8576b"
            ],
            [
             0.6666666666666666,
             "#ed7953"
            ],
            [
             0.7777777777777778,
             "#fb9f3a"
            ],
            [
             0.8888888888888888,
             "#fdca26"
            ],
            [
             1,
             "#f0f921"
            ]
           ],
           "sequentialminus": [
            [
             0,
             "#0d0887"
            ],
            [
             0.1111111111111111,
             "#46039f"
            ],
            [
             0.2222222222222222,
             "#7201a8"
            ],
            [
             0.3333333333333333,
             "#9c179e"
            ],
            [
             0.4444444444444444,
             "#bd3786"
            ],
            [
             0.5555555555555556,
             "#d8576b"
            ],
            [
             0.6666666666666666,
             "#ed7953"
            ],
            [
             0.7777777777777778,
             "#fb9f3a"
            ],
            [
             0.8888888888888888,
             "#fdca26"
            ],
            [
             1,
             "#f0f921"
            ]
           ]
          },
          "colorway": [
           "#636efa",
           "#EF553B",
           "#00cc96",
           "#ab63fa",
           "#FFA15A",
           "#19d3f3",
           "#FF6692",
           "#B6E880",
           "#FF97FF",
           "#FECB52"
          ],
          "font": {
           "color": "#2a3f5f"
          },
          "geo": {
           "bgcolor": "white",
           "lakecolor": "white",
           "landcolor": "#E5ECF6",
           "showlakes": true,
           "showland": true,
           "subunitcolor": "white"
          },
          "hoverlabel": {
           "align": "left"
          },
          "hovermode": "closest",
          "mapbox": {
           "style": "light"
          },
          "paper_bgcolor": "white",
          "plot_bgcolor": "#E5ECF6",
          "polar": {
           "angularaxis": {
            "gridcolor": "white",
            "linecolor": "white",
            "ticks": ""
           },
           "bgcolor": "#E5ECF6",
           "radialaxis": {
            "gridcolor": "white",
            "linecolor": "white",
            "ticks": ""
           }
          },
          "scene": {
           "xaxis": {
            "backgroundcolor": "#E5ECF6",
            "gridcolor": "white",
            "gridwidth": 2,
            "linecolor": "white",
            "showbackground": true,
            "ticks": "",
            "zerolinecolor": "white"
           },
           "yaxis": {
            "backgroundcolor": "#E5ECF6",
            "gridcolor": "white",
            "gridwidth": 2,
            "linecolor": "white",
            "showbackground": true,
            "ticks": "",
            "zerolinecolor": "white"
           },
           "zaxis": {
            "backgroundcolor": "#E5ECF6",
            "gridcolor": "white",
            "gridwidth": 2,
            "linecolor": "white",
            "showbackground": true,
            "ticks": "",
            "zerolinecolor": "white"
           }
          },
          "shapedefaults": {
           "line": {
            "color": "#2a3f5f"
           }
          },
          "ternary": {
           "aaxis": {
            "gridcolor": "white",
            "linecolor": "white",
            "ticks": ""
           },
           "baxis": {
            "gridcolor": "white",
            "linecolor": "white",
            "ticks": ""
           },
           "bgcolor": "#E5ECF6",
           "caxis": {
            "gridcolor": "white",
            "linecolor": "white",
            "ticks": ""
           }
          },
          "title": {
           "x": 0.05
          },
          "xaxis": {
           "automargin": true,
           "gridcolor": "white",
           "linecolor": "white",
           "ticks": "",
           "title": {
            "standoff": 15
           },
           "zerolinecolor": "white",
           "zerolinewidth": 2
          },
          "yaxis": {
           "automargin": true,
           "gridcolor": "white",
           "linecolor": "white",
           "ticks": "",
           "title": {
            "standoff": 15
           },
           "zerolinecolor": "white",
           "zerolinewidth": 2
          }
         }
        }
       }
      }
     },
     "metadata": {},
     "output_type": "display_data"
    }
   ],
   "source": [
    "# Plot\n",
    "fig = px.funnel_area(names = cat_activity.index, values = cat_activity.Activity)\n",
    "fig.show()"
   ]
  },
  {
   "cell_type": "code",
   "execution_count": 108,
   "metadata": {},
   "outputs": [
    {
     "name": "stdout",
     "output_type": "stream",
     "text": [
      "Author: Silmara Basso\n",
      "\n"
     ]
    }
   ],
   "source": [
    "%reload_ext watermark\n",
    "%watermark -a \"Silmara Basso\""
   ]
  },
  {
   "cell_type": "code",
   "execution_count": null,
   "metadata": {},
   "outputs": [
    {
     "name": "stdout",
     "output_type": "stream",
     "text": [
      "Python implementation: CPython\n",
      "Python version       : 3.13.6\n",
      "IPython version      : 9.4.0\n",
      "\n",
      "Compiler    : Clang 15.0.0 (clang-1500.3.9.4)\n",
      "OS          : Darwin\n",
      "Release     : 23.2.0\n",
      "Machine     : arm64\n",
      "Processor   : arm\n",
      "CPU cores   : 16\n",
      "Architecture: 64bit\n",
      "\n"
     ]
    }
   ],
   "source": [
    "#%watermark -v -m"
   ]
  },
  {
   "cell_type": "code",
   "execution_count": null,
   "metadata": {},
   "outputs": [
    {
     "name": "stdout",
     "output_type": "stream",
     "text": [
      "pandas    : 2.3.1\n",
      "colorlover: 0.3.0\n",
      "matplotlib: 3.10.3\n",
      "numpy     : 2.3.1\n",
      "plotly    : 6.2.0\n",
      "seaborn   : 0.13.2\n",
      "\n"
     ]
    }
   ],
   "source": [
    "#%watermark --iversions"
   ]
  },
  {
   "cell_type": "markdown",
   "metadata": {},
   "source": [
    "# Fim"
   ]
  }
 ],
 "metadata": {
  "kernelspec": {
   "display_name": "3.13.6",
   "language": "python",
   "name": "python3"
  },
  "language_info": {
   "codemirror_mode": {
    "name": "ipython",
    "version": 3
   },
   "file_extension": ".py",
   "mimetype": "text/x-python",
   "name": "python",
   "nbconvert_exporter": "python",
   "pygments_lexer": "ipython3",
   "version": "3.13.6"
  }
 },
 "nbformat": 4,
 "nbformat_minor": 4
}
